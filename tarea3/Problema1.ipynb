{
 "cells": [
  {
   "cell_type": "markdown",
   "metadata": {},
   "source": [
    "# Problema 1 (50 puntos)\n",
    "\n",
    "Utilicen los algoritmos de caminata aleatoria y de escalada simple para buscar una solución al problema de las 8 reinas, y comparen el rendimiento de estos algoritmos con la solución proporcionada en esta actividad con recocido simulado. ¿Qué algoritmo permite encontrar una solución al problema?"
   ]
  },
  {
   "cell_type": "markdown",
   "metadata": {},
   "source": [
    "## Random Walk Algorithm"
   ]
  },
  {
   "cell_type": "code",
   "execution_count": 56,
   "metadata": {},
   "outputs": [],
   "source": [
    "import numpy as np\n",
    "\n",
    "\n",
    "def attacked_queens_pairs(seqs, pos):\n",
    "\n",
    "    a = np.array([0]*81)\n",
    "    a = a.reshape(9, 9)\n",
    "    n = 0\n",
    "\n",
    "    for i in range(1, pos + 1):\n",
    "        a[seqs[i - 1]][i] = 1\n",
    "\n",
    "    for i in range(1, pos + 1):\n",
    "        for k in list(range(1, i)) + list(range(i + 1, 9)):\n",
    "            if a[seqs[i - 1]][k] == 1:\n",
    "                n += 1\n",
    "        t1 = t2 = seqs[i - 1]\n",
    "        for j in range(i - 1, 0, -1):\n",
    "            if t1 != 1:\n",
    "                t1 -= 1\n",
    "                if a[t1][j] == 1:\n",
    "                    n += 1\n",
    "\n",
    "            if t2 != 8:\n",
    "                t2 += 1\n",
    "                if a[t2][j] == 1:\n",
    "                    n += 1\n",
    "\n",
    "        t1 = t2 = seqs[i - 1]\n",
    "        for j in range(i + 1, 9):\n",
    "            if t1 != 1:\n",
    "                t1 -= 1\n",
    "                if a[t1][j] == 1:\n",
    "                    n += 1\n",
    "\n",
    "            if t2 != 8:\n",
    "                t2 += 1\n",
    "                if a[t2][j] == 1:\n",
    "                    n += 1\n",
    "    return int(n/2)\n",
    "\n",
    "\n",
    "def display_board(seqs):\n",
    "    board = np. array([0] * 81)\n",
    "    board = board.reshape(9, 9)\n",
    "\n",
    "    for i in range(1, 9):\n",
    "        board[seqs[i-1]][i] = 1\n",
    "    print(\"El tablero correspondiente\")\n",
    "    for i in board[1:]:\n",
    "        for j in i[1:]:\n",
    "            print(j, \" \", end=\"\")\n",
    "        print()\n",
    "    print(\"Ataques \" + str(attacked_queens_pairs(seqs, 8)))\n"
   ]
  },
  {
   "cell_type": "code",
   "execution_count": 57,
   "metadata": {},
   "outputs": [
    {
     "name": "stdout",
     "output_type": "stream",
     "text": [
      "Solución encontrada: [3, 6, 4, 1, 8, 5, 7, 2]\n",
      "El tablero correspondiente\n",
      "0  0  0  1  0  0  0  0  \n",
      "0  0  0  0  0  0  0  1  \n",
      "1  0  0  0  0  0  0  0  \n",
      "0  0  1  0  0  0  0  0  \n",
      "0  0  0  0  0  1  0  0  \n",
      "0  1  0  0  0  0  0  0  \n",
      "0  0  0  0  0  0  1  0  \n",
      "0  0  0  0  1  0  0  0  \n",
      "Ataques 0\n"
     ]
    }
   ],
   "source": [
    "import random\n",
    "#from functions import attacked_queens_pairs, display_board\n",
    "\n",
    "seqs = [0] * 8\n",
    "flag = 0\n",
    "\n",
    "for i in range(8):\n",
    "    nums = list(range(1, 9))\n",
    "    if flag == 1:\n",
    "        break\n",
    "    while True:\n",
    "        try:\n",
    "            temp = random.choice(nums)\n",
    "            seqs[i] = temp\n",
    "            nums.remove(temp)\n",
    "            if attacked_queens_pairs(seqs, i + 1) == 0:\n",
    "                break\n",
    "        except IndexError:\n",
    "            print(\"Este cálculo falló. Por favor vuelva a ejecutarlo\")\n",
    "            flag = 1\n",
    "            break\n",
    "\n",
    "if flag == 0:\n",
    "    print(\"Solución encontrada: \" + str(seqs))\n",
    "    display_board(seqs)\n"
   ]
  },
  {
   "cell_type": "markdown",
   "metadata": {},
   "source": [
    "## Hill Climbing Algorithm"
   ]
  },
  {
   "cell_type": "code",
   "execution_count": 25,
   "metadata": {},
   "outputs": [
    {
     "name": "stdout",
     "output_type": "stream",
     "text": [
      "Prueba de commits y pulls\n"
     ]
    }
   ],
   "source": [
    "print('Prueba de commits y pulls')\n"
   ]
  },
  {
   "cell_type": "code",
   "execution_count": null,
   "metadata": {},
   "outputs": [],
   "source": []
  }
 ],
 "metadata": {
  "interpreter": {
   "hash": "ef002ba8c2d835102cf1efcf88e600ec1ea819be597b4c0344e186b81daf76db"
  },
  "kernelspec": {
   "display_name": "Python 3.9.7 ('base')",
   "language": "python",
   "name": "python3"
  },
  "language_info": {
   "codemirror_mode": {
    "name": "ipython",
    "version": 3
   },
   "file_extension": ".py",
   "mimetype": "text/x-python",
   "name": "python",
   "nbconvert_exporter": "python",
   "pygments_lexer": "ipython3",
   "version": "3.9.7"
  },
  "orig_nbformat": 4
 },
 "nbformat": 4,
 "nbformat_minor": 2
}
