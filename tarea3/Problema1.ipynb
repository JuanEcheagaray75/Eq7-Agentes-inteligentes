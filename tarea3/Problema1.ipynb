{
 "cells": [
  {
   "cell_type": "markdown",
   "metadata": {},
   "source": [
    "# Problema 1 (50 puntos)\n",
    "\n",
    "Utilicen los algoritmos de caminata aleatoria y de escalada simple para buscar una solución al problema de las 8 reinas, y comparen el rendimiento de estos algoritmos con la solución proporcionada en esta actividad con recocido simulado. ¿Qué algoritmo permite encontrar una solución al problema?"
   ]
  },
  {
   "cell_type": "markdown",
   "metadata": {},
   "source": [
    "## Random Walk Algorithm"
   ]
  },
  {
   "cell_type": "code",
   "execution_count": 10,
   "metadata": {},
   "outputs": [],
   "source": [
    "import numpy as np\n",
    "\n",
    "def attacked_queens_pairs(seqs, pos):\n",
    "\n",
    "  a = np.array([0]*81)\n",
    "  a = a.reshape(9,9)\n",
    "  n = 0\n",
    "\n",
    "  for i in range(1, pos + 1):\n",
    "    a[seqs[i - 1]][i] = 1\n",
    "\n",
    "  for i in range(1, pos + 1):\n",
    "    for k in list(range(1, i)) + list(range(i + 1, 9)):\n",
    "      if a[seqs[i - 1]][k] == 1:\n",
    "        n += 1\n",
    "    t1 = t2 = seqs[i - 1]\n",
    "    for j in range(i - 1, 0, -1):\n",
    "      if t1 != 1:\n",
    "        t1 -= 1\n",
    "        if a[t1][j] == 1:\n",
    "          n += 1\n",
    "\n",
    "      if t2 != 8:\n",
    "        t2 += 1\n",
    "        if a[t2][j] == 1:\n",
    "          n += 1\n",
    "\n",
    "    t1 = t2 = seqs[i - 1]\n",
    "    for j in range (i + 1, 9):\n",
    "      if t1 != 1:\n",
    "        t1 -= 1\n",
    "        if a[t1][j] == 1:\n",
    "          n += 1\n",
    "      if t2 != 8:\n",
    "        t2 += 1\n",
    "        n += 1\n",
    "  return int(n/2)\n",
    "\n",
    "def display_board(seqs):\n",
    "  board = np. array([0] * 81)\n",
    "  board = board.reshape(9,9)\n",
    "\n",
    "  for i in range(1,9):\n",
    "    board[seqs[i-1]][i] = 1\n",
    "  print(\"El tablero correspondiente\")\n",
    "  for i in board [1:]:\n",
    "    for j in i[1:]:\n",
    "      print (j,\" \",end=\"\")\n",
    "  print()"
   ]
  },
  {
   "cell_type": "code",
   "execution_count": 12,
   "metadata": {},
   "outputs": [
    {
     "ename": "ModuleNotFoundError",
     "evalue": "No module named 'attacked_queens_pair'",
     "output_type": "error",
     "traceback": [
      "\u001b[1;31m---------------------------------------------------------------------------\u001b[0m",
      "\u001b[1;31mModuleNotFoundError\u001b[0m                       Traceback (most recent call last)",
      "\u001b[1;32m~\\AppData\\Local\\Temp/ipykernel_20388/772735161.py\u001b[0m in \u001b[0;36m<module>\u001b[1;34m\u001b[0m\n\u001b[0;32m      1\u001b[0m \u001b[1;32mimport\u001b[0m \u001b[0mrandom\u001b[0m\u001b[1;33m\u001b[0m\u001b[1;33m\u001b[0m\u001b[0m\n\u001b[1;32m----> 2\u001b[1;33m \u001b[1;32mimport\u001b[0m \u001b[0mattacked_queens_pair\u001b[0m\u001b[1;33m,\u001b[0m \u001b[0mdisplay_board\u001b[0m\u001b[1;33m\u001b[0m\u001b[1;33m\u001b[0m\u001b[0m\n\u001b[0m\u001b[0;32m      3\u001b[0m \u001b[1;33m\u001b[0m\u001b[0m\n\u001b[0;32m      4\u001b[0m \u001b[0mseqs\u001b[0m \u001b[1;33m=\u001b[0m \u001b[1;33m[\u001b[0m\u001b[1;36m0\u001b[0m\u001b[1;33m]\u001b[0m \u001b[1;33m*\u001b[0m \u001b[1;36m8\u001b[0m\u001b[1;33m\u001b[0m\u001b[1;33m\u001b[0m\u001b[0m\n\u001b[0;32m      5\u001b[0m \u001b[0mflag\u001b[0m \u001b[1;33m=\u001b[0m \u001b[1;36m0\u001b[0m\u001b[1;33m\u001b[0m\u001b[1;33m\u001b[0m\u001b[0m\n",
      "\u001b[1;31mModuleNotFoundError\u001b[0m: No module named 'attacked_queens_pair'"
     ]
    }
   ],
   "source": [
    "import random\n",
    "![](attacked_queens_pair\\attacked_queens_pair, display_board\n",
    "\n",
    "seqs = [0] * 8\n",
    "flag = 0\n",
    "\n",
    "for i in range(8):\n",
    "    nums = list(range(1,9))\n",
    "    if flag == 1:\n",
    "        break\n",
    "    while True:\n",
    "        try:\n",
    "            temp = random.choice(nums)\n",
    "            seqs[i] = temp\n",
    "            nums.remove(temp)\n",
    "            if attacked_queens_pairs(seqs, i + 1) == 0:\n",
    "                break\n",
    "        except IndexError:\n",
    "            print(\"Este cálculo falló. Por favor vuelva a ejecutarlo\")\n",
    "            flag = 1\n",
    "            break\n",
    "\n",
    "if flag == 0:\n",
    "    print(\"Solución encontrada: \" + str(seqs))\n",
    "    display_board(seqs)"
   ]
  },
  {
   "cell_type": "markdown",
   "metadata": {},
   "source": [
    "## Hill Climbing Algorithm"
   ]
  },
  {
   "cell_type": "code",
   "execution_count": null,
   "metadata": {},
   "outputs": [],
   "source": []
  }
 ],
 "metadata": {
  "interpreter": {
   "hash": "ef002ba8c2d835102cf1efcf88e600ec1ea819be597b4c0344e186b81daf76db"
  },
  "kernelspec": {
   "display_name": "Python 3.9.7 ('base')",
   "language": "python",
   "name": "python3"
  },
  "language_info": {
   "codemirror_mode": {
    "name": "ipython",
    "version": 3
   },
   "file_extension": ".py",
   "mimetype": "text/x-python",
   "name": "python",
   "nbconvert_exporter": "python",
   "pygments_lexer": "ipython3",
   "version": "3.9.7"
  },
  "orig_nbformat": 4
 },
 "nbformat": 4,
 "nbformat_minor": 2
}
