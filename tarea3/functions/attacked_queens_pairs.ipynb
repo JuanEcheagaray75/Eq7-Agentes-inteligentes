{
 "cells": [
  {
   "cell_type": "code",
   "execution_count": 1,
   "metadata": {},
   "outputs": [
    {
     "ename": "SyntaxError",
     "evalue": "invalid syntax (Temp/ipykernel_29600/3008918650.py, line 3)",
     "output_type": "error",
     "traceback": [
      "\u001b[1;36m  File \u001b[1;32m\"C:\\Users\\emi_r\\AppData\\Local\\Temp/ipykernel_29600/3008918650.py\"\u001b[1;36m, line \u001b[1;32m3\u001b[0m\n\u001b[1;33m    def attacked_queens_pairs(seqs, pos)\u001b[0m\n\u001b[1;37m                                        ^\u001b[0m\n\u001b[1;31mSyntaxError\u001b[0m\u001b[1;31m:\u001b[0m invalid syntax\n"
     ]
    }
   ],
   "source": [
    "import numpy as np\n",
    "\n",
    "def attacked_queens_pairs(seqs, pos):\n",
    "\n",
    "  a = np.array([0]*81)\n",
    "  a = a.reshape(9,9)\n",
    "  n = 0\n",
    "\n",
    "  for i in range(1, pos + 1):\n",
    "    a[seqs[i - 1]][i] = 1\n",
    "\n",
    "  for i in range(1, pos + 1):\n",
    "    for k in list(range(1, i)) + list(range(i + 1, 9)):\n",
    "      if a[seqs[i - 1]][k] == 1:\n",
    "        n += 1\n",
    "    t1 = t2 = seqs[i - 1]\n",
    "    for j in range(i - 1, 0, -1):\n",
    "      if t1 != 1:\n",
    "        t1 -= 1\n",
    "        if a[t1][j] == 1:\n",
    "          n += 1\n",
    "\n",
    "      if t2 != 8:\n",
    "        t2 += 1\n",
    "        if a[t2][j] == 1:\n",
    "          n += 1\n",
    "\n",
    "    t1 = t2 = seqs[i - 1]\n",
    "    for j in range (i + 1, 9):\n",
    "      if t1 != 1:\n",
    "        t1 -= 1\n",
    "        if a[t1][j] == 1:\n",
    "          n += 1\n",
    "      if t2 != 8:\n",
    "        t2 += 1\n",
    "        n += 1\n",
    "  return int(n/2)\n",
    "\n",
    "def display_board(seqs):\n",
    "  board = np. array([0] * 81)\n",
    "  board = board.reshape(9,9)\n",
    "\n",
    "  for i in range(1,9):\n",
    "    board[seqs[i-1]][i] = 1\n",
    "  print(\"El tablero correspondiente\")\n",
    "  for i in board [1:]:\n",
    "    for j in i[1:]:\n",
    "      print (j,\" \",end=\"\")\n",
    "  print()"
   ]
  }
 ],
 "metadata": {
  "interpreter": {
   "hash": "ef002ba8c2d835102cf1efcf88e600ec1ea819be597b4c0344e186b81daf76db"
  },
  "kernelspec": {
   "display_name": "Python 3.9.7 ('base')",
   "language": "python",
   "name": "python3"
  },
  "language_info": {
   "codemirror_mode": {
    "name": "ipython",
    "version": 3
   },
   "file_extension": ".py",
   "mimetype": "text/x-python",
   "name": "python",
   "nbconvert_exporter": "python",
   "pygments_lexer": "ipython3",
   "version": "3.9.7"
  },
  "orig_nbformat": 4
 },
 "nbformat": 4,
 "nbformat_minor": 2
}
