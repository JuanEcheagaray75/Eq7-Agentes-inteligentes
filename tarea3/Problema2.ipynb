{
 "cells": [
  {
   "cell_type": "code",
   "execution_count": 126,
   "id": "28b3421f",
   "metadata": {},
   "outputs": [],
   "source": [
    "import seaborn as sns\n",
    "from simpleai.search import SearchProblem\n",
    "from simpleai.search import astar, greedy\n",
    "import numpy as np\n",
    "import matplotlib.pyplot as plt\n",
    "import random \n",
    "import math"
   ]
  },
  {
   "cell_type": "code",
   "execution_count": 127,
   "id": "483c6ca3",
   "metadata": {},
   "outputs": [
    {
     "data": {
      "text/plain": [
       "<matplotlib.collections.PathCollection at 0x7fa551a11bb0>"
      ]
     },
     "execution_count": 127,
     "metadata": {},
     "output_type": "execute_result"
    },
    {
     "data": {
      "image/png": "[encoded data removed]",
      "text/plain": [
       "<Figure size 432x288 with 1 Axes>"
      ]
     },
     "metadata": {
      "needs_background": "light"
     },
     "output_type": "display_data"
    }
   ],
   "source": [
    "ejex = [20,20,20,30,40,40,50,60,60,60,70,80,90,100,100,100,100,110,110,120,130,130,140,140,150,160,170,180,190,200,200,200]\n",
    "ejey = [20,40,160,120,140,150,20,40,80,200,200,150,170,40,50,130,150,10,70,80,70,170,140,180,50,20,100,70,200,30,70,90]\n",
    "plt.scatter(ejex, ejey)"
   ]
  },
  {
   "cell_type": "code",
   "execution_count": 128,
   "id": "db06e278",
   "metadata": {},
   "outputs": [
    {
     "name": "stdout",
     "output_type": "stream",
     "text": [
      "19\n"
     ]
    }
   ],
   "source": [
    "First_dot = random.randint(0,31)\n",
    "Dots = [0,1,2,3,4,5,6,7,8,9,10,11,12,13,14,15,16,17,18,19,20,21,22,23,24,25,26,27,28,29,30,31]\n",
    "Dots.remove(First_dot)\n",
    "print(First_dot)"
   ]
  },
  {
   "cell_type": "code",
   "execution_count": 129,
   "id": "37988da3",
   "metadata": {},
   "outputs": [],
   "source": [
    "GOAL = (First_dot)\n",
    "Next_dot = ()\n",
    "Dots_order =[First_dot]\n",
    "\n",
    "class Puntos(SearchProblem):\n",
    "    def actions(self, state):\n",
    "        global Next_dot\n",
    "        global Dots\n",
    "        actions = []\n",
    "        for i in Dots:\n",
    "            actions.append(i)\n",
    "        \n",
    "        if Dots == []:\n",
    "            Next_dot = First_dot\n",
    "            \n",
    "        \n",
    "        return actions \n",
    "        \n",
    "    \n",
    "    def result(self, state, action):\n",
    "        global Dots_order \n",
    "        global Dots\n",
    "        global Next_dot\n",
    "        Next_dot = (action)\n",
    "        Dots_order.append(action)\n",
    "        Dots.remove(action)\n",
    "        state = action\n",
    "        return state\n",
    "    \n",
    "    def is_goal(self,state):\n",
    "        global Next_dot\n",
    "        \n",
    "        return Next_dot == GOAL\n",
    "    \n",
    "    def cost(self, state1, action, state2):\n",
    "        global ejex\n",
    "        global ejey\n",
    "      \n",
    "        cost = math.sqrt((ejex[state2] - ejex[state1])**2 + (ejey[state2] - ejey[state1])**2)\n",
    "       \n",
    "        return cost\n",
    "    \n",
    "    \n",
    "\n",
    "                          \n",
    "    def heuristic(self, state):\n",
    "    \n",
    "        distance =  math.sqrt((ejex[GOAL] - ejex[state])**2 + (ejey[GOAL] - ejey[state])**2)\n",
    "       \n",
    "        \n",
    "        return distance\n",
    "    \n",
    "                          "
   ]
  },
  {
   "cell_type": "code",
   "execution_count": 130,
   "id": "5c530ba6",
   "metadata": {},
   "outputs": [
    {
     "name": "stdout",
     "output_type": "stream",
     "text": [
      "20\n",
      "[(None, 19), (20, 20)]\n"
     ]
    }
   ],
   "source": [
    "problem = Puntos(initial_state=(First_dot))\n",
    "\n",
    "result = greedy(problem)\n",
    "\n",
    "\n",
    "print(result.state)\n",
    "print(result.path())"
   ]
  },
  {
   "cell_type": "code",
   "execution_count": 131,
   "id": "c369bc96",
   "metadata": {},
   "outputs": [
    {
     "data": {
      "text/plain": [
       "[<matplotlib.lines.Line2D at 0x7fa551ba91f0>]"
      ]
     },
     "execution_count": 131,
     "metadata": {},
     "output_type": "execute_result"
    },
    {
     "data": {
      "image/png": "[encoded data removed]",
      "text/plain": [
       "<Figure size 432x288 with 1 Axes>"
      ]
     },
     "metadata": {
      "needs_background": "light"
     },
     "output_type": "display_data"
    }
   ],
   "source": [
    "plt.scatter(ejex, ejey)\n",
    "plotx = [ejex[Dots_order[0]], ejex[Dots_order[1]], ejex[Dots_order[2]], ejex[Dots_order[3]], ejex[Dots_order[4]], ejex[Dots_order[5]], ejex[Dots_order[6]], ejex[Dots_order[7]], ejex[Dots_order[8]], ejex[Dots_order[9]], ejex[Dots_order[10]], ejex[Dots_order[11]], ejex[Dots_order[12]],ejex[Dots_order[13]],ejex[Dots_order[14]],ejex[Dots_order[15]],ejex[Dots_order[16]],ejex[Dots_order[17]],ejex[Dots_order[18]],ejex[Dots_order[19]],ejex[Dots_order[20]],ejex[Dots_order[21]],ejex[Dots_order[22]],ejex[Dots_order[23]],ejex[Dots_order[24]],ejex[Dots_order[25]],ejex[Dots_order[26]],ejex[Dots_order[27]],ejex[Dots_order[28]],ejex[Dots_order[29]],ejex[Dots_order[30]],ejex[Dots_order[31]],ejex[Dots_order[0]]]\n",
    "ploty = [ejey[Dots_order[0]], ejey[Dots_order[1]], ejey[Dots_order[2]], ejey[Dots_order[3]], ejey[Dots_order[4]], ejey[Dots_order[5]], ejey[Dots_order[6]], ejey[Dots_order[7]], ejey[Dots_order[8]], ejey[Dots_order[9]], ejey[Dots_order[10]], ejey[Dots_order[11]], ejey[Dots_order[12]],ejey[Dots_order[13]],ejey[Dots_order[14]],ejey[Dots_order[15]],ejey[Dots_order[16]],ejey[Dots_order[17]],ejey[Dots_order[18]],ejey[Dots_order[19]],ejey[Dots_order[20]],ejey[Dots_order[21]],ejey[Dots_order[22]],ejey[Dots_order[23]],ejey[Dots_order[24]],ejey[Dots_order[25]],ejey[Dots_order[26]],ejey[Dots_order[27]],ejey[Dots_order[28]],ejey[Dots_order[29]],ejey[Dots_order[30]],ejey[Dots_order[31]],ejey[Dots_order[0]]]\n",
    "plt.plot(plotx, ploty)"
   ]
  },
  {
   "cell_type": "code",
   "execution_count": null,
   "id": "c18855b6",
   "metadata": {},
   "outputs": [],
   "source": []
  }
 ],
 "metadata": {
  "kernelspec": {
   "display_name": "Python 3 (ipykernel)",
   "language": "python",
   "name": "python3"
  },
  "language_info": {
   "codemirror_mode": {
    "name": "ipython",
    "version": 3
   },
   "file_extension": ".py",
   "mimetype": "text/x-python",
   "name": "python",
   "nbconvert_exporter": "python",
   "pygments_lexer": "ipython3",
   "version": "3.9.7"
  }
 },
 "nbformat": 4,
 "nbformat_minor": 5
}
