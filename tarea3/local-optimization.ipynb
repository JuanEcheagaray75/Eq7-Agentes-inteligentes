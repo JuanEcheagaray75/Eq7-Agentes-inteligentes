{
 "cells": [
  {
   "cell_type": "markdown",
   "metadata": {},
   "source": [
    "# Actividad: Problemas de optimización local\n",
    "\n",
    "- Diseño de agentes inteligentes\n",
    "- TC2032.101\n",
    "- Profesor: Juan Emmanuel Martínez Ledesma\n",
    "- Equipo 7:\n",
    "\n",
    "| Alumno | Matrícula |\n",
    "| ---- | ---- |\n",
<<<<<<< HEAD
    "| Juan Pablo Echeagaray González | A00830646 |\n",
    "| Emily Rebeca Méndez Cruz | A00830768 |"
=======
    "| Juan Pablo Echeagaray González | A00830646 |"
>>>>>>> master
   ]
  },
  {
   "cell_type": "code",
   "execution_count": 86,
   "metadata": {},
   "outputs": [],
   "source": [
    "import mlrose_hiive as mlr\n",
    "import numpy as np\n",
    "import matplotlib.pyplot as plt\n",
    "import seaborn as sns\n",
    "plt.style.use('ggplot')\n"
   ]
  },
  {
   "cell_type": "markdown",
   "metadata": {},
   "source": [
    "## Problema 1: N Queens"
   ]
  },
  {
   "cell_type": "markdown",
   "metadata": {},
   "source": [
    "Utilicen los algoritmos de caminata aleatoria y de escalada simple para buscar una solución al problema de las 8 reinas, y comparen el rendimiento de estos algoritmos con la solución proporcionada en esta actividad con recocido simulado. ¿Qué algoritmo permite encontrar una solución al problema?\n"
   ]
  },
  {
   "cell_type": "markdown",
   "metadata": {},
   "source": [
    "### Funciones auxiliares"
   ]
  },
  {
   "cell_type": "code",
   "execution_count": 113,
   "metadata": {},
   "outputs": [],
   "source": [
    "def position_creator(positions: list) -> list:\n",
    "    index = [[x, y] for x, y in zip(range(len(positions)), positions)]\n",
    "    return index\n",
    "\n",
    "\n",
    "def board_printer(positions):\n",
    "    # Zeros everywhere except for the positions\n",
    "    board = np.zeros((len(positions), len(positions)))\n",
    "    for i, j in positions:\n",
    "        board[j][i] = 1\n",
    "    return board\n",
    "    "
   ]
  },
  {
   "cell_type": "markdown",
   "metadata": {},
   "source": [
    "### Planteación del problema"
   ]
  },
  {
   "cell_type": "code",
   "execution_count": 104,
   "metadata": {},
   "outputs": [],
   "source": [
    "fitness = mlr.Queens()\n",
    "problem = mlr.DiscreteOpt(length=8, fitness_fn=fitness, maximize=False, max_val=8)\n",
    "schedule = mlr.ExpDecay()\n",
    "init_state = np.array([0, 1, 2, 3, 4, 5, 6, 7])\n"
   ]
  },
  {
   "cell_type": "markdown",
   "metadata": {},
   "source": [
    "### Escalada simple"
   ]
  },
  {
   "cell_type": "code",
   "execution_count": 130,
   "metadata": {},
   "outputs": [
    {
     "name": "stdout",
     "output_type": "stream",
     "text": [
      "147 ms ± 9.33 ms per loop (mean ± std. dev. of 7 runs, 1 loop each)\n"
     ]
    }
   ],
   "source": [
    "%%timeit\n",
    "hill_best_state, hill_best_fitness, _ = mlr.hill_climb(problem, max_iters=1000, restarts=0, init_state=init_state, curve=True)\n"
   ]
  },
  {
   "cell_type": "code",
   "execution_count": 139,
   "metadata": {},
   "outputs": [],
   "source": [
    "hill_best_state, hill_best_fitness, _ = mlr.hill_climb(problem, max_iters=1000, restarts=0, init_state=init_state, curve=True)\n",
    "hill_positions = position_creator(hill_best_state)\n"
   ]
  },
  {
   "cell_type": "code",
   "execution_count": 140,
   "metadata": {},
   "outputs": [
    {
     "name": "stdout",
     "output_type": "stream",
     "text": [
      "Hill best fitness: 2.0\n"
     ]
    },
    {
     "data": {
      "text/plain": [
       "array([[0., 0., 1., 0., 1., 0., 0., 0.],\n",
       "       [1., 0., 0., 0., 0., 0., 0., 0.],\n",
       "       [0., 0., 0., 0., 0., 1., 0., 0.],\n",
       "       [0., 0., 0., 0., 0., 0., 0., 0.],\n",
       "       [0., 1., 0., 0., 0., 0., 0., 0.],\n",
       "       [0., 0., 0., 1., 0., 0., 0., 0.],\n",
       "       [0., 0., 0., 0., 0., 0., 1., 0.],\n",
       "       [0., 0., 0., 0., 0., 0., 0., 1.]])"
      ]
     },
     "execution_count": 140,
     "metadata": {},
     "output_type": "execute_result"
    }
   ],
   "source": [
    "print(f'Hill best fitness: {hill_best_fitness}')\n",
    "board_printer(hill_positions)\n"
   ]
  },
  {
   "cell_type": "markdown",
   "metadata": {},
   "source": [
    "### Caminata aleatoria"
   ]
  },
  {
   "cell_type": "code",
   "execution_count": 142,
   "metadata": {},
   "outputs": [
    {
     "name": "stdout",
     "output_type": "stream",
     "text": [
      "14.3 ms ± 2.63 ms per loop (mean ± std. dev. of 7 runs, 100 loops each)\n"
     ]
    }
   ],
   "source": [
    "%%timeit\n",
    "random_hill_best_state, random_hill_best_fitness, _ = mlr.random_hill_climb(problem, max_iters=1000, restarts=0, init_state=init_state, curve=True)\n"
   ]
  },
  {
   "cell_type": "code",
   "execution_count": 145,
   "metadata": {},
   "outputs": [],
   "source": [
    "rand_hill_best_state, rand_hill_best_fitness, _ = mlr.random_hill_climb(problem, max_iters=100000, restarts=0, \n",
    "                                                    init_state=init_state, curve=True)\n",
    "rand_hill_positions = position_creator(rand_hill_best_state)\n"
   ]
  },
  {
   "cell_type": "code",
   "execution_count": 146,
   "metadata": {},
   "outputs": [
    {
     "name": "stdout",
     "output_type": "stream",
     "text": [
      "Random Hill Climb best fitness: 4.0\n"
     ]
    },
    {
     "data": {
      "text/plain": [
       "array([[0., 0., 0., 0., 0., 0., 0., 1.],\n",
       "       [0., 0., 0., 0., 0., 1., 0., 0.],\n",
       "       [1., 0., 0., 0., 0., 0., 0., 0.],\n",
       "       [0., 0., 0., 0., 0., 0., 0., 0.],\n",
       "       [0., 1., 0., 0., 1., 0., 1., 0.],\n",
       "       [0., 0., 0., 1., 0., 0., 0., 0.],\n",
       "       [0., 0., 0., 0., 0., 0., 0., 0.],\n",
       "       [0., 0., 1., 0., 0., 0., 0., 0.]])"
      ]
     },
     "execution_count": 146,
     "metadata": {},
     "output_type": "execute_result"
    }
   ],
   "source": [
    "print(f'Random Hill Climb best fitness: {rand_hill_best_fitness}')\n",
    "board_printer(rand_hill_positions)\n"
   ]
  },
  {
   "cell_type": "markdown",
   "metadata": {},
   "source": [
    "### Recocido simulado"
   ]
  },
  {
   "cell_type": "code",
   "execution_count": 109,
   "metadata": {},
   "outputs": [
    {
     "name": "stdout",
     "output_type": "stream",
     "text": [
      "75 ms ± 8.65 ms per loop (mean ± std. dev. of 7 runs, 10 loops each)\n"
     ]
    }
   ],
   "source": [
    "%%timeit\n",
    "ann_best_state, ann_best_fitness, _ = mlr.simulated_annealing(problem, schedule=schedule, max_attempts=100,\n",
    "                                                      max_iters=1000, init_state=init_state,\n",
    "                                                      random_state=1)"
   ]
  },
  {
   "cell_type": "code",
   "execution_count": 128,
   "metadata": {},
   "outputs": [],
   "source": [
    "ann_best_state, ann_best_fitness, _ = mlr.simulated_annealing(problem, schedule=schedule, max_attempts=100,\n",
    "                                                      max_iters=10000, init_state=init_state,\n",
    "                                                      random_state=1)\n",
    "ann_positions = position_creator(ann_best_state)\n"
   ]
  },
  {
   "cell_type": "code",
   "execution_count": 129,
   "metadata": {},
   "outputs": [
    {
     "name": "stdout",
     "output_type": "stream",
     "text": [
      "Simulated Annealing best fitness: 0.0\n"
     ]
    },
    {
     "data": {
      "text/plain": [
       "array([[0., 0., 1., 0., 0., 0., 0., 0.],\n",
       "       [0., 0., 0., 0., 1., 0., 0., 0.],\n",
       "       [0., 1., 0., 0., 0., 0., 0., 0.],\n",
       "       [0., 0., 0., 0., 0., 0., 0., 1.],\n",
       "       [1., 0., 0., 0., 0., 0., 0., 0.],\n",
       "       [0., 0., 0., 0., 0., 0., 1., 0.],\n",
       "       [0., 0., 0., 1., 0., 0., 0., 0.],\n",
       "       [0., 0., 0., 0., 0., 1., 0., 0.]])"
      ]
     },
     "execution_count": 129,
     "metadata": {},
     "output_type": "execute_result"
    }
   ],
   "source": [
    "print(f'Simulated Annealing best fitness: {ann_best_fitness}')\n",
    "board_printer(ann_positions)\n"
   ]
  },
  {
   "cell_type": "markdown",
   "metadata": {},
   "source": [
    "Al parecer ninguno de los 2 algoritmos produce una solución válida. Hemos incrementado el número de iteraciones a 1000 para todos los algoritmos, e incluso así los algoritmos de hill climbing no pudieron encontrar una solución"
   ]
  },
  {
   "cell_type": "markdown",
   "metadata": {},
   "source": [
    "## Problema 2: Travelling Salesperson Problem (TSP)"
   ]
  },
  {
   "cell_type": "markdown",
   "metadata": {},
   "source": [
    "La siguiente figura muestra una colección de puntos en el plano, los cuales se quieren unir con lineas rectas de tal forma que se forme una figura cerrada. Cada punto sólo puede estar conectado a otros dos puntos.\n",
    "\n",
    "![](img/2022-03-11-07-44-07.png)\n",
    "\n",
    "Utilicen los algoritmos de búsqueda voraz y de recocido simulado para encontrar la forma como se conectarían los puntos, de tal forma que la suma de las longitudes de las líneas que conectan la figura sea la menor posible. ¿Con qué algoritmo se obtiene los mejores resultados?\n"
   ]
  },
  {
   "cell_type": "code",
   "execution_count": 67,
   "metadata": {},
   "outputs": [],
   "source": [
    "# Create a list of coordinates\n",
    "np.random.seed(7501)\n",
    "n_cities = 31\n",
    "max_range = 200\n",
    "cities = max_range * np.random.random(size=(n_cities, 2))\n",
    "cities_tsp = [(x, y) for x, y in cities]\n"
   ]
  },
  {
   "cell_type": "code",
   "execution_count": 68,
   "metadata": {},
   "outputs": [
    {
     "data": {
      "image/png": "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",
      "text/plain": [
       "<Figure size 720x720 with 1 Axes>"
      ]
     },
     "metadata": {},
     "output_type": "display_data"
    }
   ],
   "source": [
    "plt.figure(figsize=(10, 10))\n",
    "ax = sns.scatterplot(x=cities[:, 0], y=cities[:, 1], s=50)\n",
    "ax.set_xlim(0, max_range)\n",
    "ax.set_ylim(0, max_range)\n",
    "ax.set_title('TSP Cities')\n"
   ]
  },
  {
   "cell_type": "code",
   "execution_count": 70,
   "metadata": {},
   "outputs": [],
   "source": [
    "fitness_coords = mlr.TravellingSales(coords=cities_tsp)\n"
   ]
  },
  {
   "cell_type": "code",
   "execution_count": 71,
   "metadata": {},
   "outputs": [],
   "source": [
    "problem_fit = mlr.TSPOpt(\n",
    "    length=n_cities, fitness_fn=fitness_coords, maximize=False)\n"
   ]
  },
  {
   "cell_type": "code",
   "execution_count": null,
   "metadata": {},
   "outputs": [],
   "source": [
    "best_state, best_fitness, _ = mlr.\n"
   ]
  }
 ],
 "metadata": {
  "interpreter": {
   "hash": "a78c4be66ba3b4a897c6e596b18611fdff70693afae29e50365a94a133cff73c"
  },
  "kernelspec": {
   "display_name": "Python 3.9.7 64-bit",
   "language": "python",
   "name": "python3"
  },
  "language_info": {
   "codemirror_mode": {
    "name": "ipython",
    "version": 3
   },
   "file_extension": ".py",
   "mimetype": "text/x-python",
   "name": "python",
   "nbconvert_exporter": "python",
   "pygments_lexer": "ipython3",
   "version": "3.9.7"
  },
  "orig_nbformat": 4
 },
 "nbformat": 4,
 "nbformat_minor": 2
}
