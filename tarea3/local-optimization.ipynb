{
 "cells": [
  {
   "cell_type": "markdown",
   "metadata": {},
   "source": [
    "# Actividad: Problemas de optimización local\n",
    "\n",
    "- Diseño de agentes inteligentes\n",
    "- TC2032.101\n",
    "- Profesor: Juan Emmanuel Martínez Ledesma\n",
    "- Equipo 7:\n",
    "\n",
    "| Alumno | Matrícula |\n",
    "| ---- | ---- |\n",
    "| Juan Pablo Echeagaray González | A00830646 |"
   ]
  },
  {
   "cell_type": "code",
   "execution_count": 2,
   "metadata": {},
   "outputs": [],
   "source": [
    "import mlrose_hiive as mlr\n",
    "import numpy as np\n",
    "import matplotlib.pyplot as plt\n",
    "import seaborn as sns"
   ]
  },
  {
   "cell_type": "markdown",
   "metadata": {},
   "source": [
    "## Problema 1: N Queens"
   ]
  },
  {
   "cell_type": "markdown",
   "metadata": {},
   "source": [
    "Utilicen los algoritmos de caminata aleatoria y de escalada simple para buscar una solución al problema de las 8 reinas, y comparen el rendimiento de estos algoritmos con la solución proporcionada en esta actividad con recocido simulado. ¿Qué algoritmo permite encontrar una solución al problema?\n"
   ]
  },
  {
   "cell_type": "code",
   "execution_count": null,
   "metadata": {},
   "outputs": [],
   "source": []
  },
  {
   "cell_type": "markdown",
   "metadata": {},
   "source": [
    "## Problema 2: Travelling Salesperson Problem (TSP)"
   ]
  },
  {
   "cell_type": "markdown",
   "metadata": {},
   "source": [
    "La siguiente figura muestra una colección de puntos en el plano, los cuales se quieren unir con lineas rectas de tal forma que se forme una figura cerrada. Cada punto sólo puede estar conectado a otros dos puntos.\n",
    "\n",
    "![](img/2022-03-11-07-44-07.png)\n",
    "\n",
    "Utilicen los algoritmos de búsqueda voraz y de recocido simulado para encontrar la forma como se conectarían los puntos, de tal forma que la suma de las longitudes de las líneas que conectan la figura sea la menor posible. ¿Con qué algoritmo se obtiene los mejores resultados?\n"
   ]
  },
  {
   "cell_type": "code",
   "execution_count": null,
   "metadata": {},
   "outputs": [],
   "source": []
  }
 ],
 "metadata": {
  "interpreter": {
   "hash": "a78c4be66ba3b4a897c6e596b18611fdff70693afae29e50365a94a133cff73c"
  },
  "kernelspec": {
   "display_name": "Python 3.9.7 64-bit",
   "language": "python",
   "name": "python3"
  },
  "language_info": {
   "codemirror_mode": {
    "name": "ipython",
    "version": 3
   },
   "file_extension": ".py",
   "mimetype": "text/x-python",
   "name": "python",
   "nbconvert_exporter": "python",
   "pygments_lexer": "ipython3",
   "version": "3.9.7"
  },
  "orig_nbformat": 4
 },
 "nbformat": 4,
 "nbformat_minor": 2
}
