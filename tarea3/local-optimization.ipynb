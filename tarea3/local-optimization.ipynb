{
 "cells": [
  {
   "cell_type": "markdown",
   "metadata": {},
   "source": [
    "# Actividad: Problemas de optimización local\n",
    "\n",
    "- Diseño de agentes inteligentes\n",
    "- TC2032.101\n",
    "- Profesor: Juan Emmanuel Martínez Ledesma\n",
    "- Equipo 7:\n",
    "\n",
    "| Alumno | Matrícula |\n",
    "| ---- | ---- |\n",
    "| Juan Pablo Echeagaray González | A00830646 |\n",
    "| Emily Rebeca Méndez Cruz | A00830768 |\n",
    "| César Guillermo Vázquez Alvarez | A01197857 |\n",
    "| Oscar Antonio Banderas Álvarez | A1568492 |"
   ]
  },
  {
   "cell_type": "code",
   "execution_count": 1,
   "metadata": {},
   "outputs": [],
   "source": [
    "import mlrose_hiive as mlr\n",
    "from simpleai.search import SearchProblem, greedy\n",
    "import numpy as np\n",
    "import matplotlib.pyplot as plt\n",
    "import seaborn as sns\n",
    "plt.style.use('ggplot')\n"
   ]
  },
  {
   "cell_type": "markdown",
   "metadata": {},
   "source": [
    "## Problema 1: N Reinas"
   ]
  },
  {
   "cell_type": "markdown",
   "metadata": {},
   "source": [
    "Utilicen los algoritmos de caminata aleatoria y de escalada simple para buscar una solución al problema de las 8 reinas, y comparen el rendimiento de estos algoritmos con la solución proporcionada en esta actividad con recocido simulado. ¿Qué algoritmo permite encontrar una solución al problema?\n"
   ]
  },
  {
   "cell_type": "markdown",
   "metadata": {},
   "source": [
    "### Funciones auxiliares"
   ]
  },
  {
   "cell_type": "code",
   "execution_count": 2,
   "metadata": {},
   "outputs": [],
   "source": [
    "def position_creator(positions: list) -> list:\n",
    "    index = [[x, y] for x, y in zip(range(len(positions)), positions)]\n",
    "    return index\n",
    "\n",
    "\n",
    "def board_printer(positions):\n",
    "    # Zeros everywhere except for the positions\n",
    "    board = np.zeros((len(positions), len(positions)))\n",
    "    for i, j in positions:\n",
    "        board[j][i] = 1\n",
    "    return board\n",
    "\n",
    "\n",
    "def visualize(board: np.array, alg_name: str, fit: int) -> None:\n",
    "    plt.figure(figsize=(10, 10))\n",
    "    sns.heatmap(board, linewidth=2, cmap='RdYlGn', annot=True,\n",
    "                cbar=False, square=True, xticklabels=False, yticklabels=False)\n",
    "    plt.title(f'{alg_name} - Fitness: {fit}')\n",
    "    plt.show()\n"
   ]
  },
  {
   "cell_type": "markdown",
   "metadata": {},
   "source": [
    "### Planteación del problema"
   ]
  },
  {
   "cell_type": "code",
   "execution_count": 3,
   "metadata": {},
   "outputs": [],
   "source": [
    "fitness = mlr.Queens()\n",
    "problem = mlr.DiscreteOpt(length=8, fitness_fn=fitness,\n",
    "                          maximize=False, max_val=8)\n",
    "schedule = mlr.ExpDecay()\n",
    "init_state = np.array([0, 1, 2, 3, 4, 5, 6, 7])\n"
   ]
  },
  {
   "cell_type": "markdown",
   "metadata": {},
   "source": [
    "### Escalada simple"
   ]
  },
  {
   "cell_type": "code",
   "execution_count": 4,
   "metadata": {},
   "outputs": [
    {
     "name": "stderr",
     "output_type": "stream",
     "text": [
      "UsageError: Line magic function `%` not found.\n"
     ]
    }
   ],
   "source": [
    "% % timeit\n",
    "hill_best_state, hill_best_fitness, _ = mlr.hill_climb(\n",
    "    problem, max_iters=1000, restarts=0, init_state=init_state, curve=True, random_state=0)\n"
   ]
  },
  {
   "cell_type": "code",
   "execution_count": 5,
   "metadata": {},
   "outputs": [],
   "source": [
    "hill_best_state, hill_best_fitness, _ = mlr.hill_climb(\n",
    "    problem, max_iters=1000, restarts=0, init_state=init_state, curve=True, random_state=0)\n",
    "hill_positions = position_creator(hill_best_state)\n"
   ]
  },
  {
   "cell_type": "code",
   "execution_count": 6,
   "metadata": {},
   "outputs": [
    {
     "name": "stdout",
     "output_type": "stream",
     "text": [
      "Hill best fitness: 2.0\n"
     ]
    }
   ],
   "source": [
    "print(f'Hill best fitness: {hill_best_fitness}')\n",
    "hill_board = board_printer(hill_positions)\n"
   ]
  },
  {
   "cell_type": "code",
   "execution_count": 7,
   "metadata": {},
   "outputs": [
    {
     "data": {
      "image/png": "[encoded data removed]",
      "text/plain": [
       "<Figure size 720x720 with 1 Axes>"
      ]
     },
     "metadata": {},
     "output_type": "display_data"
    }
   ],
   "source": [
    "visualize(hill_board, 'Hill Climb', hill_best_fitness)\n"
   ]
  },
  {
   "cell_type": "markdown",
   "metadata": {},
   "source": [
    "### Caminata aleatoria"
   ]
  },
  {
   "cell_type": "code",
   "execution_count": 8,
   "metadata": {},
   "outputs": [
    {
     "name": "stderr",
     "output_type": "stream",
     "text": [
      "UsageError: Line magic function `%` not found.\n"
     ]
    }
   ],
   "source": [
    "% % timeit\n",
    "random_hill_best_state, random_hill_best_fitness, _ = mlr.random_hill_climb(\n",
    "    problem, max_iters=1000, restarts=0, init_state=init_state, curve=True, random_state=0)\n"
   ]
  },
  {
   "cell_type": "code",
   "execution_count": 9,
   "metadata": {},
   "outputs": [],
   "source": [
    "rand_hill_best_state, rand_hill_best_fitness, _ = mlr.random_hill_climb(problem, max_iters=100000, restarts=0,\n",
    "                                                                        init_state=init_state, curve=True, random_state=0)\n",
    "rand_hill_positions = position_creator(rand_hill_best_state)\n"
   ]
  },
  {
   "cell_type": "code",
   "execution_count": 10,
   "metadata": {},
   "outputs": [
    {
     "name": "stdout",
     "output_type": "stream",
     "text": [
      "Random Hill Climb best fitness: 3.0\n"
     ]
    }
   ],
   "source": [
    "print(f'Random Hill Climb best fitness: {rand_hill_best_fitness}')\n",
    "rand_hill_board = board_printer(rand_hill_positions)\n"
   ]
  },
  {
   "cell_type": "code",
   "execution_count": 11,
   "metadata": {},
   "outputs": [
    {
     "data": {
      "image/png": "[encoded data removed]",
      "text/plain": [
       "<Figure size 720x720 with 1 Axes>"
      ]
     },
     "metadata": {},
     "output_type": "display_data"
    }
   ],
   "source": [
    "visualize(rand_hill_board, 'Random Hill Climb', rand_hill_best_fitness)\n"
   ]
  },
  {
   "cell_type": "markdown",
   "metadata": {},
   "source": [
    "### Recocido simulado"
   ]
  },
  {
   "cell_type": "code",
   "execution_count": 12,
   "metadata": {},
   "outputs": [
    {
     "name": "stderr",
     "output_type": "stream",
     "text": [
      "UsageError: Line magic function `%` not found.\n"
     ]
    }
   ],
   "source": [
    "% % timeit\n",
    "ann_best_state, ann_best_fitness, _ = mlr.simulated_annealing(problem, schedule=schedule, max_attempts=100,\n",
    "                                                              max_iters=1000, init_state=init_state,\n",
    "                                                              random_state=1)\n"
   ]
  },
  {
   "cell_type": "code",
   "execution_count": 13,
   "metadata": {},
   "outputs": [],
   "source": [
    "ann_best_state, ann_best_fitness, _ = mlr.simulated_annealing(problem, schedule=schedule, max_attempts=100,\n",
    "                                                              max_iters=10000, init_state=init_state,\n",
    "                                                              random_state=1)\n",
    "ann_positions = position_creator(ann_best_state)\n"
   ]
  },
  {
   "cell_type": "code",
   "execution_count": 14,
   "metadata": {},
   "outputs": [
    {
     "name": "stdout",
     "output_type": "stream",
     "text": [
      "Simulated Annealing best fitness: 0.0\n"
     ]
    }
   ],
   "source": [
    "print(f'Simulated Annealing best fitness: {ann_best_fitness}')\n",
    "ann_board = board_printer(ann_positions)\n"
   ]
  },
  {
   "cell_type": "markdown",
   "metadata": {},
   "source": [
    "Al parecer ninguno de los 2 algoritmos produce una solución válida. Hemos incrementado el número de iteraciones a 1000 para todos los algoritmos, e incluso así los algoritmos de hill climbing no pudieron encontrar una solución"
   ]
  },
  {
   "cell_type": "code",
   "execution_count": 15,
   "metadata": {},
   "outputs": [
    {
     "data": {
      "image/png": "[encoded data removed]",
      "text/plain": [
       "<Figure size 720x720 with 1 Axes>"
      ]
     },
     "metadata": {},
     "output_type": "display_data"
    }
   ],
   "source": [
    "visualize(ann_board, 'Recocido Simulado', ann_best_fitness)\n"
   ]
  },
  {
   "cell_type": "markdown",
   "metadata": {},
   "source": [
    "## Problema 2: Travelling Salesperson Problem (TSP)"
   ]
  },
  {
   "cell_type": "markdown",
   "metadata": {},
   "source": [
    "La siguiente figura muestra una colección de puntos en el plano, los cuales se quieren unir con lineas rectas de tal forma que se forme una figura cerrada. Cada punto sólo puede estar conectado a otros dos puntos.\n",
    "\n",
    "![](img/2022-03-11-07-44-07.png)\n",
    "\n",
    "Utilicen los algoritmos de búsqueda voraz y de recocido simulado para encontrar la forma como se conectarían los puntos, de tal forma que la suma de las longitudes de las líneas que conectan la figura sea la menor posible. ¿Con qué algoritmo se obtiene los mejores resultados?\n"
   ]
  },
  {
   "cell_type": "code",
   "execution_count": 16,
   "metadata": {},
   "outputs": [],
   "source": [
    "# Create a list of coordinates\n",
    "np.random.seed(0)\n",
    "n_cities = 31\n",
    "max_range = 200\n",
    "cities = np.random.randint(low=0, high=max_range, size=(n_cities, 2))\n",
    "cities_tsp = [(x, y) for x, y in cities]\n"
   ]
  },
  {
   "cell_type": "code",
   "execution_count": 17,
   "metadata": {},
   "outputs": [
    {
     "data": {
      "text/plain": [
       "Text(0.5, 1.0, 'TSP Cities')"
      ]
     },
     "execution_count": 17,
     "metadata": {},
     "output_type": "execute_result"
    },
    {
     "data": {
      "image/png": "[encoded data removed]",
      "text/plain": [
       "<Figure size 720x720 with 1 Axes>"
      ]
     },
     "metadata": {},
     "output_type": "display_data"
    }
   ],
   "source": [
    "plt.figure(figsize=(10, 10))\n",
    "ax = sns.scatterplot(x=cities[:, 0], y=cities[:, 1], s=50)\n",
    "ax.set_xlim(0, max_range)\n",
    "ax.set_ylim(0, max_range)\n",
    "ax.set_title('TSP Cities')\n"
   ]
  },
  {
   "cell_type": "markdown",
   "metadata": {},
   "source": [
    "### Usando librería `mlrose`"
   ]
  },
  {
   "cell_type": "code",
   "execution_count": 18,
   "metadata": {},
   "outputs": [],
   "source": [
    "fitness_coords = mlr.TravellingSales(coords=cities_tsp)\n"
   ]
  },
  {
   "cell_type": "code",
   "execution_count": 19,
   "metadata": {},
   "outputs": [],
   "source": [
    "problem_fit = mlr.TSPOpt(\n",
    "    length=n_cities, fitness_fn=fitness_coords, maximize=False)\n"
   ]
  },
  {
   "cell_type": "code",
   "execution_count": 20,
   "metadata": {},
   "outputs": [],
   "source": [
    "def route_printer(order):\n",
    "    for i in range(len(order)):\n",
    "        if i == len(order) - 1:\n",
    "            print(order[i])\n",
    "        else:\n",
    "            print(order[i], end=' -> ')\n"
   ]
  },
  {
   "cell_type": "markdown",
   "metadata": {},
   "source": [
    "#### Recocido simulado"
   ]
  },
  {
   "cell_type": "code",
   "execution_count": 21,
   "metadata": {},
   "outputs": [],
   "source": [
    "ann_tsp_best_state, ann_tsp_best_fitness, _ = mlr.simulated_annealing(\n",
    "    problem_fit, schedule=schedule, max_attempts=10000, random_state=0)\n"
   ]
  },
  {
   "cell_type": "code",
   "execution_count": 22,
   "metadata": {},
   "outputs": [
    {
     "data": {
      "text/plain": [
       "1200.8700911840235"
      ]
     },
     "execution_count": 22,
     "metadata": {},
     "output_type": "execute_result"
    }
   ],
   "source": [
    "ann_tsp_best_fitness\n"
   ]
  },
  {
   "cell_type": "code",
   "execution_count": 23,
   "metadata": {},
   "outputs": [
    {
     "data": {
      "text/plain": [
       "array([10, 28, 30,  6, 27, 19, 15, 18,  8, 11,  4, 29, 12,  3, 17, 25, 13,\n",
       "       24,  9, 14,  0, 22,  5, 16, 26, 23, 21, 20,  7,  2,  1])"
      ]
     },
     "execution_count": 23,
     "metadata": {},
     "output_type": "execute_result"
    }
   ],
   "source": [
    "ann_tsp_best_state\n"
   ]
  },
  {
   "cell_type": "code",
   "execution_count": 24,
   "metadata": {},
   "outputs": [
    {
     "name": "stdout",
     "output_type": "stream",
     "text": [
      "10 -> 28 -> 30 -> 6 -> 27 -> 19 -> 15 -> 18 -> 8 -> 11 -> 4 -> 29 -> 12 -> 3 -> 17 -> 25 -> 13 -> 24 -> 9 -> 14 -> 0 -> 22 -> 5 -> 16 -> 26 -> 23 -> 21 -> 20 -> 7 -> 2 -> 1\n"
     ]
    }
   ],
   "source": [
    "route_printer(ann_tsp_best_state)\n"
   ]
  },
  {
   "cell_type": "markdown",
   "metadata": {},
   "source": [
    "### Usando librería `simpleai`"
   ]
  },
  {
   "cell_type": "code",
   "execution_count": 28,
   "metadata": {},
   "outputs": [],
   "source": [
    "from scipy.spatial.distance import cdist\n",
    "\n",
    "cities_tsp = np.array(cities_tsp)\n",
    "distances = cdist(cities_tsp, cities_tsp, metric='euclidean')\n"
   ]
  },
  {
   "cell_type": "markdown",
   "metadata": {},
   "source": [
    "Podríamos usar esto https://github.com/vkinoshita/tsp"
   ]
  },
  {
   "cell_type": "markdown",
   "metadata": {},
   "source": []
  }
 ],
 "metadata": {
  "interpreter": {
   "hash": "a78c4be66ba3b4a897c6e596b18611fdff70693afae29e50365a94a133cff73c"
  },
  "kernelspec": {
   "display_name": "Python 3.9.7 64-bit",
   "language": "python",
   "name": "python3"
  },
  "language_info": {
   "codemirror_mode": {
    "name": "ipython",
    "version": 3
   },
   "file_extension": ".py",
   "mimetype": "text/x-python",
   "name": "python",
   "nbconvert_exporter": "python",
   "pygments_lexer": "ipython3",
   "version": "3.9.7"
  },
  "orig_nbformat": 4
 },
 "nbformat": 4,
 "nbformat_minor": 2
}
