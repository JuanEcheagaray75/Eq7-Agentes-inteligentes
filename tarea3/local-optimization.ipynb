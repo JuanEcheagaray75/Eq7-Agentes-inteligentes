{
 "cells": [
  {
   "cell_type": "markdown",
   "metadata": {},
   "source": [
    "# Actividad: Problemas de optimización local\n",
    "\n",
    "- Diseño de agentes inteligentes\n",
    "- TC2032.101\n",
    "- Profesor: Juan Emmanuel Martínez Ledesma\n",
    "- Equipo 7:\n",
    "\n",
    "| Alumno | Matrícula |\n",
    "| ---- | ---- |\n",
    "| Juan Pablo Echeagaray González | A00830646 |\n",
    "| Emily Rebeca Méndez Cruz | A00830768 |\n",
    "| César Guillermo Vázquez Alvarez | A01197857 |\n",
    "| Oscar Antonio Banderas Álvarez | A1568492 |"
   ]
  },
  {
   "cell_type": "code",
   "execution_count": 1,
   "metadata": {},
   "outputs": [],
   "source": [
    "import mlrose_hiive as mlr\n",
    "from simpleai.search import SearchProblem, greedy\n",
    "import numpy as np\n",
    "import matplotlib.pyplot as plt\n",
    "import seaborn as sns\n",
    "plt.style.use('ggplot')\n"
   ]
  },
  {
   "cell_type": "markdown",
   "metadata": {},
   "source": [
    "## Problema 1: N Reinas"
   ]
  },
  {
   "cell_type": "markdown",
   "metadata": {},
   "source": [
    "Utilicen los algoritmos de caminata aleatoria y de escalada simple para buscar una solución al problema de las 8 reinas, y comparen el rendimiento de estos algoritmos con la solución proporcionada en esta actividad con recocido simulado. ¿Qué algoritmo permite encontrar una solución al problema?\n"
   ]
  },
  {
   "cell_type": "markdown",
   "metadata": {},
   "source": [
    "### Funciones auxiliares"
   ]
  },
  {
   "cell_type": "code",
   "execution_count": 2,
   "metadata": {},
   "outputs": [],
   "source": [
    "def position_creator(positions: list) -> list:\n",
    "    index = [[x, y] for x, y in zip(range(len(positions)), positions)]\n",
    "    return index\n",
    "\n",
    "\n",
    "def board_printer(positions):\n",
    "    # Zeros everywhere except for the positions\n",
    "    board = np.zeros((len(positions), len(positions)))\n",
    "    for i, j in positions:\n",
    "        board[j][i] = 1\n",
    "    return board\n",
    "\n",
    "\n",
    "def visualize(board: np.array, alg_name: str, fit: int) -> None:\n",
    "    plt.figure(figsize=(10, 10))\n",
    "    sns.heatmap(board, linewidth=2, cmap='RdYlGn', annot=True,\n",
    "                cbar=False, square=True, xticklabels=False, yticklabels=False)\n",
    "    plt.title(f'{alg_name} - Fitness: {fit}')\n",
    "    plt.show()\n"
   ]
  },
  {
   "cell_type": "markdown",
   "metadata": {},
   "source": [
    "### Planteación del problema"
   ]
  },
  {
   "cell_type": "code",
   "execution_count": 3,
   "metadata": {},
   "outputs": [],
   "source": [
    "fitness = mlr.Queens()\n",
    "problem = mlr.DiscreteOpt(length=8, fitness_fn=fitness,\n",
    "                          maximize=False, max_val=8)\n",
    "schedule = mlr.ExpDecay()\n",
    "init_state = np.array([0, 1, 2, 3, 4, 5, 6, 7])\n"
   ]
  },
  {
   "cell_type": "markdown",
   "metadata": {},
   "source": [
    "### Escalada simple"
   ]
  },
  {
   "cell_type": "code",
   "execution_count": 4,
   "metadata": {},
   "outputs": [
    {
     "name": "stdout",
     "output_type": "stream",
     "text": [
      "158 ms ± 21.1 ms per loop (mean ± std. dev. of 7 runs, 1 loop each)\n"
     ]
    }
   ],
   "source": [
    "%%timeit\n",
    "hill_best_state, hill_best_fitness, _ = mlr.hill_climb(\n",
    "    problem, max_iters=1000, restarts=0, init_state=init_state, curve=True, random_state=0)\n"
   ]
  },
  {
   "cell_type": "code",
   "execution_count": 5,
   "metadata": {},
   "outputs": [],
   "source": [
    "hill_best_state, hill_best_fitness, _ = mlr.hill_climb(\n",
    "    problem, max_iters=1000, restarts=0, init_state=init_state, curve=True, random_state=0)\n",
    "hill_positions = position_creator(hill_best_state)\n"
   ]
  },
  {
   "cell_type": "code",
   "execution_count": 6,
   "metadata": {},
   "outputs": [
    {
     "name": "stdout",
     "output_type": "stream",
     "text": [
      "Hill best fitness: 2.0\n"
     ]
    }
   ],
   "source": [
    "print(f'Hill best fitness: {hill_best_fitness}')\n",
    "hill_board = board_printer(hill_positions)\n"
   ]
  },
  {
   "cell_type": "code",
   "execution_count": 7,
   "metadata": {},
   "outputs": [
    {
     "data": {
      "image/png": "[encoded data removed]",
      "text/plain": [
       "<Figure size 720x720 with 1 Axes>"
      ]
     },
     "metadata": {},
     "output_type": "display_data"
    }
   ],
   "source": [
    "visualize(hill_board, 'Hill Climb', hill_best_fitness)\n"
   ]
  },
  {
   "cell_type": "markdown",
   "metadata": {},
   "source": [
    "### Caminata aleatoria"
   ]
  },
  {
   "cell_type": "code",
   "execution_count": 8,
   "metadata": {},
   "outputs": [
    {
     "name": "stdout",
     "output_type": "stream",
     "text": [
      "18.3 ms ± 3.3 ms per loop (mean ± std. dev. of 7 runs, 100 loops each)\n"
     ]
    }
   ],
   "source": [
    "%%timeit\n",
    "random_hill_best_state, random_hill_best_fitness, _ = mlr.random_hill_climb(\n",
    "    problem, max_iters=1000, restarts=0, init_state=init_state, curve=True, random_state=0)\n"
   ]
  },
  {
   "cell_type": "code",
   "execution_count": 9,
   "metadata": {},
   "outputs": [],
   "source": [
    "rand_hill_best_state, rand_hill_best_fitness, _ = mlr.random_hill_climb(problem, max_iters=100000, restarts=0,\n",
    "                                                                        init_state=init_state, curve=True, random_state=0)\n",
    "rand_hill_positions = position_creator(rand_hill_best_state)\n"
   ]
  },
  {
   "cell_type": "code",
   "execution_count": 10,
   "metadata": {},
   "outputs": [
    {
     "name": "stdout",
     "output_type": "stream",
     "text": [
      "Random Hill Climb best fitness: 6.0\n"
     ]
    }
   ],
   "source": [
    "print(f'Random Hill Climb best fitness: {rand_hill_best_fitness}')\n",
    "rand_hill_board = board_printer(rand_hill_positions)\n"
   ]
  },
  {
   "cell_type": "code",
   "execution_count": 11,
   "metadata": {},
   "outputs": [
    {
     "data": {
      "image/png": "[encoded data removed]",
      "text/plain": [
       "<Figure size 720x720 with 1 Axes>"
      ]
     },
     "metadata": {},
     "output_type": "display_data"
    }
   ],
   "source": [
    "visualize(rand_hill_board, 'Random Hill Climb', rand_hill_best_fitness)\n"
   ]
  },
  {
   "cell_type": "markdown",
   "metadata": {},
   "source": [
    "### Recocido simulado"
   ]
  },
  {
   "cell_type": "code",
   "execution_count": 12,
   "metadata": {},
   "outputs": [
    {
     "name": "stdout",
     "output_type": "stream",
     "text": [
      "612 ms ± 180 ms per loop (mean ± std. dev. of 7 runs, 1 loop each)\n"
     ]
    }
   ],
   "source": [
    "%%timeit\n",
    "ann_best_state, ann_best_fitness, _ = mlr.simulated_annealing(problem, schedule=schedule, max_attempts=100,\n",
    "                                                              max_iters=1000, init_state=init_state,\n",
    "                                                              random_state=1)\n"
   ]
  },
  {
   "cell_type": "code",
   "execution_count": 13,
   "metadata": {},
   "outputs": [],
   "source": [
    "ann_best_state, ann_best_fitness, _ = mlr.simulated_annealing(problem, schedule=schedule, max_attempts=100,\n",
    "                                                              max_iters=10000, init_state=init_state,\n",
    "                                                              random_state=1)\n",
    "ann_positions = position_creator(ann_best_state)\n"
   ]
  },
  {
   "cell_type": "code",
   "execution_count": 14,
   "metadata": {},
   "outputs": [
    {
     "name": "stdout",
     "output_type": "stream",
     "text": [
      "Simulated Annealing best fitness: 0.0\n"
     ]
    }
   ],
   "source": [
    "print(f'Simulated Annealing best fitness: {ann_best_fitness}')\n",
    "ann_board = board_printer(ann_positions)\n"
   ]
  },
  {
   "cell_type": "markdown",
   "metadata": {},
   "source": [
    "Al parecer ninguno de los 2 algoritmos produce una solución válida. Hemos incrementado el número de iteraciones a 1000 para todos los algoritmos, e incluso así los algoritmos de hill climbing no pudieron encontrar una solución"
   ]
  },
  {
   "cell_type": "code",
   "execution_count": 15,
   "metadata": {},
   "outputs": [
    {
     "data": {
      "image/png": "[encoded data removed]",
      "text/plain": [
       "<Figure size 720x720 with 1 Axes>"
      ]
     },
     "metadata": {},
     "output_type": "display_data"
    }
   ],
   "source": [
    "visualize(ann_board, 'Recocido Simulado', ann_best_fitness)\n"
   ]
  },
  {
   "cell_type": "markdown",
   "metadata": {},
   "source": [
    "## Problema 2: Travelling Salesperson Problem (TSP)"
   ]
  },
  {
   "cell_type": "markdown",
   "metadata": {},
   "source": [
    "La siguiente figura muestra una colección de puntos en el plano, los cuales se quieren unir con lineas rectas de tal forma que se forme una figura cerrada. Cada punto sólo puede estar conectado a otros dos puntos.\n",
    "\n",
    "![](img/2022-03-11-07-44-07.png)\n",
    "\n",
    "Utilicen los algoritmos de búsqueda voraz y de recocido simulado para encontrar la forma como se conectarían los puntos, de tal forma que la suma de las longitudes de las líneas que conectan la figura sea la menor posible. ¿Con qué algoritmo se obtiene los mejores resultados?\n"
   ]
  },
  {
   "cell_type": "code",
   "execution_count": 16,
   "metadata": {},
   "outputs": [],
   "source": [
    "# Create a list of coordinates\n",
    "np.random.seed(0)\n",
    "n_cities = 31\n",
    "max_range = 200\n",
    "cities = np.random.randint(low=0, high=max_range, size=(n_cities, 2))\n",
    "cities_tsp = [(x, y) for x, y in cities]\n"
   ]
  },
  {
   "cell_type": "code",
   "execution_count": 17,
   "metadata": {},
   "outputs": [
    {
     "data": {
      "text/plain": [
       "Text(0.5, 1.0, 'TSP Cities')"
      ]
     },
     "execution_count": 17,
     "metadata": {},
     "output_type": "execute_result"
    },
    {
     "data": {
      "image/png": "[encoded data removed]",
      "text/plain": [
       "<Figure size 720x720 with 1 Axes>"
      ]
     },
     "metadata": {},
     "output_type": "display_data"
    }
   ],
   "source": [
    "plt.figure(figsize=(10, 10))\n",
    "ax = sns.scatterplot(x=cities[:, 0], y=cities[:, 1], s=50)\n",
    "ax.set_xlim(0, max_range)\n",
    "ax.set_ylim(0, max_range)\n",
    "ax.set_title('TSP Cities')\n"
   ]
  },
  {
   "cell_type": "markdown",
   "metadata": {},
   "source": [
    "### Usando librería `mlrose`"
   ]
  },
  {
   "cell_type": "code",
   "execution_count": 18,
   "metadata": {},
   "outputs": [],
   "source": [
    "fitness_coords = mlr.TravellingSales(coords=cities_tsp)\n"
   ]
  },
  {
   "cell_type": "code",
   "execution_count": 19,
   "metadata": {},
   "outputs": [],
   "source": [
    "problem_fit = mlr.TSPOpt(\n",
    "    length=n_cities, fitness_fn=fitness_coords, maximize=False)\n"
   ]
  },
  {
   "cell_type": "code",
   "execution_count": 20,
   "metadata": {},
   "outputs": [],
   "source": [
    "def route_printer(order):\n",
    "    for i in range(len(order)):\n",
    "        if i == len(order) - 1:\n",
    "            print(order[i])\n",
    "        else:\n",
    "            print(order[i], end=' -> ')\n"
   ]
  },
  {
   "cell_type": "markdown",
   "metadata": {},
   "source": [
    "#### Recocido simulado"
   ]
  },
  {
   "cell_type": "code",
   "execution_count": 21,
   "metadata": {},
   "outputs": [],
   "source": [
    "ann_tsp_best_state, ann_tsp_best_fitness, _ = mlr.simulated_annealing(\n",
    "    problem_fit, schedule=schedule, max_attempts=10000, random_state=0)\n"
   ]
  },
  {
   "cell_type": "code",
   "execution_count": 22,
   "metadata": {},
   "outputs": [
    {
     "data": {
      "text/plain": [
       "1200.8700911840235"
      ]
     },
     "execution_count": 22,
     "metadata": {},
     "output_type": "execute_result"
    }
   ],
   "source": [
    "ann_tsp_best_fitness\n"
   ]
  },
  {
   "cell_type": "code",
   "execution_count": 23,
   "metadata": {},
   "outputs": [
    {
     "data": {
      "text/plain": [
       "array([10, 28, 30,  6, 27, 19, 15, 18,  8, 11,  4, 29, 12,  3, 17, 25, 13,\n",
       "       24,  9, 14,  0, 22,  5, 16, 26, 23, 21, 20,  7,  2,  1])"
      ]
     },
     "execution_count": 23,
     "metadata": {},
     "output_type": "execute_result"
    }
   ],
   "source": [
    "ann_tsp_best_state\n"
   ]
  },
  {
   "cell_type": "code",
   "execution_count": 24,
   "metadata": {},
   "outputs": [
    {
     "name": "stdout",
     "output_type": "stream",
     "text": [
      "10 -> 28 -> 30 -> 6 -> 27 -> 19 -> 15 -> 18 -> 8 -> 11 -> 4 -> 29 -> 12 -> 3 -> 17 -> 25 -> 13 -> 24 -> 9 -> 14 -> 0 -> 22 -> 5 -> 16 -> 26 -> 23 -> 21 -> 20 -> 7 -> 2 -> 1\n"
     ]
    }
   ],
   "source": [
    "route_printer(ann_tsp_best_state)\n"
   ]
  },
  {
   "cell_type": "markdown",
   "metadata": {},
   "source": [
    "### Búsqueda voraz"
   ]
  },
  {
   "cell_type": "code",
   "execution_count": 25,
   "metadata": {},
   "outputs": [],
   "source": [
    "import random\n",
    "import math\n"
   ]
  },
  {
   "cell_type": "code",
   "execution_count": 26,
   "metadata": {},
   "outputs": [
    {
     "data": {
      "text/plain": [
       "<matplotlib.collections.PathCollection at 0x19773e927c0>"
      ]
     },
     "execution_count": 26,
     "metadata": {},
     "output_type": "execute_result"
    },
    {
     "data": {
      "image/png": "[encoded data removed]",
      "text/plain": [
       "<Figure size 432x288 with 1 Axes>"
      ]
     },
     "metadata": {},
     "output_type": "display_data"
    }
   ],
   "source": [
    "ejex = [20, 20, 20, 30, 40, 40, 50, 60, 60, 60, 70, 80, 90, 100, 100, 100, 100,\n",
    "        110, 110, 120, 130, 130, 140, 140, 150, 160, 170, 180, 190, 200, 200, 200]\n",
    "ejey = [20, 40, 160, 120, 140, 150, 20, 40, 80, 200, 200, 150, 170, 40, 50,\n",
    "        130, 150, 10, 70, 80, 70, 170, 140, 180, 50, 20, 100, 70, 200, 30, 70, 90]\n",
    "plt.scatter(ejex, ejey)\n"
   ]
  },
  {
   "cell_type": "code",
   "execution_count": 27,
   "metadata": {},
   "outputs": [
    {
     "name": "stdout",
     "output_type": "stream",
     "text": [
      "19\n"
     ]
    }
   ],
   "source": [
    "First_dot = random.randint(0, 31)\n",
    "Dots = [0, 1, 2, 3, 4, 5, 6, 7, 8, 9, 10, 11, 12, 13, 14, 15, 16,\n",
    "        17, 18, 19, 20, 21, 22, 23, 24, 25, 26, 27, 28, 29, 30, 31]\n",
    "Dots.remove(First_dot)\n",
    "print(First_dot)\n"
   ]
  },
  {
   "cell_type": "code",
   "execution_count": 28,
   "metadata": {},
   "outputs": [],
   "source": [
    "GOAL = (First_dot)\n",
    "Next_dot = ()\n",
    "Dots_order = [First_dot]\n",
    "\n",
    "\n",
    "class Puntos(SearchProblem):\n",
    "    def actions(self, state):\n",
    "        global Next_dot\n",
    "        global Dots\n",
    "        actions = []\n",
    "        for i in Dots:\n",
    "            actions.append(i)\n",
    "\n",
    "        if Dots == []:\n",
    "            Next_dot = First_dot\n",
    "\n",
    "        return actions\n",
    "\n",
    "    def result(self, state, action):\n",
    "        global Dots_order\n",
    "        global Dots\n",
    "        global Next_dot\n",
    "        Next_dot = (action)\n",
    "        Dots_order.append(action)\n",
    "        Dots.remove(action)\n",
    "        state = action\n",
    "        return state\n",
    "\n",
    "    def is_goal(self, state):\n",
    "        global Next_dot\n",
    "\n",
    "        return Next_dot == GOAL\n",
    "\n",
    "    def cost(self, state1, action, state2):\n",
    "        global ejex\n",
    "        global ejey\n",
    "\n",
    "        cost = math.sqrt((ejex[state2] - ejex[state1])**2 + (ejey[state2] - ejey[state1])**2)\n",
    "\n",
    "        return cost\n",
    "\n",
    "    def heuristic(self, state):\n",
    "\n",
    "        distance = math.sqrt((ejex[GOAL] - ejex[state])**2 + (ejey[GOAL] - ejey[state])**2)\n",
    "\n",
    "        return distance\n"
   ]
  },
  {
   "cell_type": "code",
   "execution_count": 29,
   "metadata": {},
   "outputs": [
    {
     "name": "stdout",
     "output_type": "stream",
     "text": [
      "20\n",
      "[(None, 19), (20, 20)]\n"
     ]
    }
   ],
   "source": [
    "problem = Puntos(initial_state=(First_dot))\n",
    "\n",
    "result = greedy(problem)\n",
    "\n",
    "\n",
    "print(result.state)\n",
    "print(result.path())"
   ]
  },
  {
   "cell_type": "code",
   "execution_count": 30,
   "metadata": {},
   "outputs": [
    {
     "data": {
      "text/plain": [
       "[<matplotlib.lines.Line2D at 0x1977424b3a0>]"
      ]
     },
     "execution_count": 30,
     "metadata": {},
     "output_type": "execute_result"
    },
    {
     "data": {
      "image/png": "[encoded data removed]",
      "text/plain": [
       "<Figure size 432x288 with 1 Axes>"
      ]
     },
     "metadata": {},
     "output_type": "display_data"
    }
   ],
   "source": [
    "plt.scatter(ejex, ejey)\n",
    "plotx = [ejex[Dots_order[0]], ejex[Dots_order[1]], ejex[Dots_order[2]], ejex[Dots_order[3]], ejex[Dots_order[4]], ejex[Dots_order[5]], ejex[Dots_order[6]], ejex[Dots_order[7]], ejex[Dots_order[8]], ejex[Dots_order[9]], ejex[Dots_order[10]], ejex[Dots_order[11]], ejex[Dots_order[12]], ejex[Dots_order[13]], ejex[Dots_order[14]], ejex[Dots_order[15]], ejex[Dots_order[16]],\n",
    "         ejex[Dots_order[17]], ejex[Dots_order[18]], ejex[Dots_order[19]], ejex[Dots_order[20]], ejex[Dots_order[21]], ejex[Dots_order[22]], ejex[Dots_order[23]], ejex[Dots_order[24]], ejex[Dots_order[25]], ejex[Dots_order[26]], ejex[Dots_order[27]], ejex[Dots_order[28]], ejex[Dots_order[29]], ejex[Dots_order[30]], ejex[Dots_order[31]], ejex[Dots_order[0]]]\n",
    "ploty = [ejey[Dots_order[0]], ejey[Dots_order[1]], ejey[Dots_order[2]], ejey[Dots_order[3]], ejey[Dots_order[4]], ejey[Dots_order[5]], ejey[Dots_order[6]], ejey[Dots_order[7]], ejey[Dots_order[8]], ejey[Dots_order[9]], ejey[Dots_order[10]], ejey[Dots_order[11]], ejey[Dots_order[12]], ejey[Dots_order[13]], ejey[Dots_order[14]], ejey[Dots_order[15]], ejey[Dots_order[16]],\n",
    "         ejey[Dots_order[17]], ejey[Dots_order[18]], ejey[Dots_order[19]], ejey[Dots_order[20]], ejey[Dots_order[21]], ejey[Dots_order[22]], ejey[Dots_order[23]], ejey[Dots_order[24]], ejey[Dots_order[25]], ejey[Dots_order[26]], ejey[Dots_order[27]], ejey[Dots_order[28]], ejey[Dots_order[29]], ejey[Dots_order[30]], ejey[Dots_order[31]], ejey[Dots_order[0]]]\n",
    "plt.plot(plotx, ploty)\n"
   ]
  },
  {
   "cell_type": "markdown",
   "metadata": {},
   "source": [
    "De las 2 implementaciones que hicimos, solamente la de recocido simulado obtuvo una solución que consideramos válida. Esto bien podría ser por la capacidad del recocido simulado de _escapar_ de algunos nodos, o que nuestra implementación de búsqueda voraz no sea tan óptima. En cualquiera de los casos, ya esperábamos que el algoritmo de recocido simulado tuviese un mejor desempeño en promedio."
   ]
  }
 ],
 "metadata": {
  "interpreter": {
   "hash": "a78c4be66ba3b4a897c6e596b18611fdff70693afae29e50365a94a133cff73c"
  },
  "kernelspec": {
   "display_name": "Python 3.9.7 64-bit",
   "language": "python",
   "name": "python3"
  },
  "language_info": {
   "codemirror_mode": {
    "name": "ipython",
    "version": 3
   },
   "file_extension": ".py",
   "mimetype": "text/x-python",
   "name": "python",
   "nbconvert_exporter": "python",
   "pygments_lexer": "ipython3",
   "version": "3.9.7"
  },
  "orig_nbformat": 4
 },
 "nbformat": 4,
 "nbformat_minor": 2
}
