{
 "cells": [
  {
   "cell_type": "markdown",
   "metadata": {},
   "source": [
    "# Descenso al fondo de un cráter en Marte \n",
    "\n",
    "- Diseño de agentes inteligentes\n",
    "- TC2032.101\n",
    "- Profesor: Juan Emanuel Ledesma Martínez\n",
    "- Equipo 7:\n",
    "\n",
    "| Alumno | Matrícula |\n",
    "| ---- | ---- |\n",
    "| Juan Pablo Echeagaray González | A00830646 |\n",
    "\n",
    "\n",
    "Fecha: 13 de marzo del 2022"
   ]
  },
  {
   "cell_type": "markdown",
   "metadata": {},
   "source": [
    "## Entregable"
   ]
  },
  {
   "cell_type": "markdown",
   "metadata": {},
   "source": [
    "Se teoriza que en el fondo de algunos de los cráteres de la superficie marciana es posible encontrar agua y otros elementos interesantes que podrían responder a la pregunta de si en Marte alguna vez hubo vida o si la hay en estos momentos. Por ello, es interesante ver la posibilidad de que alguno de los Rover exploradores logre navegar de manera segura hasta estos cráteres y llegue al fondo de los mismos.\n",
    "\n",
    "Considere que hay un grupo de ingenieros que desean determinar el tipo de explorador que podría llevar a cabo la tarea de descender por un cráter de manera exitosa. Para ello, quieren realizar una serie de simulaciones utilizando como ejemplo el siguiente cráter de la superficie marciana extraído del sitio de [HiRISE](https://www.uahirise.org/dtm/).\n",
    "\n",
    "![](img/2022-03-14-15-02-24.png)\n",
    "\n",
    "![](img/2022-03-14-15-02-38.png)\n",
    "\n",
    "![](img/2022-03-14-15-02-51.png)\n",
    "\n",
    "La información mostrada con anterioridad se puede representar con una imagen de falso color como la que se muestra a continuación. El color de cada pixel de la imagen representa la altura en dicha posición.\n",
    "\n",
    "![](img/2022-03-14-15-03-12.png)\n",
    "\n",
    "Los datos de este cráter tienen dimensiones de 7163 pixeles x 10770 pixeles. Cada pixel representa un área de 1.0045 metros x 1.0045 metros. Los datos mostrados representan la profundidad medida con instrumentos satelitales para cada pixel. El nivel más bajo corresponde a los 0 metros, y se representa con rojo. Los datos mostrados se pueden descargar aquí [Descargar aquí](https://experiencia21.tec.mx/courses/241470/files/78461918?wrap=1) . Para escalar los datos y generar una matriz de numpy utilicen este script [Descargar script](https://experiencia21.tec.mx/courses/241470/files/78461984/download?download_frd=1) . En los datos escalados, cada píxel representa un área de 10.045 metros x 10.045 metros.\n",
    "\n",
    "El robot explorador que se desea enviar sólo es capaz de utilizar información de su alrededor para tomar decisiones. Es decir, sólo conocerá la profundidad en su vecindad. Por ello, los ingenieros decidieron que en la simulaciones, si el explorador se encuentra en cierto pixel de la imagen, sólo será capaz de conocer la profundidad en los ocho pixeles vecinos. Además, para evitar daños en el robot, no se permite que el explorador se mueva a pixeles con una diferencia de altura mayor a 0.5 metros de la posición en donde se encuentre.\n",
    "\n",
    "Para llevar a cabo las simulaciones del descenso, como una primera aproximación, se desea probar algoritmos de búsqueda local tales como búsqueda codiciosa y recocido simulado como mecanismos de toma de decisiones del robot. Para ello, realicen lo siguiente.\n",
    "\n",
    "### Búsqueda codiciosa\n",
    "\n",
    "Implementen un algoritmo de búsqueda codiciosa o voraz, con el cual, dado una posición inicial en la imagen del cráter, el explorador busque un camino de descenso para llegar a la parte del cráter más profunda. Una manera de implementar dicho algoritmo sería la siguiente:\n",
    "\n",
    "- Dado el pixel donde se encuentre el explorador, verifique las profundidades de los ocho pixeles vecinos de dicha posición.\n",
    "- Escoja el pixel que tenga la menor profundidad posible, pero que la diferencia entre la altura actual y la de la posición vecina no sea mayor a 2.0 metros. Si esta profundidad es mejor que la actual, mueva el explorador a dicha posición.\n",
    "- Repita lo mismo hasta que el explorador no sea capaz de encontrar una mejor posición.\n",
    "\n",
    "Prueben su algoritmo en la posición x = 3350 metros y = 5800 metros. ¿Hasta donde es capaz el explorador de llegar? Prueben su algoritmo con otras cinco posiciones cercanas y lejanas al fondo del cráter. ¿Qué tan bueno es el algoritmo para llegar al fondo del cráter es los casos probados?\n",
    "\n",
    "### Búsqueda con recocido simulado\n",
    "\n",
    "Utilicen el algoritmo de recocido simulado para encontrar una ruta que lleve al fondo del cráter con el explorador. Cada iteración del algoritmo la pueden implementar de la siguiente manera:\n",
    "\n",
    "- Dado el pixel donde se encuentre el explorador, seleccione uno de los pixeles vecinos de manera aleatoria, con la condición que la diferencia de alturas entre la posición actual y la del vecino no sea mayor a 0.5 metros.\n",
    "- Si la nueva posición es mejor que la anterior, mueva el explorador a la posición anterior. De lo contrario, pruebe con la regla de recocido simulado si se acepta dicha nueva posición\n",
    "\n",
    "Realicen las mismas pruebas llevadas a cabo búsqueda codiciosa. ¿Qué algoritmo logra llegar más profundo en el cráter? ¿Recomendarían a los ingenieros del robot utilizar alguno de estos algoritmos?\n",
    "\n",
    "Al final, cada integrante del equipo deberá incluir sus contribuciones y conclusiones."
   ]
  },
  {
   "cell_type": "markdown",
   "metadata": {},
   "source": [
    "### Dependencias"
   ]
  },
  {
   "cell_type": "code",
   "execution_count": 48,
   "metadata": {},
   "outputs": [
    {
     "data": {
      "text/html": [
       "\n",
       "<style>\n",
       "    .output-plaintext, .output-stream, .output {\n",
       "        font-family: Cascadia Code; # Any monospaced font should work\n",
       "        line-height: 1.3 !important;\n",
       "        font-size: 14px !important;\n",
       "    }\n",
       "</style>\n"
      ],
      "text/plain": [
       "<IPython.core.display.HTML object>"
      ]
     },
     "execution_count": 48,
     "metadata": {},
     "output_type": "execute_result"
    }
   ],
   "source": [
    "from simpleai.search import SearchProblem\n",
    "from simpleai.search import greedy, simulated_annealing\n",
    "import numpy as np\n",
    "import pandas as pd\n",
    "\n",
    "from IPython.core.display import HTML\n",
    "HTML(r\"\"\"\n",
    "<style>\n",
    "    .output-plaintext, .output-stream, .output {\n",
    "        font-family: Cascadia Code; # Any monospaced font should work\n",
    "        line-height: 1.3 !important;\n",
    "        font-size: 14px !important;\n",
    "    }\n",
    "</style>\n",
    "\"\"\")\n"
   ]
  },
  {
   "cell_type": "markdown",
   "metadata": {},
   "source": [
    "### Condiciones iniciales"
   ]
  },
  {
   "cell_type": "code",
   "execution_count": 49,
   "metadata": {},
   "outputs": [],
   "source": [
    "SCALE = 10.0174\n",
    "crater_map = np.load('crater_map.npy')\n",
    "NR, NC = crater_map.shape\n",
    "\n",
    "# Start position\n",
    "x0, y0 = 3350, 5800\n",
    "MAX_DIFF = 0.5\n",
    "UNTRAVERSABLE = -1\n",
    "STEP_SIZE = 1\n"
   ]
  },
  {
   "cell_type": "markdown",
   "metadata": {},
   "source": [
    "### Funciones auxiliares"
   ]
  },
  {
   "cell_type": "code",
   "execution_count": 58,
   "metadata": {},
   "outputs": [],
   "source": [
    "def pos_to_index(pos: list[int]) -> list[int]:\n",
    "    nr = NR - round(pos[0] / SCALE)\n",
    "    nc = round(pos[1] / SCALE)\n",
    "    return [nr, nc]\n",
    "\n",
    "\n",
    "def coord_to_state(coord: list[int]) -> str:\n",
    "    return f'{coord[0]},{coord[1]}'\n",
    "\n",
    "\n",
    "def state_to_coord(state: str) -> list[int]:\n",
    "    return tuple([int(x) for x in state.split(',')])\n",
    "\n",
    "\n",
    "def report(result):\n",
    "    print(f'Found path with length {len(result.path())}')\n",
    "    print(f'Path: {result.path()}')\n",
    "    print(f'Cost: {result.cost}')\n",
    "\n",
    "\n",
    "def distance(pos1, pos2):\n",
    "    return np.sqrt((pos1[0] - pos2[0]) ** 2 + (pos1[1] - pos2[1]) ** 2)\n",
    "\n",
    "\n",
    "def get_indices_of_k_smallest(arr, k):\n",
    "    # https://stackoverflow.com/a/51523226/15180258\n",
    "    idx = np.argpartition(arr.ravel(), k)\n",
    "    # return tuple(np.array(np.unravel_index(idx, arr.shape))[:, range(min(k, 0), max(k, 0))])\n",
    "    # if you want it in a list of indices . . . \n",
    "    return np.array(np.unravel_index(idx, arr.shape))[:, range(k)].transpose().tolist()\n",
    "\n",
    "\n",
    "def check_surroundings(map, pos, delta):\n",
    "    x, y = pos\n",
    "    surroundings = map[x - delta:x + delta + 1, y - delta:y + delta + 1]\n",
    "    return np.round(surroundings, decimals=2)\n",
    "    "
   ]
  },
  {
   "cell_type": "markdown",
   "metadata": {},
   "source": [
    "## Punto más bajo"
   ]
  },
  {
   "cell_type": "markdown",
   "metadata": {},
   "source": [
    "Una aproximación a la solución de este probolema sería que nosotros mismos encontremos el punto más bajo del cráter, con esta información reduciríamos el problema de optimización a un problema de búsqueda. Para esta entrega pensamos usar la altura de este punto como un valor de referencia, con el cuál podremos medir el desempeño general de las implementaciones que hagamos.\n"
   ]
  },
  {
   "cell_type": "code",
   "execution_count": 59,
   "metadata": {},
   "outputs": [
    {
     "name": "stdout",
     "output_type": "stream",
     "text": [
      "Min height: 0.09667470703125218 at (58, 66)\n"
     ]
    }
   ],
   "source": [
    "x_min, y_min = np.unravel_index(np.argmin(np.sqrt(crater_map * crater_map), axis=None), crater_map.shape)\n",
    "print(f'Min height: {crater_map[x_min, y_min]} at ({x_min}, {y_min})')\n"
   ]
  },
  {
   "cell_type": "markdown",
   "metadata": {},
   "source": [
    "Hay que destacar que las _coordenadas_ que regresa la directiva anterior son índices de la matriz, no coordenadas $(x, y)$ de verdad."
   ]
  },
  {
   "cell_type": "markdown",
   "metadata": {},
   "source": [
    "### Analizando los alrededores"
   ]
  },
  {
   "cell_type": "code",
   "execution_count": 74,
   "metadata": {},
   "outputs": [
    {
     "data": {
      "text/plain": [
       "array([[-1.0000e+00, -1.0000e+00, -1.0000e+00, -1.0000e+00, -1.0000e+00,\n",
       "        -1.0000e+00, -1.0000e+00, -1.0000e+00, -1.0000e+00],\n",
       "       [-1.0000e+00, -1.0000e+00, -1.0000e+00, -1.0000e+00, -1.0000e+00,\n",
       "        -1.0000e+00, -1.0000e+00, -1.0000e+00, -1.0000e+00],\n",
       "       [-1.0000e+00, -1.0000e+00, -1.0000e+00, -1.0000e+00, -1.0000e+00,\n",
       "        -1.0000e+00, -1.0000e+00, -1.0000e+00, -1.0000e+00],\n",
       "       [-1.0000e+00, -1.0000e+00, -1.0000e+00, -1.0000e+00, -1.0000e+00,\n",
       "        -1.0000e+00, -1.0000e+00, -1.0000e+00, -1.0000e+00],\n",
       "       [-1.0000e+00, -1.0000e+00, -1.0000e+00, -1.0000e+00,  1.0000e-01,\n",
       "         9.9800e+00,  1.9840e+01,  2.6380e+01,  3.4020e+01],\n",
       "       [ 9.9400e+00,  3.7390e+01,  6.7060e+01,  9.4540e+01,  1.0859e+02,\n",
       "         1.0834e+02,  1.0829e+02,  1.0819e+02,  1.0812e+02],\n",
       "       [ 1.0838e+02,  1.0867e+02,  1.0874e+02,  1.0850e+02,  1.0807e+02,\n",
       "         1.0774e+02,  1.0758e+02,  1.0751e+02,  1.0748e+02],\n",
       "       [ 1.0792e+02,  1.0860e+02,  1.0933e+02,  1.0920e+02,  1.0826e+02,\n",
       "         1.0725e+02,  1.0701e+02,  1.0689e+02,  1.0682e+02],\n",
       "       [ 1.0714e+02,  1.0773e+02,  1.0894e+02,  1.0974e+02,  1.0848e+02,\n",
       "         1.0714e+02,  1.0610e+02,  1.0629e+02,  1.0627e+02]])"
      ]
     },
     "execution_count": 74,
     "metadata": {},
     "output_type": "execute_result"
    }
   ],
   "source": [
    "change = 4\n",
    "check_surroundings(crater_map, (x_min, y_min), change)"
   ]
  },
  {
   "cell_type": "markdown",
   "metadata": {},
   "source": [
    "El punto asociado con la menor altura será inalcanzable para el agente si es que aplicamos la condición de que la máxima diferenccia de alturas sea de 0.5 metros."
   ]
  },
  {
   "cell_type": "code",
   "execution_count": 61,
   "metadata": {},
   "outputs": [],
   "source": [
    "k = 10\n",
    "small_idx = get_indices_of_k_smallest(np.sqrt(crater_map * crater_map), k)\n",
    "heights = [crater_map[x, y] for x, y in small_idx]"
   ]
  },
  {
   "cell_type": "code",
   "execution_count": 62,
   "metadata": {},
   "outputs": [
    {
     "name": "stdout",
     "output_type": "stream",
     "text": [
      "Top 10 Smallest heights\n",
      "0.36616933593750217 at (213, 9)\n",
      "0.3613402343750022 at (24, 588)\n",
      "0.35244375000000217 at (7, 504)\n",
      "0.3410302734377183 at (583, 295)\n",
      "0.2324828125000022 at (69, 21)\n",
      "0.09667470703125218 at (58, 66)\n",
      "0.26782226562521827 at (584, 294)\n",
      "0.2879808593750022 at (70, 17)\n",
      "0.1605760742187522 at (53, 130)\n",
      "0.36660390625000217 at (48, 592)\n"
     ]
    }
   ],
   "source": [
    "print(f'Top {k} Smallest heights')\n",
    "for idx in small_idx:\n",
    "    print(f'{crater_map[idx[0], idx[1]]} at ({idx[0]}, {idx[1]})')"
   ]
  },
  {
   "cell_type": "code",
   "execution_count": 66,
   "metadata": {},
   "outputs": [
    {
     "name": "stdout",
     "output_type": "stream",
     "text": [
      "\n",
      "0.36616933593750217 at (213, 9)\n",
      "[[ -1.    -1.    -1.    31.63 134.41 133.86 133.79]\n",
      " [ -1.    -1.    -1.    23.52 135.12 134.81 134.42]\n",
      " [ -1.    -1.    -1.    12.65 135.46 135.33 135.06]\n",
      " [ -1.    -1.    -1.     0.37 135.65 135.48 135.54]\n",
      " [ -1.    -1.    -1.    -1.   128.93 135.68 135.91]\n",
      " [ -1.    -1.    -1.    -1.   119.33 135.73 135.81]\n",
      " [ -1.    -1.    -1.    -1.   100.26 135.81 135.77]]\n",
      "----------------------------------------\n",
      "\n",
      "0.3613402343750022 at (24, 588)\n",
      "[[135.59 135.55  60.44  -1.    -1.    -1.    -1.  ]\n",
      " [135.91 135.72  90.47  -1.    -1.    -1.    -1.  ]\n",
      " [136.14 135.41 113.28  -1.    -1.    -1.    -1.  ]\n",
      " [135.29 134.83 131.87   0.36  -1.    -1.    -1.  ]\n",
      " [134.69 134.48 134.26  19.31  -1.    -1.    -1.  ]\n",
      " [134.27 133.86 134.29  40.96  -1.    -1.    -1.  ]\n",
      " [133.43 134.06 134.37  61.4   -1.    -1.    -1.  ]]\n",
      "----------------------------------------\n",
      "\n",
      "0.35244375000000217 at (7, 504)\n",
      "[[ -1.    -1.    -1.    -1.    -1.    -1.    -1.  ]\n",
      " [ -1.    -1.    -1.    -1.    -1.    -1.    -1.  ]\n",
      " [ -1.    -1.    -1.    -1.    -1.    -1.    -1.  ]\n",
      " [ -1.    -1.    -1.     0.35  16.57  31.42  48.9 ]\n",
      " [ 85.78 102.06 116.65 134.07 134.17 134.02 133.73]\n",
      " [134.62 134.23 134.26 134.1  134.14 134.02 133.83]\n",
      " [134.42 134.15 134.01 134.14 134.18 134.03 133.91]]\n",
      "----------------------------------------\n",
      "\n",
      "0.3410302734377183 at (583, 295)\n",
      "[[1.36 1.04 0.65 1.   1.3  0.95 0.56]\n",
      " [0.76 0.63 0.92 1.01 0.49 0.46 0.85]\n",
      " [1.01 1.25 1.31 0.48 0.44 0.93 1.13]\n",
      " [1.03 1.2  0.53 0.34 0.98 1.42 1.36]\n",
      " [0.87 0.69 0.27 0.85 1.21 1.1  1.56]\n",
      " [1.   0.7  0.87 1.17 1.25 1.05 2.1 ]\n",
      " [1.15 1.32 1.53 1.39 0.94 1.12 2.09]]\n",
      "----------------------------------------\n",
      "\n",
      "0.2324828125000022 at (69, 21)\n",
      "[[ -1.    -1.    -1.    -1.    -1.    -1.    -1.  ]\n",
      " [ -1.    -1.    -1.    -1.    -1.    -1.    -1.  ]\n",
      " [ -1.    -1.    -1.    -1.    -1.    -1.    -1.  ]\n",
      " [ -1.    -1.    -1.     0.23  23.44  49.77  80.11]\n",
      " [ 24.61  55.    89.8  117.32 121.93 120.36 118.99]\n",
      " [127.46 126.64 125.74 124.4  122.75 121.16 119.78]\n",
      " [127.76 127.03 126.23 124.76 123.43 122.05 120.77]]\n",
      "----------------------------------------\n",
      "\n",
      "0.09667470703125218 at (58, 66)\n",
      "[[-1.0000e+00 -1.0000e+00 -1.0000e+00 -1.0000e+00 -1.0000e+00 -1.0000e+00\n",
      "  -1.0000e+00]\n",
      " [-1.0000e+00 -1.0000e+00 -1.0000e+00 -1.0000e+00 -1.0000e+00 -1.0000e+00\n",
      "  -1.0000e+00]\n",
      " [-1.0000e+00 -1.0000e+00 -1.0000e+00 -1.0000e+00 -1.0000e+00 -1.0000e+00\n",
      "  -1.0000e+00]\n",
      " [-1.0000e+00 -1.0000e+00 -1.0000e+00  1.0000e-01  9.9800e+00  1.9840e+01\n",
      "   2.6380e+01]\n",
      " [ 3.7390e+01  6.7060e+01  9.4540e+01  1.0859e+02  1.0834e+02  1.0829e+02\n",
      "   1.0819e+02]\n",
      " [ 1.0867e+02  1.0874e+02  1.0850e+02  1.0807e+02  1.0774e+02  1.0758e+02\n",
      "   1.0751e+02]\n",
      " [ 1.0860e+02  1.0933e+02  1.0920e+02  1.0826e+02  1.0725e+02  1.0701e+02\n",
      "   1.0689e+02]]\n",
      "----------------------------------------\n",
      "\n",
      "0.26782226562521827 at (584, 294)\n",
      "[[1.43 0.76 0.63 0.92 1.01 0.49 0.46]\n",
      " [1.69 1.01 1.25 1.31 0.48 0.44 0.93]\n",
      " [1.78 1.03 1.2  0.53 0.34 0.98 1.42]\n",
      " [1.32 0.87 0.69 0.27 0.85 1.21 1.1 ]\n",
      " [1.13 1.   0.7  0.87 1.17 1.25 1.05]\n",
      " [1.77 1.15 1.32 1.53 1.39 0.94 1.12]\n",
      " [1.82 1.66 2.05 1.53 1.4  1.38 1.87]]\n",
      "----------------------------------------\n",
      "\n",
      "0.2879808593750022 at (70, 17)\n",
      "[[ -1.    -1.    -1.    -1.    -1.    -1.    -1.  ]\n",
      " [ -1.    -1.    -1.    -1.    -1.    -1.    -1.  ]\n",
      " [ -1.    -1.    -1.    -1.    -1.    -1.    -1.  ]\n",
      " [ -1.    -1.    -1.     0.29  24.61  55.    89.8 ]\n",
      " [103.6  110.89 117.07 128.26 127.46 126.64 125.74]\n",
      " [129.31 129.18 128.63 128.41 127.76 127.03 126.23]\n",
      " [128.75 128.75 128.18 128.15 127.95 127.49 126.69]]\n",
      "----------------------------------------\n",
      "\n",
      "0.1605760742187522 at (53, 130)\n",
      "[[ -1.    -1.    -1.    -1.    -1.    -1.    -1.  ]\n",
      " [ -1.    -1.    -1.    -1.    -1.    -1.    -1.  ]\n",
      " [ -1.    -1.    -1.    -1.    -1.    -1.    -1.  ]\n",
      " [ -1.    -1.    -1.     0.16  12.92  26.88  42.12]\n",
      " [ 70.7   84.86  99.3  112.7  115.04 115.08 115.19]\n",
      " [112.09 112.7  113.54 114.64 115.36 114.6  114.51]\n",
      " [111.33 111.89 112.86 113.92 114.68 113.91 113.91]]\n",
      "----------------------------------------\n",
      "\n",
      "0.36660390625000217 at (48, 592)\n",
      "[[134.95 134.99  68.51  -1.    -1.    -1.    -1.  ]\n",
      " [134.9  135.08  88.91  -1.    -1.    -1.    -1.  ]\n",
      " [135.04 135.18 112.23  -1.    -1.    -1.    -1.  ]\n",
      " [135.   135.21 131.46   0.37  -1.    -1.    -1.  ]\n",
      " [135.1  135.23 135.46  18.13  -1.    -1.    -1.  ]\n",
      " [135.13 135.15 135.32  39.94  -1.    -1.    -1.  ]\n",
      " [135.13 135.24 135.31  60.48  -1.    -1.    -1.  ]]\n",
      "----------------------------------------\n"
     ]
    }
   ],
   "source": [
    "for idx in small_idx:\n",
    "    print(f'''\n",
    "{crater_map[idx[0], idx[1]]} at ({idx[0]}, {idx[1]})\n",
    "{check_surroundings(crater_map, idx, 3)}\n",
    "----------------------------------------''')"
   ]
  },
  {
   "cell_type": "markdown",
   "metadata": {},
   "source": [
    "## Implementación"
   ]
  },
  {
   "cell_type": "code",
   "execution_count": 182,
   "metadata": {},
   "outputs": [],
   "source": [
    "class mars_descent(SearchProblem):\n",
    "\n",
    "    def __init__(self, initial_state: str, mars_map: np.array, max_height: float, not_traversable: int, step_size: int, max_iter: int):\n",
    "\n",
    "        self.mars_map = mars_map\n",
    "        self.initial_state = initial_state\n",
    "        self.max_height = max_height\n",
    "        self.not_traversable = not_traversable\n",
    "        self.step_size = step_size\n",
    "        self.max_iter = max_iter\n",
    "        self.n = 0\n",
    "        print(\"Initial state: \", self.initial_state)\n",
    "        \n",
    "        SearchProblem.__init__(self, initial_state)\n",
    "\n",
    "    def actions(self, state):\n",
    "        mars_map = self.mars_map\n",
    "        actions = []\n",
    "\n",
    "        pos_directions = ['U', 'D', 'L', 'R', 'UL', 'UR', 'DL', 'DR']\n",
    "        x0, y0 = state_to_coord(state)\n",
    "        current_height = mars_map[x0, y0]\n",
    "\n",
    "        for action in pos_directions:\n",
    "            x, y = state_to_coord(self.result(state, action))\n",
    "            next_height = mars_map[x, y]\n",
    "            height_difference = abs(current_height - next_height)\n",
    "\n",
    "            if next_height != self.not_traversable:\n",
    "                if height_difference <= self.max_height:\n",
    "                    if next_height <= current_height:\n",
    "                        # print(f'{action}: {current_height} -> {next_height} ({next_height - current_height})')\n",
    "                        actions.append(action)\n",
    "                    # # print(f'[{x}, {y}], action: {action}, height_difference: {height_difference}')\n",
    "                    # actions.append(action)\n",
    "    \n",
    "        return actions\n",
    "\n",
    "    def result(self, state, action):\n",
    "        x, y = state_to_coord(state)\n",
    "        step_size = self.step_size\n",
    "\n",
    "        if action.count('U'):\n",
    "            x -= step_size\n",
    "        elif action.count('D'):\n",
    "            x += step_size\n",
    "        elif action.count('L'):\n",
    "            y -= step_size\n",
    "        elif action.count('R'):\n",
    "            y += step_size\n",
    "        elif action.count('UL'):\n",
    "            x -= step_size\n",
    "            y -= step_size\n",
    "        elif action.count('UR'):\n",
    "            x -= step_size\n",
    "            y += step_size\n",
    "        elif action.count('DL'):\n",
    "            x += step_size\n",
    "            y -= step_size\n",
    "        elif action.count('DR'):\n",
    "            x += step_size\n",
    "            y += step_size\n",
    "        else:\n",
    "            print('No se encontró la acción')\n",
    "        \n",
    "        new_state = coord_to_state([x, y])\n",
    "        # print(action)\n",
    "        # print(new_state, self.mars_map[state_to_coord(new_state)])\n",
    "        return new_state\n",
    "\n",
    "    def is_goal(self, state):\n",
    "        # check if the current height is smallest possible\n",
    "        # For reference, the lowest height in the array is around ~0.09\n",
    "        self.n += 1\n",
    "        # print(self.n)\n",
    "        print(f'Iteracion: {self.n}, Posición: {state}, Altura: {self.mars_map[state_to_coord(state)]}')\n",
    "        tol = 1\n",
    "        return self.n >= self.max_iter\n",
    "        # return self.mars_map[state_to_coord(state)] < tol\n",
    "\n",
    "\n",
    "    def value(self, state):\n",
    "        # Required by simmulated annealing\n",
    "        # Used for the optimization process\n",
    "        return self.mars_map[state_to_coord(state)]\n",
    "\n",
    "\n",
    "    def cost(self, state, action, state2):\n",
    "        alpha, beta = 1, 0\n",
    "\n",
    "        x0, y0 = state_to_coord(state)\n",
    "        xn, yn = state_to_coord(state2)\n",
    "\n",
    "        distance = np.sqrt((x0 - xn)**2 + (y0 - yn)**2)\n",
    "        height_difference = abs(self.mars_map[xn, yn] - self.mars_map[x0, y0])\n",
    "\n",
    "        return self.mars_map[xn, yn]\n",
    "\n",
    "    def heuristic(self, state):\n",
    "        # Minimize height ? We already know the position with the lowest height\n",
    "        x, y = state_to_coord(state)\n",
    "        current_height = self.mars_map[x, y]\n",
    "        return current_height"
   ]
  },
  {
   "cell_type": "code",
   "execution_count": 183,
   "metadata": {},
   "outputs": [],
   "source": [
    "START_STATE = coord_to_state(pos_to_index([x0, y0]))"
   ]
  },
  {
   "cell_type": "code",
   "execution_count": 184,
   "metadata": {},
   "outputs": [
    {
     "name": "stdout",
     "output_type": "stream",
     "text": [
      "Initial state:  743,579\n"
     ]
    }
   ],
   "source": [
    "crater_problem = mars_descent(START_STATE, crater_map, MAX_DIFF, UNTRAVERSABLE, STEP_SIZE, 1_000_000)"
   ]
  },
  {
   "cell_type": "markdown",
   "metadata": {},
   "source": [
    "### Búsqueda voraz"
   ]
  },
  {
   "cell_type": "code",
   "execution_count": 185,
   "metadata": {},
   "outputs": [
    {
     "name": "stdout",
     "output_type": "stream",
     "text": [
      "Iteracion: 1, Posición: 743,579, Altura: 151.42256835937522\n",
      "Iteracion: 2, Posición: 744,579, Altura: 151.29061523437522\n",
      "Iteracion: 3, Posición: 745,579, Altura: 151.07991455078147\n",
      "Iteracion: 4, Posición: 745,578, Altura: 150.99151123046897\n",
      "Iteracion: 5, Posición: 746,578, Altura: 150.8457763671877\n",
      "Iteracion: 6, Posición: 746,577, Altura: 150.83238037109396\n",
      "Iteracion: 7, Posición: 746,576, Altura: 150.80159423828147\n",
      "Iteracion: 8, Posición: 745,576, Altura: 150.75978759765647\n",
      "Iteracion: 9, Posición: 747,576, Altura: 150.77514404296898\n",
      "Iteracion: 10, Posición: 748,576, Altura: 150.73098876953148\n",
      "Iteracion: 11, Posición: 749,576, Altura: 150.71000732421896\n",
      "Iteracion: 12, Posición: 749,577, Altura: 150.65796142578148\n",
      "Iteracion: 13, Posición: 750,576, Altura: 150.68088134765648\n",
      "Iteracion: 14, Posición: 750,577, Altura: 150.65835937500023\n",
      "Iteracion: 15, Posición: 751,577, Altura: 150.6321533203127\n",
      "Iteracion: 16, Posición: 745,577, Altura: 150.87178955078147\n",
      "Iteracion: 17, Posición: 746,579, Altura: 151.0203955078127\n",
      "Iteracion: 18, Posición: 744,578, Altura: 151.14407226562523\n",
      "Iteracion: 19, Posición: 744,577, Altura: 151.08191162109398\n",
      "Iteracion: 20, Posición: 743,578, Altura: 151.31914306640647\n"
     ]
    }
   ],
   "source": [
    "greedy_res = greedy(crater_problem, graph_search=True)"
   ]
  },
  {
   "cell_type": "code",
   "execution_count": 181,
   "metadata": {},
   "outputs": [
    {
     "ename": "AttributeError",
     "evalue": "'NoneType' object has no attribute 'path'",
     "output_type": "error",
     "traceback": [
      "\u001b[1;31m---------------------------------------------------------------------------\u001b[0m",
      "\u001b[1;31mAttributeError\u001b[0m                            Traceback (most recent call last)",
      "\u001b[1;32m~\\AppData\\Local\\Temp/ipykernel_39244/1130621125.py\u001b[0m in \u001b[0;36m<module>\u001b[1;34m\u001b[0m\n\u001b[1;32m----> 1\u001b[1;33m \u001b[0mgreedy_res\u001b[0m\u001b[1;33m.\u001b[0m\u001b[0mpath\u001b[0m\u001b[1;33m(\u001b[0m\u001b[1;33m)\u001b[0m\u001b[1;33m\u001b[0m\u001b[1;33m\u001b[0m\u001b[0m\n\u001b[0m",
      "\u001b[1;31mAttributeError\u001b[0m: 'NoneType' object has no attribute 'path'"
     ]
    }
   ],
   "source": [
    "greedy_res.path()"
   ]
  },
  {
   "cell_type": "code",
   "execution_count": 168,
   "metadata": {},
   "outputs": [
    {
     "ename": "AttributeError",
     "evalue": "'NoneType' object has no attribute 'cost'",
     "output_type": "error",
     "traceback": [
      "\u001b[1;31m---------------------------------------------------------------------------\u001b[0m",
      "\u001b[1;31mAttributeError\u001b[0m                            Traceback (most recent call last)",
      "\u001b[1;32m~\\AppData\\Local\\Temp/ipykernel_39244/3502809336.py\u001b[0m in \u001b[0;36m<module>\u001b[1;34m\u001b[0m\n\u001b[1;32m----> 1\u001b[1;33m \u001b[0mgreedy_res\u001b[0m\u001b[1;33m.\u001b[0m\u001b[0mcost\u001b[0m\u001b[1;33m\u001b[0m\u001b[1;33m\u001b[0m\u001b[0m\n\u001b[0m",
      "\u001b[1;31mAttributeError\u001b[0m: 'NoneType' object has no attribute 'cost'"
     ]
    }
   ],
   "source": [
    "greedy_res.cost"
   ]
  },
  {
   "cell_type": "code",
   "execution_count": 169,
   "metadata": {},
   "outputs": [
    {
     "ename": "AttributeError",
     "evalue": "'NoneType' object has no attribute 'path'",
     "output_type": "error",
     "traceback": [
      "\u001b[1;31m---------------------------------------------------------------------------\u001b[0m",
      "\u001b[1;31mAttributeError\u001b[0m                            Traceback (most recent call last)",
      "\u001b[1;32m~\\AppData\\Local\\Temp/ipykernel_39244/615692866.py\u001b[0m in \u001b[0;36m<module>\u001b[1;34m\u001b[0m\n\u001b[1;32m----> 1\u001b[1;33m \u001b[0mgreedy_res\u001b[0m\u001b[1;33m.\u001b[0m\u001b[0mpath\u001b[0m\u001b[1;33m(\u001b[0m\u001b[1;33m)\u001b[0m\u001b[1;33m[\u001b[0m\u001b[1;33m-\u001b[0m\u001b[1;36m1\u001b[0m\u001b[1;33m]\u001b[0m\u001b[1;33m[\u001b[0m\u001b[1;36m1\u001b[0m\u001b[1;33m]\u001b[0m\u001b[1;33m\u001b[0m\u001b[1;33m\u001b[0m\u001b[0m\n\u001b[0m",
      "\u001b[1;31mAttributeError\u001b[0m: 'NoneType' object has no attribute 'path'"
     ]
    }
   ],
   "source": [
    "greedy_res.path()[-1][1]"
   ]
  },
  {
   "cell_type": "code",
   "execution_count": 16,
   "metadata": {},
   "outputs": [
    {
     "data": {
      "text/plain": [
       "0.35244375000000217"
      ]
     },
     "execution_count": 16,
     "metadata": {},
     "output_type": "execute_result"
    }
   ],
   "source": [
    "crater_map[state_to_coord(greedy_res.path()[-1][1])]\n"
   ]
  },
  {
   "cell_type": "code",
   "execution_count": 17,
   "metadata": {},
   "outputs": [
    {
     "data": {
      "text/plain": [
       "(7, 504)"
      ]
     },
     "execution_count": 17,
     "metadata": {},
     "output_type": "execute_result"
    }
   ],
   "source": [
    "state_to_coord(greedy_res.path()[-1][1])"
   ]
  },
  {
   "cell_type": "markdown",
   "metadata": {},
   "source": [
    "Este comportamiento es el esperado? Cómo hacer que el algoritmo se detenga solamente cuando esté en una altura menor a la anterior? Cómo codificas eso en esta librería?"
   ]
  },
  {
   "cell_type": "markdown",
   "metadata": {},
   "source": [
    "### Recocido simulado"
   ]
  },
  {
   "cell_type": "code",
   "execution_count": null,
   "metadata": {},
   "outputs": [],
   "source": []
  },
  {
   "cell_type": "markdown",
   "metadata": {},
   "source": [
    "## Contribuciones"
   ]
  },
  {
   "cell_type": "markdown",
   "metadata": {},
   "source": [
    "- Juan Pablo Echeagaray González"
   ]
  },
  {
   "cell_type": "markdown",
   "metadata": {},
   "source": [
    "## Conclusiones"
   ]
  },
  {
   "cell_type": "markdown",
   "metadata": {},
   "source": [
    "- Juan Pablo Echeagaray González"
   ]
  }
 ],
 "metadata": {
  "interpreter": {
   "hash": "a78c4be66ba3b4a897c6e596b18611fdff70693afae29e50365a94a133cff73c"
  },
  "kernelspec": {
   "display_name": "Python 3.9.7 64-bit",
   "language": "python",
   "name": "python3"
  },
  "language_info": {
   "codemirror_mode": {
    "name": "ipython",
    "version": 3
   },
   "file_extension": ".py",
   "mimetype": "text/x-python",
   "name": "python",
   "nbconvert_exporter": "python",
   "pygments_lexer": "ipython3",
   "version": "3.9.7"
  },
  "orig_nbformat": 4
 },
 "nbformat": 4,
 "nbformat_minor": 2
}
