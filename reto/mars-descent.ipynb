{
 "cells": [
  {
   "cell_type": "code",
   "execution_count": 1,
   "metadata": {},
   "outputs": [],
   "source": [
    "from simpleai.search import SearchProblem, simulated_annealing\n",
    "import numpy as np\n",
    "\n",
    "from IPython.core.display import HTML\n",
    "HTML(r\"\"\"\n",
    "<style>\n",
    "    .output-plaintext, .output-stream, .output {\n",
    "        font-family: Cascadia Code; # Any monospaced font should work\n",
    "        line-height: 1.3 !important;\n",
    "        font-size: 14px !important;\n",
    "    }\n",
    "</style>\n",
    "\"\"\")\n"
   ]
  },
  {
   "cell_type": "code",
   "execution_count": 20,
   "metadata": {},
   "outputs": [],
   "source": [
    "SCALE = 10.0174\n",
    "crater_map = np.load('crater_map.npy')\n",
    "NR, NC = crater_map.shape\n",
    "\n",
    "# Start positions\n",
    "x0, y0 = 3350, 5800\n",
    "MAX_DIFF = 0.5\n",
    "UNTRAVERSABLE = -1\n",
    "STEP_SIZE = 1\n"
   ]
  },
  {
   "cell_type": "code",
   "execution_count": 19,
   "metadata": {},
   "outputs": [],
   "source": [
    "def pos_to_index(pos: list[int]) -> list[int]:\n",
    "    nr = NR - round(pos[0] / SCALE)\n",
    "    nc = round(pos[1] / SCALE)\n",
    "    return [nr, nc]\n",
    "\n",
    "\n",
    "def coord_to_state(coord: list[int]) -> str:\n",
    "    return f'{coord[0]},{coord[1]}'\n",
    "\n",
    "\n",
    "def state_to_coord(state: str) -> list[int]:\n",
    "    return tuple([int(x) for x in state.split(',')])\n",
    "\n",
    "\n",
    "def report(result):\n",
    "    print(f'Found path with length {len(result.path())}')\n",
    "    print(f'Path: {result.path()}')\n",
    "    print(f'Cost: {result.cost}')\n",
    "\n",
    "\n",
    "# def tester(search_method, imax, delta=20):\n",
    "\n",
    "#     print(f'Testing {search_method.__name__}')\n",
    "#     for i in np.linspace(imax, 0, delta):\n",
    "#         problem = mars_route_finding(START_STATE, GOAL_STATE, mars_map, i * MAX_DIFF, UNTRAVERSABLE, STEP_SIZE)\n",
    "#         result = search_method(problem, graph_search=True)\n",
    "#         report(result)\n",
    "#         print(f'Max difference (factor {i}): {i * MAX_DIFF}')\n",
    "\n",
    "\n",
    "def distance(pos1, pos2):\n",
    "    return np.sqrt((pos1[0] - pos2[0]) ** 2 + (pos1[1] - pos2[1]) ** 2)\n"
   ]
  },
  {
   "cell_type": "code",
   "execution_count": 7,
   "metadata": {},
   "outputs": [],
   "source": [
    "class mars_route_finding(SearchProblem):\n",
    "\n",
    "    def __init__(self, initial_state: str, mars_map: np.array, max_height: float, not_traversable: int, step_size: int):\n",
    "\n",
    "        self.mars_map = mars_map\n",
    "        self.initial_state = initial_state\n",
    "        # Seems very convoluted, but this line of code finds the index associated with the smallest value on the array (not including zero)\n",
    "        self.goal_state = coord_to_state(np.unravel_index(np.argmin(np.sqrt(crater_map * crater_map), axis=None), crater_map.shape))\n",
    "        self.max_height = max_height\n",
    "        self.not_traversable = not_traversable\n",
    "        self.step_size = step_size\n",
    "\n",
    "        print(\"Initial state: \", self.initial_state)\n",
    "        print(\"Goal state: \", self.goal_state)\n",
    "\n",
    "        SearchProblem.__init__(self, initial_state)\n",
    "\n",
    "    def actions(self, state):\n",
    "        mars_map = self.mars_map\n",
    "        actions = []\n",
    "\n",
    "        pos_directions = ['U', 'D', 'L', 'R', 'UL', 'UR', 'DL', 'DR']\n",
    "        x0, y0 = state_to_coord(state)\n",
    "\n",
    "        for action in pos_directions:\n",
    "            x, y = state_to_coord(self.result(state, action))\n",
    "            height_difference = abs(mars_map[x0, y0] - mars_map[x, y])\n",
    "\n",
    "            if (mars_map[x, y] != self.not_traversable):\n",
    "                if height_difference <= self.max_height:\n",
    "                    # print(f'[{x}, {y}], action: {action}, height_difference: {height_difference}')\n",
    "                    actions.append(action)\n",
    "    \n",
    "        return actions\n",
    "\n",
    "    def result(self, state, action):\n",
    "        x, y = state_to_coord(state)\n",
    "        step_size = self.step_size\n",
    "\n",
    "        if action.count('U'):\n",
    "            x -= step_size\n",
    "        elif action.count('D'):\n",
    "            x += step_size\n",
    "        elif action.count('L'):\n",
    "            y -= step_size\n",
    "        elif action.count('R'):\n",
    "            y += step_size\n",
    "        elif action.count('UL'):\n",
    "            x -= step_size\n",
    "            y -= step_size\n",
    "        elif action.count('UR'):\n",
    "            x -= step_size\n",
    "            y += step_size\n",
    "        elif action.count('DL'):\n",
    "            x += step_size\n",
    "            y -= step_size\n",
    "        elif action.count('DR'):\n",
    "            x += step_size\n",
    "            y += step_size\n",
    "        else:\n",
    "            print('No se encontró la acción')\n",
    "        \n",
    "        new_state = coord_to_state([x, y])\n",
    "        return new_state\n",
    "\n",
    "    def is_goal(self, state):\n",
    "\n",
    "        return state == self.goal_state\n",
    "\n",
    "    def cost(self, state, action, state2):\n",
    "        alpha, beta = 1, 1\n",
    "\n",
    "        x0, y0 = state_to_coord(state)\n",
    "        xn, yn = state_to_coord(state2)\n",
    "\n",
    "        distance = np.sqrt((x0 - xn)**2 + (y0 - yn)**2)\n",
    "        height_difference = abs(self.mars_map[x0, y0] - self.mars_map[xn, yn])\n",
    "\n",
    "        return alpha * distance + beta * height_difference\n",
    "\n",
    "    def heuristic(self, state):\n",
    "        x, y = state_to_coord(state)\n",
    "        xg, yg = state_to_coord(self.goal_state)\n",
    "        distance = np.sqrt((x - xg)**2 + (y - yg)**2)\n",
    "\n",
    "        return distance"
   ]
  },
  {
   "cell_type": "code",
   "execution_count": 8,
   "metadata": {},
   "outputs": [
    {
     "data": {
      "text/plain": [
       "0"
      ]
     },
     "execution_count": 8,
     "metadata": {},
     "output_type": "execute_result"
    }
   ],
   "source": [
    "crater_map.argmin()"
   ]
  },
  {
   "cell_type": "code",
   "execution_count": 16,
   "metadata": {},
   "outputs": [],
   "source": [
    "index = np.unravel_index(np.argmin(np.sqrt(crater_map * crater_map), axis=None), crater_map.shape)"
   ]
  },
  {
   "cell_type": "code",
   "execution_count": 17,
   "metadata": {},
   "outputs": [
    {
     "data": {
      "text/plain": [
       "(58, 66)"
      ]
     },
     "execution_count": 17,
     "metadata": {},
     "output_type": "execute_result"
    }
   ],
   "source": [
    "index"
   ]
  },
  {
   "cell_type": "code",
   "execution_count": 18,
   "metadata": {},
   "outputs": [
    {
     "data": {
      "text/plain": [
       "0.09667470703125218"
      ]
     },
     "execution_count": 18,
     "metadata": {},
     "output_type": "execute_result"
    }
   ],
   "source": [
    "crater_map[index]"
   ]
  },
  {
   "cell_type": "code",
   "execution_count": 21,
   "metadata": {},
   "outputs": [
    {
     "data": {
      "text/plain": [
       "'58,66'"
      ]
     },
     "execution_count": 21,
     "metadata": {},
     "output_type": "execute_result"
    }
   ],
   "source": [
    "coord_to_state(index)"
   ]
  },
  {
   "cell_type": "code",
   "execution_count": null,
   "metadata": {},
   "outputs": [],
   "source": []
  }
 ],
 "metadata": {
  "interpreter": {
   "hash": "a78c4be66ba3b4a897c6e596b18611fdff70693afae29e50365a94a133cff73c"
  },
  "kernelspec": {
   "display_name": "Python 3.9.7 64-bit",
   "language": "python",
   "name": "python3"
  },
  "language_info": {
   "codemirror_mode": {
    "name": "ipython",
    "version": 3
   },
   "file_extension": ".py",
   "mimetype": "text/x-python",
   "name": "python",
   "nbconvert_exporter": "python",
   "pygments_lexer": "ipython3",
   "version": "3.9.7"
  },
  "orig_nbformat": 4
 },
 "nbformat": 4,
 "nbformat_minor": 2
}
