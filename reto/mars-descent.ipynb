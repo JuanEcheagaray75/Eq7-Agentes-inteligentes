{
 "cells": [
  {
   "cell_type": "markdown",
   "metadata": {},
   "source": [
    "# Descenso al fondo de un cráter en Marte \n",
    "\n",
    "- Diseño de agentes inteligentes\n",
    "- TC2032.101\n",
    "- Profesor: Juan Emanuel Ledesma Martínez\n",
    "- Equipo 7:\n",
    "\n",
    "| Alumno | Matrícula |\n",
    "| ---- | ---- |\n",
    "| Juan Pablo Echeagaray González | A00830646 |\n",
    "| Emily Rebeca Méndez Cruz | A00830768 |\n",
    "| Erika Martínez Meneses | A01028621 |\n",
    "| Oscar Antonio Banderas Álvarez | A01568492 |\n",
    "| César Guillermo Vázquez Alvarez | A01197857 |\n",
    "\n",
    "Fecha: 13 de marzo del 2022"
   ]
  },
  {
   "cell_type": "markdown",
   "metadata": {},
   "source": [
    "## Entregable"
   ]
  },
  {
   "cell_type": "markdown",
   "metadata": {},
   "source": [
    "Se teoriza que en el fondo de algunos de los cráteres de la superficie marciana es posible encontrar agua y otros elementos interesantes que podrían responder a la pregunta de si en Marte alguna vez hubo vida o si la hay en estos momentos. Por ello, es interesante ver la posibilidad de que alguno de los Rover exploradores logre navegar de manera segura hasta estos cráteres y llegue al fondo de los mismos.\n",
    "\n",
    "Considere que hay un grupo de ingenieros que desean determinar el tipo de explorador que podría llevar a cabo la tarea de descender por un cráter de manera exitosa. Para ello, quieren realizar una serie de simulaciones utilizando como ejemplo el siguiente cráter de la superficie marciana extraído del sitio de [HiRISE](https://www.uahirise.org/dtm/).\n",
    "\n",
    "![](img/2022-03-14-15-02-24.png)\n",
    "\n",
    "![](img/2022-03-14-15-02-38.png)\n",
    "\n",
    "![](img/2022-03-14-15-02-51.png)\n",
    "\n",
    "La información mostrada con anterioridad se puede representar con una imagen de falso color como la que se muestra a continuación. El color de cada pixel de la imagen representa la altura en dicha posición.\n",
    "\n",
    "![](img/2022-03-14-15-03-12.png)\n",
    "\n",
    "Los datos de este cráter tienen dimensiones de 7163 pixeles x 10770 pixeles. Cada pixel representa un área de 1.0045 metros x 1.0045 metros. Los datos mostrados representan la profundidad medida con instrumentos satelitales para cada pixel. El nivel más bajo corresponde a los 0 metros, y se representa con rojo. Los datos mostrados se pueden descargar aquí [Descargar aquí](https://experiencia21.tec.mx/courses/241470/files/78461918?wrap=1) . Para escalar los datos y generar una matriz de numpy utilicen este script [Descargar script](https://experiencia21.tec.mx/courses/241470/files/78461984/download?download_frd=1) . En los datos escalados, cada píxel representa un área de 10.045 metros x 10.045 metros.\n",
    "\n",
    "El robot explorador que se desea enviar sólo es capaz de utilizar información de su alrededor para tomar decisiones. Es decir, sólo conocerá la profundidad en su vecindad. Por ello, los ingenieros decidieron que en la simulaciones, si el explorador se encuentra en cierto pixel de la imagen, sólo será capaz de conocer la profundidad en los ocho pixeles vecinos. Además, para evitar daños en el robot, no se permite que el explorador se mueva a pixeles con una diferencia de altura mayor a 0.5 metros de la posición en donde se encuentre.\n",
    "\n",
    "Para llevar a cabo las simulaciones del descenso, como una primera aproximación, se desea probar algoritmos de búsqueda local tales como búsqueda codiciosa y recocido simulado como mecanismos de toma de decisiones del robot. Para ello, realicen lo siguiente.\n",
    "\n",
    "### Búsqueda codiciosa\n",
    "\n",
    "Implementen un algoritmo de búsqueda codiciosa o voraz, con el cual, dado una posición inicial en la imagen del cráter, el explorador busque un camino de descenso para llegar a la parte del cráter más profunda. Una manera de implementar dicho algoritmo sería la siguiente:\n",
    "\n",
    "- Dado el pixel donde se encuentre el explorador, verifique las profundidades de los ocho pixeles vecinos de dicha posición.\n",
    "- Escoja el pixel que tenga la menor profundidad posible, pero que la diferencia entre la altura actual y la de la posición vecina no sea mayor a 2.0 metros. Si esta profundidad es mejor que la actual, mueva el explorador a dicha posición.\n",
    "- Repita lo mismo hasta que el explorador no sea capaz de encontrar una mejor posición.\n",
    "\n",
    "Prueben su algoritmo en la posición x = 3350 metros y = 5800 metros. ¿Hasta donde es capaz el explorador de llegar? Prueben su algoritmo con otras cinco posiciones cercanas y lejanas al fondo del cráter. ¿Qué tan bueno es el algoritmo para llegar al fondo del cráter es los casos probados?\n",
    "\n",
    "### Búsqueda con recocido simulado\n",
    "\n",
    "Utilicen el algoritmo de recocido simulado para encontrar una ruta que lleve al fondo del cráter con el explorador. Cada iteración del algoritmo la pueden implementar de la siguiente manera:\n",
    "\n",
    "- Dado el pixel donde se encuentre el explorador, seleccione uno de los pixeles vecinos de manera aleatoria, con la condición que la diferencia de alturas entre la posición actual y la del vecino no sea mayor a 0.5 metros.\n",
    "- Si la nueva posición es mejor que la anterior, mueva el explorador a la posición anterior. De lo contrario, pruebe con la regla de recocido simulado si se acepta dicha nueva posición\n",
    "\n",
    "Realicen las mismas pruebas llevadas a cabo búsqueda codiciosa. ¿Qué algoritmo logra llegar más profundo en el cráter? ¿Recomendarían a los ingenieros del robot utilizar alguno de estos algoritmos?\n",
    "\n",
    "Al final, cada integrante del equipo deberá incluir sus contribuciones y conclusiones."
   ]
  },
  {
   "cell_type": "markdown",
   "metadata": {},
   "source": [
    "### Dependencias"
   ]
  },
  {
   "cell_type": "code",
   "execution_count": 14,
   "metadata": {},
   "outputs": [
    {
     "data": {
      "text/html": [
       "\n",
       "<style>\n",
       "    .output-plaintext, .output-stream, .output {\n",
       "        font-family: Cascadia Code; # Any monospaced font should work\n",
       "        line-height: 1.3 !important;\n",
       "        font-size: 14px !important;\n",
       "    }\n",
       "</style>\n"
      ],
      "text/plain": [
       "<IPython.core.display.HTML object>"
      ]
     },
     "execution_count": 14,
     "metadata": {},
     "output_type": "execute_result"
    }
   ],
   "source": [
    "from simpleai.search import SearchProblem\n",
    "from simpleai.search import greedy, simulated_annealing\n",
    "import numpy as np\n",
    "\n",
    "from IPython.core.display import HTML\n",
    "HTML(r\"\"\"\n",
    "<style>\n",
    "    .output-plaintext, .output-stream, .output {\n",
    "        font-family: Cascadia Code; # Any monospaced font should work\n",
    "        line-height: 1.3 !important;\n",
    "        font-size: 14px !important;\n",
    "    }\n",
    "</style>\n",
    "\"\"\")\n"
   ]
  },
  {
   "cell_type": "markdown",
   "metadata": {},
   "source": [
    "### Condiciones iniciales"
   ]
  },
  {
   "cell_type": "code",
   "execution_count": 15,
   "metadata": {},
   "outputs": [],
   "source": [
    "SCALE = 10.0174\n",
    "crater_map = np.load('crater_map.npy')\n",
    "NR, NC = crater_map.shape\n",
    "\n",
    "# Start position\n",
    "x0, y0 = 3350, 5800\n",
    "MAX_DIFF = 0.5\n",
    "UNTRAVERSABLE = -1\n",
    "STEP_SIZE = 1\n"
   ]
  },
  {
   "cell_type": "markdown",
   "metadata": {},
   "source": [
    "### Funciones auxiliares"
   ]
  },
  {
   "cell_type": "code",
   "execution_count": 16,
   "metadata": {},
   "outputs": [],
   "source": [
    "def pos_to_index(pos: list[int]) -> list[int]:\n",
    "    nr = NR - round(pos[0] / SCALE)\n",
    "    nc = round(pos[1] / SCALE)\n",
    "    return [nr, nc]\n",
    "\n",
    "\n",
    "def coord_to_state(coord: list[int]) -> str:\n",
    "    return f'{coord[0]},{coord[1]}'\n",
    "\n",
    "\n",
    "def state_to_coord(state: str) -> list[int]:\n",
    "    return tuple([int(x) for x in state.split(',')])\n",
    "\n",
    "\n",
    "def report(result):\n",
    "    print(f'Found path with length {len(result.path())}')\n",
    "    print(f'Path: {result.path()}')\n",
    "    print(f'Cost: {result.cost}')\n",
    "\n",
    "\n",
    "def distance(pos1, pos2):\n",
    "    return np.sqrt((pos1[0] - pos2[0]) ** 2 + (pos1[1] - pos2[1]) ** 2)\n",
    "\n",
    "\n",
    "def get_indices_of_k_smallest(arr, k):\n",
    "    # https://stackoverflow.com/a/51523226/15180258\n",
    "    idx = np.argpartition(arr.ravel(), k)\n",
    "    \n",
    "    return np.array(np.unravel_index(idx, arr.shape))[:, range(k)].transpose().tolist()\n",
    "\n",
    "\n",
    "def check_surroundings(map, pos, delta):\n",
    "    x, y = pos\n",
    "    surroundings = map[x - delta:x + delta + 1, y - delta:y + delta + 1]\n",
    "    return np.round(surroundings, decimals=2)\n"
   ]
  },
  {
   "cell_type": "markdown",
   "metadata": {},
   "source": [
    "## Punto más bajo"
   ]
  },
  {
   "cell_type": "markdown",
   "metadata": {},
   "source": [
    "Una aproximación a la solución de este probolema sería que nosotros mismos encontremos el punto más bajo del cráter, con esta información reduciríamos el problema de optimización a un problema de búsqueda. Para esta entrega pensamos usar la altura de este punto como un valor de referencia, con el cuál podremos medir el desempeño general de las implementaciones que hagamos.\n"
   ]
  },
  {
   "cell_type": "code",
   "execution_count": 17,
   "metadata": {},
   "outputs": [
    {
     "name": "stdout",
     "output_type": "stream",
     "text": [
      "Min height: 0.09667470703125218 at (58, 66)\n"
     ]
    }
   ],
   "source": [
    "x_min, y_min = np.unravel_index(\n",
    "    np.argmin(np.sqrt(crater_map * crater_map), axis=None), crater_map.shape)\n",
    "print(f'Min height: {crater_map[x_min, y_min]} at ({x_min}, {y_min})')\n"
   ]
  },
  {
   "cell_type": "markdown",
   "metadata": {},
   "source": [
    "Hay que destacar que las _coordenadas_ que regresa la directiva anterior son índices de la matriz, no coordenadas $(x, y)$ de verdad."
   ]
  },
  {
   "cell_type": "markdown",
   "metadata": {},
   "source": [
    "### Analizando los alrededores"
   ]
  },
  {
   "cell_type": "code",
   "execution_count": 18,
   "metadata": {},
   "outputs": [
    {
     "data": {
      "text/plain": [
       "array([[-1.0000e+00, -1.0000e+00, -1.0000e+00, -1.0000e+00, -1.0000e+00,\n",
       "        -1.0000e+00, -1.0000e+00, -1.0000e+00, -1.0000e+00],\n",
       "       [-1.0000e+00, -1.0000e+00, -1.0000e+00, -1.0000e+00, -1.0000e+00,\n",
       "        -1.0000e+00, -1.0000e+00, -1.0000e+00, -1.0000e+00],\n",
       "       [-1.0000e+00, -1.0000e+00, -1.0000e+00, -1.0000e+00, -1.0000e+00,\n",
       "        -1.0000e+00, -1.0000e+00, -1.0000e+00, -1.0000e+00],\n",
       "       [-1.0000e+00, -1.0000e+00, -1.0000e+00, -1.0000e+00, -1.0000e+00,\n",
       "        -1.0000e+00, -1.0000e+00, -1.0000e+00, -1.0000e+00],\n",
       "       [-1.0000e+00, -1.0000e+00, -1.0000e+00, -1.0000e+00,  1.0000e-01,\n",
       "         9.9800e+00,  1.9840e+01,  2.6380e+01,  3.4020e+01],\n",
       "       [ 9.9400e+00,  3.7390e+01,  6.7060e+01,  9.4540e+01,  1.0859e+02,\n",
       "         1.0834e+02,  1.0829e+02,  1.0819e+02,  1.0812e+02],\n",
       "       [ 1.0838e+02,  1.0867e+02,  1.0874e+02,  1.0850e+02,  1.0807e+02,\n",
       "         1.0774e+02,  1.0758e+02,  1.0751e+02,  1.0748e+02],\n",
       "       [ 1.0792e+02,  1.0860e+02,  1.0933e+02,  1.0920e+02,  1.0826e+02,\n",
       "         1.0725e+02,  1.0701e+02,  1.0689e+02,  1.0682e+02],\n",
       "       [ 1.0714e+02,  1.0773e+02,  1.0894e+02,  1.0974e+02,  1.0848e+02,\n",
       "         1.0714e+02,  1.0610e+02,  1.0629e+02,  1.0627e+02]])"
      ]
     },
     "execution_count": 18,
     "metadata": {},
     "output_type": "execute_result"
    }
   ],
   "source": [
    "change = 4\n",
    "check_surroundings(crater_map, (x_min, y_min), change)\n"
   ]
  },
  {
   "cell_type": "markdown",
   "metadata": {},
   "source": [
    "El punto asociado con la menor altura será inalcanzable para el agente si es que aplicamos la condición de que la máxima diferenccia de alturas sea de 0.5 metros."
   ]
  },
  {
   "cell_type": "code",
   "execution_count": 19,
   "metadata": {},
   "outputs": [],
   "source": [
    "k = 10\n",
    "small_idx = get_indices_of_k_smallest(np.sqrt(crater_map * crater_map), k)\n",
    "heights = [crater_map[x, y] for x, y in small_idx]\n"
   ]
  },
  {
   "cell_type": "code",
   "execution_count": 20,
   "metadata": {},
   "outputs": [
    {
     "name": "stdout",
     "output_type": "stream",
     "text": [
      "Top 10 Smallest heights\n",
      "0.36616933593750217 at (213, 9)\n",
      "0.3613402343750022 at (24, 588)\n",
      "0.35244375000000217 at (7, 504)\n",
      "0.3410302734377183 at (583, 295)\n",
      "0.2324828125000022 at (69, 21)\n",
      "0.09667470703125218 at (58, 66)\n",
      "0.26782226562521827 at (584, 294)\n",
      "0.2879808593750022 at (70, 17)\n",
      "0.1605760742187522 at (53, 130)\n",
      "0.36660390625000217 at (48, 592)\n"
     ]
    }
   ],
   "source": [
    "print(f'Top {k} Smallest heights')\n",
    "for idx in small_idx:\n",
    "    print(f'{crater_map[idx[0], idx[1]]} at ({idx[0]}, {idx[1]})')\n",
    "\n",
    "# La salida de esta directiva no estará ordenada en un orden particular"
   ]
  },
  {
   "cell_type": "code",
   "execution_count": 21,
   "metadata": {},
   "outputs": [
    {
     "name": "stdout",
     "output_type": "stream",
     "text": [
      "\n",
      "0.36616933593750217 at (213, 9)\n",
      "[[ -1.    -1.    -1.    31.63 134.41 133.86 133.79]\n",
      " [ -1.    -1.    -1.    23.52 135.12 134.81 134.42]\n",
      " [ -1.    -1.    -1.    12.65 135.46 135.33 135.06]\n",
      " [ -1.    -1.    -1.     0.37 135.65 135.48 135.54]\n",
      " [ -1.    -1.    -1.    -1.   128.93 135.68 135.91]\n",
      " [ -1.    -1.    -1.    -1.   119.33 135.73 135.81]\n",
      " [ -1.    -1.    -1.    -1.   100.26 135.81 135.77]]\n",
      "----------------------------------------\n",
      "\n",
      "0.3613402343750022 at (24, 588)\n",
      "[[135.59 135.55  60.44  -1.    -1.    -1.    -1.  ]\n",
      " [135.91 135.72  90.47  -1.    -1.    -1.    -1.  ]\n",
      " [136.14 135.41 113.28  -1.    -1.    -1.    -1.  ]\n",
      " [135.29 134.83 131.87   0.36  -1.    -1.    -1.  ]\n",
      " [134.69 134.48 134.26  19.31  -1.    -1.    -1.  ]\n",
      " [134.27 133.86 134.29  40.96  -1.    -1.    -1.  ]\n",
      " [133.43 134.06 134.37  61.4   -1.    -1.    -1.  ]]\n",
      "----------------------------------------\n",
      "\n",
      "0.35244375000000217 at (7, 504)\n",
      "[[ -1.    -1.    -1.    -1.    -1.    -1.    -1.  ]\n",
      " [ -1.    -1.    -1.    -1.    -1.    -1.    -1.  ]\n",
      " [ -1.    -1.    -1.    -1.    -1.    -1.    -1.  ]\n",
      " [ -1.    -1.    -1.     0.35  16.57  31.42  48.9 ]\n",
      " [ 85.78 102.06 116.65 134.07 134.17 134.02 133.73]\n",
      " [134.62 134.23 134.26 134.1  134.14 134.02 133.83]\n",
      " [134.42 134.15 134.01 134.14 134.18 134.03 133.91]]\n",
      "----------------------------------------\n",
      "\n",
      "0.3410302734377183 at (583, 295)\n",
      "[[1.36 1.04 0.65 1.   1.3  0.95 0.56]\n",
      " [0.76 0.63 0.92 1.01 0.49 0.46 0.85]\n",
      " [1.01 1.25 1.31 0.48 0.44 0.93 1.13]\n",
      " [1.03 1.2  0.53 0.34 0.98 1.42 1.36]\n",
      " [0.87 0.69 0.27 0.85 1.21 1.1  1.56]\n",
      " [1.   0.7  0.87 1.17 1.25 1.05 2.1 ]\n",
      " [1.15 1.32 1.53 1.39 0.94 1.12 2.09]]\n",
      "----------------------------------------\n",
      "\n",
      "0.2324828125000022 at (69, 21)\n",
      "[[ -1.    -1.    -1.    -1.    -1.    -1.    -1.  ]\n",
      " [ -1.    -1.    -1.    -1.    -1.    -1.    -1.  ]\n",
      " [ -1.    -1.    -1.    -1.    -1.    -1.    -1.  ]\n",
      " [ -1.    -1.    -1.     0.23  23.44  49.77  80.11]\n",
      " [ 24.61  55.    89.8  117.32 121.93 120.36 118.99]\n",
      " [127.46 126.64 125.74 124.4  122.75 121.16 119.78]\n",
      " [127.76 127.03 126.23 124.76 123.43 122.05 120.77]]\n",
      "----------------------------------------\n",
      "\n",
      "0.09667470703125218 at (58, 66)\n",
      "[[-1.0000e+00 -1.0000e+00 -1.0000e+00 -1.0000e+00 -1.0000e+00 -1.0000e+00\n",
      "  -1.0000e+00]\n",
      " [-1.0000e+00 -1.0000e+00 -1.0000e+00 -1.0000e+00 -1.0000e+00 -1.0000e+00\n",
      "  -1.0000e+00]\n",
      " [-1.0000e+00 -1.0000e+00 -1.0000e+00 -1.0000e+00 -1.0000e+00 -1.0000e+00\n",
      "  -1.0000e+00]\n",
      " [-1.0000e+00 -1.0000e+00 -1.0000e+00  1.0000e-01  9.9800e+00  1.9840e+01\n",
      "   2.6380e+01]\n",
      " [ 3.7390e+01  6.7060e+01  9.4540e+01  1.0859e+02  1.0834e+02  1.0829e+02\n",
      "   1.0819e+02]\n",
      " [ 1.0867e+02  1.0874e+02  1.0850e+02  1.0807e+02  1.0774e+02  1.0758e+02\n",
      "   1.0751e+02]\n",
      " [ 1.0860e+02  1.0933e+02  1.0920e+02  1.0826e+02  1.0725e+02  1.0701e+02\n",
      "   1.0689e+02]]\n",
      "----------------------------------------\n",
      "\n",
      "0.26782226562521827 at (584, 294)\n",
      "[[1.43 0.76 0.63 0.92 1.01 0.49 0.46]\n",
      " [1.69 1.01 1.25 1.31 0.48 0.44 0.93]\n",
      " [1.78 1.03 1.2  0.53 0.34 0.98 1.42]\n",
      " [1.32 0.87 0.69 0.27 0.85 1.21 1.1 ]\n",
      " [1.13 1.   0.7  0.87 1.17 1.25 1.05]\n",
      " [1.77 1.15 1.32 1.53 1.39 0.94 1.12]\n",
      " [1.82 1.66 2.05 1.53 1.4  1.38 1.87]]\n",
      "----------------------------------------\n",
      "\n",
      "0.2879808593750022 at (70, 17)\n",
      "[[ -1.    -1.    -1.    -1.    -1.    -1.    -1.  ]\n",
      " [ -1.    -1.    -1.    -1.    -1.    -1.    -1.  ]\n",
      " [ -1.    -1.    -1.    -1.    -1.    -1.    -1.  ]\n",
      " [ -1.    -1.    -1.     0.29  24.61  55.    89.8 ]\n",
      " [103.6  110.89 117.07 128.26 127.46 126.64 125.74]\n",
      " [129.31 129.18 128.63 128.41 127.76 127.03 126.23]\n",
      " [128.75 128.75 128.18 128.15 127.95 127.49 126.69]]\n",
      "----------------------------------------\n",
      "\n",
      "0.1605760742187522 at (53, 130)\n",
      "[[ -1.    -1.    -1.    -1.    -1.    -1.    -1.  ]\n",
      " [ -1.    -1.    -1.    -1.    -1.    -1.    -1.  ]\n",
      " [ -1.    -1.    -1.    -1.    -1.    -1.    -1.  ]\n",
      " [ -1.    -1.    -1.     0.16  12.92  26.88  42.12]\n",
      " [ 70.7   84.86  99.3  112.7  115.04 115.08 115.19]\n",
      " [112.09 112.7  113.54 114.64 115.36 114.6  114.51]\n",
      " [111.33 111.89 112.86 113.92 114.68 113.91 113.91]]\n",
      "----------------------------------------\n",
      "\n",
      "0.36660390625000217 at (48, 592)\n",
      "[[134.95 134.99  68.51  -1.    -1.    -1.    -1.  ]\n",
      " [134.9  135.08  88.91  -1.    -1.    -1.    -1.  ]\n",
      " [135.04 135.18 112.23  -1.    -1.    -1.    -1.  ]\n",
      " [135.   135.21 131.46   0.37  -1.    -1.    -1.  ]\n",
      " [135.1  135.23 135.46  18.13  -1.    -1.    -1.  ]\n",
      " [135.13 135.15 135.32  39.94  -1.    -1.    -1.  ]\n",
      " [135.13 135.24 135.31  60.48  -1.    -1.    -1.  ]]\n",
      "----------------------------------------\n"
     ]
    }
   ],
   "source": [
    "for idx in small_idx:\n",
    "    print(f'''\n",
    "{crater_map[idx[0], idx[1]]} at ({idx[0]}, {idx[1]})\n",
    "{check_surroundings(crater_map, idx, 3)}\n",
    "----------------------------------------''')\n"
   ]
  },
  {
   "cell_type": "markdown",
   "metadata": {},
   "source": [
    "## Implementación"
   ]
  },
  {
   "cell_type": "code",
   "execution_count": 92,
   "metadata": {},
   "outputs": [],
   "source": [
    "class mars_descent(SearchProblem):\n",
    "\n",
    "    def __init__(self, initial_state: str, mars_map: np.array, max_height: float, not_traversable: int, step_size: int):\n",
    "\n",
    "        self.mars_map = mars_map\n",
    "        self.initial_state = initial_state\n",
    "        self.max_height = max_height\n",
    "        self.not_traversable = not_traversable\n",
    "        self.step_size = step_size\n",
    "        print(\"Initial state: \", self.initial_state)\n",
    "\n",
    "        SearchProblem.__init__(self, initial_state)\n",
    "\n",
    "    def actions(self, state: str) -> list[str]:\n",
    "        mars_map = self.mars_map\n",
    "        actions = []\n",
    "\n",
    "        pos_directions = ['U', 'D', 'L', 'R', 'UL', 'UR', 'DL', 'DR']\n",
    "        x0, y0 = state_to_coord(state)\n",
    "        current_height = mars_map[x0, y0]\n",
    "\n",
    "        for action in pos_directions:\n",
    "            x, y = state_to_coord(self.result(state, action))\n",
    "            next_height = mars_map[x, y]\n",
    "            height_difference = abs(current_height - next_height)\n",
    "\n",
    "            if next_height != self.not_traversable:\n",
    "                if height_difference <= self.max_height:\n",
    "\n",
    "                    actions.append(action)\n",
    "\n",
    "        return actions\n",
    "\n",
    "    def result(self, state: str, action: str) -> str:\n",
    "        x, y = state_to_coord(state)\n",
    "        step_size = self.step_size\n",
    "\n",
    "        if action.count('U'):\n",
    "            x -= step_size\n",
    "        elif action.count('D'):\n",
    "            x += step_size\n",
    "        elif action.count('L'):\n",
    "            y -= step_size\n",
    "        elif action.count('R'):\n",
    "            y += step_size\n",
    "        elif action.count('UL'):\n",
    "            x -= step_size\n",
    "            y -= step_size\n",
    "        elif action.count('UR'):\n",
    "            x -= step_size\n",
    "            y += step_size\n",
    "        elif action.count('DL'):\n",
    "            x += step_size\n",
    "            y -= step_size\n",
    "        elif action.count('DR'):\n",
    "            x += step_size\n",
    "            y += step_size\n",
    "        else:\n",
    "            print('No se encontró la acción')\n",
    "\n",
    "        new_state = coord_to_state([x, y])\n",
    "        # print(f'Action: {action}, New position: {state}, New height: {self.mars_map[x, y]}', file=log)\n",
    "        return new_state\n",
    "\n",
    "    def is_goal(self, state: str) -> bool:\n",
    "        # Esta función no tiene una definición como tal ya que el algoritmo no puede saber de antemano cual es el estado meta\n",
    "        pass\n",
    "\n",
    "    def value(self, state: str) -> float:\n",
    "        # Los algoritmos de búsqueda local de simpleai tratan de maximizar el valor de value, como nosotros queremos minimizar el valor\n",
    "        # de la altura, podemos calcular su recíporo, mientras menor sea la altura, mayor será su recíproco\n",
    "\n",
    "        return 1 / self.mars_map[state_to_coord(state)]\n"
   ]
  },
  {
   "cell_type": "code",
   "execution_count": 23,
   "metadata": {},
   "outputs": [],
   "source": [
    "START_STATE = coord_to_state(pos_to_index([x0, y0]))\n"
   ]
  },
  {
   "cell_type": "code",
   "execution_count": 24,
   "metadata": {},
   "outputs": [
    {
     "name": "stdout",
     "output_type": "stream",
     "text": [
      "Initial state:  743,579\n"
     ]
    }
   ],
   "source": [
    "crater_problem = mars_descent(\n",
    "    START_STATE, crater_map, 50 * MAX_DIFF, UNTRAVERSABLE, STEP_SIZE)\n"
   ]
  },
  {
   "cell_type": "code",
   "execution_count": 25,
   "metadata": {},
   "outputs": [],
   "source": [
    "# Log all print statements to a file\n",
    "log = open('greedy-output.txt', 'w')\n"
   ]
  },
  {
   "cell_type": "markdown",
   "metadata": {},
   "source": [
    "### Búsqueda voraz"
   ]
  },
  {
   "cell_type": "code",
   "execution_count": 26,
   "metadata": {},
   "outputs": [
    {
     "ename": "KeyboardInterrupt",
     "evalue": "",
     "output_type": "error",
     "traceback": [
      "\u001b[1;31m---------------------------------------------------------------------------\u001b[0m",
      "\u001b[1;31mKeyboardInterrupt\u001b[0m                         Traceback (most recent call last)",
      "\u001b[1;32m~\\AppData\\Local\\Temp/ipykernel_31684/1590599225.py\u001b[0m in \u001b[0;36m<module>\u001b[1;34m\u001b[0m\n\u001b[1;32m----> 1\u001b[1;33m \u001b[0mgreedy_res\u001b[0m \u001b[1;33m=\u001b[0m \u001b[0mgreedy\u001b[0m\u001b[1;33m(\u001b[0m\u001b[0mcrater_problem\u001b[0m\u001b[1;33m,\u001b[0m \u001b[0mgraph_search\u001b[0m\u001b[1;33m=\u001b[0m\u001b[1;32mTrue\u001b[0m\u001b[1;33m)\u001b[0m\u001b[1;33m\u001b[0m\u001b[1;33m\u001b[0m\u001b[0m\n\u001b[0m",
      "\u001b[1;32m~\\AppData\\Local\\Programs\\Python\\Python39\\lib\\site-packages\\simpleai\\search\\traditional.py\u001b[0m in \u001b[0;36mgreedy\u001b[1;34m(problem, graph_search, viewer)\u001b[0m\n\u001b[0;32m     98\u001b[0m     \u001b[0mSearchProblem\u001b[0m\u001b[1;33m.\u001b[0m\u001b[0mis_goal\u001b[0m\u001b[1;33m,\u001b[0m \u001b[0mSearchProblem\u001b[0m\u001b[1;33m.\u001b[0m\u001b[0mcost\u001b[0m\u001b[1;33m,\u001b[0m \u001b[1;32mand\u001b[0m \u001b[0mSearchProblem\u001b[0m\u001b[1;33m.\u001b[0m\u001b[0mheuristic\u001b[0m\u001b[1;33m.\u001b[0m\u001b[1;33m\u001b[0m\u001b[1;33m\u001b[0m\u001b[0m\n\u001b[0;32m     99\u001b[0m     '''\n\u001b[1;32m--> 100\u001b[1;33m     return _search(problem,\n\u001b[0m\u001b[0;32m    101\u001b[0m                    \u001b[0mBoundedPriorityQueue\u001b[0m\u001b[1;33m(\u001b[0m\u001b[1;33m)\u001b[0m\u001b[1;33m,\u001b[0m\u001b[1;33m\u001b[0m\u001b[1;33m\u001b[0m\u001b[0m\n\u001b[0;32m    102\u001b[0m                    \u001b[0mgraph_search\u001b[0m\u001b[1;33m=\u001b[0m\u001b[0mgraph_search\u001b[0m\u001b[1;33m,\u001b[0m\u001b[1;33m\u001b[0m\u001b[1;33m\u001b[0m\u001b[0m\n",
      "\u001b[1;32m~\\AppData\\Local\\Programs\\Python\\Python39\\lib\\site-packages\\simpleai\\search\\traditional.py\u001b[0m in \u001b[0;36m_search\u001b[1;34m(problem, fringe, graph_search, depth_limit, node_factory, graph_replace_when_better, viewer)\u001b[0m\n\u001b[0;32m    160\u001b[0m             \u001b[1;32mfor\u001b[0m \u001b[0mn\u001b[0m \u001b[1;32min\u001b[0m \u001b[0mexpanded\u001b[0m\u001b[1;33m:\u001b[0m\u001b[1;33m\u001b[0m\u001b[1;33m\u001b[0m\u001b[0m\n\u001b[0;32m    161\u001b[0m                 \u001b[1;32mif\u001b[0m \u001b[0mgraph_search\u001b[0m\u001b[1;33m:\u001b[0m\u001b[1;33m\u001b[0m\u001b[1;33m\u001b[0m\u001b[0m\n\u001b[1;32m--> 162\u001b[1;33m                     \u001b[0mothers\u001b[0m \u001b[1;33m=\u001b[0m \u001b[1;33m[\u001b[0m\u001b[0mx\u001b[0m \u001b[1;32mfor\u001b[0m \u001b[0mx\u001b[0m \u001b[1;32min\u001b[0m \u001b[0mfringe\u001b[0m \u001b[1;32mif\u001b[0m \u001b[0mx\u001b[0m\u001b[1;33m.\u001b[0m\u001b[0mstate\u001b[0m \u001b[1;33m==\u001b[0m \u001b[0mn\u001b[0m\u001b[1;33m.\u001b[0m\u001b[0mstate\u001b[0m\u001b[1;33m]\u001b[0m\u001b[1;33m\u001b[0m\u001b[1;33m\u001b[0m\u001b[0m\n\u001b[0m\u001b[0;32m    163\u001b[0m                     \u001b[1;32massert\u001b[0m \u001b[0mlen\u001b[0m\u001b[1;33m(\u001b[0m\u001b[0mothers\u001b[0m\u001b[1;33m)\u001b[0m \u001b[1;32min\u001b[0m \u001b[1;33m(\u001b[0m\u001b[1;36m0\u001b[0m\u001b[1;33m,\u001b[0m \u001b[1;36m1\u001b[0m\u001b[1;33m)\u001b[0m\u001b[1;33m\u001b[0m\u001b[1;33m\u001b[0m\u001b[0m\n\u001b[0;32m    164\u001b[0m                     \u001b[1;32mif\u001b[0m \u001b[0mn\u001b[0m\u001b[1;33m.\u001b[0m\u001b[0mstate\u001b[0m \u001b[1;32mnot\u001b[0m \u001b[1;32min\u001b[0m \u001b[0mmemory\u001b[0m \u001b[1;32mand\u001b[0m \u001b[0mlen\u001b[0m\u001b[1;33m(\u001b[0m\u001b[0mothers\u001b[0m\u001b[1;33m)\u001b[0m \u001b[1;33m==\u001b[0m \u001b[1;36m0\u001b[0m\u001b[1;33m:\u001b[0m\u001b[1;33m\u001b[0m\u001b[1;33m\u001b[0m\u001b[0m\n",
      "\u001b[1;32m~\\AppData\\Local\\Programs\\Python\\Python39\\lib\\site-packages\\simpleai\\search\\traditional.py\u001b[0m in \u001b[0;36m<listcomp>\u001b[1;34m(.0)\u001b[0m\n\u001b[0;32m    160\u001b[0m             \u001b[1;32mfor\u001b[0m \u001b[0mn\u001b[0m \u001b[1;32min\u001b[0m \u001b[0mexpanded\u001b[0m\u001b[1;33m:\u001b[0m\u001b[1;33m\u001b[0m\u001b[1;33m\u001b[0m\u001b[0m\n\u001b[0;32m    161\u001b[0m                 \u001b[1;32mif\u001b[0m \u001b[0mgraph_search\u001b[0m\u001b[1;33m:\u001b[0m\u001b[1;33m\u001b[0m\u001b[1;33m\u001b[0m\u001b[0m\n\u001b[1;32m--> 162\u001b[1;33m                     \u001b[0mothers\u001b[0m \u001b[1;33m=\u001b[0m \u001b[1;33m[\u001b[0m\u001b[0mx\u001b[0m \u001b[1;32mfor\u001b[0m \u001b[0mx\u001b[0m \u001b[1;32min\u001b[0m \u001b[0mfringe\u001b[0m \u001b[1;32mif\u001b[0m \u001b[0mx\u001b[0m\u001b[1;33m.\u001b[0m\u001b[0mstate\u001b[0m \u001b[1;33m==\u001b[0m \u001b[0mn\u001b[0m\u001b[1;33m.\u001b[0m\u001b[0mstate\u001b[0m\u001b[1;33m]\u001b[0m\u001b[1;33m\u001b[0m\u001b[1;33m\u001b[0m\u001b[0m\n\u001b[0m\u001b[0;32m    163\u001b[0m                     \u001b[1;32massert\u001b[0m \u001b[0mlen\u001b[0m\u001b[1;33m(\u001b[0m\u001b[0mothers\u001b[0m\u001b[1;33m)\u001b[0m \u001b[1;32min\u001b[0m \u001b[1;33m(\u001b[0m\u001b[1;36m0\u001b[0m\u001b[1;33m,\u001b[0m \u001b[1;36m1\u001b[0m\u001b[1;33m)\u001b[0m\u001b[1;33m\u001b[0m\u001b[1;33m\u001b[0m\u001b[0m\n\u001b[0;32m    164\u001b[0m                     \u001b[1;32mif\u001b[0m \u001b[0mn\u001b[0m\u001b[1;33m.\u001b[0m\u001b[0mstate\u001b[0m \u001b[1;32mnot\u001b[0m \u001b[1;32min\u001b[0m \u001b[0mmemory\u001b[0m \u001b[1;32mand\u001b[0m \u001b[0mlen\u001b[0m\u001b[1;33m(\u001b[0m\u001b[0mothers\u001b[0m\u001b[1;33m)\u001b[0m \u001b[1;33m==\u001b[0m \u001b[1;36m0\u001b[0m\u001b[1;33m:\u001b[0m\u001b[1;33m\u001b[0m\u001b[1;33m\u001b[0m\u001b[0m\n",
      "\u001b[1;31mKeyboardInterrupt\u001b[0m: "
     ]
    }
   ],
   "source": [
    "greedy_res = greedy(crater_problem, graph_search=True)\n"
   ]
  },
  {
   "cell_type": "markdown",
   "metadata": {},
   "source": [
    "El método de búsqueda voraz es al final del día un método de búsqueda, no está enfocado en un proceso de optimización como su contraparte (_recocido simulado_). Las directivas de abajo podrían ser usadas una vez que el algoritmo encuentre el punto que tenga la menor altura, predecir qué tanto tiempo le tomará al algoritmo encontrar una solución es algo complicado, al momento de redactar esto lleva 2 horas corriendo.\n",
    "\n",
    "Información sobre las acciones que está tomando el algoritmo pueden ser encontradas en el archivo `output.txt`. Este contendrá información acerca de los nodos que está visitando, es a través de este archivo que pudimos confirmar que el agente no está ciclado en sus alrededores, sino que sí está explorando el mapa en su totalidad.\n",
    "\n",
    "Una segunda aproximación a este problema de optimización sería pasarle al algoritmo una función `is_goal` que solamente arroje valores `True` cuando este haya encontrado algún punto con una altura menor a un valor predeterminado, como equipo hemos implementado esta situación, y el algoritmo fue capaz de encontrar una solución en tiempos no mayores a 5 minutos; sin embargo, consideramos que proporcionar un valor _meta_ le quitaría la etiqueta de optimización al problema. Si quisiéramos aplicar este algoritmo a una situación real, no sabríamos de antemano a qué valor aspirar, solamente querremos que el algoritmo optimice una métrica.\n"
   ]
  },
  {
   "cell_type": "code",
   "execution_count": null,
   "metadata": {},
   "outputs": [],
   "source": [
    "greedy_res.path()\n"
   ]
  },
  {
   "cell_type": "code",
   "execution_count": null,
   "metadata": {},
   "outputs": [],
   "source": [
    "greedy_res.cost\n"
   ]
  },
  {
   "cell_type": "code",
   "execution_count": null,
   "metadata": {},
   "outputs": [],
   "source": [
    "greedy_res.path()[-1][1]\n"
   ]
  },
  {
   "cell_type": "code",
   "execution_count": null,
   "metadata": {},
   "outputs": [],
   "source": [
    "crater_map[state_to_coord(greedy_res.path()[-1][1])]\n"
   ]
  },
  {
   "cell_type": "code",
   "execution_count": 36,
   "metadata": {},
   "outputs": [],
   "source": [
    "log.close()\n"
   ]
  },
  {
   "cell_type": "markdown",
   "metadata": {},
   "source": [
    "### Recocido simulado"
   ]
  },
  {
   "cell_type": "markdown",
   "metadata": {},
   "source": [
    "Para que el recocido simulado pueda encontrar un mínimo para la altura, debemos de darle la capacidad de que avance varias _casillas_. Si dejamos que el tamaño de paso se quede como 1, el recocido simulado no encontrará una solución en tiempos óptimos (nuestro equipo de cómputo no es tan avanzado como para soportar la carga computacional)."
   ]
  },
  {
   "cell_type": "code",
   "execution_count": 93,
   "metadata": {},
   "outputs": [],
   "source": [
    "log = open('output.txt', 'w')\n"
   ]
  },
  {
   "cell_type": "code",
   "execution_count": 94,
   "metadata": {},
   "outputs": [
    {
     "name": "stdout",
     "output_type": "stream",
     "text": [
      "Initial state:  743,579\n"
     ]
    }
   ],
   "source": [
    "crater_problem = mars_descent(START_STATE, crater_map, 100000 * MAX_DIFF, UNTRAVERSABLE, 100 * STEP_SIZE)\n"
   ]
  },
  {
   "cell_type": "code",
   "execution_count": 95,
   "metadata": {},
   "outputs": [],
   "source": [
    "ann_res = simulated_annealing(crater_problem)\n"
   ]
  },
  {
   "cell_type": "code",
   "execution_count": 96,
   "metadata": {},
   "outputs": [
    {
     "data": {
      "text/plain": [
       "[('U', '643,579')]"
      ]
     },
     "execution_count": 96,
     "metadata": {},
     "output_type": "execute_result"
    }
   ],
   "source": [
    "ann_res.path()\n"
   ]
  },
  {
   "cell_type": "code",
   "execution_count": 97,
   "metadata": {},
   "outputs": [
    {
     "data": {
      "text/plain": [
       "1"
      ]
     },
     "execution_count": 97,
     "metadata": {},
     "output_type": "execute_result"
    }
   ],
   "source": [
    "ann_res.cost\n"
   ]
  },
  {
   "cell_type": "code",
   "execution_count": 98,
   "metadata": {},
   "outputs": [
    {
     "data": {
      "text/plain": [
       "0.0065950245627632255"
      ]
     },
     "execution_count": 98,
     "metadata": {},
     "output_type": "execute_result"
    }
   ],
   "source": [
    "ann_res.value\n"
   ]
  },
  {
   "cell_type": "code",
   "execution_count": 99,
   "metadata": {},
   "outputs": [
    {
     "data": {
      "text/plain": [
       "151.62945800781273"
      ]
     },
     "execution_count": 99,
     "metadata": {},
     "output_type": "execute_result"
    }
   ],
   "source": [
    "crater_map[state_to_coord(ann_res.path()[-1][1])]\n"
   ]
  },
  {
   "cell_type": "code",
   "execution_count": 33,
   "metadata": {},
   "outputs": [],
   "source": [
    "log.close()\n"
   ]
  },
  {
   "cell_type": "markdown",
   "metadata": {},
   "source": [
    "## Analizando otros puntos"
   ]
  },
  {
   "cell_type": "markdown",
   "metadata": {},
   "source": [
    "Como puntos iniciales de prueba proponemos:\n",
    "\n",
    "1. $(100, 100)$\n",
    "2. $(200, 315)$\n",
    "3. $(500, 500)$\n",
    "4. $(100, 600)$\n",
    "5. $(89, 314)$\n",
    "\n",
    "Para seleccionar estos puntos verificamos de antemano que no tuvieran una altura asociada de -1, una vez que el agente no se encuentre en uno de esos puntos podrá operar sin mayor problema."
   ]
  },
  {
   "cell_type": "code",
   "execution_count": 101,
   "metadata": {},
   "outputs": [],
   "source": [
    "# Posición inicial 743, 579\n",
    "# Posibles posiciones de prueba [100, 100], [200, 315], [500, 500],  [100, 600], [89, 314]\n",
    "test_positions = [[100, 100], [200, 315], [500, 500], [100, 600], [89, 314]]\n"
   ]
  },
  {
   "cell_type": "markdown",
   "metadata": {},
   "source": [
    "### Probando a búsqueda voraz"
   ]
  },
  {
   "cell_type": "code",
   "execution_count": 107,
   "metadata": {},
   "outputs": [
    {
     "name": "stdout",
     "output_type": "stream",
     "text": [
      "Initial state:  1067,10\n",
      "Posición inicial: [100, 100]\n",
      "Posición inicial: [100, 100]\n",
      "Altura inicial: 122.71356445312522\n"
     ]
    },
    {
     "ename": "AttributeError",
     "evalue": "'NoneType' object has no attribute 'path'",
     "output_type": "error",
     "traceback": [
      "\u001b[1;31m---------------------------------------------------------------------------\u001b[0m",
      "\u001b[1;31mAttributeError\u001b[0m                            Traceback (most recent call last)",
      "\u001b[1;32m~\\AppData\\Local\\Temp/ipykernel_31684/4152968896.py\u001b[0m in \u001b[0;36m<module>\u001b[1;34m\u001b[0m\n\u001b[0;32m      5\u001b[0m     \u001b[0mprint\u001b[0m\u001b[1;33m(\u001b[0m\u001b[1;34mf'Posición inicial: {pos}'\u001b[0m\u001b[1;33m)\u001b[0m\u001b[1;33m\u001b[0m\u001b[1;33m\u001b[0m\u001b[0m\n\u001b[0;32m      6\u001b[0m     \u001b[0mprint\u001b[0m\u001b[1;33m(\u001b[0m\u001b[1;34mf'Altura inicial: {crater_map[pos[0], pos[1]]}'\u001b[0m\u001b[1;33m)\u001b[0m\u001b[1;33m\u001b[0m\u001b[1;33m\u001b[0m\u001b[0m\n\u001b[1;32m----> 7\u001b[1;33m     \u001b[0mprint\u001b[0m\u001b[1;33m(\u001b[0m\u001b[1;34mf'Resultado: {greedy_res.path()}'\u001b[0m\u001b[1;33m)\u001b[0m\u001b[1;33m\u001b[0m\u001b[1;33m\u001b[0m\u001b[0m\n\u001b[0m\u001b[0;32m      8\u001b[0m     \u001b[0mprint\u001b[0m\u001b[1;33m(\u001b[0m\u001b[1;34mf'Costo: {greedy_res.cost}'\u001b[0m\u001b[1;33m)\u001b[0m\u001b[1;33m\u001b[0m\u001b[1;33m\u001b[0m\u001b[0m\n\u001b[0;32m      9\u001b[0m     \u001b[0mprint\u001b[0m\u001b[1;33m(\u001b[0m\u001b[1;34mf'Valor: {greedy_res.value}'\u001b[0m\u001b[1;33m)\u001b[0m\u001b[1;33m\u001b[0m\u001b[1;33m\u001b[0m\u001b[0m\n",
      "\u001b[1;31mAttributeError\u001b[0m: 'NoneType' object has no attribute 'path'"
     ]
    }
   ],
   "source": [
    "for pos in test_positions:\n",
    "    test_problem = mars_descent(coord_to_state(pos_to_index(pos)), crater_map, 100000 * MAX_DIFF, UNTRAVERSABLE, 5 * STEP_SIZE)\n",
    "    greedy_res = greedy(test_problem, graph_search=True)\n",
    "    print(f'Posición inicial: {pos}')\n",
    "    print(f'Posición inicial: {pos}')\n",
    "    print(f'Altura inicial: {crater_map[pos[0], pos[1]]}')\n",
    "    print(f'Resultado: {greedy_res.path()}')\n",
    "    print(f'Costo: {greedy_res.cost}')\n",
    "    print(f'Valor: {greedy_res.value}')\n",
    "    print(f'Altura: {crater_map[state_to_coord(greedy_res.path()[0][1])]}')\n",
    "    print('----------------------------------------')\n",
    "    "
   ]
  },
  {
   "cell_type": "markdown",
   "metadata": {},
   "source": [
    "### Probando a recocido simulado"
   ]
  },
  {
   "cell_type": "code",
   "execution_count": 104,
   "metadata": {},
   "outputs": [
    {
     "name": "stdout",
     "output_type": "stream",
     "text": [
      "Initial state:  100,100\n",
      "Posición inicial: [100, 100]\n",
      "Altura inicial: 122.71356445312522\n",
      "Resultado: [('UL', '100,100')]\n",
      "Costo: 2\n",
      "Valor: 0.00814905837391746\n",
      "Altura: 122.71356445312522\n",
      "----------------------------------------\n",
      "Initial state:  200,315\n",
      "Posición inicial: [200, 315]\n",
      "Altura inicial: 138.58318847656273\n",
      "Resultado: [('UL', '100,315')]\n",
      "Costo: 1\n",
      "Valor: 0.007212835381436947\n",
      "Altura: 138.6417333984377\n",
      "----------------------------------------\n",
      "Initial state:  500,500\n",
      "Posición inicial: [500, 500]\n",
      "Altura inicial: 153.74771728515645\n",
      "Resultado: [('DL', '300,500')]\n",
      "Costo: 4\n",
      "Valor: 0.006897247232180646\n",
      "Altura: 144.98537841796897\n",
      "----------------------------------------\n",
      "Initial state:  100,600\n",
      "Posición inicial: [100, 600]\n",
      "Altura inicial: 86.88685654296889\n",
      "Resultado: [('DL', '200,600')]\n",
      "Costo: 1\n",
      "Valor: 0.006952251677485305\n",
      "Altura: 143.83829101562523\n",
      "----------------------------------------\n",
      "Initial state:  89,314\n",
      "Posición inicial: [89, 314]\n",
      "Altura inicial: 136.80536865234396\n",
      "Resultado: [('DR', '189,314')]\n",
      "Costo: 1\n",
      "Valor: 0.0070610494960606784\n",
      "Altura: 141.62200683593773\n",
      "----------------------------------------\n"
     ]
    }
   ],
   "source": [
    "for pos in test_positions:\n",
    "    test_problem = mars_descent(coord_to_state(pos), crater_map, 100000 * MAX_DIFF, UNTRAVERSABLE, 100 * STEP_SIZE)\n",
    "    annealing_res = simulated_annealing(test_problem)\n",
    "    print(f'Posición inicial: {pos}')\n",
    "    print(f'Altura inicial: {crater_map[pos[0], pos[1]]}')\n",
    "    print(f'Resultado: {annealing_res.path()}')\n",
    "    print(f'Costo: {annealing_res.cost}')\n",
    "    print(f'Valor: {annealing_res.value}')\n",
    "    print(f'Altura: {crater_map[state_to_coord(annealing_res.path()[0][1])]}')\n",
    "    print('----------------------------------------')"
   ]
  },
  {
   "cell_type": "markdown",
   "metadata": {},
   "source": [
    "## Contribuciones"
   ]
  },
  {
   "cell_type": "markdown",
   "metadata": {},
   "source": [
    "- Juan Pablo Echeagaray González: implementación, pruebas, documentación"
   ]
  },
  {
   "cell_type": "markdown",
   "metadata": {},
   "source": [
    "## Conclusiones"
   ]
  },
  {
   "cell_type": "markdown",
   "metadata": {},
   "source": [
    "- Juan Pablo Echeagaray González:\n",
    "  - La tareas de optimización son en verdad complicadas, conceptualmente son fáciles de describir, su implementación en un lenguaje de programación también es relativamente sencilla, pero el proceso de optimización es realmente complicado para los algoritmos seleccionados cuando el poder de cómputo es muy bajo. Hay otras opciones de algoritmos de optimización que debemos de considerar, y como nota para investigaciones futuras, es importante priorizar que el equipo de cómputo a analizar tenga las capacidades suficientes para realizar estas tareas en un tiempo óptimo."
   ]
  }
 ],
 "metadata": {
  "interpreter": {
   "hash": "a78c4be66ba3b4a897c6e596b18611fdff70693afae29e50365a94a133cff73c"
  },
  "kernelspec": {
   "display_name": "Python 3.9.7 64-bit",
   "language": "python",
   "name": "python3"
  },
  "language_info": {
   "codemirror_mode": {
    "name": "ipython",
    "version": 3
   },
   "file_extension": ".py",
   "mimetype": "text/x-python",
   "name": "python",
   "nbconvert_exporter": "python",
   "pygments_lexer": "ipython3",
   "version": "3.9.7"
  },
  "orig_nbformat": 4
 },
 "nbformat": 4,
 "nbformat_minor": 2
}
