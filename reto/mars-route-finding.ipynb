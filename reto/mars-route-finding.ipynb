{
 "cells": [
  {
   "cell_type": "markdown",
   "metadata": {},
   "source": [
    "# Planeación de rutas para la exploración de Marte\n",
    "\n",
    "- Diseño de agentes inteligentes\n",
    "- Profesor: Juan Emmanuel Martínez Ledesma\n",
    "\n",
    "Equipo 7:\n",
    "\n",
    "| Nombre | Matrícula |\n",
    "| ----- | ------ |\n",
    "| Juan Pablo Echeagaray González | A00830646 |\n",
    "\n",
    "- 8 de marzo del 2022\n"
   ]
  },
  {
   "cell_type": "markdown",
   "metadata": {},
   "source": [
    "## Descripción del entregable?"
   ]
  },
  {
   "cell_type": "code",
   "execution_count": 30,
   "metadata": {},
   "outputs": [],
   "source": [
    "# Basic dependencies\n",
    "from simpleai.search import SearchProblem\n",
    "from simpleai.search import breadth_first, uniform_cost, depth_first, astar\n",
    "import numpy as np\n",
    "import matplotlib.pyplot as plt\n",
    "import struct\n",
    "import copy\n",
    "# For plotting\n",
    "from matplotlib.colors import LightSource\n",
    "from skimage.transform import downscale_local_mean\n",
    "import plotly.graph_objects as px\n"
   ]
  },
  {
   "cell_type": "markdown",
   "metadata": {},
   "source": [
    "### Características del problema"
   ]
  },
  {
   "cell_type": "code",
   "execution_count": 31,
   "metadata": {},
   "outputs": [],
   "source": [
    "SCALE = 10.0174\n",
    "mars_map = np.load('mars_map.npy')\n",
    "NR, NC = mars_map.shape\n",
    "\n",
    "# Start and goal positions\n",
    "x0, y0 = 2860, 6300\n",
    "xf, yf = 3150, 6800\n",
    "MAX_DIFF = 0.25\n",
    "UNTRAVERSABLE = -2\n"
   ]
  },
  {
   "cell_type": "code",
   "execution_count": 32,
   "metadata": {},
   "outputs": [],
   "source": [
    "def pos_to_index(pos: list[int]) -> list[int]:\n",
    "    nr = NR - round(pos[0] / SCALE)\n",
    "    nc = NC - round(pos[1] / SCALE)\n",
    "    return [nr, nc]\n",
    "\n",
    "\n",
    "def coord_to_state(coord: list[int]) -> str:\n",
    "    return f'{coord[0]},{coord[1]}'\n",
    "\n",
    "\n",
    "def state_to_coord(state: str) -> list[int]:\n",
    "    return [int(x) for x in state.split(',')]\n"
   ]
  },
  {
   "cell_type": "code",
   "execution_count": 33,
   "metadata": {},
   "outputs": [
    {
     "data": {
      "text/plain": [
       "-1.0"
      ]
     },
     "execution_count": 33,
     "metadata": {},
     "output_type": "execute_result"
    }
   ],
   "source": [
    "coord = [0, 0]\n",
    "mars_map[0, 0]"
   ]
  },
  {
   "cell_type": "code",
   "execution_count": 34,
   "metadata": {},
   "outputs": [],
   "source": [
    "START = pos_to_index((x0, y0))\n",
    "GOAL = pos_to_index((xf, yf))\n"
   ]
  },
  {
   "cell_type": "markdown",
   "metadata": {},
   "source": [
    "### Implementación del problema"
   ]
  },
  {
   "cell_type": "code",
   "execution_count": 35,
   "metadata": {},
   "outputs": [],
   "source": [
    "class mars_route_finding(SearchProblem):\n",
    "\n",
    "    def __init__(self, initial_state: str, goal_state: str, mars_map: np.array, max_height: float, not_traversable: int):\n",
    "\n",
    "        self.mars_map = mars_map\n",
    "        self.initial_state = initial_state\n",
    "        self.goal_state = goal_state\n",
    "        self.max_height = max_height\n",
    "        self.not_traversable = not_traversable\n",
    "\n",
    "        print(\"Initial state: \", self.initial_state)\n",
    "        print(\"Goal state: \", self.goal_state)\n",
    "\n",
    "        SearchProblem.__init__(self, initial_state)\n",
    "\n",
    "    def actions(self, state):\n",
    "        mars_map = self.mars_map\n",
    "        actions = []\n",
    "\n",
    "        # Up, Down, Left, Right, Up-Left, Up-Right, Down-Left, Down-Right\n",
    "        pos_directions = ['U', 'D', 'L', 'R', 'UL', 'UR', 'DL', 'DR']\n",
    "        current_pos = tuple(state_to_coord(state))\n",
    "\n",
    "        for dir in pos_directions:\n",
    "            if dir == 'U':\n",
    "                next_pos = tuple([current_pos[0] + 1, current_pos[1]])\n",
    "                print(mars_map[current_pos] - mars_map[next_pos], mars_map[next_pos])\n",
    "                if (np.abs(mars_map[current_pos] - mars_map[next_pos]) <= self.max_height) and (mars_map[next_pos] != self.not_traversable):\n",
    "                    print('Estoy yendo para arriba')\n",
    "                    actions.append(dir)\n",
    "                else:\n",
    "                    print('no entró el up')\n",
    "                    continue\n",
    "            elif dir == 'D':\n",
    "                next_pos = tuple([current_pos[0] - 1, current_pos[1]])\n",
    "                if (np.abs(mars_map[current_pos] - mars_map[next_pos]) <= self.max_height) and (mars_map[next_pos] != self.not_traversable):\n",
    "                    print('Estoy yendo pa abajo')\n",
    "                    actions.append(dir)\n",
    "                else:\n",
    "                    print('no entró el down')\n",
    "                    continue\n",
    "            elif dir == 'L':\n",
    "                next_pos = tuple([current_pos[0], current_pos[1] - 1])\n",
    "                print(np.abs(mars_map[current_pos] - mars_map[next_pos]))\n",
    "                if (np.abs(mars_map[current_pos] - mars_map[next_pos]) <= self.max_height) and (mars_map[next_pos] != self.not_traversable):\n",
    "                    print('Estoy yendo pa la izquierda')\n",
    "                    actions.append(dir)\n",
    "                else:\n",
    "                    print('no entró el left')\n",
    "                    continue\n",
    "            elif dir == 'R':\n",
    "                next_pos = tuple([current_pos[0], current_pos[1] + 1])\n",
    "                if (np.abs(mars_map[current_pos] - mars_map[next_pos]) <= self.max_height) and (mars_map[next_pos] != self.not_traversable):\n",
    "                    print('Estoy yendo pa la derecha')\n",
    "                    actions.append(dir)\n",
    "                else:\n",
    "                    print('no entró el right')\n",
    "                    continue\n",
    "            elif dir == 'UL':\n",
    "                next_pos = tuple([current_pos[0] + 1, current_pos[1] - 1])\n",
    "                if (np.abs(mars_map[current_pos] - mars_map[next_pos]) <= self.max_height) and (mars_map[next_pos] != self.not_traversable):\n",
    "                    print('Estoy yendo pa arriba izquierda')\n",
    "                    actions.append(dir)\n",
    "                else:\n",
    "                    print('no entró el up-left')\n",
    "                    continue\n",
    "            elif dir == 'UR':\n",
    "                next_pos = tuple([current_pos[0] + 1, current_pos[1] + 1])\n",
    "                if (np.abs(mars_map[current_pos] - mars_map[next_pos]) <= self.max_height) and (mars_map[next_pos] != self.not_traversable):\n",
    "                    print('Estoy yendo pa arriba derecha')\n",
    "                    actions.append(dir)\n",
    "                else:\n",
    "                    print('no entró el up-right')\n",
    "                    continue\n",
    "            elif dir == 'DL':\n",
    "                next_pos = tuple([current_pos[0] - 1, current_pos[1] - 1])\n",
    "                if (np.abs(mars_map[current_pos] - mars_map[next_pos]) <= self.max_height) and (mars_map[next_pos] != self.not_traversable):\n",
    "                    print('Estoy yendo pa abajo izquierda')\n",
    "                    actions.append(dir)\n",
    "                else:\n",
    "                    print('no entró el down-left')\n",
    "                    continue\n",
    "            elif dir == 'DR':\n",
    "                next_pos = tuple([current_pos[0] - 1, current_pos[1] + 1])\n",
    "                if (np.abs(mars_map[current_pos] - mars_map[next_pos]) <= self.max_height) and (mars_map[next_pos] != self.not_traversable):\n",
    "                    print('Estoy yendo pa abajo derecha')\n",
    "                    actions.append(dir)\n",
    "                else:\n",
    "                    print('no entró el down-right')\n",
    "                    continue\n",
    "            else:\n",
    "                continue\n",
    "        return actions\n",
    "\n",
    "    def result(self, state, action):\n",
    "        current_pos = state_to_coord(state)\n",
    "\n",
    "        if action == 'U':\n",
    "            next_pos = [current_pos[0] + 100, current_pos[1]]\n",
    "\n",
    "        elif action == 'D':\n",
    "            next_pos = [current_pos[0] - 100, current_pos[1]]\n",
    "\n",
    "        elif action == 'L':\n",
    "            next_pos = [current_pos[0], current_pos[1] - 100]\n",
    "\n",
    "        elif action == 'R':\n",
    "            next_pos = [current_pos[0], current_pos[1] + 100]\n",
    "\n",
    "        elif action == 'UL':\n",
    "            next_pos = [current_pos[0] + 100, current_pos[1] - 100]\n",
    "\n",
    "        elif action == 'UR':\n",
    "            next_pos = [current_pos[0] + 100, current_pos[1] + 100]\n",
    "\n",
    "        elif action == 'DL':\n",
    "            next_pos = [current_pos[0] - 100, current_pos[1] - 100]\n",
    "\n",
    "        elif action == 'DR':\n",
    "            next_pos = [current_pos[0] - 100, current_pos[1] + 100]\n",
    "        else:\n",
    "            print('Invalid action')\n",
    "\n",
    "        return coord_to_state(tuple(next_pos))\n",
    "\n",
    "    def is_goal(self, state):\n",
    "        current_pos = state_to_coord(state)\n",
    "\n",
    "        return current_pos[0] == self.goal_state[0] and current_pos[1] == self.goal_state[1]\n",
    "\n",
    "    def cost(self, state, action, state2):\n",
    "        # This smells of a linear combination where values for a and b must be found such that the search algorithm\n",
    "        # performs the best\n",
    "        alpha, beta = 1, 1\n",
    "\n",
    "        current_pos = state_to_coord(state)\n",
    "        next_position = state_to_coord(state2)\n",
    "\n",
    "        distance = np.sqrt(\n",
    "            (current_pos[0] - next_position[0])**2 + (current_pos[1] - next_position[1])**2)\n",
    "        height_difference = abs(\n",
    "            self.mars_map[current_pos] - self.mars_map[next_position])\n",
    "\n",
    "        return alpha * distance + beta * height_difference\n",
    "\n",
    "    def heuristic(self, state):\n",
    "        current_pos = state_to_coord(state)\n",
    "        goal_pos = state_to_coord(self.goal_state)\n",
    "        distance = np.sqrt((current_pos[0] - goal_pos[0])**2 + (current_pos[1] - goal_pos[1])**2)\n",
    "        return distance\n"
   ]
  },
  {
   "cell_type": "code",
   "execution_count": 36,
   "metadata": {},
   "outputs": [
    {
     "name": "stdout",
     "output_type": "stream",
     "text": [
      "Initial state:  1529,127\n",
      "Goal state:  1501,77\n"
     ]
    }
   ],
   "source": [
    "my_problem = mars_route_finding(coord_to_state(\n",
    "    START), coord_to_state(GOAL), mars_map, 100000 * MAX_DIFF, UNTRAVERSABLE)\n"
   ]
  },
  {
   "cell_type": "code",
   "execution_count": 37,
   "metadata": {},
   "outputs": [
    {
     "name": "stdout",
     "output_type": "stream",
     "text": [
      "0.0 -1.0\n",
      "Estoy yendo para arriba\n",
      "Estoy yendo pa abajo\n",
      "0.0\n",
      "Estoy yendo pa la izquierda\n",
      "Estoy yendo pa la derecha\n",
      "Estoy yendo pa arriba izquierda\n",
      "Estoy yendo pa arriba derecha\n",
      "Estoy yendo pa abajo izquierda\n",
      "Estoy yendo pa abajo derecha\n",
      "0.0 -1.0\n",
      "Estoy yendo para arriba\n",
      "Estoy yendo pa abajo\n",
      "0.0\n",
      "Estoy yendo pa la izquierda\n",
      "Estoy yendo pa la derecha\n",
      "Estoy yendo pa arriba izquierda\n",
      "Estoy yendo pa arriba derecha\n",
      "Estoy yendo pa abajo izquierda\n",
      "Estoy yendo pa abajo derecha\n",
      "0.0 -1.0\n",
      "Estoy yendo para arriba\n",
      "Estoy yendo pa abajo\n",
      "0.0\n",
      "Estoy yendo pa la izquierda\n",
      "Estoy yendo pa la derecha\n",
      "Estoy yendo pa arriba izquierda\n",
      "Estoy yendo pa arriba derecha\n",
      "Estoy yendo pa abajo izquierda\n",
      "Estoy yendo pa abajo derecha\n",
      "0.0 -1.0\n",
      "Estoy yendo para arriba\n",
      "Estoy yendo pa abajo\n",
      "0.0\n",
      "Estoy yendo pa la izquierda\n",
      "Estoy yendo pa la derecha\n",
      "Estoy yendo pa arriba izquierda\n",
      "Estoy yendo pa arriba derecha\n",
      "Estoy yendo pa abajo izquierda\n",
      "Estoy yendo pa abajo derecha\n",
      "0.7807690429687568 158.66283203125013\n",
      "Estoy yendo para arriba\n",
      "Estoy yendo pa abajo\n",
      "0.22582519531249545\n",
      "Estoy yendo pa la izquierda\n",
      "Estoy yendo pa la derecha\n",
      "Estoy yendo pa arriba izquierda\n",
      "Estoy yendo pa arriba derecha\n",
      "Estoy yendo pa abajo izquierda\n",
      "Estoy yendo pa abajo derecha\n",
      "0.0 -1.0\n",
      "Estoy yendo para arriba\n",
      "Estoy yendo pa abajo\n",
      "0.0\n",
      "Estoy yendo pa la izquierda\n",
      "Estoy yendo pa la derecha\n",
      "Estoy yendo pa arriba izquierda\n",
      "Estoy yendo pa arriba derecha\n",
      "Estoy yendo pa abajo izquierda\n",
      "Estoy yendo pa abajo derecha\n",
      "-0.16270507812500057 122.50035644531265\n",
      "Estoy yendo para arriba\n",
      "Estoy yendo pa abajo\n",
      "0.6619165039062551\n",
      "Estoy yendo pa la izquierda\n",
      "Estoy yendo pa la derecha\n",
      "Estoy yendo pa arriba izquierda\n",
      "Estoy yendo pa arriba derecha\n",
      "Estoy yendo pa abajo izquierda\n",
      "Estoy yendo pa abajo derecha\n",
      "0.0 -1.0\n",
      "Estoy yendo para arriba\n",
      "Estoy yendo pa abajo\n",
      "0.0\n",
      "Estoy yendo pa la izquierda\n",
      "Estoy yendo pa la derecha\n",
      "Estoy yendo pa arriba izquierda\n",
      "Estoy yendo pa arriba derecha\n",
      "Estoy yendo pa abajo izquierda\n",
      "Estoy yendo pa abajo derecha\n",
      "-0.002023925781259095 198.61049560546886\n",
      "Estoy yendo para arriba\n",
      "Estoy yendo pa abajo\n",
      "0.36398437500000114\n",
      "Estoy yendo pa la izquierda\n",
      "Estoy yendo pa la derecha\n",
      "Estoy yendo pa arriba izquierda\n",
      "Estoy yendo pa arriba derecha\n",
      "Estoy yendo pa abajo izquierda\n",
      "Estoy yendo pa abajo derecha\n",
      "0.0 -1.0\n",
      "Estoy yendo para arriba\n",
      "Estoy yendo pa abajo\n",
      "0.0\n",
      "Estoy yendo pa la izquierda\n",
      "Estoy yendo pa la derecha\n",
      "Estoy yendo pa arriba izquierda\n",
      "Estoy yendo pa arriba derecha\n",
      "Estoy yendo pa abajo izquierda\n",
      "Estoy yendo pa abajo derecha\n"
     ]
    },
    {
     "ename": "IndexError",
     "evalue": "index 1829 is out of bounds for axis 0 with size 1815",
     "output_type": "error",
     "traceback": [
      "\u001b[1;31m---------------------------------------------------------------------------\u001b[0m",
      "\u001b[1;31mIndexError\u001b[0m                                Traceback (most recent call last)",
      "\u001b[1;32m~\\AppData\\Local\\Temp/ipykernel_21344/2338375913.py\u001b[0m in \u001b[0;36m<module>\u001b[1;34m\u001b[0m\n\u001b[1;32m----> 1\u001b[1;33m \u001b[0mresult\u001b[0m \u001b[1;33m=\u001b[0m \u001b[0mbreadth_first\u001b[0m\u001b[1;33m(\u001b[0m\u001b[0mmy_problem\u001b[0m\u001b[1;33m)\u001b[0m\u001b[1;33m\u001b[0m\u001b[1;33m\u001b[0m\u001b[0m\n\u001b[0m\u001b[0;32m      2\u001b[0m \u001b[0mprint\u001b[0m\u001b[1;33m(\u001b[0m\u001b[0mresult\u001b[0m\u001b[1;33m)\u001b[0m\u001b[1;33m\u001b[0m\u001b[1;33m\u001b[0m\u001b[0m\n",
      "\u001b[1;32m~\\AppData\\Local\\Programs\\Python\\Python39\\lib\\site-packages\\simpleai\\search\\traditional.py\u001b[0m in \u001b[0;36mbreadth_first\u001b[1;34m(problem, graph_search, viewer)\u001b[0m\n\u001b[0;32m     14\u001b[0m     \u001b[0mSearchProblem\u001b[0m\u001b[1;33m.\u001b[0m\u001b[0mis_goal\u001b[0m\u001b[1;33m.\u001b[0m\u001b[1;33m\u001b[0m\u001b[1;33m\u001b[0m\u001b[0m\n\u001b[0;32m     15\u001b[0m     '''\n\u001b[1;32m---> 16\u001b[1;33m     return _search(problem,\n\u001b[0m\u001b[0;32m     17\u001b[0m                    \u001b[0mFifoList\u001b[0m\u001b[1;33m(\u001b[0m\u001b[1;33m)\u001b[0m\u001b[1;33m,\u001b[0m\u001b[1;33m\u001b[0m\u001b[1;33m\u001b[0m\u001b[0m\n\u001b[0;32m     18\u001b[0m                    \u001b[0mgraph_search\u001b[0m\u001b[1;33m=\u001b[0m\u001b[0mgraph_search\u001b[0m\u001b[1;33m,\u001b[0m\u001b[1;33m\u001b[0m\u001b[1;33m\u001b[0m\u001b[0m\n",
      "\u001b[1;32m~\\AppData\\Local\\Programs\\Python\\Python39\\lib\\site-packages\\simpleai\\search\\traditional.py\u001b[0m in \u001b[0;36m_search\u001b[1;34m(problem, fringe, graph_search, depth_limit, node_factory, graph_replace_when_better, viewer)\u001b[0m\n\u001b[0;32m    154\u001b[0m \u001b[1;33m\u001b[0m\u001b[0m\n\u001b[0;32m    155\u001b[0m         \u001b[1;32mif\u001b[0m \u001b[0mdepth_limit\u001b[0m \u001b[1;32mis\u001b[0m \u001b[1;32mNone\u001b[0m \u001b[1;32mor\u001b[0m \u001b[0mnode\u001b[0m\u001b[1;33m.\u001b[0m\u001b[0mdepth\u001b[0m \u001b[1;33m<\u001b[0m \u001b[0mdepth_limit\u001b[0m\u001b[1;33m:\u001b[0m\u001b[1;33m\u001b[0m\u001b[1;33m\u001b[0m\u001b[0m\n\u001b[1;32m--> 156\u001b[1;33m             \u001b[0mexpanded\u001b[0m \u001b[1;33m=\u001b[0m \u001b[0mnode\u001b[0m\u001b[1;33m.\u001b[0m\u001b[0mexpand\u001b[0m\u001b[1;33m(\u001b[0m\u001b[1;33m)\u001b[0m\u001b[1;33m\u001b[0m\u001b[1;33m\u001b[0m\u001b[0m\n\u001b[0m\u001b[0;32m    157\u001b[0m             \u001b[1;32mif\u001b[0m \u001b[0mviewer\u001b[0m\u001b[1;33m:\u001b[0m\u001b[1;33m\u001b[0m\u001b[1;33m\u001b[0m\u001b[0m\n\u001b[0;32m    158\u001b[0m                 \u001b[0mviewer\u001b[0m\u001b[1;33m.\u001b[0m\u001b[0mevent\u001b[0m\u001b[1;33m(\u001b[0m\u001b[1;34m'expanded'\u001b[0m\u001b[1;33m,\u001b[0m \u001b[1;33m[\u001b[0m\u001b[0mnode\u001b[0m\u001b[1;33m]\u001b[0m\u001b[1;33m,\u001b[0m \u001b[1;33m[\u001b[0m\u001b[0mexpanded\u001b[0m\u001b[1;33m]\u001b[0m\u001b[1;33m)\u001b[0m\u001b[1;33m\u001b[0m\u001b[1;33m\u001b[0m\u001b[0m\n",
      "\u001b[1;32m~\\AppData\\Local\\Programs\\Python\\Python39\\lib\\site-packages\\simpleai\\search\\models.py\u001b[0m in \u001b[0;36mexpand\u001b[1;34m(self, local_search)\u001b[0m\n\u001b[0;32m    105\u001b[0m         \u001b[1;32mfor\u001b[0m \u001b[0maction\u001b[0m \u001b[1;32min\u001b[0m \u001b[0mself\u001b[0m\u001b[1;33m.\u001b[0m\u001b[0mproblem\u001b[0m\u001b[1;33m.\u001b[0m\u001b[0mactions\u001b[0m\u001b[1;33m(\u001b[0m\u001b[0mself\u001b[0m\u001b[1;33m.\u001b[0m\u001b[0mstate\u001b[0m\u001b[1;33m)\u001b[0m\u001b[1;33m:\u001b[0m\u001b[1;33m\u001b[0m\u001b[1;33m\u001b[0m\u001b[0m\n\u001b[0;32m    106\u001b[0m             \u001b[0mnew_state\u001b[0m \u001b[1;33m=\u001b[0m \u001b[0mself\u001b[0m\u001b[1;33m.\u001b[0m\u001b[0mproblem\u001b[0m\u001b[1;33m.\u001b[0m\u001b[0mresult\u001b[0m\u001b[1;33m(\u001b[0m\u001b[0mself\u001b[0m\u001b[1;33m.\u001b[0m\u001b[0mstate\u001b[0m\u001b[1;33m,\u001b[0m \u001b[0maction\u001b[0m\u001b[1;33m)\u001b[0m\u001b[1;33m\u001b[0m\u001b[1;33m\u001b[0m\u001b[0m\n\u001b[1;32m--> 107\u001b[1;33m             cost = self.problem.cost(self.state,\n\u001b[0m\u001b[0;32m    108\u001b[0m                                      \u001b[0maction\u001b[0m\u001b[1;33m,\u001b[0m\u001b[1;33m\u001b[0m\u001b[1;33m\u001b[0m\u001b[0m\n\u001b[0;32m    109\u001b[0m                                      new_state)\n",
      "\u001b[1;32m~\\AppData\\Local\\Temp/ipykernel_21344/623222985.py\u001b[0m in \u001b[0;36mcost\u001b[1;34m(self, state, action, state2)\u001b[0m\n\u001b[0;32m    140\u001b[0m             (current_pos[0] - next_position[0])**2 + (current_pos[1] - next_position[1])**2)\n\u001b[0;32m    141\u001b[0m         height_difference = abs(\n\u001b[1;32m--> 142\u001b[1;33m             self.mars_map[current_pos] - self.mars_map[next_position])\n\u001b[0m\u001b[0;32m    143\u001b[0m \u001b[1;33m\u001b[0m\u001b[0m\n\u001b[0;32m    144\u001b[0m         \u001b[1;32mreturn\u001b[0m \u001b[0malpha\u001b[0m \u001b[1;33m*\u001b[0m \u001b[0mdistance\u001b[0m \u001b[1;33m+\u001b[0m \u001b[0mbeta\u001b[0m \u001b[1;33m*\u001b[0m \u001b[0mheight_difference\u001b[0m\u001b[1;33m\u001b[0m\u001b[1;33m\u001b[0m\u001b[0m\n",
      "\u001b[1;31mIndexError\u001b[0m: index 1829 is out of bounds for axis 0 with size 1815"
     ]
    }
   ],
   "source": [
    "result = breadth_first(my_problem)\n",
    "print(result)"
   ]
  },
  {
   "cell_type": "code",
   "execution_count": 38,
   "metadata": {},
   "outputs": [
    {
     "name": "stdout",
     "output_type": "stream",
     "text": [
      "0.0 -1.0\n",
      "Estoy yendo para arriba\n",
      "Estoy yendo pa abajo\n",
      "0.0\n",
      "Estoy yendo pa la izquierda\n",
      "Estoy yendo pa la derecha\n",
      "Estoy yendo pa arriba izquierda\n",
      "Estoy yendo pa arriba derecha\n",
      "Estoy yendo pa abajo izquierda\n",
      "Estoy yendo pa abajo derecha\n"
     ]
    },
    {
     "ename": "ValueError",
     "evalue": "The truth value of an array with more than one element is ambiguous. Use a.any() or a.all()",
     "output_type": "error",
     "traceback": [
      "\u001b[1;31m---------------------------------------------------------------------------\u001b[0m",
      "\u001b[1;31mValueError\u001b[0m                                Traceback (most recent call last)",
      "\u001b[1;32m~\\AppData\\Local\\Temp/ipykernel_21344/3771622147.py\u001b[0m in \u001b[0;36m<module>\u001b[1;34m\u001b[0m\n\u001b[1;32m----> 1\u001b[1;33m \u001b[0mresult\u001b[0m \u001b[1;33m=\u001b[0m \u001b[0muniform_cost\u001b[0m\u001b[1;33m(\u001b[0m\u001b[0mmy_problem\u001b[0m\u001b[1;33m)\u001b[0m\u001b[1;33m\u001b[0m\u001b[1;33m\u001b[0m\u001b[0m\n\u001b[0m\u001b[0;32m      2\u001b[0m \u001b[0mprint\u001b[0m\u001b[1;33m(\u001b[0m\u001b[0mresult\u001b[0m\u001b[1;33m)\u001b[0m\u001b[1;33m\u001b[0m\u001b[1;33m\u001b[0m\u001b[0m\n",
      "\u001b[1;32m~\\AppData\\Local\\Programs\\Python\\Python39\\lib\\site-packages\\simpleai\\search\\traditional.py\u001b[0m in \u001b[0;36muniform_cost\u001b[1;34m(problem, graph_search, viewer)\u001b[0m\n\u001b[0;32m     82\u001b[0m     \u001b[0mSearchProblem\u001b[0m\u001b[1;33m.\u001b[0m\u001b[0mis_goal\u001b[0m\u001b[1;33m,\u001b[0m \u001b[1;32mand\u001b[0m \u001b[0mSearchProblem\u001b[0m\u001b[1;33m.\u001b[0m\u001b[0mcost\u001b[0m\u001b[1;33m.\u001b[0m\u001b[1;33m\u001b[0m\u001b[1;33m\u001b[0m\u001b[0m\n\u001b[0;32m     83\u001b[0m     '''\n\u001b[1;32m---> 84\u001b[1;33m     return _search(problem,\n\u001b[0m\u001b[0;32m     85\u001b[0m                    \u001b[0mBoundedPriorityQueue\u001b[0m\u001b[1;33m(\u001b[0m\u001b[1;33m)\u001b[0m\u001b[1;33m,\u001b[0m\u001b[1;33m\u001b[0m\u001b[1;33m\u001b[0m\u001b[0m\n\u001b[0;32m     86\u001b[0m                    \u001b[0mgraph_search\u001b[0m\u001b[1;33m=\u001b[0m\u001b[0mgraph_search\u001b[0m\u001b[1;33m,\u001b[0m\u001b[1;33m\u001b[0m\u001b[1;33m\u001b[0m\u001b[0m\n",
      "\u001b[1;32m~\\AppData\\Local\\Programs\\Python\\Python39\\lib\\site-packages\\simpleai\\search\\traditional.py\u001b[0m in \u001b[0;36m_search\u001b[1;34m(problem, fringe, graph_search, depth_limit, node_factory, graph_replace_when_better, viewer)\u001b[0m\n\u001b[0;32m    168\u001b[0m                         \u001b[0mfringe\u001b[0m\u001b[1;33m.\u001b[0m\u001b[0mappend\u001b[0m\u001b[1;33m(\u001b[0m\u001b[0mn\u001b[0m\u001b[1;33m)\u001b[0m\u001b[1;33m\u001b[0m\u001b[1;33m\u001b[0m\u001b[0m\n\u001b[0;32m    169\u001b[0m                 \u001b[1;32melse\u001b[0m\u001b[1;33m:\u001b[0m\u001b[1;33m\u001b[0m\u001b[1;33m\u001b[0m\u001b[0m\n\u001b[1;32m--> 170\u001b[1;33m                     \u001b[0mfringe\u001b[0m\u001b[1;33m.\u001b[0m\u001b[0mappend\u001b[0m\u001b[1;33m(\u001b[0m\u001b[0mn\u001b[0m\u001b[1;33m)\u001b[0m\u001b[1;33m\u001b[0m\u001b[1;33m\u001b[0m\u001b[0m\n\u001b[0m\u001b[0;32m    171\u001b[0m \u001b[1;33m\u001b[0m\u001b[0m\n\u001b[0;32m    172\u001b[0m     \u001b[1;32mif\u001b[0m \u001b[0mviewer\u001b[0m\u001b[1;33m:\u001b[0m\u001b[1;33m\u001b[0m\u001b[1;33m\u001b[0m\u001b[0m\n",
      "\u001b[1;32m~\\AppData\\Local\\Programs\\Python\\Python39\\lib\\site-packages\\simpleai\\search\\utils.py\u001b[0m in \u001b[0;36mappend\u001b[1;34m(self, x)\u001b[0m\n\u001b[0;32m     37\u001b[0m \u001b[1;33m\u001b[0m\u001b[0m\n\u001b[0;32m     38\u001b[0m     \u001b[1;32mdef\u001b[0m \u001b[0mappend\u001b[0m\u001b[1;33m(\u001b[0m\u001b[0mself\u001b[0m\u001b[1;33m,\u001b[0m \u001b[0mx\u001b[0m\u001b[1;33m)\u001b[0m\u001b[1;33m:\u001b[0m\u001b[1;33m\u001b[0m\u001b[1;33m\u001b[0m\u001b[0m\n\u001b[1;32m---> 39\u001b[1;33m         \u001b[0mheapq\u001b[0m\u001b[1;33m.\u001b[0m\u001b[0mheappush\u001b[0m\u001b[1;33m(\u001b[0m\u001b[0mself\u001b[0m\u001b[1;33m.\u001b[0m\u001b[0mqueue\u001b[0m\u001b[1;33m,\u001b[0m \u001b[0mx\u001b[0m\u001b[1;33m)\u001b[0m\u001b[1;33m\u001b[0m\u001b[1;33m\u001b[0m\u001b[0m\n\u001b[0m\u001b[0;32m     40\u001b[0m         \u001b[1;32mif\u001b[0m \u001b[0mself\u001b[0m\u001b[1;33m.\u001b[0m\u001b[0mlimit\u001b[0m \u001b[1;32mand\u001b[0m \u001b[0mlen\u001b[0m\u001b[1;33m(\u001b[0m\u001b[0mself\u001b[0m\u001b[1;33m.\u001b[0m\u001b[0mqueue\u001b[0m\u001b[1;33m)\u001b[0m \u001b[1;33m>\u001b[0m \u001b[0mself\u001b[0m\u001b[1;33m.\u001b[0m\u001b[0mlimit\u001b[0m\u001b[1;33m:\u001b[0m\u001b[1;33m\u001b[0m\u001b[1;33m\u001b[0m\u001b[0m\n\u001b[0;32m     41\u001b[0m             \u001b[0mself\u001b[0m\u001b[1;33m.\u001b[0m\u001b[0mqueue\u001b[0m\u001b[1;33m.\u001b[0m\u001b[0mremove\u001b[0m\u001b[1;33m(\u001b[0m\u001b[0mheapq\u001b[0m\u001b[1;33m.\u001b[0m\u001b[0mnlargest\u001b[0m\u001b[1;33m(\u001b[0m\u001b[1;36m1\u001b[0m\u001b[1;33m,\u001b[0m \u001b[0mself\u001b[0m\u001b[1;33m.\u001b[0m\u001b[0mqueue\u001b[0m\u001b[1;33m)\u001b[0m\u001b[1;33m[\u001b[0m\u001b[1;36m0\u001b[0m\u001b[1;33m]\u001b[0m\u001b[1;33m)\u001b[0m\u001b[1;33m\u001b[0m\u001b[1;33m\u001b[0m\u001b[0m\n",
      "\u001b[1;31mValueError\u001b[0m: The truth value of an array with more than one element is ambiguous. Use a.any() or a.all()"
     ]
    }
   ],
   "source": [
    "result = uniform_cost(my_problem)\n",
    "print(result)"
   ]
  },
  {
   "cell_type": "code",
   "execution_count": 39,
   "metadata": {},
   "outputs": [
    {
     "name": "stdout",
     "output_type": "stream",
     "text": [
      "0.0 -1.0\n",
      "Estoy yendo para arriba\n",
      "Estoy yendo pa abajo\n",
      "0.0\n",
      "Estoy yendo pa la izquierda\n",
      "Estoy yendo pa la derecha\n",
      "Estoy yendo pa arriba izquierda\n",
      "Estoy yendo pa arriba derecha\n",
      "Estoy yendo pa abajo izquierda\n",
      "Estoy yendo pa abajo derecha\n",
      "-0.002023925781259095 198.61049560546886\n",
      "Estoy yendo para arriba\n",
      "Estoy yendo pa abajo\n",
      "0.36398437500000114\n",
      "Estoy yendo pa la izquierda\n",
      "Estoy yendo pa la derecha\n",
      "Estoy yendo pa arriba izquierda\n",
      "Estoy yendo pa arriba derecha\n",
      "Estoy yendo pa abajo izquierda\n",
      "Estoy yendo pa abajo derecha\n",
      "-0.06905517578124432 130.5552465820314\n",
      "Estoy yendo para arriba\n",
      "Estoy yendo pa abajo\n",
      "0.5186303710937352\n",
      "Estoy yendo pa la izquierda\n",
      "Estoy yendo pa la derecha\n",
      "Estoy yendo pa arriba izquierda\n",
      "Estoy yendo pa arriba derecha\n",
      "Estoy yendo pa abajo izquierda\n",
      "Estoy yendo pa abajo derecha\n",
      "1.4463085937499898 136.1784399414064\n",
      "Estoy yendo para arriba\n",
      "Estoy yendo pa abajo\n",
      "2.7431811523437375\n",
      "Estoy yendo pa la izquierda\n",
      "Estoy yendo pa la derecha\n",
      "Estoy yendo pa arriba izquierda\n",
      "Estoy yendo pa arriba derecha\n",
      "Estoy yendo pa abajo izquierda\n",
      "Estoy yendo pa abajo derecha\n",
      "-1.6331787109375 137.24440917968764\n",
      "Estoy yendo para arriba\n",
      "Estoy yendo pa abajo\n",
      "1.2064794921874977\n",
      "Estoy yendo pa la izquierda\n",
      "Estoy yendo pa la derecha\n",
      "Estoy yendo pa arriba izquierda\n",
      "Estoy yendo pa arriba derecha\n",
      "Estoy yendo pa abajo izquierda\n",
      "Estoy yendo pa abajo derecha\n",
      "-0.023588867187498863 176.6125097656251\n",
      "Estoy yendo para arriba\n",
      "Estoy yendo pa abajo\n",
      "0.1896264648437409\n",
      "Estoy yendo pa la izquierda\n",
      "Estoy yendo pa la derecha\n",
      "Estoy yendo pa arriba izquierda\n",
      "Estoy yendo pa arriba derecha\n",
      "Estoy yendo pa abajo izquierda\n",
      "Estoy yendo pa abajo derecha\n",
      "0.0 -1.0\n",
      "Estoy yendo para arriba\n",
      "Estoy yendo pa abajo\n",
      "0.0\n",
      "Estoy yendo pa la izquierda\n",
      "Estoy yendo pa la derecha\n",
      "Estoy yendo pa arriba izquierda\n",
      "Estoy yendo pa arriba derecha\n",
      "Estoy yendo pa abajo izquierda\n",
      "Estoy yendo pa abajo derecha\n"
     ]
    },
    {
     "ename": "IndexError",
     "evalue": "index 827 is out of bounds for axis 1 with size 756",
     "output_type": "error",
     "traceback": [
      "\u001b[1;31m---------------------------------------------------------------------------\u001b[0m",
      "\u001b[1;31mIndexError\u001b[0m                                Traceback (most recent call last)",
      "\u001b[1;32m~\\AppData\\Local\\Temp/ipykernel_21344/815099533.py\u001b[0m in \u001b[0;36m<module>\u001b[1;34m\u001b[0m\n\u001b[1;32m----> 1\u001b[1;33m \u001b[0mresult\u001b[0m \u001b[1;33m=\u001b[0m \u001b[0mdepth_first\u001b[0m\u001b[1;33m(\u001b[0m\u001b[0mmy_problem\u001b[0m\u001b[1;33m)\u001b[0m\u001b[1;33m\u001b[0m\u001b[1;33m\u001b[0m\u001b[0m\n\u001b[0m\u001b[0;32m      2\u001b[0m \u001b[0mprint\u001b[0m\u001b[1;33m(\u001b[0m\u001b[0mresult\u001b[0m\u001b[1;33m)\u001b[0m\u001b[1;33m\u001b[0m\u001b[1;33m\u001b[0m\u001b[0m\n",
      "\u001b[1;32m~\\AppData\\Local\\Programs\\Python\\Python39\\lib\\site-packages\\simpleai\\search\\traditional.py\u001b[0m in \u001b[0;36mdepth_first\u001b[1;34m(problem, graph_search, viewer)\u001b[0m\n\u001b[0;32m     28\u001b[0m     \u001b[0mSearchProblem\u001b[0m\u001b[1;33m.\u001b[0m\u001b[0mis_goal\u001b[0m\u001b[1;33m.\u001b[0m\u001b[1;33m\u001b[0m\u001b[1;33m\u001b[0m\u001b[0m\n\u001b[0;32m     29\u001b[0m     '''\n\u001b[1;32m---> 30\u001b[1;33m     return _search(problem,\n\u001b[0m\u001b[0;32m     31\u001b[0m                    \u001b[0mLifoList\u001b[0m\u001b[1;33m(\u001b[0m\u001b[1;33m)\u001b[0m\u001b[1;33m,\u001b[0m\u001b[1;33m\u001b[0m\u001b[1;33m\u001b[0m\u001b[0m\n\u001b[0;32m     32\u001b[0m                    \u001b[0mgraph_search\u001b[0m\u001b[1;33m=\u001b[0m\u001b[0mgraph_search\u001b[0m\u001b[1;33m,\u001b[0m\u001b[1;33m\u001b[0m\u001b[1;33m\u001b[0m\u001b[0m\n",
      "\u001b[1;32m~\\AppData\\Local\\Programs\\Python\\Python39\\lib\\site-packages\\simpleai\\search\\traditional.py\u001b[0m in \u001b[0;36m_search\u001b[1;34m(problem, fringe, graph_search, depth_limit, node_factory, graph_replace_when_better, viewer)\u001b[0m\n\u001b[0;32m    154\u001b[0m \u001b[1;33m\u001b[0m\u001b[0m\n\u001b[0;32m    155\u001b[0m         \u001b[1;32mif\u001b[0m \u001b[0mdepth_limit\u001b[0m \u001b[1;32mis\u001b[0m \u001b[1;32mNone\u001b[0m \u001b[1;32mor\u001b[0m \u001b[0mnode\u001b[0m\u001b[1;33m.\u001b[0m\u001b[0mdepth\u001b[0m \u001b[1;33m<\u001b[0m \u001b[0mdepth_limit\u001b[0m\u001b[1;33m:\u001b[0m\u001b[1;33m\u001b[0m\u001b[1;33m\u001b[0m\u001b[0m\n\u001b[1;32m--> 156\u001b[1;33m             \u001b[0mexpanded\u001b[0m \u001b[1;33m=\u001b[0m \u001b[0mnode\u001b[0m\u001b[1;33m.\u001b[0m\u001b[0mexpand\u001b[0m\u001b[1;33m(\u001b[0m\u001b[1;33m)\u001b[0m\u001b[1;33m\u001b[0m\u001b[1;33m\u001b[0m\u001b[0m\n\u001b[0m\u001b[0;32m    157\u001b[0m             \u001b[1;32mif\u001b[0m \u001b[0mviewer\u001b[0m\u001b[1;33m:\u001b[0m\u001b[1;33m\u001b[0m\u001b[1;33m\u001b[0m\u001b[0m\n\u001b[0;32m    158\u001b[0m                 \u001b[0mviewer\u001b[0m\u001b[1;33m.\u001b[0m\u001b[0mevent\u001b[0m\u001b[1;33m(\u001b[0m\u001b[1;34m'expanded'\u001b[0m\u001b[1;33m,\u001b[0m \u001b[1;33m[\u001b[0m\u001b[0mnode\u001b[0m\u001b[1;33m]\u001b[0m\u001b[1;33m,\u001b[0m \u001b[1;33m[\u001b[0m\u001b[0mexpanded\u001b[0m\u001b[1;33m]\u001b[0m\u001b[1;33m)\u001b[0m\u001b[1;33m\u001b[0m\u001b[1;33m\u001b[0m\u001b[0m\n",
      "\u001b[1;32m~\\AppData\\Local\\Programs\\Python\\Python39\\lib\\site-packages\\simpleai\\search\\models.py\u001b[0m in \u001b[0;36mexpand\u001b[1;34m(self, local_search)\u001b[0m\n\u001b[0;32m    103\u001b[0m         \u001b[1;34m'''Create successors.'''\u001b[0m\u001b[1;33m\u001b[0m\u001b[1;33m\u001b[0m\u001b[0m\n\u001b[0;32m    104\u001b[0m         \u001b[0mnew_nodes\u001b[0m \u001b[1;33m=\u001b[0m \u001b[1;33m[\u001b[0m\u001b[1;33m]\u001b[0m\u001b[1;33m\u001b[0m\u001b[1;33m\u001b[0m\u001b[0m\n\u001b[1;32m--> 105\u001b[1;33m         \u001b[1;32mfor\u001b[0m \u001b[0maction\u001b[0m \u001b[1;32min\u001b[0m \u001b[0mself\u001b[0m\u001b[1;33m.\u001b[0m\u001b[0mproblem\u001b[0m\u001b[1;33m.\u001b[0m\u001b[0mactions\u001b[0m\u001b[1;33m(\u001b[0m\u001b[0mself\u001b[0m\u001b[1;33m.\u001b[0m\u001b[0mstate\u001b[0m\u001b[1;33m)\u001b[0m\u001b[1;33m:\u001b[0m\u001b[1;33m\u001b[0m\u001b[1;33m\u001b[0m\u001b[0m\n\u001b[0m\u001b[0;32m    106\u001b[0m             \u001b[0mnew_state\u001b[0m \u001b[1;33m=\u001b[0m \u001b[0mself\u001b[0m\u001b[1;33m.\u001b[0m\u001b[0mproblem\u001b[0m\u001b[1;33m.\u001b[0m\u001b[0mresult\u001b[0m\u001b[1;33m(\u001b[0m\u001b[0mself\u001b[0m\u001b[1;33m.\u001b[0m\u001b[0mstate\u001b[0m\u001b[1;33m,\u001b[0m \u001b[0maction\u001b[0m\u001b[1;33m)\u001b[0m\u001b[1;33m\u001b[0m\u001b[1;33m\u001b[0m\u001b[0m\n\u001b[0;32m    107\u001b[0m             cost = self.problem.cost(self.state,\n",
      "\u001b[1;32m~\\AppData\\Local\\Temp/ipykernel_21344/623222985.py\u001b[0m in \u001b[0;36mactions\u001b[1;34m(self, state)\u001b[0m\n\u001b[0;32m     25\u001b[0m             \u001b[1;32mif\u001b[0m \u001b[0mdir\u001b[0m \u001b[1;33m==\u001b[0m \u001b[1;34m'U'\u001b[0m\u001b[1;33m:\u001b[0m\u001b[1;33m\u001b[0m\u001b[1;33m\u001b[0m\u001b[0m\n\u001b[0;32m     26\u001b[0m                 \u001b[0mnext_pos\u001b[0m \u001b[1;33m=\u001b[0m \u001b[0mtuple\u001b[0m\u001b[1;33m(\u001b[0m\u001b[1;33m[\u001b[0m\u001b[0mcurrent_pos\u001b[0m\u001b[1;33m[\u001b[0m\u001b[1;36m0\u001b[0m\u001b[1;33m]\u001b[0m \u001b[1;33m+\u001b[0m \u001b[1;36m1\u001b[0m\u001b[1;33m,\u001b[0m \u001b[0mcurrent_pos\u001b[0m\u001b[1;33m[\u001b[0m\u001b[1;36m1\u001b[0m\u001b[1;33m]\u001b[0m\u001b[1;33m]\u001b[0m\u001b[1;33m)\u001b[0m\u001b[1;33m\u001b[0m\u001b[1;33m\u001b[0m\u001b[0m\n\u001b[1;32m---> 27\u001b[1;33m                 \u001b[0mprint\u001b[0m\u001b[1;33m(\u001b[0m\u001b[0mmars_map\u001b[0m\u001b[1;33m[\u001b[0m\u001b[0mcurrent_pos\u001b[0m\u001b[1;33m]\u001b[0m \u001b[1;33m-\u001b[0m \u001b[0mmars_map\u001b[0m\u001b[1;33m[\u001b[0m\u001b[0mnext_pos\u001b[0m\u001b[1;33m]\u001b[0m\u001b[1;33m,\u001b[0m \u001b[0mmars_map\u001b[0m\u001b[1;33m[\u001b[0m\u001b[0mnext_pos\u001b[0m\u001b[1;33m]\u001b[0m\u001b[1;33m)\u001b[0m\u001b[1;33m\u001b[0m\u001b[1;33m\u001b[0m\u001b[0m\n\u001b[0m\u001b[0;32m     28\u001b[0m                 \u001b[1;32mif\u001b[0m \u001b[1;33m(\u001b[0m\u001b[0mnp\u001b[0m\u001b[1;33m.\u001b[0m\u001b[0mabs\u001b[0m\u001b[1;33m(\u001b[0m\u001b[0mmars_map\u001b[0m\u001b[1;33m[\u001b[0m\u001b[0mcurrent_pos\u001b[0m\u001b[1;33m]\u001b[0m \u001b[1;33m-\u001b[0m \u001b[0mmars_map\u001b[0m\u001b[1;33m[\u001b[0m\u001b[0mnext_pos\u001b[0m\u001b[1;33m]\u001b[0m\u001b[1;33m)\u001b[0m \u001b[1;33m<=\u001b[0m \u001b[0mself\u001b[0m\u001b[1;33m.\u001b[0m\u001b[0mmax_height\u001b[0m\u001b[1;33m)\u001b[0m \u001b[1;32mand\u001b[0m \u001b[1;33m(\u001b[0m\u001b[0mmars_map\u001b[0m\u001b[1;33m[\u001b[0m\u001b[0mnext_pos\u001b[0m\u001b[1;33m]\u001b[0m \u001b[1;33m!=\u001b[0m \u001b[0mself\u001b[0m\u001b[1;33m.\u001b[0m\u001b[0mnot_traversable\u001b[0m\u001b[1;33m)\u001b[0m\u001b[1;33m:\u001b[0m\u001b[1;33m\u001b[0m\u001b[1;33m\u001b[0m\u001b[0m\n\u001b[0;32m     29\u001b[0m                     \u001b[0mprint\u001b[0m\u001b[1;33m(\u001b[0m\u001b[1;34m'Estoy yendo para arriba'\u001b[0m\u001b[1;33m)\u001b[0m\u001b[1;33m\u001b[0m\u001b[1;33m\u001b[0m\u001b[0m\n",
      "\u001b[1;31mIndexError\u001b[0m: index 827 is out of bounds for axis 1 with size 756"
     ]
    }
   ],
   "source": [
    "result = depth_first(my_problem)\n",
    "print(result)"
   ]
  },
  {
   "cell_type": "code",
   "execution_count": 17,
   "metadata": {},
   "outputs": [
    {
     "name": "stdout",
     "output_type": "stream",
     "text": [
      "-5.429687498690293e-05\n"
     ]
    }
   ],
   "source": [
    "print(np.unique(mars_map)[1] - np.unique(mars_map)[2])"
   ]
  },
  {
   "cell_type": "code",
   "execution_count": null,
   "metadata": {},
   "outputs": [],
   "source": []
  }
 ],
 "metadata": {
  "interpreter": {
   "hash": "a78c4be66ba3b4a897c6e596b18611fdff70693afae29e50365a94a133cff73c"
  },
  "kernelspec": {
   "display_name": "Python 3.9.7 64-bit",
   "language": "python",
   "name": "python3"
  },
  "language_info": {
   "codemirror_mode": {
    "name": "ipython",
    "version": 3
   },
   "file_extension": ".py",
   "mimetype": "text/x-python",
   "name": "python",
   "nbconvert_exporter": "python",
   "pygments_lexer": "ipython3",
   "version": "3.9.7"
  },
  "orig_nbformat": 4
 },
 "nbformat": 4,
 "nbformat_minor": 2
}
