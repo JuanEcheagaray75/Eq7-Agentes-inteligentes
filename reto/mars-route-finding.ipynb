{
 "cells": [
  {
   "cell_type": "markdown",
   "metadata": {},
   "source": [
    "# Planeación de rutas para la exploración de Marte\n",
    "\n",
    "---\n",
    "\n",
    "- Diseño de agentes inteligentes\n",
    "- TC2032.101\n",
    "- Profesor: Juan Emmanuel Martínez Ledesma\n",
    "\n",
    "Equipo 7:\n",
    "\n",
    "| Nombre | Matrícula |\n",
    "| ----- | ------ |\n",
    "| Juan Pablo Echeagaray González | A00830646 |\n",
    "| Emily Rebeca Méndez Cruz | A00830768 |\n",
    "| Erika Martínez Meneses | A01028621 |\n",
    "| Oscar Antonio Banderas Álvarez | A01568492 |\n",
    "| César Guillermo Vázquez Alvarez | A01197857 |\n",
    "\n",
    "- 8 de marzo del 2022\n"
   ]
  },
  {
   "cell_type": "markdown",
   "metadata": {},
   "source": [
    "## Instrucciones"
   ]
  },
  {
   "cell_type": "markdown",
   "metadata": {},
   "source": [
    "Una fuente de información importante para la exploración de Marte son las imágenes obtenidas con orbitadores que están continuamente enviando información sobre la superficie de nuestro planeta vecino. En la página de [HiRISE](https://www.uahirise.org/dtm/) se encuentra disponible una gran cantidad de imágenes en alta resolución captadas a través de diversos satélites con instrumentos capaces de medir la profundidad y otras características del suelo marciano. Estos datos ayudaron a determinar el lugar donde aterrizó el Rover Perseverance en la última misión llevada a cabo por parte de la NASA en el planeta rojo.\n",
    "\n",
    "Las siguientes figuras son representaciones en 3D de una pequeña parte de la superficie de Marte. Los ejes representan distancias en metros, y los colores indican las partes más profundas (en rojo) y más elevadas (en amarillo claro). Se toma como nivel 0 la parte más profundad de la superficie mostrada. Estos datos se encuentran en el sitio de [HiRISE](https://www.uahirise.org/dtm/).\n",
    "\n",
    "![](img\\2022-03-07-11-44-05.png)\n",
    "\n",
    "![](img\\2022-03-07-11-45-21.png)\n",
    "\n",
    "![](img\\2022-03-07-11-45-35.png)\n",
    "\n",
    "La información mostrada con anterioridad se puede representar en una imagen como la que se muestra a continuación. El color de cada pixel de la imagen representa la altura en dicha posición. Las secciones en gris representan áreas donde no hay información satelital.\n",
    "\n",
    "---\n",
    "![](img\\2022-03-07-11-46-01.png)\n",
    "\n",
    "Los datos en el sitio [HiRISE](https://www.uahirise.org/dtm/) están disponibles en archivos IMG con información topográfica. En los archivos originales, la superficie anterior tiene dimensiones de 7557 pixeles de ancho y 18143 pixeles de alto. Cada pixel representa un área de 1.0017 metros x 1.0017 metros. Estos datos no son colores RGB, son valores de altura, y la imagen mostrada se conoce como imagen de falso color, ya que se construye artificialmente asignando un color a cada pixel de acuerdo a alguna dimensión o medida (en este caso, valores de profundidad o altura). A estas imágenes se les llaman mapas de altura. Los valores en gris tienen un valor de altura de -1, y representan áreas donde no hay información válida.\n",
    "\n",
    "El archivo de datos de la superficie mostrada se puede descargar [aquí](https://experiencia21.tec.mx/courses/241470/files/78461927?wrap=1) . Por otro lado, el código que carga el archivo IMG y genera las imágenes anteriores se puede descargar [aquí](https://experiencia21.tec.mx/courses/241470/files/78461984?wrap=1). Debido a que el tamaño del archivo de datos es de alrededor de un 1Gb, la imagen original se escala a un tamaño menor. Con ello, las imágenes mostradas tienen dimensiones de 756 x 1814, y cada pixel representa a un área de 10.0174 x 10.0174.\n",
    "\n",
    "Debido a que los datos se manejan como una imagen, el sistema de coordenadas de la matriz  de datos está volteado en el eje vertical. En una imagen, la parte superior está representada en el primer renglón de la matriz de datos. Por ello, para calcular el renglón $r$ y columna $c$ de una coordenada $x, y$, realice lo siguiente:\n",
    "\n",
    "$$\\begin{gather*}\n",
    "r = n_r - \\text{round}\\left(\\frac{y}{scale}\\right) \\\\\n",
    "c = \\text{round}\\left(\\frac{y}{scale}\\right)\n",
    "\\end{gather*}$$\n",
    "\n",
    "Donde $n_r$ y $n_c$ son los números de renglones y columnas de la imagen o matriz de datos (en este caso 1814 y 756), y la escala indica la cantidad de metros por cada pixel (10.0174).\n",
    "\n",
    "En esta actividad, probarás algoritmos de búsqueda para la planeación de rutas en el mapa de altura mostrado en esta actividad. Para ello, se pide que realicen las siguientes tareas."
   ]
  },
  {
   "cell_type": "markdown",
   "metadata": {},
   "source": [
    "### Prueba de algoritmos de búsqueda\n",
    "\n",
    "Para el mapa de alturas presentado en esta actividad, utilicen al menos cuatro algoritmos de búsqueda para determinar una posible ruta de navegación desde la posición $x = 2850, y = 6400$ hasta el punto $x = 3150, y = 6800$. Entre los algoritmos de búsqueda, debe incluir el método A*. \n",
    "\n",
    "Para determinar rutas posibles, consideren lo siguiente:\n",
    "- El Rover explorador puede moverse de un pixel a otro contiguo en el mapa en cualquier dirección, pero sólo si la diferencia de alturas entre la posición actual y la siguiente posición es menor a 0.25 metros (el programa debe manejar este valor como parámetro que pueda ser modificado fácilmente).\n",
    "- Los pixeles del mapa con una altura de -1 no son válidos y el Rover no se puede mover hacia ellos.\n",
    "\n",
    "Para este punto, es necesario indicar la distancia recorrida por el Rover. Además, contesten las siguientes preguntas:\n",
    "- ¿Qué algoritmos lograron encontrar una ruta válida? \n",
    "- ¿Es necesario utilizar búsquedas informadas para este caso?\n",
    "- ¿Qué función heurística resultó adecuada para este problema?\n"
   ]
  },
  {
   "cell_type": "markdown",
   "metadata": {},
   "source": [
    "### Rendimiento de los algoritmos de búsqueda para rutas cortas y largas\n",
    "\n",
    "Seleccionen uno de los algoritmos de búsqueda probados en el apartado anterior de esta fase del proyecto, y determinen con éste rutas de navegación para al menos dos parejas de coordenadas que seleccionen ustedes mismos, de tal manera que el punto de partida y el objetivo no estén a más de $500$ metros. Hagan lo mismo, pero con al menos dos parejas que tengan una distancia entre inicio y fin de mas de $1000$ metros y menos de $5000$ metros. Finalmente, prueben parejas de coordenadas que estén a una distancia mayor a $10000$ metros.\n",
    "\n",
    "Contesten las siguientes preguntas:\n",
    "- ¿En qué casos el algoritmo es capaz de resolver el problema en un tiempo aceptable? \n",
    "- En los casos que el algoritmo no encuentra un resultado, ¿qué acciones se podrían realizar para ayudar al algoritmo a resolver el problema?\n"
   ]
  },
  {
   "cell_type": "markdown",
   "metadata": {},
   "source": [
    "## Implementación"
   ]
  },
  {
   "cell_type": "code",
   "execution_count": 1,
   "metadata": {},
   "outputs": [],
   "source": [
    "# Basic dependencies\n",
    "from simpleai.search import SearchProblem\n",
    "from simpleai.search import breadth_first, uniform_cost, depth_first, astar\n",
    "import numpy as np\n"
   ]
  },
  {
   "cell_type": "markdown",
   "metadata": {},
   "source": [
    "### Características del problema"
   ]
  },
  {
   "cell_type": "code",
   "execution_count": 2,
   "metadata": {},
   "outputs": [],
   "source": [
    "SCALE = 10.0174\n",
    "mars_map = np.load('mars_map.npy')\n",
    "NR, NC = mars_map.shape\n",
    "\n",
    "# Start and goal positions\n",
    "x0, y0 = 2850, 6400\n",
    "xf, yf = 3150, 6800\n",
    "MAX_DIFF = 0.25\n",
    "UNTRAVERSABLE = -1\n",
    "STEP_SIZE = 1\n"
   ]
  },
  {
   "cell_type": "markdown",
   "metadata": {},
   "source": [
    "### Funciones auxiliares"
   ]
  },
  {
   "cell_type": "code",
   "execution_count": 3,
   "metadata": {},
   "outputs": [],
   "source": [
    "def pos_to_index(pos: list[int]) -> list[int]:\n",
    "    nr = NR - round(pos[0] / SCALE)\n",
    "    nc = round(pos[1] / SCALE)\n",
    "    return [nr, nc]\n",
    "\n",
    "\n",
    "def coord_to_state(coord: list[int]) -> str:\n",
    "    return f'{coord[0]},{coord[1]}'\n",
    "\n",
    "\n",
    "def state_to_coord(state: str) -> list[int]:\n",
    "    return tuple([int(x) for x in state.split(',')])\n",
    "\n",
    "\n",
    "def report(result):\n",
    "    print(f'Found path with length {len(result.path())}')\n",
    "    print(f'Path: {result.path()}')\n",
    "    print(f'Cost: {result.cost}')\n",
    "\n",
    "\n",
    "def tester(search_method, imax, delta=20):\n",
    "\n",
    "    print(f'Testing {search_method.__name__}')\n",
    "    for i in np.linspace(imax, 0, delta):\n",
    "        problem = mars_route_finding(START_STATE, GOAL_STATE, mars_map, i * MAX_DIFF, UNTRAVERSABLE, STEP_SIZE)\n",
    "        result = search_method(problem, graph_search=True)\n",
    "        report(result)\n",
    "        print(f'Max difference (factor {i}): {i * MAX_DIFF}')"
   ]
  },
  {
   "cell_type": "markdown",
   "metadata": {},
   "source": [
    "### Estados iniciales y finales"
   ]
  },
  {
   "cell_type": "code",
   "execution_count": 4,
   "metadata": {},
   "outputs": [],
   "source": [
    "# Coordenadas iniciales\n",
    "START = pos_to_index((x0, y0))\n",
    "GOAL = pos_to_index((xf, yf))\n",
    "\n",
    "# Conversión a estado\n",
    "START_STATE = coord_to_state(START)\n",
    "GOAL_STATE = coord_to_state(GOAL)\n"
   ]
  },
  {
   "cell_type": "markdown",
   "metadata": {},
   "source": [
    "### Implementación del problema"
   ]
  },
  {
   "cell_type": "code",
   "execution_count": 5,
   "metadata": {},
   "outputs": [],
   "source": [
    "class mars_route_finding(SearchProblem):\n",
    "\n",
    "    def __init__(self, initial_state: str, goal_state: str, mars_map: np.array, max_height: float, not_traversable: int, step_size: int):\n",
    "\n",
    "        self.mars_map = mars_map\n",
    "        self.initial_state = initial_state\n",
    "        self.goal_state = goal_state\n",
    "        self.max_height = max_height\n",
    "        self.not_traversable = not_traversable\n",
    "        self.step_size = step_size\n",
    "\n",
    "        print(\"Initial state: \", self.initial_state)\n",
    "        print(\"Goal state: \", self.goal_state)\n",
    "\n",
    "        SearchProblem.__init__(self, initial_state)\n",
    "\n",
    "    def actions(self, state):\n",
    "        mars_map = self.mars_map\n",
    "        actions = []\n",
    "\n",
    "        pos_directions = ['U', 'D', 'L', 'R']\n",
    "        x0, y0 = state_to_coord(state)\n",
    "\n",
    "        for action in pos_directions:\n",
    "            x, y = state_to_coord(self.result(state, action))\n",
    "            height_difference = abs(mars_map[x0, y0] - mars_map[x, y])\n",
    "\n",
    "            if (mars_map[x, y] != self.not_traversable):\n",
    "                if height_difference <= self.max_height:\n",
    "                    # print(f'[{x}, {y}], action: {action}, height_difference: {height_difference}')\n",
    "                    actions.append(action)\n",
    "    \n",
    "        return actions\n",
    "\n",
    "    def result(self, state, action):\n",
    "        x, y = state_to_coord(state)\n",
    "        step_size = self.step_size\n",
    "\n",
    "        if action.count('U'):\n",
    "            x -= step_size\n",
    "        elif action.count('D'):\n",
    "            x += step_size\n",
    "        elif action.count('L'):\n",
    "            y -= step_size\n",
    "        elif action.count('R'):\n",
    "            y += step_size\n",
    "        else:\n",
    "            print('No se encontró la acción')\n",
    "        \n",
    "        new_state = coord_to_state([x, y])\n",
    "        return new_state\n",
    "\n",
    "    def is_goal(self, state):\n",
    "        x, y = state_to_coord(state)\n",
    "        xg, yg = state_to_coord(self.goal_state)\n",
    "\n",
    "        return state == self.goal_state\n",
    "\n",
    "    def cost(self, state, action, state2):\n",
    "        alpha, beta = 1, 1\n",
    "\n",
    "        x0, y0 = state_to_coord(state)\n",
    "        xn, yn = state_to_coord(state2)\n",
    "\n",
    "        distance = np.sqrt((x0 - xn)**2 + (y0 - yn)**2)\n",
    "        height_difference = abs(self.mars_map[x0, y0] - self.mars_map[xn, yn])\n",
    "\n",
    "        return alpha * distance + beta * height_difference\n",
    "\n",
    "    def heuristic(self, state):\n",
    "        x, y = state_to_coord(state)\n",
    "        xg, yg = state_to_coord(self.goal_state)\n",
    "        distance = np.sqrt((x - xg)**2 + (y - yg)**2)\n",
    "\n",
    "        return distance\n"
   ]
  },
  {
   "cell_type": "markdown",
   "metadata": {},
   "source": [
    "### Prueba de algoritmos de búsqueda"
   ]
  },
  {
   "cell_type": "code",
   "execution_count": 6,
   "metadata": {},
   "outputs": [
    {
     "name": "stdout",
     "output_type": "stream",
     "text": [
      "Initial state:  1530,639\n",
      "Goal state:  1501,679\n"
     ]
    }
   ],
   "source": [
    "my_problem = mars_route_finding(START_STATE, GOAL_STATE, mars_map, 5.5 * MAX_DIFF, UNTRAVERSABLE, STEP_SIZE)\n"
   ]
  },
  {
   "cell_type": "markdown",
   "metadata": {},
   "source": [
    "#### Breadth-first search"
   ]
  },
  {
   "cell_type": "code",
   "execution_count": 7,
   "metadata": {},
   "outputs": [],
   "source": [
    "breadth_result = breadth_first(my_problem, graph_search=True)"
   ]
  },
  {
   "cell_type": "code",
   "execution_count": 8,
   "metadata": {},
   "outputs": [
    {
     "name": "stdout",
     "output_type": "stream",
     "text": [
      "Found path with length 70\n",
      "Path: [(None, '1530,639'), ('U', '1529,639'), ('U', '1528,639'), ('U', '1527,639'), ('U', '1526,639'), ('U', '1525,639'), ('U', '1524,639'), ('U', '1523,639'), ('U', '1522,639'), ('R', '1522,640'), ('R', '1522,641'), ('R', '1522,642'), ('R', '1522,643'), ('R', '1522,644'), ('U', '1521,644'), ('U', '1520,644'), ('R', '1520,645'), ('R', '1520,646'), ('R', '1520,647'), ('R', '1520,648'), ('U', '1519,648'), ('R', '1519,649'), ('U', '1518,649'), ('R', '1518,650'), ('R', '1518,651'), ('R', '1518,652'), ('R', '1518,653'), ('R', '1518,654'), ('R', '1518,655'), ('R', '1518,656'), ('U', '1517,656'), ('U', '1516,656'), ('U', '1515,656'), ('U', '1514,656'), ('U', '1513,656'), ('U', '1512,656'), ('U', '1511,656'), ('U', '1510,656'), ('U', '1509,656'), ('U', '1508,656'), ('U', '1507,656'), ('U', '1506,656'), ('U', '1505,656'), ('U', '1504,656'), ('U', '1503,656'), ('U', '1502,656'), ('U', '1501,656'), ('R', '1501,657'), ('R', '1501,658'), ('R', '1501,659'), ('R', '1501,660'), ('R', '1501,661'), ('R', '1501,662'), ('R', '1501,663'), ('R', '1501,664'), ('R', '1501,665'), ('R', '1501,666'), ('R', '1501,667'), ('R', '1501,668'), ('R', '1501,669'), ('R', '1501,670'), ('R', '1501,671'), ('R', '1501,672'), ('R', '1501,673'), ('R', '1501,674'), ('R', '1501,675'), ('R', '1501,676'), ('R', '1501,677'), ('R', '1501,678'), ('R', '1501,679')]\n",
      "Cost: 102.87804687499994\n"
     ]
    }
   ],
   "source": [
    "report(breadth_result)"
   ]
  },
  {
   "cell_type": "markdown",
   "metadata": {},
   "source": [
    "#### Depth-first search"
   ]
  },
  {
   "cell_type": "code",
   "execution_count": null,
   "metadata": {},
   "outputs": [],
   "source": [
    "depth_result = depth_first(my_problem, graph_search=True)"
   ]
  },
  {
   "cell_type": "code",
   "execution_count": null,
   "metadata": {},
   "outputs": [],
   "source": [
    "report(depth_result)"
   ]
  },
  {
   "cell_type": "markdown",
   "metadata": {},
   "source": [
    "#### Uniform cost search"
   ]
  },
  {
   "cell_type": "code",
   "execution_count": 9,
   "metadata": {},
   "outputs": [],
   "source": [
    "uniform_result = uniform_cost(my_problem, graph_search=True)"
   ]
  },
  {
   "cell_type": "code",
   "execution_count": 10,
   "metadata": {},
   "outputs": [
    {
     "name": "stdout",
     "output_type": "stream",
     "text": [
      "Found path with length 70\n",
      "Path: [(None, '1530,639'), ('R', '1530,640'), ('R', '1530,641'), ('R', '1530,642'), ('R', '1530,643'), ('R', '1530,644'), ('U', '1529,644'), ('R', '1529,645'), ('U', '1528,645'), ('U', '1527,645'), ('U', '1526,645'), ('U', '1525,645'), ('U', '1524,645'), ('U', '1523,645'), ('R', '1523,646'), ('R', '1523,647'), ('U', '1522,647'), ('R', '1522,648'), ('R', '1522,649'), ('U', '1521,649'), ('U', '1520,649'), ('R', '1520,650'), ('R', '1520,651'), ('R', '1520,652'), ('R', '1520,653'), ('R', '1520,654'), ('R', '1520,655'), ('R', '1520,656'), ('U', '1519,656'), ('U', '1518,656'), ('R', '1518,657'), ('U', '1517,657'), ('U', '1516,657'), ('R', '1516,658'), ('U', '1515,658'), ('U', '1514,658'), ('U', '1513,658'), ('U', '1512,658'), ('U', '1511,658'), ('R', '1511,659'), ('R', '1511,660'), ('U', '1510,660'), ('U', '1509,660'), ('U', '1508,660'), ('R', '1508,661'), ('U', '1507,661'), ('R', '1507,662'), ('U', '1506,662'), ('R', '1506,663'), ('U', '1505,663'), ('R', '1505,664'), ('R', '1505,665'), ('R', '1505,666'), ('R', '1505,667'), ('U', '1504,667'), ('R', '1504,668'), ('U', '1503,668'), ('R', '1503,669'), ('R', '1503,670'), ('R', '1503,671'), ('R', '1503,672'), ('R', '1503,673'), ('U', '1502,673'), ('R', '1502,674'), ('R', '1502,675'), ('R', '1502,676'), ('R', '1502,677'), ('R', '1502,678'), ('R', '1502,679'), ('U', '1501,679')]\n",
      "Cost: 101.57093261718745\n"
     ]
    }
   ],
   "source": [
    "report(uniform_result)"
   ]
  },
  {
   "cell_type": "markdown",
   "metadata": {},
   "source": [
    "#### A* search"
   ]
  },
  {
   "cell_type": "code",
   "execution_count": 11,
   "metadata": {},
   "outputs": [],
   "source": [
    "astar_result = astar(my_problem, graph_search=True)"
   ]
  },
  {
   "cell_type": "code",
   "execution_count": 12,
   "metadata": {},
   "outputs": [
    {
     "name": "stdout",
     "output_type": "stream",
     "text": [
      "Found path with length 70\n",
      "Path: [(None, '1530,639'), ('R', '1530,640'), ('R', '1530,641'), ('R', '1530,642'), ('R', '1530,643'), ('R', '1530,644'), ('U', '1529,644'), ('R', '1529,645'), ('U', '1528,645'), ('U', '1527,645'), ('U', '1526,645'), ('U', '1525,645'), ('U', '1524,645'), ('U', '1523,645'), ('R', '1523,646'), ('R', '1523,647'), ('U', '1522,647'), ('R', '1522,648'), ('R', '1522,649'), ('U', '1521,649'), ('U', '1520,649'), ('R', '1520,650'), ('R', '1520,651'), ('R', '1520,652'), ('R', '1520,653'), ('R', '1520,654'), ('R', '1520,655'), ('R', '1520,656'), ('U', '1519,656'), ('U', '1518,656'), ('R', '1518,657'), ('U', '1517,657'), ('U', '1516,657'), ('R', '1516,658'), ('U', '1515,658'), ('U', '1514,658'), ('U', '1513,658'), ('U', '1512,658'), ('U', '1511,658'), ('R', '1511,659'), ('R', '1511,660'), ('R', '1511,661'), ('R', '1511,662'), ('U', '1510,662'), ('R', '1510,663'), ('R', '1510,664'), ('U', '1509,664'), ('U', '1508,664'), ('U', '1507,664'), ('R', '1507,665'), ('R', '1507,666'), ('R', '1507,667'), ('U', '1506,667'), ('R', '1506,668'), ('U', '1505,668'), ('U', '1504,668'), ('R', '1504,669'), ('U', '1503,669'), ('R', '1503,670'), ('R', '1503,671'), ('R', '1503,672'), ('R', '1503,673'), ('R', '1503,674'), ('R', '1503,675'), ('U', '1502,675'), ('R', '1502,676'), ('R', '1502,677'), ('R', '1502,678'), ('R', '1502,679'), ('U', '1501,679')]\n",
      "Cost: 101.57093261718745\n"
     ]
    }
   ],
   "source": [
    "report(astar_result)"
   ]
  },
  {
   "cell_type": "markdown",
   "metadata": {},
   "source": [
    "- 3 de los 4 algoritmos de búsqueda fueron capaces de encontrar rutas válidas, el único que no pudo hacerlo fue el de `depth_first_search`, el número de nodos por visitar es simplemente enorme (y como en este caso la meta no estaba tan lejos).\n",
    "- 2 de los algoritmos no informados encontraron una ruta válida en tiempos aceptables, pero el algoritmo `A*` fue el más veloz de todos, además que lo logró con el camino con el menor costo\n",
    "- Como función heurística propusimos la distancia euclideana entre el punto actual y la meta."
   ]
  },
  {
   "cell_type": "markdown",
   "metadata": {},
   "source": [
    "### Rendimiento de los algoritmos de búsqueda"
   ]
  },
  {
   "cell_type": "code",
   "execution_count": null,
   "metadata": {},
   "outputs": [],
   "source": [
    "# 500 metros\n",
    "start_500, \n",
    "\n",
    "# 1000 metros\n",
    "\n",
    "# 5000 metros\n",
    "\n",
    "# 10,000 metros"
   ]
  },
  {
   "cell_type": "markdown",
   "metadata": {},
   "source": [
    "## Contribuciones"
   ]
  },
  {
   "cell_type": "markdown",
   "metadata": {},
   "source": [
    "### Juan Pablo Echeagaray González\n",
    "\n",
    "- Control de versiones del cuaderno\n",
    "- Implementación de la clase del problema"
   ]
  },
  {
   "cell_type": "markdown",
   "metadata": {},
   "source": [
    "## Conclusiones"
   ]
  }
 ],
 "metadata": {
  "interpreter": {
   "hash": "a78c4be66ba3b4a897c6e596b18611fdff70693afae29e50365a94a133cff73c"
  },
  "kernelspec": {
   "display_name": "Python 3.9.7 64-bit",
   "language": "python",
   "name": "python3"
  },
  "language_info": {
   "codemirror_mode": {
    "name": "ipython",
    "version": 3
   },
   "file_extension": ".py",
   "mimetype": "text/x-python",
   "name": "python",
   "nbconvert_exporter": "python",
   "pygments_lexer": "ipython3",
   "version": "3.9.7"
  },
  "orig_nbformat": 4
 },
 "nbformat": 4,
 "nbformat_minor": 2
}
