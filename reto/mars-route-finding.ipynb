{
 "cells": [
  {
   "cell_type": "markdown",
   "metadata": {},
   "source": [
    "# Planeación de rutas para la exploración de Marte\n",
    "\n",
    "---\n",
    "\n",
    "- Diseño de agentes inteligentes\n",
    "- TC2032.101\n",
    "- Profesor: Juan Emmanuel Martínez Ledesma\n",
    "\n",
    "Equipo 7:\n",
    "\n",
    "| Nombre | Matrícula |\n",
    "| ----- | ------ |\n",
    "| Juan Pablo Echeagaray González | A00830646 |\n",
    "| Emily Rebeca Méndez Cruz | A00830768 |\n",
    "| Erika Martínez Meneses | A01028621 |\n",
    "| Oscar Antonio Banderas Álvarez | A01568492 |\n",
    "| César Guillermo Vázquez Alvarez | A01197857 |\n",
    "\n",
    "- 8 de marzo del 2022\n"
   ]
  },
  {
   "cell_type": "markdown",
   "metadata": {},
   "source": [
    "## Instrucciones"
   ]
  },
  {
   "cell_type": "markdown",
   "metadata": {},
   "source": [
    "Una fuente de información importante para la exploración de Marte son las imágenes obtenidas con orbitadores que están continuamente enviando información sobre la superficie de nuestro planeta vecino. En la página de [HiRISE](https://www.uahirise.org/dtm/) se encuentra disponible una gran cantidad de imágenes en alta resolución captadas a través de diversos satélites con instrumentos capaces de medir la profundidad y otras características del suelo marciano. Estos datos ayudaron a determinar el lugar donde aterrizó el Rover Perseverance en la última misión llevada a cabo por parte de la NASA en el planeta rojo.\n",
    "\n",
    "Las siguientes figuras son representaciones en 3D de una pequeña parte de la superficie de Marte. Los ejes representan distancias en metros, y los colores indican las partes más profundas (en rojo) y más elevadas (en amarillo claro). Se toma como nivel 0 la parte más profundad de la superficie mostrada. Estos datos se encuentran en el sitio de [HiRISE](https://www.uahirise.org/dtm/).\n",
    "\n",
    "![](img\\2022-03-07-11-44-05.png)\n",
    "\n",
    "![](img\\2022-03-07-11-45-21.png)\n",
    "\n",
    "![](img\\2022-03-07-11-45-35.png)\n",
    "\n",
    "La información mostrada con anterioridad se puede representar en una imagen como la que se muestra a continuación. El color de cada pixel de la imagen representa la altura en dicha posición. Las secciones en gris representan áreas donde no hay información satelital.\n",
    "\n",
    "---\n",
    "![](img\\2022-03-07-11-46-01.png)\n",
    "\n",
    "Los datos en el sitio [HiRISE](https://www.uahirise.org/dtm/) están disponibles en archivos IMG con información topográfica. En los archivos originales, la superficie anterior tiene dimensiones de 7557 pixeles de ancho y 18143 pixeles de alto. Cada pixel representa un área de 1.0017 metros x 1.0017 metros. Estos datos no son colores RGB, son valores de altura, y la imagen mostrada se conoce como imagen de falso color, ya que se construye artificialmente asignando un color a cada pixel de acuerdo a alguna dimensión o medida (en este caso, valores de profundidad o altura). A estas imágenes se les llaman mapas de altura. Los valores en gris tienen un valor de altura de -1, y representan áreas donde no hay información válida.\n",
    "\n",
    "El archivo de datos de la superficie mostrada se puede descargar [aquí](https://experiencia21.tec.mx/courses/241470/files/78461927?wrap=1) . Por otro lado, el código que carga el archivo IMG y genera las imágenes anteriores se puede descargar [aquí](https://experiencia21.tec.mx/courses/241470/files/78461984?wrap=1). Debido a que el tamaño del archivo de datos es de alrededor de un 1Gb, la imagen original se escala a un tamaño menor. Con ello, las imágenes mostradas tienen dimensiones de 756 x 1814, y cada pixel representa a un área de 10.0174 x 10.0174.\n",
    "\n",
    "Debido a que los datos se manejan como una imagen, el sistema de coordenadas de la matriz  de datos está volteado en el eje vertical. En una imagen, la parte superior está representada en el primer renglón de la matriz de datos. Por ello, para calcular el renglón $r$ y columna $c$ de una coordenada $x, y$, realice lo siguiente:\n",
    "\n",
    "$$\\begin{gather*}\n",
    "r = n_r - \\text{round}\\left(\\frac{y}{scale}\\right) \\\\\n",
    "c = \\text{round}\\left(\\frac{y}{scale}\\right)\n",
    "\\end{gather*}$$\n",
    "\n",
    "Donde $n_r$ y $n_c$ son los números de renglones y columnas de la imagen o matriz de datos (en este caso 1814 y 756), y la escala indica la cantidad de metros por cada pixel (10.0174).\n",
    "\n",
    "En esta actividad, probarás algoritmos de búsqueda para la planeación de rutas en el mapa de altura mostrado en esta actividad. Para ello, se pide que realicen las siguientes tareas."
   ]
  },
  {
   "cell_type": "markdown",
   "metadata": {},
   "source": [
    "### Prueba de algoritmos de búsqueda\n",
    "\n",
    "Para el mapa de alturas presentado en esta actividad, utilicen al menos cuatro algoritmos de búsqueda para determinar una posible ruta de navegación desde la posición $x = 2850, y = 6400$ hasta el punto $x = 3150, y = 6800$. Entre los algoritmos de búsqueda, debe incluir el método A*. \n",
    "\n",
    "Para determinar rutas posibles, consideren lo siguiente:\n",
    "- El Rover explorador puede moverse de un pixel a otro contiguo en el mapa en cualquier dirección, pero sólo si la diferencia de alturas entre la posición actual y la siguiente posición es menor a 0.25 metros (el programa debe manejar este valor como parámetro que pueda ser modificado fácilmente).\n",
    "- Los pixeles del mapa con una altura de -1 no son válidos y el Rover no se puede mover hacia ellos.\n",
    "\n",
    "Para este punto, es necesario indicar la distancia recorrida por el Rover. Además, contesten las siguientes preguntas:\n",
    "- ¿Qué algoritmos lograron encontrar una ruta válida? \n",
    "- ¿Es necesario utilizar búsquedas informadas para este caso?\n",
    "- ¿Qué función heurística resultó adecuada para este problema?\n"
   ]
  },
  {
   "cell_type": "markdown",
   "metadata": {},
   "source": [
    "### Rendimiento de los algoritmos de búsqueda para rutas cortas y largas\n",
    "\n",
    "Seleccionen uno de los algoritmos de búsqueda probados en el apartado anterior de esta fase del proyecto, y determinen con éste rutas de navegación para al menos dos parejas de coordenadas que seleccionen ustedes mismos, de tal manera que el punto de partida y el objetivo no estén a más de $500$ metros. Hagan lo mismo, pero con al menos dos parejas que tengan una distancia entre inicio y fin de mas de $1000$ metros y menos de $5000$ metros. Finalmente, prueben parejas de coordenadas que estén a una distancia mayor a $10000$ metros.\n",
    "\n",
    "Contesten las siguientes preguntas:\n",
    "- ¿En qué casos el algoritmo es capaz de resolver el problema en un tiempo aceptable? \n",
    "- En los casos que el algoritmo no encuentra un resultado, ¿qué acciones se podrían realizar para ayudar al algoritmo a resolver el problema?\n"
   ]
  },
  {
   "cell_type": "markdown",
   "metadata": {},
   "source": [
    "## Implementación"
   ]
  },
  {
   "cell_type": "code",
   "execution_count": 36,
   "metadata": {},
   "outputs": [
    {
     "data": {
      "text/html": [
       "\n",
       "<style>\n",
       "    .output-plaintext, .output-stream, .output {\n",
       "        font-family: Cascadia Code; # Any monospaced font should work\n",
       "        line-height: 1.3 !important;\n",
       "        font-size: 14px !important;\n",
       "    }\n",
       "</style>\n"
      ],
      "text/plain": [
       "<IPython.core.display.HTML object>"
      ]
     },
     "execution_count": 36,
     "metadata": {},
     "output_type": "execute_result"
    }
   ],
   "source": [
    "# Basic dependencies\n",
    "from simpleai.search import SearchProblem\n",
    "from simpleai.search import breadth_first, uniform_cost, depth_first, astar\n",
    "import numpy as np\n",
    "\n",
    "from IPython.core.display import HTML\n",
    "HTML(r\"\"\"\n",
    "<style>\n",
    "    .output-plaintext, .output-stream, .output {\n",
    "        font-family: Cascadia Code; # Any monospaced font should work\n",
    "        line-height: 1.3 !important;\n",
    "        font-size: 14px !important;\n",
    "    }\n",
    "</style>\n",
    "\"\"\")\n"
   ]
  },
  {
   "cell_type": "markdown",
   "metadata": {},
   "source": [
    "### Características del problema"
   ]
  },
  {
   "cell_type": "code",
   "execution_count": 37,
   "metadata": {},
   "outputs": [],
   "source": [
    "SCALE = 10.0174\n",
    "mars_map = np.load('mars_map.npy')\n",
    "NR, NC = mars_map.shape\n",
    "\n",
    "# Start and goal positions\n",
    "x0, y0 = 2850, 6400\n",
    "xf, yf = 3150, 6800\n",
    "MAX_DIFF = 0.25\n",
    "UNTRAVERSABLE = -1\n",
    "STEP_SIZE = 1\n"
   ]
  },
  {
   "cell_type": "markdown",
   "metadata": {},
   "source": [
    "### Funciones auxiliares"
   ]
  },
  {
   "cell_type": "code",
   "execution_count": 82,
   "metadata": {},
   "outputs": [],
   "source": [
    "def pos_to_index(pos: list[int]) -> list[int]:\n",
    "    nr = NR - round(pos[0] / SCALE)\n",
    "    nc = round(pos[1] / SCALE)\n",
    "    return [nr, nc]\n",
    "\n",
    "\n",
    "def coord_to_state(coord: list[int]) -> str:\n",
    "    return f'{coord[0]},{coord[1]}'\n",
    "\n",
    "\n",
    "def state_to_coord(state: str) -> list[int]:\n",
    "    return tuple([int(x) for x in state.split(',')])\n",
    "\n",
    "\n",
    "def report(result):\n",
    "    print(f'Found path with length {len(result.path())}')\n",
    "    print(f'Path: {result.path()}')\n",
    "    print(f'Cost: {result.cost}')\n",
    "\n",
    "\n",
    "def tester(search_method, imax, delta=20):\n",
    "\n",
    "    print(f'Testing {search_method.__name__}')\n",
    "    for i in np.linspace(imax, 0, delta):\n",
    "        problem = mars_route_finding(START_STATE, GOAL_STATE, mars_map, i * MAX_DIFF, UNTRAVERSABLE, STEP_SIZE)\n",
    "        result = search_method(problem, graph_search=True)\n",
    "        report(result)\n",
    "        print(f'Max difference (factor {i}): {i * MAX_DIFF}')\n",
    "\n",
    "\n",
    "def distance(pos1, pos2):\n",
    "    return np.sqrt((pos1[0] - pos2[0]) ** 2 + (pos1[1] - pos2[1]) ** 2)\n"
   ]
  },
  {
   "cell_type": "markdown",
   "metadata": {},
   "source": [
    "### Estados iniciales y finales"
   ]
  },
  {
   "cell_type": "code",
   "execution_count": 39,
   "metadata": {},
   "outputs": [],
   "source": [
    "# Coordenadas iniciales\n",
    "START = pos_to_index((x0, y0))\n",
    "GOAL = pos_to_index((xf, yf))\n",
    "\n",
    "# Conversión a estado\n",
    "START_STATE = coord_to_state(START)\n",
    "GOAL_STATE = coord_to_state(GOAL)\n"
   ]
  },
  {
   "cell_type": "markdown",
   "metadata": {},
   "source": [
    "### Implementación del problema"
   ]
  },
  {
   "cell_type": "code",
   "execution_count": 40,
   "metadata": {},
   "outputs": [],
   "source": [
    "class mars_route_finding(SearchProblem):\n",
    "\n",
    "    def __init__(self, initial_state: str, goal_state: str, mars_map: np.array, max_height: float, not_traversable: int, step_size: int):\n",
    "\n",
    "        self.mars_map = mars_map\n",
    "        self.initial_state = initial_state\n",
    "        self.goal_state = goal_state\n",
    "        self.max_height = max_height\n",
    "        self.not_traversable = not_traversable\n",
    "        self.step_size = step_size\n",
    "\n",
    "        print(\"Initial state: \", self.initial_state)\n",
    "        print(\"Goal state: \", self.goal_state)\n",
    "\n",
    "        SearchProblem.__init__(self, initial_state)\n",
    "\n",
    "    def actions(self, state):\n",
    "        mars_map = self.mars_map\n",
    "        actions = []\n",
    "\n",
    "        pos_directions = ['U', 'D', 'L', 'R', 'UL', 'UR', 'DL', 'DR']\n",
    "        x0, y0 = state_to_coord(state)\n",
    "\n",
    "        for action in pos_directions:\n",
    "            x, y = state_to_coord(self.result(state, action))\n",
    "            height_difference = abs(mars_map[x0, y0] - mars_map[x, y])\n",
    "\n",
    "            if (mars_map[x, y] != self.not_traversable):\n",
    "                if height_difference <= self.max_height:\n",
    "                    # print(f'[{x}, {y}], action: {action}, height_difference: {height_difference}')\n",
    "                    actions.append(action)\n",
    "    \n",
    "        return actions\n",
    "\n",
    "    def result(self, state, action):\n",
    "        x, y = state_to_coord(state)\n",
    "        step_size = self.step_size\n",
    "\n",
    "        if action.count('U'):\n",
    "            x -= step_size\n",
    "        elif action.count('D'):\n",
    "            x += step_size\n",
    "        elif action.count('L'):\n",
    "            y -= step_size\n",
    "        elif action.count('R'):\n",
    "            y += step_size\n",
    "        elif action.count('UL'):\n",
    "            x -= step_size\n",
    "            y -= step_size\n",
    "        elif action.count('UR'):\n",
    "            x -= step_size\n",
    "            y += step_size\n",
    "        elif action.count('DL'):\n",
    "            x += step_size\n",
    "            y -= step_size\n",
    "        elif action.count('DR'):\n",
    "            x += step_size\n",
    "            y += step_size\n",
    "        else:\n",
    "            print('No se encontró la acción')\n",
    "        \n",
    "        new_state = coord_to_state([x, y])\n",
    "        return new_state\n",
    "\n",
    "    def is_goal(self, state):\n",
    "\n",
    "        return state == self.goal_state\n",
    "\n",
    "    def cost(self, state, action, state2):\n",
    "        alpha, beta = 1, 1\n",
    "\n",
    "        x0, y0 = state_to_coord(state)\n",
    "        xn, yn = state_to_coord(state2)\n",
    "\n",
    "        distance = np.sqrt((x0 - xn)**2 + (y0 - yn)**2)\n",
    "        height_difference = abs(self.mars_map[x0, y0] - self.mars_map[xn, yn])\n",
    "\n",
    "        return alpha * distance + beta * height_difference\n",
    "\n",
    "    def heuristic(self, state):\n",
    "        x, y = state_to_coord(state)\n",
    "        xg, yg = state_to_coord(self.goal_state)\n",
    "        distance = np.sqrt((x - xg)**2 + (y - yg)**2)\n",
    "\n",
    "        return distance\n"
   ]
  },
  {
   "cell_type": "markdown",
   "metadata": {},
   "source": [
    "### Prueba de algoritmos de búsqueda"
   ]
  },
  {
   "cell_type": "code",
   "execution_count": 41,
   "metadata": {},
   "outputs": [
    {
     "name": "stdout",
     "output_type": "stream",
     "text": [
      "Initial state:  1530,639\n",
      "Goal state:  1501,679\n"
     ]
    }
   ],
   "source": [
    "my_problem = mars_route_finding(START_STATE, GOAL_STATE, mars_map, 5.5 * MAX_DIFF, UNTRAVERSABLE, STEP_SIZE)\n"
   ]
  },
  {
   "cell_type": "markdown",
   "metadata": {},
   "source": [
    "#### Breadth-first search"
   ]
  },
  {
   "cell_type": "code",
   "execution_count": 42,
   "metadata": {},
   "outputs": [
    {
     "name": "stdout",
     "output_type": "stream",
     "text": [
      "677 ms ± 93.6 ms per loop (mean ± std. dev. of 7 runs, 1 loop each)\n"
     ]
    }
   ],
   "source": [
    "%%timeit\n",
    "breadth_result = breadth_first(my_problem, graph_search=True)"
   ]
  },
  {
   "cell_type": "code",
   "execution_count": 43,
   "metadata": {},
   "outputs": [],
   "source": [
    "breadth_result = breadth_first(my_problem, graph_search=True)"
   ]
  },
  {
   "cell_type": "code",
   "execution_count": 44,
   "metadata": {},
   "outputs": [
    {
     "name": "stdout",
     "output_type": "stream",
     "text": [
      "Found path with length 70\n",
      "Path: [(None, '1530,639'), ('U', '1529,639'), ('U', '1528,639'), ('U', '1527,639'), ('U', '1526,639'), ('U', '1525,639'), ('U', '1524,639'), ('U', '1523,639'), ('U', '1522,639'), ('R', '1522,640'), ('R', '1522,641'), ('R', '1522,642'), ('R', '1522,643'), ('R', '1522,644'), ('U', '1521,644'), ('U', '1520,644'), ('R', '1520,645'), ('R', '1520,646'), ('R', '1520,647'), ('R', '1520,648'), ('U', '1519,648'), ('R', '1519,649'), ('U', '1518,649'), ('R', '1518,650'), ('R', '1518,651'), ('R', '1518,652'), ('R', '1518,653'), ('R', '1518,654'), ('R', '1518,655'), ('R', '1518,656'), ('U', '1517,656'), ('U', '1516,656'), ('U', '1515,656'), ('U', '1514,656'), ('U', '1513,656'), ('U', '1512,656'), ('U', '1511,656'), ('U', '1510,656'), ('U', '1509,656'), ('U', '1508,656'), ('U', '1507,656'), ('U', '1506,656'), ('U', '1505,656'), ('U', '1504,656'), ('U', '1503,656'), ('U', '1502,656'), ('U', '1501,656'), ('R', '1501,657'), ('R', '1501,658'), ('R', '1501,659'), ('R', '1501,660'), ('R', '1501,661'), ('R', '1501,662'), ('R', '1501,663'), ('R', '1501,664'), ('R', '1501,665'), ('R', '1501,666'), ('R', '1501,667'), ('R', '1501,668'), ('R', '1501,669'), ('R', '1501,670'), ('R', '1501,671'), ('R', '1501,672'), ('R', '1501,673'), ('R', '1501,674'), ('R', '1501,675'), ('R', '1501,676'), ('R', '1501,677'), ('R', '1501,678'), ('R', '1501,679')]\n",
      "Cost: 102.87804687499994\n"
     ]
    }
   ],
   "source": [
    "report(breadth_result)"
   ]
  },
  {
   "cell_type": "markdown",
   "metadata": {},
   "source": [
    "#### Depth-first search"
   ]
  },
  {
   "cell_type": "code",
   "execution_count": null,
   "metadata": {},
   "outputs": [],
   "source": [
    "depth_result = depth_first(my_problem, graph_search=True)"
   ]
  },
  {
   "cell_type": "code",
   "execution_count": null,
   "metadata": {},
   "outputs": [],
   "source": [
    "report(depth_result)"
   ]
  },
  {
   "cell_type": "markdown",
   "metadata": {},
   "source": [
    "#### Uniform cost search"
   ]
  },
  {
   "cell_type": "code",
   "execution_count": 45,
   "metadata": {},
   "outputs": [
    {
     "name": "stdout",
     "output_type": "stream",
     "text": [
      "1.08 s ± 74.5 ms per loop (mean ± std. dev. of 7 runs, 1 loop each)\n"
     ]
    }
   ],
   "source": [
    "%%timeit\n",
    "uniform_result = uniform_cost(my_problem, graph_search=True)"
   ]
  },
  {
   "cell_type": "code",
   "execution_count": 46,
   "metadata": {},
   "outputs": [],
   "source": [
    "uniform_result = uniform_cost(my_problem, graph_search=True)"
   ]
  },
  {
   "cell_type": "code",
   "execution_count": 47,
   "metadata": {},
   "outputs": [
    {
     "name": "stdout",
     "output_type": "stream",
     "text": [
      "Found path with length 70\n",
      "Path: [(None, '1530,639'), ('R', '1530,640'), ('R', '1530,641'), ('R', '1530,642'), ('R', '1530,643'), ('R', '1530,644'), ('U', '1529,644'), ('R', '1529,645'), ('U', '1528,645'), ('U', '1527,645'), ('U', '1526,645'), ('U', '1525,645'), ('U', '1524,645'), ('U', '1523,645'), ('R', '1523,646'), ('R', '1523,647'), ('U', '1522,647'), ('R', '1522,648'), ('R', '1522,649'), ('U', '1521,649'), ('U', '1520,649'), ('R', '1520,650'), ('R', '1520,651'), ('R', '1520,652'), ('R', '1520,653'), ('R', '1520,654'), ('R', '1520,655'), ('R', '1520,656'), ('U', '1519,656'), ('U', '1518,656'), ('R', '1518,657'), ('U', '1517,657'), ('U', '1516,657'), ('R', '1516,658'), ('U', '1515,658'), ('U', '1514,658'), ('U', '1513,658'), ('U', '1512,658'), ('U', '1511,658'), ('R', '1511,659'), ('R', '1511,660'), ('U', '1510,660'), ('U', '1509,660'), ('U', '1508,660'), ('R', '1508,661'), ('U', '1507,661'), ('R', '1507,662'), ('U', '1506,662'), ('R', '1506,663'), ('U', '1505,663'), ('R', '1505,664'), ('R', '1505,665'), ('R', '1505,666'), ('R', '1505,667'), ('U', '1504,667'), ('R', '1504,668'), ('U', '1503,668'), ('R', '1503,669'), ('R', '1503,670'), ('R', '1503,671'), ('R', '1503,672'), ('R', '1503,673'), ('U', '1502,673'), ('R', '1502,674'), ('R', '1502,675'), ('R', '1502,676'), ('R', '1502,677'), ('R', '1502,678'), ('R', '1502,679'), ('U', '1501,679')]\n",
      "Cost: 101.57093261718745\n"
     ]
    }
   ],
   "source": [
    "report(uniform_result)"
   ]
  },
  {
   "cell_type": "markdown",
   "metadata": {},
   "source": [
    "#### A* search"
   ]
  },
  {
   "cell_type": "code",
   "execution_count": 48,
   "metadata": {},
   "outputs": [
    {
     "name": "stdout",
     "output_type": "stream",
     "text": [
      "443 ms ± 28.3 ms per loop (mean ± std. dev. of 7 runs, 1 loop each)\n"
     ]
    }
   ],
   "source": [
    "%%timeit\n",
    "astar_result = astar(my_problem, graph_search=True)"
   ]
  },
  {
   "cell_type": "code",
   "execution_count": 49,
   "metadata": {},
   "outputs": [],
   "source": [
    "astar_result = astar(my_problem, graph_search=True)"
   ]
  },
  {
   "cell_type": "code",
   "execution_count": 50,
   "metadata": {},
   "outputs": [
    {
     "name": "stdout",
     "output_type": "stream",
     "text": [
      "Found path with length 70\n",
      "Path: [(None, '1530,639'), ('R', '1530,640'), ('R', '1530,641'), ('R', '1530,642'), ('R', '1530,643'), ('R', '1530,644'), ('U', '1529,644'), ('R', '1529,645'), ('U', '1528,645'), ('U', '1527,645'), ('U', '1526,645'), ('U', '1525,645'), ('U', '1524,645'), ('U', '1523,645'), ('R', '1523,646'), ('R', '1523,647'), ('U', '1522,647'), ('R', '1522,648'), ('R', '1522,649'), ('U', '1521,649'), ('U', '1520,649'), ('R', '1520,650'), ('R', '1520,651'), ('R', '1520,652'), ('R', '1520,653'), ('R', '1520,654'), ('R', '1520,655'), ('R', '1520,656'), ('U', '1519,656'), ('U', '1518,656'), ('R', '1518,657'), ('U', '1517,657'), ('U', '1516,657'), ('R', '1516,658'), ('U', '1515,658'), ('U', '1514,658'), ('U', '1513,658'), ('U', '1512,658'), ('U', '1511,658'), ('R', '1511,659'), ('R', '1511,660'), ('R', '1511,661'), ('R', '1511,662'), ('U', '1510,662'), ('R', '1510,663'), ('R', '1510,664'), ('U', '1509,664'), ('U', '1508,664'), ('U', '1507,664'), ('R', '1507,665'), ('R', '1507,666'), ('R', '1507,667'), ('U', '1506,667'), ('R', '1506,668'), ('U', '1505,668'), ('U', '1504,668'), ('R', '1504,669'), ('U', '1503,669'), ('R', '1503,670'), ('R', '1503,671'), ('R', '1503,672'), ('R', '1503,673'), ('R', '1503,674'), ('R', '1503,675'), ('U', '1502,675'), ('R', '1502,676'), ('R', '1502,677'), ('R', '1502,678'), ('R', '1502,679'), ('U', '1501,679')]\n",
      "Cost: 101.57093261718745\n"
     ]
    }
   ],
   "source": [
    "report(astar_result)"
   ]
  },
  {
   "cell_type": "markdown",
   "metadata": {},
   "source": [
    "- 3 de los 4 algoritmos de búsqueda fueron capaces de encontrar rutas válidas, el único que no pudo hacerlo fue el de `depth_first_search`, el número de nodos por visitar es simplemente enorme (y como en este caso la meta no estaba tan lejos).\n",
    "- 2 de los algoritmos no informados encontraron una ruta válida en tiempos aceptables, pero el algoritmo `A*` fue el más veloz de todos, además que lo logró con el camino con el menor costo\n",
    "- Como función heurística propusimos la distancia euclideana entre el punto actual y la meta."
   ]
  },
  {
   "cell_type": "markdown",
   "metadata": {},
   "source": [
    "### Rendimiento de los algoritmos de búsqueda"
   ]
  },
  {
   "cell_type": "markdown",
   "metadata": {},
   "source": [
    "#### Menos de 500 metros de separación"
   ]
  },
  {
   "cell_type": "code",
   "execution_count": 96,
   "metadata": {},
   "outputs": [
    {
     "name": "stdout",
     "output_type": "stream",
     "text": [
      "Distancia entre los puntos = 460.9772228646444\n"
     ]
    }
   ],
   "source": [
    "# ~ 500 metros\n",
    "x0, y0 = 2850, 6400\n",
    "xf, yf = 2400, 6500\n",
    "GOAL_500 = pos_to_index((xf, yf))\n",
    "GOAL_STATE_500 = coord_to_state(GOAL_500)\n",
    "print(f'Distancia entre los puntos = {distance([x0, y0], [xf, yf])}')"
   ]
  },
  {
   "cell_type": "code",
   "execution_count": 97,
   "metadata": {},
   "outputs": [
    {
     "name": "stdout",
     "output_type": "stream",
     "text": [
      "Initial state:  1530,639\n",
      "Goal state:  1575,649\n"
     ]
    }
   ],
   "source": [
    "my_problem_500 = mars_route_finding(START_STATE, GOAL_STATE_500, mars_map, 5.5 * MAX_DIFF, UNTRAVERSABLE, STEP_SIZE)"
   ]
  },
  {
   "cell_type": "code",
   "execution_count": 98,
   "metadata": {},
   "outputs": [],
   "source": [
    "result_500 = astar(my_problem, graph_search=True)"
   ]
  },
  {
   "cell_type": "code",
   "execution_count": 99,
   "metadata": {},
   "outputs": [
    {
     "name": "stdout",
     "output_type": "stream",
     "text": [
      "Found path with length 100\n",
      "Path: [(None, '1530,639'), ('R', '1530,640'), ('R', '1530,641'), ('R', '1530,642'), ('R', '1530,643'), ('R', '1530,644'), ('U', '1529,644'), ('R', '1529,645'), ('U', '1528,645'), ('U', '1527,645'), ('U', '1526,645'), ('U', '1525,645'), ('U', '1524,645'), ('U', '1523,645'), ('R', '1523,646'), ('R', '1523,647'), ('U', '1522,647'), ('R', '1522,648'), ('R', '1522,649'), ('U', '1521,649'), ('U', '1520,649'), ('R', '1520,650'), ('R', '1520,651'), ('R', '1520,652'), ('R', '1520,653'), ('R', '1520,654'), ('R', '1520,655'), ('D', '1521,655'), ('R', '1521,656'), ('R', '1521,657'), ('R', '1521,658'), ('R', '1521,659'), ('R', '1521,660'), ('R', '1521,661'), ('D', '1522,661'), ('D', '1523,661'), ('D', '1524,661'), ('D', '1525,661'), ('D', '1526,661'), ('D', '1527,661'), ('D', '1528,661'), ('D', '1529,661'), ('D', '1530,661'), ('D', '1531,661'), ('L', '1531,660'), ('D', '1532,660'), ('D', '1533,660'), ('D', '1534,660'), ('D', '1535,660'), ('D', '1536,660'), ('D', '1537,660'), ('D', '1538,660'), ('D', '1539,660'), ('D', '1540,660'), ('D', '1541,660'), ('D', '1542,660'), ('D', '1543,660'), ('D', '1544,660'), ('D', '1545,660'), ('D', '1546,660'), ('D', '1547,660'), ('D', '1548,660'), ('D', '1549,660'), ('D', '1550,660'), ('L', '1550,659'), ('D', '1551,659'), ('D', '1552,659'), ('D', '1553,659'), ('D', '1554,659'), ('D', '1555,659'), ('L', '1555,658'), ('D', '1556,658'), ('D', '1557,658'), ('D', '1558,658'), ('L', '1558,657'), ('D', '1559,657'), ('D', '1560,657'), ('D', '1561,657'), ('D', '1562,657'), ('L', '1562,656'), ('D', '1563,656'), ('L', '1563,655'), ('L', '1563,654'), ('D', '1564,654'), ('L', '1564,653'), ('L', '1564,652'), ('D', '1565,652'), ('L', '1565,651'), ('L', '1565,650'), ('D', '1566,650'), ('D', '1567,650'), ('L', '1567,649'), ('D', '1568,649'), ('D', '1569,649'), ('D', '1570,649'), ('D', '1571,649'), ('D', '1572,649'), ('D', '1573,649'), ('D', '1574,649'), ('D', '1575,649')]\n",
      "Cost: 136.8378002929684\n"
     ]
    }
   ],
   "source": [
    "report(result_500)"
   ]
  },
  {
   "cell_type": "markdown",
   "metadata": {},
   "source": [
    "#### 1000 a 5000 metros de separación"
   ]
  },
  {
   "cell_type": "code",
   "execution_count": 132,
   "metadata": {},
   "outputs": [
    {
     "name": "stdout",
     "output_type": "stream",
     "text": [
      "Distancia entre los puntos = 2064.9803873160636\n"
     ]
    }
   ],
   "source": [
    "# ~ 1000 metros\n",
    "xf, yf =  1050, 7412\n",
    "distance_1000 = distance([x0, y0], [xf, yf])\n",
    "GOAL_1000 = pos_to_index((xf, yf))\n",
    "GOAL_STATE_1000 = coord_to_state(GOAL_1000)\n",
    "print(f'Distancia entre los puntos = {distance_1000}')\n"
   ]
  },
  {
   "cell_type": "code",
   "execution_count": 133,
   "metadata": {},
   "outputs": [
    {
     "data": {
      "text/plain": [
       "172.23093505859387"
      ]
     },
     "execution_count": 133,
     "metadata": {},
     "output_type": "execute_result"
    }
   ],
   "source": [
    "mars_map[tuple(GOAL_1000)]"
   ]
  },
  {
   "cell_type": "code",
   "execution_count": 134,
   "metadata": {},
   "outputs": [
    {
     "name": "stdout",
     "output_type": "stream",
     "text": [
      "Initial state:  1530,639\n",
      "Goal state:  1710,740\n"
     ]
    }
   ],
   "source": [
    "my_problem_1000 = mars_route_finding(START_STATE, GOAL_STATE_1000, mars_map, 5.5 * MAX_DIFF, UNTRAVERSABLE, STEP_SIZE)\n"
   ]
  },
  {
   "cell_type": "code",
   "execution_count": 135,
   "metadata": {},
   "outputs": [],
   "source": [
    "result_1000 = astar(my_problem_1000, graph_search=True)\n"
   ]
  },
  {
   "cell_type": "code",
   "execution_count": 136,
   "metadata": {},
   "outputs": [
    {
     "name": "stdout",
     "output_type": "stream",
     "text": [
      "Found path with length 302\n",
      "Path: [(None, '1530,639'), ('R', '1530,640'), ('R', '1530,641'), ('R', '1530,642'), ('R', '1530,643'), ('R', '1530,644'), ('U', '1529,644'), ('R', '1529,645'), ('U', '1528,645'), ('U', '1527,645'), ('U', '1526,645'), ('U', '1525,645'), ('U', '1524,645'), ('U', '1523,645'), ('R', '1523,646'), ('R', '1523,647'), ('U', '1522,647'), ('R', '1522,648'), ('R', '1522,649'), ('U', '1521,649'), ('U', '1520,649'), ('R', '1520,650'), ('R', '1520,651'), ('R', '1520,652'), ('R', '1520,653'), ('R', '1520,654'), ('R', '1520,655'), ('D', '1521,655'), ('R', '1521,656'), ('R', '1521,657'), ('R', '1521,658'), ('R', '1521,659'), ('R', '1521,660'), ('R', '1521,661'), ('D', '1522,661'), ('D', '1523,661'), ('D', '1524,661'), ('D', '1525,661'), ('D', '1526,661'), ('D', '1527,661'), ('R', '1527,662'), ('D', '1528,662'), ('D', '1529,662'), ('D', '1530,662'), ('D', '1531,662'), ('D', '1532,662'), ('R', '1532,663'), ('R', '1532,664'), ('D', '1533,664'), ('R', '1533,665'), ('D', '1534,665'), ('R', '1534,666'), ('D', '1535,666'), ('D', '1536,666'), ('D', '1537,666'), ('D', '1538,666'), ('D', '1539,666'), ('D', '1540,666'), ('D', '1541,666'), ('D', '1542,666'), ('D', '1543,666'), ('D', '1544,666'), ('D', '1545,666'), ('D', '1546,666'), ('R', '1546,667'), ('D', '1547,667'), ('D', '1548,667'), ('D', '1549,667'), ('D', '1550,667'), ('R', '1550,668'), ('D', '1551,668'), ('D', '1552,668'), ('R', '1552,669'), ('D', '1553,669'), ('D', '1554,669'), ('D', '1555,669'), ('D', '1556,669'), ('D', '1557,669'), ('D', '1558,669'), ('D', '1559,669'), ('R', '1559,670'), ('R', '1559,671'), ('R', '1559,672'), ('R', '1559,673'), ('R', '1559,674'), ('D', '1560,674'), ('D', '1561,674'), ('D', '1562,674'), ('D', '1563,674'), ('D', '1564,674'), ('D', '1565,674'), ('D', '1566,674'), ('D', '1567,674'), ('R', '1567,675'), ('D', '1568,675'), ('R', '1568,676'), ('D', '1569,676'), ('D', '1570,676'), ('D', '1571,676'), ('D', '1572,676'), ('D', '1573,676'), ('D', '1574,676'), ('R', '1574,677'), ('D', '1575,677'), ('D', '1576,677'), ('D', '1577,677'), ('D', '1578,677'), ('D', '1579,677'), ('D', '1580,677'), ('D', '1581,677'), ('D', '1582,677'), ('D', '1583,677'), ('D', '1584,677'), ('D', '1585,677'), ('D', '1586,677'), ('D', '1587,677'), ('D', '1588,677'), ('R', '1588,678'), ('R', '1588,679'), ('D', '1589,679'), ('D', '1590,679'), ('D', '1591,679'), ('R', '1591,680'), ('D', '1592,680'), ('D', '1593,680'), ('D', '1594,680'), ('D', '1595,680'), ('D', '1596,680'), ('D', '1597,680'), ('D', '1598,680'), ('D', '1599,680'), ('D', '1600,680'), ('D', '1601,680'), ('D', '1602,680'), ('D', '1603,680'), ('D', '1604,680'), ('D', '1605,680'), ('D', '1606,680'), ('D', '1607,680'), ('D', '1608,680'), ('R', '1608,681'), ('D', '1609,681'), ('D', '1610,681'), ('D', '1611,681'), ('R', '1611,682'), ('R', '1611,683'), ('D', '1612,683'), ('R', '1612,684'), ('R', '1612,685'), ('D', '1613,685'), ('D', '1614,685'), ('D', '1615,685'), ('D', '1616,685'), ('R', '1616,686'), ('D', '1617,686'), ('D', '1618,686'), ('D', '1619,686'), ('D', '1620,686'), ('D', '1621,686'), ('D', '1622,686'), ('D', '1623,686'), ('R', '1623,687'), ('R', '1623,688'), ('R', '1623,689'), ('D', '1624,689'), ('R', '1624,690'), ('D', '1625,690'), ('D', '1626,690'), ('D', '1627,690'), ('D', '1628,690'), ('D', '1629,690'), ('D', '1630,690'), ('D', '1631,690'), ('D', '1632,690'), ('D', '1633,690'), ('D', '1634,690'), ('D', '1635,690'), ('D', '1636,690'), ('D', '1637,690'), ('D', '1638,690'), ('D', '1639,690'), ('R', '1639,691'), ('R', '1639,692'), ('D', '1640,692'), ('D', '1641,692'), ('D', '1642,692'), ('D', '1643,692'), ('D', '1644,692'), ('D', '1645,692'), ('R', '1645,693'), ('R', '1645,694'), ('D', '1646,694'), ('R', '1646,695'), ('R', '1646,696'), ('R', '1646,697'), ('R', '1646,698'), ('D', '1647,698'), ('D', '1648,698'), ('R', '1648,699'), ('R', '1648,700'), ('R', '1648,701'), ('D', '1649,701'), ('D', '1650,701'), ('D', '1651,701'), ('R', '1651,702'), ('R', '1651,703'), ('R', '1651,704'), ('R', '1651,705'), ('R', '1651,706'), ('D', '1652,706'), ('D', '1653,706'), ('D', '1654,706'), ('D', '1655,706'), ('D', '1656,706'), ('D', '1657,706'), ('R', '1657,707'), ('R', '1657,708'), ('D', '1658,708'), ('R', '1658,709'), ('R', '1658,710'), ('R', '1658,711'), ('D', '1659,711'), ('D', '1660,711'), ('R', '1660,712'), ('R', '1660,713'), ('R', '1660,714'), ('R', '1660,715'), ('R', '1660,716'), ('R', '1660,717'), ('D', '1661,717'), ('R', '1661,718'), ('D', '1662,718'), ('D', '1663,718'), ('D', '1664,718'), ('R', '1664,719'), ('D', '1665,719'), ('D', '1666,719'), ('D', '1667,719'), ('D', '1668,719'), ('R', '1668,720'), ('R', '1668,721'), ('R', '1668,722'), ('D', '1669,722'), ('D', '1670,722'), ('R', '1670,723'), ('R', '1670,724'), ('R', '1670,725'), ('R', '1670,726'), ('D', '1671,726'), ('D', '1672,726'), ('D', '1673,726'), ('R', '1673,727'), ('D', '1674,727'), ('D', '1675,727'), ('R', '1675,728'), ('R', '1675,729'), ('R', '1675,730'), ('R', '1675,731'), ('D', '1676,731'), ('D', '1677,731'), ('D', '1678,731'), ('R', '1678,732'), ('R', '1678,733'), ('R', '1678,734'), ('D', '1679,734'), ('R', '1679,735'), ('D', '1680,735'), ('D', '1681,735'), ('D', '1682,735'), ('D', '1683,735'), ('R', '1683,736'), ('D', '1684,736'), ('D', '1685,736'), ('D', '1686,736'), ('D', '1687,736'), ('D', '1688,736'), ('D', '1689,736'), ('D', '1690,736'), ('D', '1691,736'), ('D', '1692,736'), ('D', '1693,736'), ('D', '1694,736'), ('D', '1695,736'), ('R', '1695,737'), ('D', '1696,737'), ('D', '1697,737'), ('D', '1698,737'), ('D', '1699,737'), ('D', '1700,737'), ('R', '1700,738'), ('D', '1701,738'), ('D', '1702,738'), ('D', '1703,738'), ('D', '1704,738'), ('D', '1705,738'), ('R', '1705,739'), ('D', '1706,739'), ('R', '1706,740'), ('D', '1707,740'), ('D', '1708,740'), ('D', '1709,740'), ('D', '1710,740')]\n",
      "Cost: 359.333413085937\n"
     ]
    }
   ],
   "source": [
    "report(result_1000)"
   ]
  },
  {
   "cell_type": "markdown",
   "metadata": {},
   "source": [
    "#### Mayor a 10,000 metros de separación"
   ]
  },
  {
   "cell_type": "code",
   "execution_count": 529,
   "metadata": {},
   "outputs": [
    {
     "name": "stdout",
     "output_type": "stream",
     "text": [
      "Distancia entre los puntos = 8614.3218537503\n"
     ]
    }
   ],
   "source": [
    "x0, y0 = 950, 1150\n",
    "xf, yf = 6771, 7500\n",
    "\n",
    "START_10000 = pos_to_index((x0, y0))\n",
    "START_STATE_10000 = coord_to_state(START_10000)\n",
    "GOAL_10000 = pos_to_index((xf, yf))\n",
    "GOAL_STATE_10000 = coord_to_state(GOAL_10000)\n",
    "step = 6\n",
    "\n",
    "print(f'Distancia entre los puntos = {distance([x0, y0], [xf, yf])}')\n"
   ]
  },
  {
   "cell_type": "code",
   "execution_count": 530,
   "metadata": {},
   "outputs": [
    {
     "data": {
      "text/plain": [
       "-1.0"
      ]
     },
     "execution_count": 530,
     "metadata": {},
     "output_type": "execute_result"
    }
   ],
   "source": [
    "mars_map[tuple(START_10000)]"
   ]
  },
  {
   "cell_type": "code",
   "execution_count": 531,
   "metadata": {},
   "outputs": [
    {
     "data": {
      "text/plain": [
       "array([[-1., -1., -1., -1., -1., -1., -1., -1., -1., -1., -1., -1.],\n",
       "       [-1., -1., -1., -1., -1., -1., -1., -1., -1., -1., -1., -1.],\n",
       "       [-1., -1., -1., -1., -1., -1., -1., -1., -1., -1., -1., -1.],\n",
       "       [-1., -1., -1., -1., -1., -1., -1., -1., -1., -1., -1., -1.],\n",
       "       [-1., -1., -1., -1., -1., -1., -1., -1., -1., -1., -1., -1.],\n",
       "       [-1., -1., -1., -1., -1., -1., -1., -1., -1., -1., -1., -1.],\n",
       "       [-1., -1., -1., -1., -1., -1., -1., -1., -1., -1., -1., -1.],\n",
       "       [-1., -1., -1., -1., -1., -1., -1., -1., -1., -1., -1., -1.],\n",
       "       [-1., -1., -1., -1., -1., -1., -1., -1., -1., -1., -1., -1.],\n",
       "       [-1., -1., -1., -1., -1., -1., -1., -1., -1., -1., -1., -1.],\n",
       "       [-1., -1., -1., -1., -1., -1., -1., -1., -1., -1., -1., -1.],\n",
       "       [-1., -1., -1., -1., -1., -1., -1., -1., -1., -1., -1., -1.]])"
      ]
     },
     "execution_count": 531,
     "metadata": {},
     "output_type": "execute_result"
    }
   ],
   "source": [
    "nr0, nc0 = START_10000\n",
    "nr1, nc1 = GOAL_10000\n",
    "\n",
    "mars_map[nr0-step:nr0+step, nc0-step:nc0+step]"
   ]
  },
  {
   "cell_type": "code",
   "execution_count": 532,
   "metadata": {},
   "outputs": [
    {
     "data": {
      "text/plain": [
       "array([[-1., -1., -1., -1., -1., -1., -1., -1., -1., -1., -1., -1.],\n",
       "       [-1., -1., -1., -1., -1., -1., -1., -1., -1., -1., -1., -1.],\n",
       "       [-1., -1., -1., -1., -1., -1., -1., -1., -1., -1., -1., -1.],\n",
       "       [-1., -1., -1., -1., -1., -1., -1., -1., -1., -1., -1., -1.],\n",
       "       [-1., -1., -1., -1., -1., -1., -1., -1., -1., -1., -1., -1.],\n",
       "       [-1., -1., -1., -1., -1., -1., -1., -1., -1., -1., -1., -1.],\n",
       "       [-1., -1., -1., -1., -1., -1., -1., -1., -1., -1., -1., -1.],\n",
       "       [-1., -1., -1., -1., -1., -1., -1., -1., -1., -1., -1., -1.],\n",
       "       [-1., -1., -1., -1., -1., -1., -1., -1., -1., -1., -1., -1.],\n",
       "       [-1., -1., -1., -1., -1., -1., -1., -1., -1., -1., -1., -1.],\n",
       "       [-1., -1., -1., -1., -1., -1., -1., -1., -1., -1., -1., -1.],\n",
       "       [-1., -1., -1., -1., -1., -1., -1., -1., -1., -1., -1., -1.]])"
      ]
     },
     "execution_count": 532,
     "metadata": {},
     "output_type": "execute_result"
    }
   ],
   "source": [
    "mars_map[nr1-step:nr1+step, nc1-step:nc1+step]"
   ]
  },
  {
   "cell_type": "code",
   "execution_count": 497,
   "metadata": {},
   "outputs": [
    {
     "data": {
      "text/plain": [
       "-1.0"
      ]
     },
     "execution_count": 497,
     "metadata": {},
     "output_type": "execute_result"
    }
   ],
   "source": [
    "mars_map[tuple(GOAL_10000)]"
   ]
  },
  {
   "cell_type": "markdown",
   "metadata": {},
   "source": [
    "## Contribuciones"
   ]
  },
  {
   "cell_type": "markdown",
   "metadata": {},
   "source": [
    "### Juan Pablo Echeagaray González\n",
    "\n",
    "- Control de versiones del cuaderno\n",
    "- Implementación de la clase del problema\n",
    "- Prueba de algoritmos en diferentes escenarios\n",
    "\n",
    "### Oscar Antonio Banderas Álvarez\n",
    "\n",
    "### Emily Rebeca Méndez Cruz\n",
    "\n",
    "### César Guillermo Vázquez Alvarez\n",
    "\n",
    "- Validación\n",
    "\n"
   ]
  },
  {
   "cell_type": "markdown",
   "metadata": {},
   "source": [
    "## Conclusiones\n",
    "\n",
    "### Emily Rebeca Méndez Cruz\n",
    "\n",
    "Gracias a este trabajo puedo darme cuenta del nivel de complejidad que tiene el uso de Inteligencia Artificial en un robot capaz de explorar un nuevo y desconocido terreno como lo es Marte, también me permitió advertir cuánto ha avanzado el conocimiento humano y cómo lo ha puesto en práctica a través de los años.\n",
    "\n",
    "### César Guillermo Vázquez Alvarez\n",
    "\n",
    "La aplicación de la inteligencia artificial en los robots es un tema muy complejo. Los robots son cada vez más inteligentes a un ritmo exponencial, pero la aplicación de la inteligencia artificial en nuestro grado de estudio en un robot aún es sencilla. El nivel de complejidad del uso de la inteligencia artificial en un robot capaz de explorar terrenos nuevos y desconocidos fue bastante para la actividad, pero nos enseño mucho la aplicación de los conocimientos vistos en clase en entornos mas realistas.\n",
    "\n",
    "### Erika Martínez Meneses\n",
    "\n",
    "En este trabajo podemos observar la implementación de diferentes algoritmos para un mismo problema y observar la eficiencia que tiene cada uno en este caso en particular. Así entender mejor cómo funcionan, cuáles son sus ventajas y desventajas y compararlas y darnos una idea y poder concluir que tipo de algoritmo es más adecuado para cada situación.",
    "\n",
    "### Oscar Antonio Banderas Álvarez\n",
    "En este entregable del proyecto cruzamos por bastantes dificultades, lo primero fue aprender a usar la librería, ya que es cierto que la tarea pasada nos ayudó un poco para entender mejor el cómo funciona pero este reto fue de nivel mucho mayor ya que había muchas variables las cuales contar. En lo personal correr el primer mapa fue un poco difícil, no por el hecho de que haya sido complicado sino que mi laptop se llenó la memoria y simplemente no pude correrlo y me dio muchos problemas. A parte de esa problema que fue más técnico una de las cosas que nos dio mucho problema es buscar dos puntos con distancias mayor a 10000 donde el valor de la matriz no sea -1, ya que buscamos por horas y nunca encontramos nada, con eso fue con lo que estuvimos batallando más. Con las otras cosas sí fue difícil pero ciento que la tarea anterior nos dio bases para poder hacer el código. Claramente este reto no fue para nada fácil pero nos dio muy buenas bases para otros proyectos y gracias a esto podemos entender mejor cómo funciona el robot en Marte, es cierto que esto es súper básico a comparación a cómo en verdad está programada pero sí quiera pude entender mejor el cómo podría moverse en un entorno desconocido. Hubo muchas cosas difíciles y sí nos tomó mucho tiempo pero gracias a los ejemplos de Github pudimos resolver una buena parte."
   ]
  }
 ],
 "metadata": {
  "interpreter": {
   "hash": "a78c4be66ba3b4a897c6e596b18611fdff70693afae29e50365a94a133cff73c"
  },
  "kernelspec": {
   "display_name": "Python 3.9.7 64-bit",
   "language": "python",
   "name": "python3"
  },
  "language_info": {
   "codemirror_mode": {
    "name": "ipython",
    "version": 3
   },
   "file_extension": ".py",
   "mimetype": "text/x-python",
   "name": "python",
   "nbconvert_exporter": "python",
   "pygments_lexer": "ipython3",
   "version": "3.9.7"
  },
  "orig_nbformat": 4
 },
 "nbformat": 4,
 "nbformat_minor": 2
}
