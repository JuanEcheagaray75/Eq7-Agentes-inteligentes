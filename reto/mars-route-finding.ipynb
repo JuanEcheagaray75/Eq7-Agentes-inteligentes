{
 "cells": [
  {
   "cell_type": "markdown",
   "metadata": {},
   "source": [
    "# Planeación de rutas para la exploración de Marte\n",
    "\n",
    "---\n",
    "\n",
    "- Diseño de agentes inteligentes\n",
    "- TC2032.101\n",
    "- Profesor: Juan Emmanuel Martínez Ledesma\n",
    "\n",
    "Equipo 7:\n",
    "\n",
    "| Nombre | Matrícula |\n",
    "| ----- | ------ |\n",
    "| Juan Pablo Echeagaray González | A00830646 |\n",
    "| Emily Rebeca Méndez Cruz | A00830768 |\n",
    "| Erika Martínez Meneses | A01028621 |\n",
    "| Oscar Antonio Banderas Álvarez | A01568492 |\n",
    "| César Guillermo Vázquez Alvarez | A01197857 |\n",
    "\n",
    "- 8 de marzo del 2022\n"
   ]
  },
  {
   "cell_type": "markdown",
   "metadata": {},
   "source": [
    "## Instrucciones"
   ]
  },
  {
   "cell_type": "markdown",
   "metadata": {},
   "source": [
    "Una fuente de información importante para la exploración de Marte son las imágenes obtenidas con orbitadores que están continuamente enviando información sobre la superficie de nuestro planeta vecino. En la página de [HiRISE](https://www.uahirise.org/dtm/) se encuentra disponible una gran cantidad de imágenes en alta resolución captadas a través de diversos satélites con instrumentos capaces de medir la profundidad y otras características del suelo marciano. Estos datos ayudaron a determinar el lugar donde aterrizó el Rover Perseverance en la última misión llevada a cabo por parte de la NASA en el planeta rojo.\n",
    "\n",
    "Las siguientes figuras son representaciones en 3D de una pequeña parte de la superficie de Marte. Los ejes representan distancias en metros, y los colores indican las partes más profundas (en rojo) y más elevadas (en amarillo claro). Se toma como nivel 0 la parte más profundad de la superficie mostrada. Estos datos se encuentran en el sitio de [HiRISE](https://www.uahirise.org/dtm/).\n",
    "\n",
    "![](img\\2022-03-07-11-44-05.png)\n",
    "\n",
    "![](img\\2022-03-07-11-45-21.png)\n",
    "\n",
    "![](img\\2022-03-07-11-45-35.png)\n",
    "\n",
    "La información mostrada con anterioridad se puede representar en una imagen como la que se muestra a continuación. El color de cada pixel de la imagen representa la altura en dicha posición. Las secciones en gris representan áreas donde no hay información satelital.\n",
    "\n",
    "---\n",
    "\n",
    "![](img\\2022-03-07-11-46-01.png)\n",
    "\n",
    "Los datos en el sitio [HiRISE](https://www.uahirise.org/dtm/) están disponibles en archivos IMG con información topográfica. En los archivos originales, la superficie anterior tiene dimensiones de 7557 pixeles de ancho y 18143 pixeles de alto. Cada pixel representa un área de 1.0017 metros x 1.0017 metros. Estos datos no son colores RGB, son valores de altura, y la imagen mostrada se conoce como imagen de falso color, ya que se construye artificialmente asignando un color a cada pixel de acuerdo a alguna dimensión o medida (en este caso, valores de profundidad o altura). A estas imágenes se les llaman mapas de altura. Los valores en gris tienen un valor de altura de -1, y representan áreas donde no hay información válida.\n",
    "\n",
    "El archivo de datos de la superficie mostrada se puede descargar [aquí](https://experiencia21.tec.mx/courses/241470/files/78461927?wrap=1) . Por otro lado, el código que carga el archivo IMG y genera las imágenes anteriores se puede descargar [aquí](https://experiencia21.tec.mx/courses/241470/files/78461984?wrap=1). Debido a que el tamaño del archivo de datos es de alrededor de un 1Gb, la imagen original se escala a un tamaño menor. Con ello, las imágenes mostradas tienen dimensiones de 756 x 1814, y cada pixel representa a un área de 10.0174 x 10.0174.\n",
    "\n",
    "Debido a que los datos se manejan como una imagen, el sistema de coordenadas de la matriz  de datos está volteado en el eje vertical. En una imagen, la parte superior está representada en el primer renglón de la matriz de datos. Por ello, para calcular el renglón $r$ y columna $c$ de una coordenada $x, y$, realice lo siguiente:\n",
    "\n",
    "$$\\begin{gather*}\n",
    "r = n_r - \\text{round}\\left(\\frac{y}{scale}\\right) \\\\\n",
    "c = \\text{round}\\left(\\frac{y}{scale}\\right)\n",
    "\\end{gather*}$$\n",
    "\n",
    "Donde $n_r$ y $n_c$ son los números de renglones y columnas de la imagen o matriz de datos (en este caso 1814 y 756), y la escala indica la cantidad de metros por cada pixel (10.0174).\n",
    "\n",
    "En esta actividad, probarás algoritmos de búsqueda para la planeación de rutas en el mapa de altura mostrado en esta actividad. Para ello, se pide que realicen las siguientes tareas."
   ]
  },
  {
   "cell_type": "markdown",
   "metadata": {},
   "source": [
    "### Prueba de algoritmos de búsqueda\n",
    "\n",
    "Para el mapa de alturas presentado en esta actividad, utilicen al menos cuatro algoritmos de búsqueda para determinar una posible ruta de navegación desde la posición $x = 2850, y = 6400$ hasta el punto $x = 3150, y = 6800$. Entre los algoritmos de búsqueda, debe incluir el método A*. \n",
    "\n",
    "Para determinar rutas posibles, consideren lo siguiente:\n",
    "- El Rover explorador puede moverse de un pixel a otro contiguo en el mapa en cualquier dirección, pero sólo si la diferencia de alturas entre la posición actual y la siguiente posición es menor a 0.25 metros (el programa debe manejar este valor como parámetro que pueda ser modificado fácilmente).\n",
    "- Los pixeles del mapa con una altura de -1 no son válidos y el Rover no se puede mover hacia ellos.\n",
    "\n",
    "Para este punto, es necesario indicar la distancia recorrida por el Rover. Además, contesten las siguientes preguntas:\n",
    "- ¿Qué algoritmos lograron encontrar una ruta válida? \n",
    "- ¿Es necesario utilizar búsquedas informadas para este caso?\n",
    "- ¿Qué función heurística resultó adecuada para este problema?\n"
   ]
  },
  {
   "cell_type": "markdown",
   "metadata": {},
   "source": [
    "### Rendimiento de los algoritmos de búsqueda para rutas cortas y largas\n",
    "\n",
    "Seleccionen uno de los algoritmos de búsqueda probados en el apartado anterior de esta fase del proyecto, y determinen con éste rutas de navegación para al menos dos parejas de coordenadas que seleccionen ustedes mismos, de tal manera que el punto de partida y el objetivo no estén a más de $500$ metros. Hagan lo mismo, pero con al menos dos parejas que tengan una distancia entre inicio y fin de mas de $1000$ metros y menos de $5000$ metros. Finalmente, prueben parejas de coordenadas que estén a una distancia mayor a $10000$ metros.\n",
    "\n",
    "Contesten las siguientes preguntas:\n",
    "- ¿En qué casos el algoritmo es capaz de resolver el problema en un tiempo aceptable? \n",
    "- En los casos que el algoritmo no encuentra un resultado, ¿qué acciones se podrían realizar para ayudar al algoritmo a resolver el problema?\n"
   ]
  },
  {
   "cell_type": "markdown",
   "metadata": {},
   "source": [
    "## Implementación"
   ]
  },
  {
   "cell_type": "code",
   "execution_count": 1,
   "metadata": {},
   "outputs": [
    {
     "data": {
      "text/html": [
       "\n",
       "<style>\n",
       "    .output-plaintext, .output-stream, .output {\n",
       "        font-family: Cascadia Code; # Any monospaced font should work\n",
       "        line-height: 1.3 !important;\n",
       "        font-size: 14px !important;\n",
       "    }\n",
       "</style>\n"
      ],
      "text/plain": [
       "<IPython.core.display.HTML object>"
      ]
     },
     "execution_count": 1,
     "metadata": {},
     "output_type": "execute_result"
    }
   ],
   "source": [
    "# Basic dependencies\n",
    "from simpleai.search import SearchProblem\n",
    "from simpleai.search import breadth_first, uniform_cost, depth_first, astar\n",
    "import numpy as np\n",
    "\n",
    "from IPython.core.display import HTML\n",
    "HTML(r\"\"\"\n",
    "<style>\n",
    "    .output-plaintext, .output-stream, .output {\n",
    "        font-family: Cascadia Code; # Any monospaced font should work\n",
    "        line-height: 1.3 !important;\n",
    "        font-size: 14px !important;\n",
    "    }\n",
    "</style>\n",
    "\"\"\")\n"
   ]
  },
  {
   "cell_type": "markdown",
   "metadata": {},
   "source": [
    "### Características del problema"
   ]
  },
  {
   "cell_type": "code",
   "execution_count": 2,
   "metadata": {},
   "outputs": [],
   "source": [
    "SCALE = 10.0174\n",
    "mars_map = np.load('mars_map.npy')\n",
    "NR, NC = mars_map.shape\n",
    "\n",
    "# Start and goal positions\n",
    "x0, y0 = 2850, 6400\n",
    "xf, yf = 3150, 6800\n",
    "MAX_DIFF = 0.25\n",
    "UNTRAVERSABLE = -1\n",
    "STEP_SIZE = 1\n"
   ]
  },
  {
   "cell_type": "markdown",
   "metadata": {},
   "source": [
    "### Funciones auxiliares"
   ]
  },
  {
   "cell_type": "code",
   "execution_count": 3,
   "metadata": {},
   "outputs": [],
   "source": [
    "def pos_to_index(pos: list[int]) -> list[int]:\n",
    "    nr = NR - round(pos[0] / SCALE)\n",
    "    nc = round(pos[1] / SCALE)\n",
    "    return [nr, nc]\n",
    "\n",
    "\n",
    "def coord_to_state(coord: list[int]) -> str:\n",
    "    return f'{coord[0]},{coord[1]}'\n",
    "\n",
    "\n",
    "def state_to_coord(state: str) -> list[int]:\n",
    "    return tuple([int(x) for x in state.split(',')])\n",
    "\n",
    "\n",
    "def report(result):\n",
    "    print(f'Found path with length {len(result.path())}')\n",
    "    print(f'Path: {result.path()}')\n",
    "    print(f'Cost: {result.cost}')\n",
    "\n",
    "\n",
    "def tester(search_method, imax, delta=20):\n",
    "\n",
    "    print(f'Testing {search_method.__name__}')\n",
    "    for i in np.linspace(imax, 0, delta):\n",
    "        problem = mars_route_finding(START_STATE, GOAL_STATE, mars_map, i * MAX_DIFF, UNTRAVERSABLE, STEP_SIZE)\n",
    "        result = search_method(problem, graph_search=True)\n",
    "        report(result)\n",
    "        print(f'Max difference (factor {i}): {i * MAX_DIFF}')\n",
    "\n",
    "\n",
    "def distance(pos1, pos2):\n",
    "    return np.sqrt((pos1[0] - pos2[0]) ** 2 + (pos1[1] - pos2[1]) ** 2)\n"
   ]
  },
  {
   "cell_type": "markdown",
   "metadata": {},
   "source": [
    "### Estados iniciales y finales"
   ]
  },
  {
   "cell_type": "code",
   "execution_count": 4,
   "metadata": {},
   "outputs": [],
   "source": [
    "# Coordenadas iniciales\n",
    "START = pos_to_index((x0, y0))\n",
    "GOAL = pos_to_index((xf, yf))\n",
    "\n",
    "# Conversión a estado\n",
    "START_STATE = coord_to_state(START)\n",
    "GOAL_STATE = coord_to_state(GOAL)\n"
   ]
  },
  {
   "cell_type": "markdown",
   "metadata": {},
   "source": [
    "### Implementación del problema"
   ]
  },
  {
   "cell_type": "code",
   "execution_count": 5,
   "metadata": {},
   "outputs": [],
   "source": [
    "class mars_route_finding(SearchProblem):\n",
    "\n",
    "    def __init__(self, initial_state: str, goal_state: str, mars_map: np.array, max_height: float, not_traversable: int, step_size: int):\n",
    "\n",
    "        self.mars_map = mars_map\n",
    "        self.initial_state = initial_state\n",
    "        self.goal_state = goal_state\n",
    "        self.max_height = max_height\n",
    "        self.not_traversable = not_traversable\n",
    "        self.step_size = step_size\n",
    "\n",
    "        print(\"Initial state: \", self.initial_state)\n",
    "        print(\"Goal state: \", self.goal_state)\n",
    "\n",
    "        SearchProblem.__init__(self, initial_state)\n",
    "\n",
    "    def actions(self, state):\n",
    "        mars_map = self.mars_map\n",
    "        actions = []\n",
    "\n",
    "        pos_directions = ['U', 'D', 'L', 'R', 'UL', 'UR', 'DL', 'DR']\n",
    "        x0, y0 = state_to_coord(state)\n",
    "\n",
    "        for action in pos_directions:\n",
    "            x, y = state_to_coord(self.result(state, action))\n",
    "            height_difference = abs(mars_map[x0, y0] - mars_map[x, y])\n",
    "\n",
    "            if (mars_map[x, y] != self.not_traversable):\n",
    "                if height_difference <= self.max_height:\n",
    "                    # print(f'[{x}, {y}], action: {action}, height_difference: {height_difference}')\n",
    "                    actions.append(action)\n",
    "    \n",
    "        return actions\n",
    "\n",
    "    def result(self, state, action):\n",
    "        x, y = state_to_coord(state)\n",
    "        step_size = self.step_size\n",
    "\n",
    "        if action.count('U'):\n",
    "            x -= step_size\n",
    "        elif action.count('D'):\n",
    "            x += step_size\n",
    "        elif action.count('L'):\n",
    "            y -= step_size\n",
    "        elif action.count('R'):\n",
    "            y += step_size\n",
    "        elif action.count('UL'):\n",
    "            x -= step_size\n",
    "            y -= step_size\n",
    "        elif action.count('UR'):\n",
    "            x -= step_size\n",
    "            y += step_size\n",
    "        elif action.count('DL'):\n",
    "            x += step_size\n",
    "            y -= step_size\n",
    "        elif action.count('DR'):\n",
    "            x += step_size\n",
    "            y += step_size\n",
    "        else:\n",
    "            print('No se encontró la acción')\n",
    "        \n",
    "        new_state = coord_to_state([x, y])\n",
    "        return new_state\n",
    "\n",
    "    def is_goal(self, state):\n",
    "\n",
    "        return state == self.goal_state\n",
    "\n",
    "    def cost(self, state, action, state2):\n",
    "        alpha, beta = 1, 1\n",
    "\n",
    "        x0, y0 = state_to_coord(state)\n",
    "        xn, yn = state_to_coord(state2)\n",
    "\n",
    "        distance = np.sqrt((x0 - xn)**2 + (y0 - yn)**2)\n",
    "        height_difference = abs(self.mars_map[x0, y0] - self.mars_map[xn, yn])\n",
    "\n",
    "        return alpha * distance + beta * height_difference\n",
    "\n",
    "    def heuristic(self, state):\n",
    "        x, y = state_to_coord(state)\n",
    "        xg, yg = state_to_coord(self.goal_state)\n",
    "        distance = np.sqrt((x - xg)**2 + (y - yg)**2)\n",
    "\n",
    "        return distance\n"
   ]
  },
  {
   "cell_type": "markdown",
   "metadata": {},
   "source": [
    "### Prueba de algoritmos de búsqueda"
   ]
  },
  {
   "cell_type": "code",
   "execution_count": 6,
   "metadata": {},
   "outputs": [
    {
     "name": "stdout",
     "output_type": "stream",
     "text": [
      "Initial state:  1530,639\n",
      "Goal state:  1501,679\n"
     ]
    }
   ],
   "source": [
    "my_problem = mars_route_finding(START_STATE, GOAL_STATE, mars_map, 5.5 * MAX_DIFF, UNTRAVERSABLE, STEP_SIZE)\n"
   ]
  },
  {
   "cell_type": "markdown",
   "metadata": {},
   "source": [
    "#### Breadth-first search"
   ]
  },
  {
   "cell_type": "code",
   "execution_count": 7,
   "metadata": {},
   "outputs": [
    {
     "name": "stdout",
     "output_type": "stream",
     "text": [
      "783 ms ± 79.7 ms per loop (mean ± std. dev. of 7 runs, 1 loop each)\n"
     ]
    }
   ],
   "source": [
    "%%timeit\n",
    "breadth_result = breadth_first(my_problem, graph_search=True)"
   ]
  },
  {
   "cell_type": "code",
   "execution_count": 8,
   "metadata": {},
   "outputs": [],
   "source": [
    "breadth_result = breadth_first(my_problem, graph_search=True)"
   ]
  },
  {
   "cell_type": "code",
   "execution_count": 9,
   "metadata": {},
   "outputs": [
    {
     "name": "stdout",
     "output_type": "stream",
     "text": [
      "Found path with length 70\n",
      "Path: [(None, '1530,639'), ('U', '1529,639'), ('U', '1528,639'), ('U', '1527,639'), ('U', '1526,639'), ('U', '1525,639'), ('U', '1524,639'), ('U', '1523,639'), ('U', '1522,639'), ('R', '1522,640'), ('R', '1522,641'), ('R', '1522,642'), ('R', '1522,643'), ('R', '1522,644'), ('U', '1521,644'), ('U', '1520,644'), ('R', '1520,645'), ('R', '1520,646'), ('R', '1520,647'), ('R', '1520,648'), ('U', '1519,648'), ('R', '1519,649'), ('U', '1518,649'), ('R', '1518,650'), ('R', '1518,651'), ('R', '1518,652'), ('R', '1518,653'), ('R', '1518,654'), ('R', '1518,655'), ('R', '1518,656'), ('U', '1517,656'), ('U', '1516,656'), ('U', '1515,656'), ('U', '1514,656'), ('U', '1513,656'), ('U', '1512,656'), ('U', '1511,656'), ('U', '1510,656'), ('U', '1509,656'), ('U', '1508,656'), ('U', '1507,656'), ('U', '1506,656'), ('U', '1505,656'), ('U', '1504,656'), ('U', '1503,656'), ('U', '1502,656'), ('U', '1501,656'), ('R', '1501,657'), ('R', '1501,658'), ('R', '1501,659'), ('R', '1501,660'), ('R', '1501,661'), ('R', '1501,662'), ('R', '1501,663'), ('R', '1501,664'), ('R', '1501,665'), ('R', '1501,666'), ('R', '1501,667'), ('R', '1501,668'), ('R', '1501,669'), ('R', '1501,670'), ('R', '1501,671'), ('R', '1501,672'), ('R', '1501,673'), ('R', '1501,674'), ('R', '1501,675'), ('R', '1501,676'), ('R', '1501,677'), ('R', '1501,678'), ('R', '1501,679')]\n",
      "Cost: 102.87804687499994\n"
     ]
    }
   ],
   "source": [
    "report(breadth_result)"
   ]
  },
  {
   "cell_type": "markdown",
   "metadata": {},
   "source": [
    "#### Depth-first search"
   ]
  },
  {
   "cell_type": "code",
   "execution_count": 10,
   "metadata": {},
   "outputs": [
    {
     "ename": "KeyboardInterrupt",
     "evalue": "",
     "output_type": "error",
     "traceback": [
      "\u001b[1;31m---------------------------------------------------------------------------\u001b[0m",
      "\u001b[1;31mKeyboardInterrupt\u001b[0m                         Traceback (most recent call last)",
      "\u001b[1;32m~\\AppData\\Local\\Temp/ipykernel_30636/3983774151.py\u001b[0m in \u001b[0;36m<module>\u001b[1;34m\u001b[0m\n\u001b[1;32m----> 1\u001b[1;33m \u001b[0mdepth_result\u001b[0m \u001b[1;33m=\u001b[0m \u001b[0mdepth_first\u001b[0m\u001b[1;33m(\u001b[0m\u001b[0mmy_problem\u001b[0m\u001b[1;33m,\u001b[0m \u001b[0mgraph_search\u001b[0m\u001b[1;33m=\u001b[0m\u001b[1;32mTrue\u001b[0m\u001b[1;33m)\u001b[0m\u001b[1;33m\u001b[0m\u001b[1;33m\u001b[0m\u001b[0m\n\u001b[0m",
      "\u001b[1;32m~\\AppData\\Local\\Programs\\Python\\Python39\\lib\\site-packages\\simpleai\\search\\traditional.py\u001b[0m in \u001b[0;36mdepth_first\u001b[1;34m(problem, graph_search, viewer)\u001b[0m\n\u001b[0;32m     28\u001b[0m     \u001b[0mSearchProblem\u001b[0m\u001b[1;33m.\u001b[0m\u001b[0mis_goal\u001b[0m\u001b[1;33m.\u001b[0m\u001b[1;33m\u001b[0m\u001b[1;33m\u001b[0m\u001b[0m\n\u001b[0;32m     29\u001b[0m     '''\n\u001b[1;32m---> 30\u001b[1;33m     return _search(problem,\n\u001b[0m\u001b[0;32m     31\u001b[0m                    \u001b[0mLifoList\u001b[0m\u001b[1;33m(\u001b[0m\u001b[1;33m)\u001b[0m\u001b[1;33m,\u001b[0m\u001b[1;33m\u001b[0m\u001b[1;33m\u001b[0m\u001b[0m\n\u001b[0;32m     32\u001b[0m                    \u001b[0mgraph_search\u001b[0m\u001b[1;33m=\u001b[0m\u001b[0mgraph_search\u001b[0m\u001b[1;33m,\u001b[0m\u001b[1;33m\u001b[0m\u001b[1;33m\u001b[0m\u001b[0m\n",
      "\u001b[1;32m~\\AppData\\Local\\Programs\\Python\\Python39\\lib\\site-packages\\simpleai\\search\\traditional.py\u001b[0m in \u001b[0;36m_search\u001b[1;34m(problem, fringe, graph_search, depth_limit, node_factory, graph_replace_when_better, viewer)\u001b[0m\n\u001b[0;32m    160\u001b[0m             \u001b[1;32mfor\u001b[0m \u001b[0mn\u001b[0m \u001b[1;32min\u001b[0m \u001b[0mexpanded\u001b[0m\u001b[1;33m:\u001b[0m\u001b[1;33m\u001b[0m\u001b[1;33m\u001b[0m\u001b[0m\n\u001b[0;32m    161\u001b[0m                 \u001b[1;32mif\u001b[0m \u001b[0mgraph_search\u001b[0m\u001b[1;33m:\u001b[0m\u001b[1;33m\u001b[0m\u001b[1;33m\u001b[0m\u001b[0m\n\u001b[1;32m--> 162\u001b[1;33m                     \u001b[0mothers\u001b[0m \u001b[1;33m=\u001b[0m \u001b[1;33m[\u001b[0m\u001b[0mx\u001b[0m \u001b[1;32mfor\u001b[0m \u001b[0mx\u001b[0m \u001b[1;32min\u001b[0m \u001b[0mfringe\u001b[0m \u001b[1;32mif\u001b[0m \u001b[0mx\u001b[0m\u001b[1;33m.\u001b[0m\u001b[0mstate\u001b[0m \u001b[1;33m==\u001b[0m \u001b[0mn\u001b[0m\u001b[1;33m.\u001b[0m\u001b[0mstate\u001b[0m\u001b[1;33m]\u001b[0m\u001b[1;33m\u001b[0m\u001b[1;33m\u001b[0m\u001b[0m\n\u001b[0m\u001b[0;32m    163\u001b[0m                     \u001b[1;32massert\u001b[0m \u001b[0mlen\u001b[0m\u001b[1;33m(\u001b[0m\u001b[0mothers\u001b[0m\u001b[1;33m)\u001b[0m \u001b[1;32min\u001b[0m \u001b[1;33m(\u001b[0m\u001b[1;36m0\u001b[0m\u001b[1;33m,\u001b[0m \u001b[1;36m1\u001b[0m\u001b[1;33m)\u001b[0m\u001b[1;33m\u001b[0m\u001b[1;33m\u001b[0m\u001b[0m\n\u001b[0;32m    164\u001b[0m                     \u001b[1;32mif\u001b[0m \u001b[0mn\u001b[0m\u001b[1;33m.\u001b[0m\u001b[0mstate\u001b[0m \u001b[1;32mnot\u001b[0m \u001b[1;32min\u001b[0m \u001b[0mmemory\u001b[0m \u001b[1;32mand\u001b[0m \u001b[0mlen\u001b[0m\u001b[1;33m(\u001b[0m\u001b[0mothers\u001b[0m\u001b[1;33m)\u001b[0m \u001b[1;33m==\u001b[0m \u001b[1;36m0\u001b[0m\u001b[1;33m:\u001b[0m\u001b[1;33m\u001b[0m\u001b[1;33m\u001b[0m\u001b[0m\n",
      "\u001b[1;32m~\\AppData\\Local\\Programs\\Python\\Python39\\lib\\site-packages\\simpleai\\search\\traditional.py\u001b[0m in \u001b[0;36m<listcomp>\u001b[1;34m(.0)\u001b[0m\n\u001b[0;32m    160\u001b[0m             \u001b[1;32mfor\u001b[0m \u001b[0mn\u001b[0m \u001b[1;32min\u001b[0m \u001b[0mexpanded\u001b[0m\u001b[1;33m:\u001b[0m\u001b[1;33m\u001b[0m\u001b[1;33m\u001b[0m\u001b[0m\n\u001b[0;32m    161\u001b[0m                 \u001b[1;32mif\u001b[0m \u001b[0mgraph_search\u001b[0m\u001b[1;33m:\u001b[0m\u001b[1;33m\u001b[0m\u001b[1;33m\u001b[0m\u001b[0m\n\u001b[1;32m--> 162\u001b[1;33m                     \u001b[0mothers\u001b[0m \u001b[1;33m=\u001b[0m \u001b[1;33m[\u001b[0m\u001b[0mx\u001b[0m \u001b[1;32mfor\u001b[0m \u001b[0mx\u001b[0m \u001b[1;32min\u001b[0m \u001b[0mfringe\u001b[0m \u001b[1;32mif\u001b[0m \u001b[0mx\u001b[0m\u001b[1;33m.\u001b[0m\u001b[0mstate\u001b[0m \u001b[1;33m==\u001b[0m \u001b[0mn\u001b[0m\u001b[1;33m.\u001b[0m\u001b[0mstate\u001b[0m\u001b[1;33m]\u001b[0m\u001b[1;33m\u001b[0m\u001b[1;33m\u001b[0m\u001b[0m\n\u001b[0m\u001b[0;32m    163\u001b[0m                     \u001b[1;32massert\u001b[0m \u001b[0mlen\u001b[0m\u001b[1;33m(\u001b[0m\u001b[0mothers\u001b[0m\u001b[1;33m)\u001b[0m \u001b[1;32min\u001b[0m \u001b[1;33m(\u001b[0m\u001b[1;36m0\u001b[0m\u001b[1;33m,\u001b[0m \u001b[1;36m1\u001b[0m\u001b[1;33m)\u001b[0m\u001b[1;33m\u001b[0m\u001b[1;33m\u001b[0m\u001b[0m\n\u001b[0;32m    164\u001b[0m                     \u001b[1;32mif\u001b[0m \u001b[0mn\u001b[0m\u001b[1;33m.\u001b[0m\u001b[0mstate\u001b[0m \u001b[1;32mnot\u001b[0m \u001b[1;32min\u001b[0m \u001b[0mmemory\u001b[0m \u001b[1;32mand\u001b[0m \u001b[0mlen\u001b[0m\u001b[1;33m(\u001b[0m\u001b[0mothers\u001b[0m\u001b[1;33m)\u001b[0m \u001b[1;33m==\u001b[0m \u001b[1;36m0\u001b[0m\u001b[1;33m:\u001b[0m\u001b[1;33m\u001b[0m\u001b[1;33m\u001b[0m\u001b[0m\n",
      "\u001b[1;31mKeyboardInterrupt\u001b[0m: "
     ]
    }
   ],
   "source": [
    "depth_result = depth_first(my_problem, graph_search=True)"
   ]
  },
  {
   "cell_type": "code",
   "execution_count": 11,
   "metadata": {},
   "outputs": [
    {
     "ename": "NameError",
     "evalue": "name 'depth_result' is not defined",
     "output_type": "error",
     "traceback": [
      "\u001b[1;31m---------------------------------------------------------------------------\u001b[0m",
      "\u001b[1;31mNameError\u001b[0m                                 Traceback (most recent call last)",
      "\u001b[1;32m~\\AppData\\Local\\Temp/ipykernel_30636/3083726385.py\u001b[0m in \u001b[0;36m<module>\u001b[1;34m\u001b[0m\n\u001b[1;32m----> 1\u001b[1;33m \u001b[0mreport\u001b[0m\u001b[1;33m(\u001b[0m\u001b[0mdepth_result\u001b[0m\u001b[1;33m)\u001b[0m\u001b[1;33m\u001b[0m\u001b[1;33m\u001b[0m\u001b[0m\n\u001b[0m",
      "\u001b[1;31mNameError\u001b[0m: name 'depth_result' is not defined"
     ]
    }
   ],
   "source": [
    "report(depth_result)"
   ]
  },
  {
   "cell_type": "markdown",
   "metadata": {},
   "source": [
    "#### Uniform cost search"
   ]
  },
  {
   "cell_type": "code",
   "execution_count": 13,
   "metadata": {},
   "outputs": [
    {
     "name": "stdout",
     "output_type": "stream",
     "text": [
      "1.11 s ± 86.2 ms per loop (mean ± std. dev. of 7 runs, 1 loop each)\n"
     ]
    }
   ],
   "source": [
    "%%timeit\n",
    "uniform_result = uniform_cost(my_problem, graph_search=True)"
   ]
  },
  {
   "cell_type": "code",
   "execution_count": 14,
   "metadata": {},
   "outputs": [],
   "source": [
    "uniform_result = uniform_cost(my_problem, graph_search=True)"
   ]
  },
  {
   "cell_type": "code",
   "execution_count": 15,
   "metadata": {},
   "outputs": [
    {
     "name": "stdout",
     "output_type": "stream",
     "text": [
      "Found path with length 70\n",
      "Path: [(None, '1530,639'), ('R', '1530,640'), ('R', '1530,641'), ('R', '1530,642'), ('R', '1530,643'), ('R', '1530,644'), ('U', '1529,644'), ('R', '1529,645'), ('U', '1528,645'), ('U', '1527,645'), ('U', '1526,645'), ('U', '1525,645'), ('U', '1524,645'), ('U', '1523,645'), ('R', '1523,646'), ('R', '1523,647'), ('U', '1522,647'), ('R', '1522,648'), ('R', '1522,649'), ('U', '1521,649'), ('U', '1520,649'), ('R', '1520,650'), ('R', '1520,651'), ('R', '1520,652'), ('R', '1520,653'), ('R', '1520,654'), ('R', '1520,655'), ('R', '1520,656'), ('U', '1519,656'), ('U', '1518,656'), ('R', '1518,657'), ('U', '1517,657'), ('U', '1516,657'), ('R', '1516,658'), ('U', '1515,658'), ('U', '1514,658'), ('U', '1513,658'), ('U', '1512,658'), ('U', '1511,658'), ('R', '1511,659'), ('R', '1511,660'), ('U', '1510,660'), ('U', '1509,660'), ('U', '1508,660'), ('R', '1508,661'), ('U', '1507,661'), ('R', '1507,662'), ('U', '1506,662'), ('R', '1506,663'), ('U', '1505,663'), ('R', '1505,664'), ('R', '1505,665'), ('R', '1505,666'), ('R', '1505,667'), ('U', '1504,667'), ('R', '1504,668'), ('U', '1503,668'), ('R', '1503,669'), ('R', '1503,670'), ('R', '1503,671'), ('R', '1503,672'), ('R', '1503,673'), ('U', '1502,673'), ('R', '1502,674'), ('R', '1502,675'), ('R', '1502,676'), ('R', '1502,677'), ('R', '1502,678'), ('R', '1502,679'), ('U', '1501,679')]\n",
      "Cost: 101.57093261718745\n"
     ]
    }
   ],
   "source": [
    "report(uniform_result)"
   ]
  },
  {
   "cell_type": "markdown",
   "metadata": {},
   "source": [
    "#### A* search"
   ]
  },
  {
   "cell_type": "code",
   "execution_count": 16,
   "metadata": {},
   "outputs": [
    {
     "name": "stdout",
     "output_type": "stream",
     "text": [
      "462 ms ± 53.3 ms per loop (mean ± std. dev. of 7 runs, 1 loop each)\n"
     ]
    }
   ],
   "source": [
    "%%timeit\n",
    "astar_result = astar(my_problem, graph_search=True)"
   ]
  },
  {
   "cell_type": "code",
   "execution_count": 17,
   "metadata": {},
   "outputs": [],
   "source": [
    "astar_result = astar(my_problem, graph_search=True)"
   ]
  },
  {
   "cell_type": "code",
   "execution_count": 18,
   "metadata": {},
   "outputs": [
    {
     "name": "stdout",
     "output_type": "stream",
     "text": [
      "Found path with length 70\n",
      "Path: [(None, '1530,639'), ('R', '1530,640'), ('R', '1530,641'), ('R', '1530,642'), ('R', '1530,643'), ('R', '1530,644'), ('U', '1529,644'), ('R', '1529,645'), ('U', '1528,645'), ('U', '1527,645'), ('U', '1526,645'), ('U', '1525,645'), ('U', '1524,645'), ('U', '1523,645'), ('R', '1523,646'), ('R', '1523,647'), ('U', '1522,647'), ('R', '1522,648'), ('R', '1522,649'), ('U', '1521,649'), ('U', '1520,649'), ('R', '1520,650'), ('R', '1520,651'), ('R', '1520,652'), ('R', '1520,653'), ('R', '1520,654'), ('R', '1520,655'), ('R', '1520,656'), ('U', '1519,656'), ('U', '1518,656'), ('R', '1518,657'), ('U', '1517,657'), ('U', '1516,657'), ('R', '1516,658'), ('U', '1515,658'), ('U', '1514,658'), ('U', '1513,658'), ('U', '1512,658'), ('U', '1511,658'), ('R', '1511,659'), ('R', '1511,660'), ('R', '1511,661'), ('R', '1511,662'), ('U', '1510,662'), ('R', '1510,663'), ('R', '1510,664'), ('U', '1509,664'), ('U', '1508,664'), ('U', '1507,664'), ('R', '1507,665'), ('R', '1507,666'), ('R', '1507,667'), ('U', '1506,667'), ('R', '1506,668'), ('U', '1505,668'), ('U', '1504,668'), ('R', '1504,669'), ('U', '1503,669'), ('R', '1503,670'), ('R', '1503,671'), ('R', '1503,672'), ('R', '1503,673'), ('R', '1503,674'), ('R', '1503,675'), ('U', '1502,675'), ('R', '1502,676'), ('R', '1502,677'), ('R', '1502,678'), ('R', '1502,679'), ('U', '1501,679')]\n",
      "Cost: 101.57093261718745\n"
     ]
    }
   ],
   "source": [
    "report(astar_result)"
   ]
  },
  {
   "cell_type": "markdown",
   "metadata": {},
   "source": [
    "- 3 de los 4 algoritmos de búsqueda fueron capaces de encontrar rutas válidas, el único que no pudo hacerlo fue el de `depth_first_search`, el número de nodos por visitar es simplemente enorme (y como en este caso la meta no estaba tan lejos).\n",
    "- 2 de los algoritmos no informados encontraron una ruta válida en tiempos aceptables, pero el algoritmo `A*` fue el más veloz de todos, además que lo logró con el camino con el menor costo\n",
    "- Como función heurística propusimos la distancia euclideana entre el punto actual y la meta."
   ]
  },
  {
   "cell_type": "markdown",
   "metadata": {},
   "source": [
    "### Rendimiento de los algoritmos de búsqueda"
   ]
  },
  {
   "cell_type": "markdown",
   "metadata": {},
   "source": [
    "#### Menos de 500 metros de separación"
   ]
  },
  {
   "cell_type": "code",
   "execution_count": 19,
   "metadata": {},
   "outputs": [
    {
     "name": "stdout",
     "output_type": "stream",
     "text": [
      "Distancia entre los puntos = 460.9772228646444\n"
     ]
    }
   ],
   "source": [
    "# ~ 500 metros\n",
    "x0, y0 = 2850, 6400\n",
    "xf, yf = 2400, 6500\n",
    "GOAL_500 = pos_to_index((xf, yf))\n",
    "GOAL_STATE_500 = coord_to_state(GOAL_500)\n",
    "print(f'Distancia entre los puntos = {distance([x0, y0], [xf, yf])}')"
   ]
  },
  {
   "cell_type": "code",
   "execution_count": 20,
   "metadata": {},
   "outputs": [
    {
     "name": "stdout",
     "output_type": "stream",
     "text": [
      "Initial state:  1530,639\n",
      "Goal state:  1575,649\n"
     ]
    }
   ],
   "source": [
    "my_problem_500 = mars_route_finding(START_STATE, GOAL_STATE_500, mars_map, 5.5 * MAX_DIFF, UNTRAVERSABLE, STEP_SIZE)"
   ]
  },
  {
   "cell_type": "code",
   "execution_count": 21,
   "metadata": {},
   "outputs": [],
   "source": [
    "result_500 = astar(my_problem, graph_search=True)"
   ]
  },
  {
   "cell_type": "code",
   "execution_count": 22,
   "metadata": {},
   "outputs": [
    {
     "name": "stdout",
     "output_type": "stream",
     "text": [
      "Found path with length 70\n",
      "Path: [(None, '1530,639'), ('R', '1530,640'), ('R', '1530,641'), ('R', '1530,642'), ('R', '1530,643'), ('R', '1530,644'), ('U', '1529,644'), ('R', '1529,645'), ('U', '1528,645'), ('U', '1527,645'), ('U', '1526,645'), ('U', '1525,645'), ('U', '1524,645'), ('U', '1523,645'), ('R', '1523,646'), ('R', '1523,647'), ('U', '1522,647'), ('R', '1522,648'), ('R', '1522,649'), ('U', '1521,649'), ('U', '1520,649'), ('R', '1520,650'), ('R', '1520,651'), ('R', '1520,652'), ('R', '1520,653'), ('R', '1520,654'), ('R', '1520,655'), ('R', '1520,656'), ('U', '1519,656'), ('U', '1518,656'), ('R', '1518,657'), ('U', '1517,657'), ('U', '1516,657'), ('R', '1516,658'), ('U', '1515,658'), ('U', '1514,658'), ('U', '1513,658'), ('U', '1512,658'), ('U', '1511,658'), ('R', '1511,659'), ('R', '1511,660'), ('R', '1511,661'), ('R', '1511,662'), ('U', '1510,662'), ('R', '1510,663'), ('R', '1510,664'), ('U', '1509,664'), ('U', '1508,664'), ('U', '1507,664'), ('R', '1507,665'), ('R', '1507,666'), ('R', '1507,667'), ('U', '1506,667'), ('R', '1506,668'), ('U', '1505,668'), ('U', '1504,668'), ('R', '1504,669'), ('U', '1503,669'), ('R', '1503,670'), ('R', '1503,671'), ('R', '1503,672'), ('R', '1503,673'), ('R', '1503,674'), ('R', '1503,675'), ('U', '1502,675'), ('R', '1502,676'), ('R', '1502,677'), ('R', '1502,678'), ('R', '1502,679'), ('U', '1501,679')]\n",
      "Cost: 101.57093261718745\n"
     ]
    }
   ],
   "source": [
    "report(result_500)"
   ]
  },
  {
   "cell_type": "markdown",
   "metadata": {},
   "source": [
    "#### 1000 a 5000 metros de separación"
   ]
  },
  {
   "cell_type": "code",
   "execution_count": 23,
   "metadata": {},
   "outputs": [
    {
     "name": "stdout",
     "output_type": "stream",
     "text": [
      "Distancia entre los puntos = 2064.9803873160636\n"
     ]
    }
   ],
   "source": [
    "# ~ 1000 metros\n",
    "xf, yf =  1050, 7412\n",
    "distance_1000 = distance([x0, y0], [xf, yf])\n",
    "GOAL_1000 = pos_to_index((xf, yf))\n",
    "GOAL_STATE_1000 = coord_to_state(GOAL_1000)\n",
    "print(f'Distancia entre los puntos = {distance_1000}')\n"
   ]
  },
  {
   "cell_type": "code",
   "execution_count": 24,
   "metadata": {},
   "outputs": [
    {
     "data": {
      "text/plain": [
       "172.23093505859387"
      ]
     },
     "execution_count": 24,
     "metadata": {},
     "output_type": "execute_result"
    }
   ],
   "source": [
    "mars_map[tuple(GOAL_1000)]"
   ]
  },
  {
   "cell_type": "code",
   "execution_count": 25,
   "metadata": {},
   "outputs": [
    {
     "name": "stdout",
     "output_type": "stream",
     "text": [
      "Initial state:  1530,639\n",
      "Goal state:  1710,740\n"
     ]
    }
   ],
   "source": [
    "my_problem_1000 = mars_route_finding(START_STATE, GOAL_STATE_1000, mars_map, 5.5 * MAX_DIFF, UNTRAVERSABLE, STEP_SIZE)\n"
   ]
  },
  {
   "cell_type": "code",
   "execution_count": 26,
   "metadata": {},
   "outputs": [],
   "source": [
    "result_1000 = astar(my_problem_1000, graph_search=True)\n"
   ]
  },
  {
   "cell_type": "code",
   "execution_count": 27,
   "metadata": {},
   "outputs": [
    {
     "name": "stdout",
     "output_type": "stream",
     "text": [
      "Found path with length 302\n",
      "Path: [(None, '1530,639'), ('R', '1530,640'), ('R', '1530,641'), ('R', '1530,642'), ('R', '1530,643'), ('R', '1530,644'), ('U', '1529,644'), ('R', '1529,645'), ('U', '1528,645'), ('U', '1527,645'), ('U', '1526,645'), ('U', '1525,645'), ('U', '1524,645'), ('U', '1523,645'), ('R', '1523,646'), ('R', '1523,647'), ('U', '1522,647'), ('R', '1522,648'), ('R', '1522,649'), ('U', '1521,649'), ('U', '1520,649'), ('R', '1520,650'), ('R', '1520,651'), ('R', '1520,652'), ('R', '1520,653'), ('R', '1520,654'), ('R', '1520,655'), ('D', '1521,655'), ('R', '1521,656'), ('R', '1521,657'), ('R', '1521,658'), ('R', '1521,659'), ('R', '1521,660'), ('R', '1521,661'), ('D', '1522,661'), ('D', '1523,661'), ('D', '1524,661'), ('D', '1525,661'), ('D', '1526,661'), ('D', '1527,661'), ('R', '1527,662'), ('D', '1528,662'), ('D', '1529,662'), ('D', '1530,662'), ('D', '1531,662'), ('D', '1532,662'), ('R', '1532,663'), ('R', '1532,664'), ('D', '1533,664'), ('R', '1533,665'), ('D', '1534,665'), ('R', '1534,666'), ('D', '1535,666'), ('D', '1536,666'), ('D', '1537,666'), ('D', '1538,666'), ('D', '1539,666'), ('D', '1540,666'), ('D', '1541,666'), ('D', '1542,666'), ('D', '1543,666'), ('D', '1544,666'), ('D', '1545,666'), ('D', '1546,666'), ('R', '1546,667'), ('D', '1547,667'), ('D', '1548,667'), ('D', '1549,667'), ('D', '1550,667'), ('R', '1550,668'), ('D', '1551,668'), ('D', '1552,668'), ('R', '1552,669'), ('D', '1553,669'), ('D', '1554,669'), ('D', '1555,669'), ('D', '1556,669'), ('D', '1557,669'), ('D', '1558,669'), ('D', '1559,669'), ('R', '1559,670'), ('R', '1559,671'), ('R', '1559,672'), ('R', '1559,673'), ('R', '1559,674'), ('D', '1560,674'), ('D', '1561,674'), ('D', '1562,674'), ('D', '1563,674'), ('D', '1564,674'), ('D', '1565,674'), ('D', '1566,674'), ('D', '1567,674'), ('R', '1567,675'), ('D', '1568,675'), ('R', '1568,676'), ('D', '1569,676'), ('D', '1570,676'), ('D', '1571,676'), ('D', '1572,676'), ('D', '1573,676'), ('D', '1574,676'), ('R', '1574,677'), ('D', '1575,677'), ('D', '1576,677'), ('D', '1577,677'), ('D', '1578,677'), ('D', '1579,677'), ('D', '1580,677'), ('D', '1581,677'), ('D', '1582,677'), ('D', '1583,677'), ('D', '1584,677'), ('D', '1585,677'), ('D', '1586,677'), ('D', '1587,677'), ('D', '1588,677'), ('R', '1588,678'), ('R', '1588,679'), ('D', '1589,679'), ('D', '1590,679'), ('D', '1591,679'), ('R', '1591,680'), ('D', '1592,680'), ('D', '1593,680'), ('D', '1594,680'), ('D', '1595,680'), ('D', '1596,680'), ('D', '1597,680'), ('D', '1598,680'), ('D', '1599,680'), ('D', '1600,680'), ('D', '1601,680'), ('D', '1602,680'), ('D', '1603,680'), ('D', '1604,680'), ('D', '1605,680'), ('D', '1606,680'), ('D', '1607,680'), ('D', '1608,680'), ('R', '1608,681'), ('D', '1609,681'), ('D', '1610,681'), ('D', '1611,681'), ('R', '1611,682'), ('R', '1611,683'), ('D', '1612,683'), ('R', '1612,684'), ('R', '1612,685'), ('D', '1613,685'), ('D', '1614,685'), ('D', '1615,685'), ('D', '1616,685'), ('R', '1616,686'), ('D', '1617,686'), ('D', '1618,686'), ('D', '1619,686'), ('D', '1620,686'), ('D', '1621,686'), ('D', '1622,686'), ('D', '1623,686'), ('R', '1623,687'), ('R', '1623,688'), ('R', '1623,689'), ('D', '1624,689'), ('R', '1624,690'), ('D', '1625,690'), ('D', '1626,690'), ('D', '1627,690'), ('D', '1628,690'), ('D', '1629,690'), ('D', '1630,690'), ('D', '1631,690'), ('D', '1632,690'), ('D', '1633,690'), ('D', '1634,690'), ('D', '1635,690'), ('D', '1636,690'), ('D', '1637,690'), ('D', '1638,690'), ('D', '1639,690'), ('R', '1639,691'), ('R', '1639,692'), ('D', '1640,692'), ('D', '1641,692'), ('D', '1642,692'), ('D', '1643,692'), ('D', '1644,692'), ('D', '1645,692'), ('R', '1645,693'), ('R', '1645,694'), ('D', '1646,694'), ('R', '1646,695'), ('R', '1646,696'), ('R', '1646,697'), ('R', '1646,698'), ('D', '1647,698'), ('D', '1648,698'), ('R', '1648,699'), ('R', '1648,700'), ('R', '1648,701'), ('D', '1649,701'), ('D', '1650,701'), ('D', '1651,701'), ('R', '1651,702'), ('R', '1651,703'), ('R', '1651,704'), ('R', '1651,705'), ('R', '1651,706'), ('D', '1652,706'), ('D', '1653,706'), ('D', '1654,706'), ('D', '1655,706'), ('D', '1656,706'), ('D', '1657,706'), ('R', '1657,707'), ('R', '1657,708'), ('D', '1658,708'), ('R', '1658,709'), ('R', '1658,710'), ('R', '1658,711'), ('D', '1659,711'), ('D', '1660,711'), ('R', '1660,712'), ('R', '1660,713'), ('R', '1660,714'), ('R', '1660,715'), ('R', '1660,716'), ('R', '1660,717'), ('D', '1661,717'), ('R', '1661,718'), ('D', '1662,718'), ('D', '1663,718'), ('D', '1664,718'), ('R', '1664,719'), ('D', '1665,719'), ('D', '1666,719'), ('D', '1667,719'), ('D', '1668,719'), ('R', '1668,720'), ('R', '1668,721'), ('R', '1668,722'), ('D', '1669,722'), ('D', '1670,722'), ('R', '1670,723'), ('R', '1670,724'), ('R', '1670,725'), ('R', '1670,726'), ('D', '1671,726'), ('D', '1672,726'), ('D', '1673,726'), ('R', '1673,727'), ('D', '1674,727'), ('D', '1675,727'), ('R', '1675,728'), ('R', '1675,729'), ('R', '1675,730'), ('R', '1675,731'), ('D', '1676,731'), ('D', '1677,731'), ('D', '1678,731'), ('R', '1678,732'), ('R', '1678,733'), ('R', '1678,734'), ('D', '1679,734'), ('R', '1679,735'), ('D', '1680,735'), ('D', '1681,735'), ('D', '1682,735'), ('D', '1683,735'), ('R', '1683,736'), ('D', '1684,736'), ('D', '1685,736'), ('D', '1686,736'), ('D', '1687,736'), ('D', '1688,736'), ('D', '1689,736'), ('D', '1690,736'), ('D', '1691,736'), ('D', '1692,736'), ('D', '1693,736'), ('D', '1694,736'), ('D', '1695,736'), ('R', '1695,737'), ('D', '1696,737'), ('D', '1697,737'), ('D', '1698,737'), ('D', '1699,737'), ('D', '1700,737'), ('R', '1700,738'), ('D', '1701,738'), ('D', '1702,738'), ('D', '1703,738'), ('D', '1704,738'), ('D', '1705,738'), ('R', '1705,739'), ('D', '1706,739'), ('R', '1706,740'), ('D', '1707,740'), ('D', '1708,740'), ('D', '1709,740'), ('D', '1710,740')]\n",
      "Cost: 359.333413085937\n"
     ]
    }
   ],
   "source": [
    "report(result_1000)"
   ]
  },
  {
   "cell_type": "markdown",
   "metadata": {},
   "source": [
    "#### Mayor a 10,000 metros de separación"
   ]
  },
  {
   "cell_type": "code",
   "execution_count": 160,
   "metadata": {},
   "outputs": [
    {
     "name": "stdout",
     "output_type": "stream",
     "text": [
      "Distancia entre los puntos = 4272.750870341027\n"
     ]
    }
   ],
   "source": [
    "x0, y0 = 2850, 6400\n",
    "xf, yf = 1150, 2480\n",
    "\n",
    "# 2850, 6400\n",
    "# 1150, 7432\n",
    "\n",
    "# cannot find a path\n",
    "# x0, y0 = 2850, 6400\n",
    "# xf, yf = 1150, 2480\n",
    "START_10000 = pos_to_index((x0, y0))\n",
    "START_STATE_10000 = coord_to_state(START_10000)\n",
    "GOAL_10000 = pos_to_index((xf, yf))\n",
    "GOAL_STATE_10000 = coord_to_state(GOAL_10000)\n",
    "step = 6\n",
    "\n",
    "print(f'Distancia entre los puntos = {distance([x0, y0], [xf, yf])}')\n"
   ]
  },
  {
   "cell_type": "code",
   "execution_count": 161,
   "metadata": {},
   "outputs": [
    {
     "name": "stdout",
     "output_type": "stream",
     "text": [
      "Initial state:  1530,639\n",
      "Goal state:  1700,248\n"
     ]
    }
   ],
   "source": [
    "my_problem_10000 = mars_route_finding(START_STATE_10000, GOAL_STATE_10000, mars_map, 5.5 * MAX_DIFF, UNTRAVERSABLE, STEP_SIZE)\n"
   ]
  },
  {
   "cell_type": "code",
   "execution_count": 162,
   "metadata": {},
   "outputs": [],
   "source": [
    "result_10000 = astar(my_problem_10000, graph_search=True)\n"
   ]
  },
  {
   "cell_type": "code",
   "execution_count": 163,
   "metadata": {},
   "outputs": [
    {
     "name": "stdout",
     "output_type": "stream",
     "text": [
      "Found path with length 634\n",
      "Path: [(None, '1530,639'), ('R', '1530,640'), ('R', '1530,641'), ('R', '1530,642'), ('R', '1530,643'), ('R', '1530,644'), ('U', '1529,644'), ('U', '1528,644'), ('R', '1528,645'), ('U', '1527,645'), ('U', '1526,645'), ('U', '1525,645'), ('U', '1524,645'), ('U', '1523,645'), ('R', '1523,646'), ('U', '1522,646'), ('R', '1522,647'), ('R', '1522,648'), ('U', '1521,648'), ('R', '1521,649'), ('U', '1520,649'), ('R', '1520,650'), ('R', '1520,651'), ('R', '1520,652'), ('R', '1520,653'), ('R', '1520,654'), ('R', '1520,655'), ('D', '1521,655'), ('R', '1521,656'), ('R', '1521,657'), ('R', '1521,658'), ('R', '1521,659'), ('R', '1521,660'), ('R', '1521,661'), ('D', '1522,661'), ('D', '1523,661'), ('D', '1524,661'), ('D', '1525,661'), ('D', '1526,661'), ('D', '1527,661'), ('D', '1528,661'), ('D', '1529,661'), ('D', '1530,661'), ('D', '1531,661'), ('L', '1531,660'), ('D', '1532,660'), ('D', '1533,660'), ('D', '1534,660'), ('D', '1535,660'), ('D', '1536,660'), ('D', '1537,660'), ('L', '1537,659'), ('D', '1538,659'), ('D', '1539,659'), ('D', '1540,659'), ('D', '1541,659'), ('D', '1542,659'), ('D', '1543,659'), ('D', '1544,659'), ('L', '1544,658'), ('L', '1544,657'), ('D', '1545,657'), ('L', '1545,656'), ('L', '1545,655'), ('D', '1546,655'), ('D', '1547,655'), ('D', '1548,655'), ('L', '1548,654'), ('L', '1548,653'), ('D', '1549,653'), ('L', '1549,652'), ('L', '1549,651'), ('L', '1549,650'), ('D', '1550,650'), ('D', '1551,650'), ('L', '1551,649'), ('D', '1552,649'), ('L', '1552,648'), ('L', '1552,647'), ('L', '1552,646'), ('L', '1552,645'), ('L', '1552,644'), ('L', '1552,643'), ('L', '1552,642'), ('D', '1553,642'), ('L', '1553,641'), ('D', '1554,641'), ('L', '1554,640'), ('L', '1554,639'), ('L', '1554,638'), ('L', '1554,637'), ('L', '1554,636'), ('L', '1554,635'), ('L', '1554,634'), ('L', '1554,633'), ('L', '1554,632'), ('L', '1554,631'), ('L', '1554,630'), ('L', '1554,629'), ('L', '1554,628'), ('L', '1554,627'), ('L', '1554,626'), ('L', '1554,625'), ('L', '1554,624'), ('D', '1555,624'), ('L', '1555,623'), ('L', '1555,622'), ('L', '1555,621'), ('L', '1555,620'), ('L', '1555,619'), ('L', '1555,618'), ('L', '1555,617'), ('L', '1555,616'), ('L', '1555,615'), ('L', '1555,614'), ('L', '1555,613'), ('L', '1555,612'), ('L', '1555,611'), ('L', '1555,610'), ('L', '1555,609'), ('L', '1555,608'), ('L', '1555,607'), ('L', '1555,606'), ('L', '1555,605'), ('L', '1555,604'), ('L', '1555,603'), ('L', '1555,602'), ('L', '1555,601'), ('L', '1555,600'), ('L', '1555,599'), ('L', '1555,598'), ('L', '1555,597'), ('L', '1555,596'), ('L', '1555,595'), ('L', '1555,594'), ('L', '1555,593'), ('L', '1555,592'), ('L', '1555,591'), ('L', '1555,590'), ('L', '1555,589'), ('L', '1555,588'), ('L', '1555,587'), ('L', '1555,586'), ('L', '1555,585'), ('L', '1555,584'), ('L', '1555,583'), ('L', '1555,582'), ('L', '1555,581'), ('L', '1555,580'), ('L', '1555,579'), ('L', '1555,578'), ('L', '1555,577'), ('L', '1555,576'), ('L', '1555,575'), ('L', '1555,574'), ('L', '1555,573'), ('L', '1555,572'), ('L', '1555,571'), ('L', '1555,570'), ('L', '1555,569'), ('L', '1555,568'), ('L', '1555,567'), ('D', '1556,567'), ('L', '1556,566'), ('L', '1556,565'), ('L', '1556,564'), ('L', '1556,563'), ('L', '1556,562'), ('L', '1556,561'), ('L', '1556,560'), ('L', '1556,559'), ('D', '1557,559'), ('D', '1558,559'), ('L', '1558,558'), ('L', '1558,557'), ('L', '1558,556'), ('L', '1558,555'), ('L', '1558,554'), ('L', '1558,553'), ('L', '1558,552'), ('L', '1558,551'), ('L', '1558,550'), ('D', '1559,550'), ('L', '1559,549'), ('L', '1559,548'), ('L', '1559,547'), ('L', '1559,546'), ('L', '1559,545'), ('L', '1559,544'), ('L', '1559,543'), ('L', '1559,542'), ('D', '1560,542'), ('L', '1560,541'), ('L', '1560,540'), ('L', '1560,539'), ('L', '1560,538'), ('L', '1560,537'), ('L', '1560,536'), ('L', '1560,535'), ('L', '1560,534'), ('L', '1560,533'), ('L', '1560,532'), ('D', '1561,532'), ('D', '1562,532'), ('D', '1563,532'), ('L', '1563,531'), ('L', '1563,530'), ('D', '1564,530'), ('L', '1564,529'), ('D', '1565,529'), ('D', '1566,529'), ('L', '1566,528'), ('L', '1566,527'), ('D', '1567,527'), ('D', '1568,527'), ('L', '1568,526'), ('D', '1569,526'), ('L', '1569,525'), ('D', '1570,525'), ('L', '1570,524'), ('U', '1569,524'), ('L', '1569,523'), ('D', '1570,523'), ('D', '1571,523'), ('D', '1572,523'), ('L', '1572,522'), ('U', '1571,522'), ('U', '1570,522'), ('U', '1569,522'), ('L', '1569,521'), ('D', '1570,521'), ('D', '1571,521'), ('L', '1571,520'), ('D', '1572,520'), ('D', '1573,520'), ('L', '1573,519'), ('L', '1573,518'), ('D', '1574,518'), ('L', '1574,517'), ('D', '1575,517'), ('D', '1576,517'), ('D', '1577,517'), ('L', '1577,516'), ('L', '1577,515'), ('L', '1577,514'), ('L', '1577,513'), ('L', '1577,512'), ('L', '1577,511'), ('L', '1577,510'), ('L', '1577,509'), ('L', '1577,508'), ('D', '1578,508'), ('D', '1579,508'), ('D', '1580,508'), ('D', '1581,508'), ('L', '1581,507'), ('L', '1581,506'), ('L', '1581,505'), ('L', '1581,504'), ('L', '1581,503'), ('L', '1581,502'), ('L', '1581,501'), ('L', '1581,500'), ('L', '1581,499'), ('L', '1581,498'), ('L', '1581,497'), ('L', '1581,496'), ('L', '1581,495'), ('L', '1581,494'), ('L', '1581,493'), ('L', '1581,492'), ('L', '1581,491'), ('L', '1581,490'), ('L', '1581,489'), ('L', '1581,488'), ('L', '1581,487'), ('L', '1581,486'), ('L', '1581,485'), ('L', '1581,484'), ('L', '1581,483'), ('L', '1581,482'), ('L', '1581,481'), ('L', '1581,480'), ('L', '1581,479'), ('L', '1581,478'), ('L', '1581,477'), ('L', '1581,476'), ('L', '1581,475'), ('L', '1581,474'), ('L', '1581,473'), ('L', '1581,472'), ('L', '1581,471'), ('L', '1581,470'), ('L', '1581,469'), ('L', '1581,468'), ('L', '1581,467'), ('D', '1582,467'), ('L', '1582,466'), ('L', '1582,465'), ('L', '1582,464'), ('L', '1582,463'), ('L', '1582,462'), ('L', '1582,461'), ('L', '1582,460'), ('L', '1582,459'), ('L', '1582,458'), ('L', '1582,457'), ('L', '1582,456'), ('L', '1582,455'), ('L', '1582,454'), ('L', '1582,453'), ('L', '1582,452'), ('L', '1582,451'), ('L', '1582,450'), ('L', '1582,449'), ('L', '1582,448'), ('L', '1582,447'), ('L', '1582,446'), ('D', '1583,446'), ('L', '1583,445'), ('L', '1583,444'), ('L', '1583,443'), ('L', '1583,442'), ('D', '1584,442'), ('D', '1585,442'), ('D', '1586,442'), ('L', '1586,441'), ('L', '1586,440'), ('L', '1586,439'), ('L', '1586,438'), ('L', '1586,437'), ('L', '1586,436'), ('D', '1587,436'), ('L', '1587,435'), ('D', '1588,435'), ('L', '1588,434'), ('L', '1588,433'), ('L', '1588,432'), ('L', '1588,431'), ('L', '1588,430'), ('L', '1588,429'), ('L', '1588,428'), ('L', '1588,427'), ('D', '1589,427'), ('L', '1589,426'), ('L', '1589,425'), ('L', '1589,424'), ('D', '1590,424'), ('D', '1591,424'), ('L', '1591,423'), ('L', '1591,422'), ('L', '1591,421'), ('L', '1591,420'), ('L', '1591,419'), ('D', '1592,419'), ('D', '1593,419'), ('D', '1594,419'), ('D', '1595,419'), ('D', '1596,419'), ('D', '1597,419'), ('D', '1598,419'), ('D', '1599,419'), ('D', '1600,419'), ('L', '1600,418'), ('L', '1600,417'), ('L', '1600,416'), ('D', '1601,416'), ('L', '1601,415'), ('L', '1601,414'), ('D', '1602,414'), ('D', '1603,414'), ('L', '1603,413'), ('L', '1603,412'), ('L', '1603,411'), ('L', '1603,410'), ('L', '1603,409'), ('D', '1604,409'), ('L', '1604,408'), ('D', '1605,408'), ('L', '1605,407'), ('L', '1605,406'), ('L', '1605,405'), ('D', '1606,405'), ('L', '1606,404'), ('L', '1606,403'), ('L', '1606,402'), ('L', '1606,401'), ('L', '1606,400'), ('L', '1606,399'), ('L', '1606,398'), ('D', '1607,398'), ('L', '1607,397'), ('D', '1608,397'), ('D', '1609,397'), ('L', '1609,396'), ('L', '1609,395'), ('L', '1609,394'), ('D', '1610,394'), ('D', '1611,394'), ('L', '1611,393'), ('D', '1612,393'), ('D', '1613,393'), ('L', '1613,392'), ('L', '1613,391'), ('L', '1613,390'), ('D', '1614,390'), ('D', '1615,390'), ('D', '1616,390'), ('D', '1617,390'), ('D', '1618,390'), ('D', '1619,390'), ('D', '1620,390'), ('D', '1621,390'), ('D', '1622,390'), ('D', '1623,390'), ('L', '1623,389'), ('L', '1623,388'), ('L', '1623,387'), ('L', '1623,386'), ('D', '1624,386'), ('D', '1625,386'), ('D', '1626,386'), ('D', '1627,386'), ('D', '1628,386'), ('L', '1628,385'), ('D', '1629,385'), ('D', '1630,385'), ('L', '1630,384'), ('L', '1630,383'), ('L', '1630,382'), ('L', '1630,381'), ('L', '1630,380'), ('L', '1630,379'), ('L', '1630,378'), ('L', '1630,377'), ('L', '1630,376'), ('D', '1631,376'), ('D', '1632,376'), ('D', '1633,376'), ('L', '1633,375'), ('L', '1633,374'), ('D', '1634,374'), ('D', '1635,374'), ('L', '1635,373'), ('D', '1636,373'), ('D', '1637,373'), ('L', '1637,372'), ('L', '1637,371'), ('L', '1637,370'), ('L', '1637,369'), ('D', '1638,369'), ('L', '1638,368'), ('L', '1638,367'), ('D', '1639,367'), ('L', '1639,366'), ('L', '1639,365'), ('D', '1640,365'), ('D', '1641,365'), ('D', '1642,365'), ('L', '1642,364'), ('L', '1642,363'), ('L', '1642,362'), ('L', '1642,361'), ('L', '1642,360'), ('L', '1642,359'), ('L', '1642,358'), ('D', '1643,358'), ('D', '1644,358'), ('L', '1644,357'), ('L', '1644,356'), ('L', '1644,355'), ('D', '1645,355'), ('L', '1645,354'), ('D', '1646,354'), ('L', '1646,353'), ('D', '1647,353'), ('D', '1648,353'), ('L', '1648,352'), ('L', '1648,351'), ('L', '1648,350'), ('D', '1649,350'), ('L', '1649,349'), ('L', '1649,348'), ('D', '1650,348'), ('D', '1651,348'), ('D', '1652,348'), ('D', '1653,348'), ('L', '1653,347'), ('D', '1654,347'), ('L', '1654,346'), ('L', '1654,345'), ('L', '1654,344'), ('L', '1654,343'), ('D', '1655,343'), ('L', '1655,342'), ('L', '1655,341'), ('L', '1655,340'), ('D', '1656,340'), ('L', '1656,339'), ('L', '1656,338'), ('L', '1656,337'), ('D', '1657,337'), ('D', '1658,337'), ('D', '1659,337'), ('D', '1660,337'), ('D', '1661,337'), ('D', '1662,337'), ('D', '1663,337'), ('L', '1663,336'), ('D', '1664,336'), ('D', '1665,336'), ('L', '1665,335'), ('L', '1665,334'), ('D', '1666,334'), ('L', '1666,333'), ('D', '1667,333'), ('D', '1668,333'), ('L', '1668,332'), ('D', '1669,332'), ('D', '1670,332'), ('D', '1671,332'), ('D', '1672,332'), ('L', '1672,331'), ('L', '1672,330'), ('L', '1672,329'), ('L', '1672,328'), ('L', '1672,327'), ('L', '1672,326'), ('D', '1673,326'), ('D', '1674,326'), ('D', '1675,326'), ('L', '1675,325'), ('L', '1675,324'), ('D', '1676,324'), ('L', '1676,323'), ('D', '1677,323'), ('L', '1677,322'), ('L', '1677,321'), ('L', '1677,320'), ('L', '1677,319'), ('L', '1677,318'), ('D', '1678,318'), ('D', '1679,318'), ('D', '1680,318'), ('L', '1680,317'), ('L', '1680,316'), ('L', '1680,315'), ('L', '1680,314'), ('L', '1680,313'), ('L', '1680,312'), ('L', '1680,311'), ('L', '1680,310'), ('D', '1681,310'), ('L', '1681,309'), ('L', '1681,308'), ('L', '1681,307'), ('L', '1681,306'), ('L', '1681,305'), ('L', '1681,304'), ('L', '1681,303'), ('L', '1681,302'), ('L', '1681,301'), ('L', '1681,300'), ('L', '1681,299'), ('D', '1682,299'), ('L', '1682,298'), ('D', '1683,298'), ('L', '1683,297'), ('L', '1683,296'), ('L', '1683,295'), ('L', '1683,294'), ('L', '1683,293'), ('L', '1683,292'), ('L', '1683,291'), ('L', '1683,290'), ('L', '1683,289'), ('L', '1683,288'), ('L', '1683,287'), ('D', '1684,287'), ('D', '1685,287'), ('L', '1685,286'), ('D', '1686,286'), ('L', '1686,285'), ('L', '1686,284'), ('L', '1686,283'), ('L', '1686,282'), ('L', '1686,281'), ('L', '1686,280'), ('L', '1686,279'), ('L', '1686,278'), ('L', '1686,277'), ('D', '1687,277'), ('L', '1687,276'), ('D', '1688,276'), ('L', '1688,275'), ('D', '1689,275'), ('L', '1689,274'), ('D', '1690,274'), ('D', '1691,274'), ('L', '1691,273'), ('L', '1691,272'), ('D', '1692,272'), ('L', '1692,271'), ('L', '1692,270'), ('L', '1692,269'), ('L', '1692,268'), ('L', '1692,267'), ('L', '1692,266'), ('L', '1692,265'), ('L', '1692,264'), ('L', '1692,263'), ('L', '1692,262'), ('L', '1692,261'), ('L', '1692,260'), ('L', '1692,259'), ('L', '1692,258'), ('L', '1692,257'), ('L', '1692,256'), ('L', '1692,255'), ('D', '1693,255'), ('D', '1694,255'), ('L', '1694,254'), ('L', '1694,253'), ('L', '1694,252'), ('L', '1694,251'), ('D', '1695,251'), ('D', '1696,251'), ('D', '1697,251'), ('L', '1697,250'), ('L', '1697,249'), ('L', '1697,248'), ('D', '1698,248'), ('D', '1699,248'), ('D', '1700,248')]\n",
      "Cost: 853.2786840820286\n"
     ]
    }
   ],
   "source": [
    "report(result_10000)"
   ]
  },
  {
   "cell_type": "markdown",
   "metadata": {},
   "source": [
    "Path found!"
   ]
  },
  {
   "cell_type": "markdown",
   "metadata": {},
   "source": [
    "## Contribuciones"
   ]
  },
  {
   "cell_type": "markdown",
   "metadata": {},
   "source": [
    "### Juan Pablo Echeagaray González\n",
    "\n",
    "- Control de versiones del cuaderno\n",
    "- Implementación de la clase del problema\n",
    "- Prueba de algoritmos en diferentes escenarios"
   ]
  },
  {
   "cell_type": "markdown",
   "metadata": {},
   "source": [
    "## Conclusiones"
   ]
  },
  {
   "cell_type": "markdown",
   "metadata": {},
   "source": [
    "### Juan Pablo Echeagaray González"
   ]
  },
  {
   "cell_type": "markdown",
   "metadata": {},
   "source": []
  }
 ],
 "metadata": {
  "interpreter": {
   "hash": "a78c4be66ba3b4a897c6e596b18611fdff70693afae29e50365a94a133cff73c"
  },
  "kernelspec": {
   "display_name": "Python 3.9.7 64-bit",
   "language": "python",
   "name": "python3"
  },
  "language_info": {
   "codemirror_mode": {
    "name": "ipython",
    "version": 3
   },
   "file_extension": ".py",
   "mimetype": "text/x-python",
   "name": "python",
   "nbconvert_exporter": "python",
   "pygments_lexer": "ipython3",
   "version": "3.9.7"
  },
  "orig_nbformat": 4
 },
 "nbformat": 4,
 "nbformat_minor": 2
}
