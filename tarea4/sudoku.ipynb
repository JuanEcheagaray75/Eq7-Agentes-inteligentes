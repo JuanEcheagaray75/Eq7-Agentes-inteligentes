{
 "cells": [
  {
   "cell_type": "markdown",
   "metadata": {},
   "source": [
    "# Sudoku\n",
    "\n",
    "- Diseño de agentes inteligentes\n",
    "- Profesor: Juan Emmanuel Ledesma Martínez\n",
    "- Equipo 7:\n",
    "  \n",
    "| Alumno | Matrícula |\n",
    "| ---- | ---- |\n",
    "| Juan Pablo Echeagaray González | A0083646 | \n",
    "| Emily Rebeca Méndez Cruz | A00830768 | \n",
    "| Oscar Antonio Banderas Álvarez | A01568492 | \n",
    "| Erika Martínez Meneses | A01028621 | \n",
    "| César Guillermo Vázquez Alvarez | A01197857 |\n",
    "\n",
    "Fecha: 15 de marzo del 2022"
   ]
  },
  {
   "cell_type": "markdown",
   "metadata": {},
   "source": [
    "## Instrucciones"
   ]
  },
  {
   "cell_type": "markdown",
   "metadata": {},
   "source": [
    "En equipos, resuelvan los siguientes tableros de Sudoku utilizando algún algoritmo para problemas de búsqueda con restricciones:\n",
    "\n",
    "![Tablero 1](img/2022-03-12-21-19-00.png)\n",
    "\n",
    "![Tablero 2](img/2022-03-12-21-19-17.png)\n",
    "\n",
    "![Tablero 3](img/2022-03-12-21-19-29.png)\n",
    "\n",
    "![Tablero 4](img/2022-03-12-21-19-44.png)"
   ]
  },
  {
   "cell_type": "markdown",
   "metadata": {},
   "source": [
    "La solución de este problema se basó en la explicación que el profesor Thorsten Altenkirch da en un video del canal de YouTube _Computerphile_.\n",
    "\n",
    "Computerphile. (2020, February 12). Python Sudoku Solver - Computerphile [Video]. YouTube. https://www.youtube.com/watch?v=G_UYXzGuqvM\n"
   ]
  },
  {
   "cell_type": "markdown",
   "metadata": {},
   "source": [
    "## Dependencias"
   ]
  },
  {
   "cell_type": "code",
   "execution_count": 1,
   "metadata": {},
   "outputs": [],
   "source": [
    "# Hace que se vean mejor los tableros en la consola\n",
    "import numpy as np\n"
   ]
  },
  {
   "cell_type": "markdown",
   "metadata": {},
   "source": [
    "## Tableros"
   ]
  },
  {
   "cell_type": "code",
   "execution_count": 2,
   "metadata": {},
   "outputs": [],
   "source": [
    "board_1 = np.array([[9, 3, 6, 0, 2, 5, 0, 1, 4],\n",
    "                    [0, 1, 7, 0, 3, 4, 9, 2, 8],\n",
    "                    [8, 0, 0, 0, 9, 7, 0, 0, 0],\n",
    "                    [0, 0, 3, 4, 0, 0, 5, 9, 0],\n",
    "                    [6, 0, 0, 0, 1, 0, 0, 0, 0],\n",
    "                    [0, 0, 0, 3, 8, 0, 0, 7, 1],\n",
    "                    [0, 0, 0, 9, 0, 0, 0, 0, 5],\n",
    "                    [0, 5, 1, 0, 4, 0, 0, 0, 0],\n",
    "                    [4, 6, 0, 0, 0, 0, 1, 8, 0]])\n",
    "\n",
    "board_2 = np.array([[0, 0, 0, 8, 0, 7, 9, 1, 0],\n",
    "                    [9, 0, 0, 3, 4, 0, 2, 0, 0],\n",
    "                    [0, 0, 5, 0, 0, 0, 0, 7, 0],\n",
    "                    [5, 9, 3, 7, 0, 2, 0, 6, 4],\n",
    "                    [0, 0, 1, 0, 0, 0, 0, 3, 8],\n",
    "                    [8, 7, 0, 6, 3, 1, 0, 9, 2],\n",
    "                    [7, 4, 0, 0, 0, 0, 0, 2, 0],\n",
    "                    [0, 0, 0, 0, 0, 4, 3, 0, 0],\n",
    "                    [0, 5, 2, 1, 7, 0, 0, 0, 0]])\n",
    "\n",
    "board_3 = np.array([[5, 0, 0, 6, 9, 4, 0, 3, 2],\n",
    "                    [9, 3, 6, 0, 1, 2, 0, 4, 0],\n",
    "                    [0, 0, 0, 3, 0, 7, 0, 0, 0],\n",
    "                    [0, 0, 5, 2, 0, 0, 0, 7, 0],\n",
    "                    [0, 0, 0, 0, 0, 1, 0, 0, 9],\n",
    "                    [2, 0, 8, 0, 0, 3, 5, 0, 0],\n",
    "                    [0, 6, 2, 0, 3, 0, 0, 0, 4],\n",
    "                    [3, 8, 1, 0, 4, 6, 0, 5, 0],\n",
    "                    [4, 0, 0, 7, 0, 8, 6, 1, 0]])\n",
    "\n",
    "board_4 = np.array([[8, 7, 0, 0, 4, 2, 9, 1, 5],\n",
    "                    [1, 3, 0, 5, 0, 8, 0, 2, 0],\n",
    "                    [5, 0, 2, 0, 0, 0, 0, 8, 3],\n",
    "                    [4, 0, 3, 0, 0, 0, 8, 7, 0],\n",
    "                    [0, 6, 7, 0, 0, 1, 3, 0, 0],\n",
    "                    [0, 0, 0, 0, 0, 0, 2, 5, 0],\n",
    "                    [0, 0, 4, 6, 0, 5, 0, 3, 0],\n",
    "                    [6, 0, 1, 0, 0, 4, 5, 0, 8],\n",
    "                    [0, 8, 0, 2, 0, 0, 0, 0, 4]])\n",
    "\n",
    "# Usar esta línea para verificar que los tableros tienen las dimensiones correctas\n",
    "# board_1.shape == board_2.shape == board_3.shape == board_4.shape == (9, 9)"
   ]
  },
  {
   "cell_type": "markdown",
   "metadata": {},
   "source": [
    "## Funciones auxiliares"
   ]
  },
  {
   "cell_type": "code",
   "execution_count": 3,
   "metadata": {},
   "outputs": [],
   "source": [
    "def check_position(value: int, row: int, col: int, board: np.array) -> bool:\n",
    "    # Function that checks if we can put a number in a position\n",
    "\n",
    "    # Check if the number is already in the row\n",
    "    for i in range(0, 9):\n",
    "        if board[row, i] == value:\n",
    "            return False\n",
    "\n",
    "    # Check if the number is already in the column\n",
    "    for i in range(0, 9):\n",
    "        if board[i, col] == value:\n",
    "            return False\n",
    "\n",
    "    # Check if the number is already in the 3x3 box\n",
    "    box_row = (row // 3) * 3\n",
    "    box_col = (col // 3) * 3\n",
    "\n",
    "    for i in range(box_row, box_row + 3):\n",
    "        for j in range(box_col, box_col + 3):\n",
    "            if board[i, j] == value:\n",
    "                return False\n",
    "\n",
    "    return True\n"
   ]
  },
  {
   "cell_type": "code",
   "execution_count": 4,
   "metadata": {},
   "outputs": [],
   "source": [
    "def solve(board: np.array) -> None:\n",
    "\n",
    "    # Loop through the board to find empty squares (filled with 0)\n",
    "    for i in range(0, 9):\n",
    "        for j in range(0, 9):\n",
    "\n",
    "            # When we find an empty square, we loop through the numbers 1 to 9\n",
    "            # to check if we can put a number in that position\n",
    "            if board[i, j] == 0:\n",
    "                for n in range(1, 10):\n",
    "                    if check_position(n, i, j, board):\n",
    "                        board[i, j] = n\n",
    "\n",
    "                        # Once we have placed the number, we can call solve recursively\n",
    "                        solve(board)\n",
    "\n",
    "                        # Here backtracking happens, the only way we can end up in this position\n",
    "                        # is if the number we tried lead us to a dead end, so, we take it back and\n",
    "                        # try another number\n",
    "                        board[i, j] = 0\n",
    "                return\n",
    "    \n",
    "    print(board)\n",
    "    input('Press enter to continue...')\n",
    "    "
   ]
  },
  {
   "cell_type": "code",
   "execution_count": 5,
   "metadata": {},
   "outputs": [
    {
     "name": "stdout",
     "output_type": "stream",
     "text": [
      "[[9 3 6 8 2 5 7 1 4]\n",
      " [5 1 7 6 3 4 9 2 8]\n",
      " [8 4 2 1 9 7 6 5 3]\n",
      " [1 8 3 4 7 2 5 9 6]\n",
      " [6 7 4 5 1 9 8 3 2]\n",
      " [2 9 5 3 8 6 4 7 1]\n",
      " [7 2 8 9 6 1 3 4 5]\n",
      " [3 5 1 7 4 8 2 6 9]\n",
      " [4 6 9 2 5 3 1 8 7]]\n"
     ]
    }
   ],
   "source": [
    "solve(board_1)\n"
   ]
  },
  {
   "cell_type": "code",
   "execution_count": 6,
   "metadata": {},
   "outputs": [
    {
     "name": "stdout",
     "output_type": "stream",
     "text": [
      "[[4 3 6 8 2 7 9 1 5]\n",
      " [9 1 7 3 4 5 2 8 6]\n",
      " [2 8 5 9 1 6 4 7 3]\n",
      " [5 9 3 7 8 2 1 6 4]\n",
      " [6 2 1 4 5 9 7 3 8]\n",
      " [8 7 4 6 3 1 5 9 2]\n",
      " [7 4 9 5 6 3 8 2 1]\n",
      " [1 6 8 2 9 4 3 5 7]\n",
      " [3 5 2 1 7 8 6 4 9]]\n"
     ]
    }
   ],
   "source": [
    "solve(board_2)\n"
   ]
  },
  {
   "cell_type": "code",
   "execution_count": 7,
   "metadata": {},
   "outputs": [
    {
     "name": "stdout",
     "output_type": "stream",
     "text": [
      "[[5 1 7 6 9 4 8 3 2]\n",
      " [9 3 6 8 1 2 7 4 5]\n",
      " [8 2 4 3 5 7 1 9 6]\n",
      " [1 4 5 2 6 9 3 7 8]\n",
      " [6 7 3 5 8 1 4 2 9]\n",
      " [2 9 8 4 7 3 5 6 1]\n",
      " [7 6 2 1 3 5 9 8 4]\n",
      " [3 8 1 9 4 6 2 5 7]\n",
      " [4 5 9 7 2 8 6 1 3]]\n"
     ]
    }
   ],
   "source": [
    "solve(board_3)\n"
   ]
  },
  {
   "cell_type": "code",
   "execution_count": 8,
   "metadata": {},
   "outputs": [
    {
     "name": "stdout",
     "output_type": "stream",
     "text": [
      "[[8 7 6 3 4 2 9 1 5]\n",
      " [1 3 9 5 6 8 4 2 7]\n",
      " [5 4 2 1 9 7 6 8 3]\n",
      " [4 5 3 9 2 6 8 7 1]\n",
      " [2 6 7 8 5 1 3 4 9]\n",
      " [9 1 8 4 7 3 2 5 6]\n",
      " [7 9 4 6 8 5 1 3 2]\n",
      " [6 2 1 7 3 4 5 9 8]\n",
      " [3 8 5 2 1 9 7 6 4]]\n"
     ]
    }
   ],
   "source": [
    "solve(board_4)\n"
   ]
  }
 ],
 "metadata": {
  "interpreter": {
   "hash": "a78c4be66ba3b4a897c6e596b18611fdff70693afae29e50365a94a133cff73c"
  },
  "kernelspec": {
   "display_name": "Python 3.9.7 64-bit",
   "language": "python",
   "name": "python3"
  },
  "language_info": {
   "codemirror_mode": {
    "name": "ipython",
    "version": 3
   },
   "file_extension": ".py",
   "mimetype": "text/x-python",
   "name": "python",
   "nbconvert_exporter": "python",
   "pygments_lexer": "ipython3",
   "version": "3.9.7"
  },
  "orig_nbformat": 4
 },
 "nbformat": 4,
 "nbformat_minor": 2
}
