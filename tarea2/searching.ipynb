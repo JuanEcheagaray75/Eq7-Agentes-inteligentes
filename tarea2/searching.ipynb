{
 "cells": [
  {
   "cell_type": "markdown",
   "metadata": {},
   "source": [
    "# Actividad: Problemas de búsqueda\n",
    "\n",
    "- Diseño de agentes inteligentes\n",
    "- Profesor:\n",
    "- Equipo:\n",
    "\n",
    "| Nombre | Matrícula |\n",
    "| ----- | ---- |\n",
    "| Juan Pablo Echeagaray González | A0083646 |"
   ]
  },
  {
   "cell_type": "code",
   "execution_count": 88,
   "metadata": {},
   "outputs": [],
   "source": [
    "import numpy as np\n",
    "from simpleai.search import SearchProblem\n",
    "from simpleai.search import astar\n"
   ]
  },
  {
   "cell_type": "markdown",
   "metadata": {},
   "source": [
    "## Problema 1"
   ]
  },
  {
   "cell_type": "markdown",
   "metadata": {},
   "source": [
    "## Problema 2"
   ]
  },
  {
   "cell_type": "markdown",
   "metadata": {},
   "source": [
    "## Problema 3"
   ]
  },
  {
   "cell_type": "markdown",
   "metadata": {},
   "source": [
    "## Problema 4: Rompecabezas deslizante"
   ]
  },
  {
   "cell_type": "markdown",
   "metadata": {},
   "source": [
    "## Problema 5: Laberintos"
   ]
  },
  {
   "cell_type": "markdown",
   "metadata": {},
   "source": [
    "Utilicen el algoritmo A* para encontrar un camino entre los dos puntos indicados en el siguiente laberinto.\n",
    "\n",
    "```txt\n",
    "++++++++++++++++++++++\n",
    "+ O +   ++ ++        +\n",
    "+     +     +++++++ ++\n",
    "+ +    ++  ++++ +++ ++\n",
    "+ +   + + ++         +\n",
    "+          ++  ++  + +\n",
    "+++++ + +      ++  + +\n",
    "+++++ +++  + +  ++   +\n",
    "+          + +  + +  +\n",
    "+++++ +  + + +     X +\n",
    "++++++++++++++++++++++\n",
    "```\n",
    "\n",
    "- El símbolo + indica un obstáculo o pared. El símbolo O representa el punto de inicio, y X indica el objetivo.\n",
    "- Inventen otros tres laberintos, y prueben de nuevo el algoritmo A*.\n",
    "\n",
    "> Nota: Usen como heurística la distancia entre el punto actual y el punto objetivo."
   ]
  },
  {
   "cell_type": "markdown",
   "metadata": {},
   "source": [
    "Las implementaciones para la solución de este problema tomaron una gran inspiración de [este repositorio](https://github.com/simpleai-team/simpleai/blob/master/samples/search/game_walk.py)"
   ]
  },
  {
   "cell_type": "code",
   "execution_count": 89,
   "metadata": {},
   "outputs": [],
   "source": [
    "maze = '''\n",
    "++++++++++++++++++++++\n",
    "+ O +   ++ ++        +\n",
    "+     +     +++++++ ++\n",
    "+ +    ++  ++++ +++ ++\n",
    "+ +   + + ++         +\n",
    "+          ++  ++  + +\n",
    "+++++ + +      ++  + +\n",
    "+++++ +++  + +  ++   +\n",
    "+          + +  + +  +\n",
    "+++++ +  + + +     X +\n",
    "++++++++++++++++++++++\n",
    "'''\n",
    "\n",
    "maze_2 = '''\n",
    "++++++++++++++++++++++\n",
    "+   +   ++O++        +\n",
    "+     +     +++++++ ++\n",
    "+ +    ++  ++++ +++ ++\n",
    "+ +   + + ++         +\n",
    "+          ++  ++  + +\n",
    "+++++ + +      ++  + +\n",
    "+++++ +++  + +  ++   +\n",
    "+X         + +  + +  +\n",
    "+++++ +  + + +       +\n",
    "++++++++++++++++++++++\n",
    "'''\n",
    "\n",
    "maze_3 = '''\n",
    "++++++++++++++++++++++\n",
    "+ O +   ++ ++        +\n",
    "+     +     +++++++ ++\n",
    "+ +        ++++ +++ ++\n",
    "+ +   + +            +\n",
    "+          ++  ++  + +\n",
    "+++++++ +  ++  ++  + +\n",
    "+++++ ++++++ +  ++   +\n",
    "+          + +  + +  +\n",
    "+++++ + X            +\n",
    "++++++++++++++++++++++\n",
    "'''\n",
    "\n",
    "maze_4 = '''\n",
    "++++++++++++++++++++++\n",
    "+ O +   ++ ++        +\n",
    "++    +     +++++++ ++\n",
    "+++    ++    ++ +++ ++\n",
    "+++++++ + ++         +\n",
    "+X         ++  ++  + +\n",
    "+++++ + +      ++  + +\n",
    "+++++ +++  + +  ++   +\n",
    "+          + +  + +  +\n",
    "+++++ +  + + +       +\n",
    "++++++++++++++++++++++\n",
    "'''\n"
   ]
  },
  {
   "cell_type": "code",
   "execution_count": 90,
   "metadata": {},
   "outputs": [],
   "source": [
    "COSTS = {\n",
    "    'up': 1,\n",
    "    'down': 1,\n",
    "    'left': 1,\n",
    "    'right': 1,\n",
    "}"
   ]
  },
  {
   "cell_type": "code",
   "execution_count": 91,
   "metadata": {},
   "outputs": [],
   "source": [
    "class Labyrinth(SearchProblem):\n",
    "    def __init__(self, maze):\n",
    "        \"\"\"Constructor for the labyrinth game.\n",
    "\n",
    "        Args:\n",
    "            - maze (list[list]): Array representation of the labyrinth\n",
    "        \"\"\"        \n",
    "        self.board = maze\n",
    "\n",
    "        for y in range(len(self.board)):\n",
    "            for x in range(len(self.board[y])):\n",
    "                if self.board[y][x].lower() == 'x':\n",
    "                    self.goal = (x, y)\n",
    "                elif self.board[y][x].lower() == 'o':\n",
    "                    self.start = (x, y)\n",
    "        super(Labyrinth, self).__init__(initial_state=self.start)\n",
    "\n",
    "    \n",
    "    def actions(self, state):\n",
    "        \"\"\"Returns a list of all possible actions from the current state.\n",
    "\n",
    "        Args:\n",
    "            - state (tuple(int)): x, y coordinates of the current position\n",
    "\n",
    "        Returns:\n",
    "            - list[str]: list of all possible actions from the current state\n",
    "        \"\"\"        \n",
    "        actions = []\n",
    "\n",
    "        for action in list(COSTS.keys()):\n",
    "            x, y = self.result(state, action)\n",
    "            if self.board[y][x] != '+':\n",
    "                actions.append(action)\n",
    "\n",
    "        return actions\n",
    "\n",
    "    \n",
    "    def result(self, state, action):\n",
    "        \"\"\"Result function for the labyrinth game.\n",
    "\n",
    "        Args:\n",
    "            - state (tuple(int)): x, y coordinates of the current position\n",
    "            - action (str): Movement to be made\n",
    "\n",
    "        Returns:\n",
    "            - tuple(int): New position coordinates\n",
    "        \"\"\"        \n",
    "        x, y = state\n",
    "        if action.count('up'):\n",
    "            y -= 1\n",
    "        if action.count('down'):\n",
    "            y += 1\n",
    "        if action.count('left'):\n",
    "            x -= 1\n",
    "        if action.count('right'):\n",
    "            x += 1\n",
    "\n",
    "        new_state = (x, y)\n",
    "        return new_state\n",
    "\n",
    "\n",
    "    def is_goal(self, state):\n",
    "        \"\"\"Check if the current state is the goal state.\n",
    "\n",
    "        Args:\n",
    "            - state (tuple(int)): x, y coordinates of the current position\n",
    "\n",
    "        Returns:\n",
    "            - bool: whether the current state is the goal state\n",
    "        \"\"\"        \n",
    "        return state == self.goal\n",
    "\n",
    "\n",
    "    def cost(self, state, action, state2):\n",
    "        \"\"\"Returns cost of the movement.\n",
    "\n",
    "        Args:\n",
    "            - state (tuple(int)): x, y coordinates of the current position\n",
    "            - action (str): movement to be made\n",
    "            - state2 (tuple(int)): x, y coordinates of the new position\n",
    "\n",
    "        Returns:\n",
    "            - float: cost of the movement\n",
    "        \"\"\"        \n",
    "        return COSTS[action]\n",
    "\n",
    "\n",
    "    def heuristic(self, state):\n",
    "        \"\"\"Heuristic function for the labyrinth game.\n",
    "\n",
    "        Args:\n",
    "            - state (tuple(int)): x, y coordinates of the current position\n",
    "\n",
    "        Returns:\n",
    "            - float: Euclidean distance to the goal state\n",
    "        \"\"\"        \n",
    "        x, y = state\n",
    "        xg, yg = self.goal\n",
    "        return np.sqrt((x - xg)**2 + (y - yg)**2)\n",
    "    "
   ]
  },
  {
   "cell_type": "code",
   "execution_count": 92,
   "metadata": {},
   "outputs": [],
   "source": [
    "def solver(maze):\n",
    "    \"\"\"Maze solver.\n",
    "\n",
    "    Args:\n",
    "        - maze (list[list]): Array representation of the labyrinth\n",
    "    \"\"\"    \n",
    "    MAZE = [list(x) for x in maze.split('\\n') if x]\n",
    "    problem = Labyrinth(MAZE)\n",
    "    result = astar(problem, graph_search=True)\n",
    "    \n",
    "    path = [x[1] for x in result.path()]\n",
    "\n",
    "    for y in range(len(MAZE)):\n",
    "        for x in range(len(MAZE[y])):\n",
    "            if (x, y) == problem.start:\n",
    "                print(\"o\", end='')\n",
    "            elif (x, y) == problem.goal:\n",
    "                print(\"x\", end='')\n",
    "            elif (x, y) in path:\n",
    "                print(\".\", end='')\n",
    "            else:\n",
    "                print(MAZE[y][x], end='')\n",
    "        print()\n"
   ]
  },
  {
   "cell_type": "code",
   "execution_count": 93,
   "metadata": {},
   "outputs": [
    {
     "name": "stdout",
     "output_type": "stream",
     "text": [
      "Laberinto 1\n",
      "++++++++++++++++++++++\n",
      "+ o.+   ++ ++        +\n",
      "+  ...+     +++++++ ++\n",
      "+ +  . ++  ++++ +++ ++\n",
      "+ +  .+ + ++         +\n",
      "+    ......++  ++  + +\n",
      "+++++ + + .....++  + +\n",
      "+++++ +++  + +..++   +\n",
      "+          + + .+ +  +\n",
      "+++++ +  + + + ....x +\n",
      "++++++++++++++++++++++\n"
     ]
    }
   ],
   "source": [
    "print('Laberinto 1')\n",
    "solver(maze)"
   ]
  },
  {
   "cell_type": "code",
   "execution_count": 94,
   "metadata": {},
   "outputs": [
    {
     "name": "stdout",
     "output_type": "stream",
     "text": [
      "Laberinto 2\n",
      "++++++++++++++++++++++\n",
      "+   +   ++o++        +\n",
      "+     +  .. +++++++ ++\n",
      "+ +    ++. ++++ +++ ++\n",
      "+ +   + +.++         +\n",
      "+    ..... ++  ++  + +\n",
      "+++++.+ +      ++  + +\n",
      "+++++.+++  + +  ++   +\n",
      "+x....     + +  + +  +\n",
      "+++++ +  + + +       +\n",
      "++++++++++++++++++++++\n"
     ]
    }
   ],
   "source": [
    "print('Laberinto 2')\n",
    "solver(maze_2)"
   ]
  },
  {
   "cell_type": "code",
   "execution_count": 95,
   "metadata": {},
   "outputs": [
    {
     "name": "stdout",
     "output_type": "stream",
     "text": [
      "++++++++++++++++++++++\n",
      "+ o +   ++ ++        +\n",
      "+ ..  +     +++++++ ++\n",
      "+ +....... ++++ +++ ++\n",
      "+ +   + +.....       +\n",
      "+          ++. ++  + +\n",
      "+++++++ +  ++..++  + +\n",
      "+++++ ++++++ +. ++   +\n",
      "+          + +. + +  +\n",
      "+++++ + x......      +\n",
      "++++++++++++++++++++++\n"
     ]
    }
   ],
   "source": [
    "solver(maze_3)"
   ]
  },
  {
   "cell_type": "code",
   "execution_count": 96,
   "metadata": {},
   "outputs": [
    {
     "name": "stdout",
     "output_type": "stream",
     "text": [
      "++++++++++++++++++++++\n",
      "+ o +...++ ++        +\n",
      "++....+...  +++++++ ++\n",
      "+++    ++.   ++ +++ ++\n",
      "+++++++ +.++         +\n",
      "+x........ ++  ++  + +\n",
      "+++++ + +      ++  + +\n",
      "+++++ +++  + +  ++   +\n",
      "+          + +  + +  +\n",
      "+++++ +  + + +       +\n",
      "++++++++++++++++++++++\n"
     ]
    }
   ],
   "source": [
    "solver(maze_4)"
   ]
  }
 ],
 "metadata": {
  "interpreter": {
   "hash": "a78c4be66ba3b4a897c6e596b18611fdff70693afae29e50365a94a133cff73c"
  },
  "kernelspec": {
   "display_name": "Python 3.9.7 64-bit",
   "language": "python",
   "name": "python3"
  },
  "language_info": {
   "codemirror_mode": {
    "name": "ipython",
    "version": 3
   },
   "file_extension": ".py",
   "mimetype": "text/x-python",
   "name": "python",
   "nbconvert_exporter": "python",
   "pygments_lexer": "ipython3",
   "version": "3.9.7"
  },
  "orig_nbformat": 4
 },
 "nbformat": 4,
 "nbformat_minor": 2
}
