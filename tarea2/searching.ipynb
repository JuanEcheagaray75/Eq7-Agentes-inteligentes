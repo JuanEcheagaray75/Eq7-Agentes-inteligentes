{
 "cells": [
  {
   "cell_type": "markdown",
   "metadata": {},
   "source": [
    "# Actividad: Problemas de búsqueda\n",
    "\n",
    "- Diseño de agentes inteligentes\n",
    "- Profesor:\n",
    "- Equipo:\n",
    "\n",
    "| Nombre | Matrícula |\n",
    "| ----- | ---- |\n",
    "| Juan Pablo Echeagaray González | A0083646 |\n",
    "| Emily Rebeca Méndez Cruz | A00830768 |"
   ]
  },
  {
   "cell_type": "code",
   "execution_count": 88,
   "metadata": {},
   "outputs": [],
   "source": [
    "import numpy as np\n",
    "from simpleai.search import SearchProblem\n",
    "from simpleai.search import astar\n"
   ]
  },
  {
   "cell_type": "markdown",
   "metadata": {},
   "source": [
    "## Problema 1\n",
    "\n",
    "El problema de los misioneros y los caníbales usualmente se describe de la siguiente manera. Tres misioneros y tres caníbales están en un lado de un río, a través del cual se puede cruzar con un bote que puede llevar a una o dos personas. El problema es encontrar una manera de que crucen las seis personas, de tal forma que en ningún momento el número de caníbales sobrepase el número de misioneros en alguno de los lados del río, si en dicho lado hay misioneros.\n",
    "\n",
    "1. Formulen el problema de búsqueda, indicando el espacio de estados y los demás elementos de un problema.\n",
    "\n",
    "En el problema tenemos dos lados, el izquierdo donde se encuentran los tres misioneros y los tres caníbales y al bote al inicio del problema, y el lado derecho donde debemos llevar a los misioneros y caníbales como objetivo final, tomando en cuenta las condiciones del problema.\n",
    "Tenemos que (M,C,B) donde:\n",
    "- M son los misioneros\n",
    "- C son los caníbales\n",
    "- B es el bote\n",
    "por lo que el estado inicial es (3,3,1) del lado izquierdo y queremos llegar a ser (0,0,0).\n",
    "\n",
    "Generamos los estados que tiene el problema:\n",
    "\n",
    "![](img\\Problemas_de_búsqueda.jpg)\n",
    "\n",
    "Tenemos que los cuadros verdes son los estados que se pueden realizar cumpliendo la condición establecida, los rojos son los estados donde los misioneros son comidos y los blancos imposibles, ya que no se puede iniciar sin bote y terminar con el bote del lado izquierdo.\n",
    "\n",
    "2. Resuelvan el problema a mano utilizando búsqueda de anchura.\n",
    "\n",
    "De nuestras opciones tenemos que pueden ir en el bote:\n",
    "- Un misionero\n",
    "- Un canibal\n",
    "- Dos misioneros\n",
    "- Dos caníbales\n",
    "- Un misionero y un caníbal\n",
    "\n",
    "Con los estados generados anteriormente haremos un diagrama de árbol revisando que se cumpla la siguiente condición:\n",
    "Que el número de caníbales no sobrepase el número de misioneros en ningún momento ni en alguno de los lados del río.\n",
    "Gracias al esquema anterior podemos decir que los estados:\n",
    "- 2,3,1\n",
    "- 1,3,0\n",
    "- 2,3,0\n",
    "- 1,3,1\n",
    "- 2,1,1\n",
    "- 2,0,1\n",
    "- 2,1,0\n",
    "- 2,0,0\n",
    "- 1,0,1\n",
    "- 1,0,0\n",
    "- 1,2,1\n",
    "- 1,2,0\n",
    "\n",
    "son los estados en donde los misioneros son comidos, por lo que no los tomaremos en cuenta para llegar a la meta.\n",
    "\n",
    "![](img\\Problemas_de_búsqueda_(1).jpg)\n",
    "\n",
    "Los estados grises son los estados repetidos, no escogeremos estos debido a que si lo hiciéramos esto generaría un ciclo y no llegaríamos al objetivo del problema.\n",
    "\n",
    "Con el Breadth first search (BFS) o búsqueda de anchura buscamos desde la raíz y continuamos con todos los nodos vecinos de este, revisamos que se cumpla la condición dada en cada nodo y que no nos mande a un loop y con esto trazar un camino a la meta establecida o en este caso que todas las personas y el bote queden del lado derecho del río.\n",
    "\n",
    "![](img\\Problemas_de_búsqueda_(3).jpg)\n",
    "\n",
    "En conclusión con el BFS pasaremos 12 estados, incluyendo el estado inicial y final, para completar el problema establecido.\n",
    "\n",
    "3. Contesten lo siguiente:\n",
    "\n",
    "- ¿Consideran que es una buena idea verificar estados repetidos para realizar la búsqueda?\n",
    "\n",
    "Sí, debido a que si se escogiera un estado repetido dentro del problema se generaría un loop dentro de la búsqueda, ya que escogiendo este volveríamos a regresar al mismo estado y así sucesivamente.\n"
   ]
  },
  {
   "cell_type": "markdown",
   "metadata": {},
   "source": []
  },
  {
   "cell_type": "markdown",
   "metadata": {},
   "source": [
    "## Problema 2"
   ]
  },
  {
   "cell_type": "markdown",
   "metadata": {},
   "source": [
    "## Problema 3"
   ]
  },
  {
   "cell_type": "markdown",
   "metadata": {},
   "source": [
    "## Problema 4: Rompecabezas deslizante"
   ]
  },
  {
   "cell_type": "markdown",
   "metadata": {},
   "source": [
    "## Problema 5: Laberintos"
   ]
  },
  {
   "cell_type": "markdown",
   "metadata": {},
   "source": [
    "Utilicen el algoritmo A* para encontrar un camino entre los dos puntos indicados en el siguiente laberinto.\n",
    "\n",
    "```txt\n",
    "++++++++++++++++++++++\n",
    "+ O +   ++ ++        +\n",
    "+     +     +++++++ ++\n",
    "+ +    ++  ++++ +++ ++\n",
    "+ +   + + ++         +\n",
    "+          ++  ++  + +\n",
    "+++++ + +      ++  + +\n",
    "+++++ +++  + +  ++   +\n",
    "+          + +  + +  +\n",
    "+++++ +  + + +     X +\n",
    "++++++++++++++++++++++\n",
    "```\n",
    "\n",
    "- El símbolo + indica un obstáculo o pared. El símbolo O representa el punto de inicio, y X indica el objetivo.\n",
    "- Inventen otros tres laberintos, y prueben de nuevo el algoritmo A*.\n",
    "\n",
    "> Nota: Usen como heurística la distancia entre el punto actual y el punto objetivo."
   ]
  },
  {
   "cell_type": "code",
   "execution_count": 89,
   "metadata": {},
   "outputs": [],
   "source": [
    "maze = '''\n",
    "++++++++++++++++++++++\n",
    "+ O +   ++ ++        +\n",
    "+     +     +++++++ ++\n",
    "+ +    ++  ++++ +++ ++\n",
    "+ +   + + ++         +\n",
    "+          ++  ++  + +\n",
    "+++++ + +      ++  + +\n",
    "+++++ +++  + +  ++   +\n",
    "+          + +  + +  +\n",
    "+++++ +  + + +     X +\n",
    "++++++++++++++++++++++\n",
    "'''\n",
    "\n",
    "maze_2 = '''\n",
    "++++++++++++++++++++++\n",
    "+   +   ++O++        +\n",
    "+     +     +++++++ ++\n",
    "+ +    ++  ++++ +++ ++\n",
    "+ +   + + ++         +\n",
    "+          ++  ++  + +\n",
    "+++++ + +      ++  + +\n",
    "+++++ +++  + +  ++   +\n",
    "+X         + +  + +  +\n",
    "+++++ +  + + +       +\n",
    "++++++++++++++++++++++\n",
    "'''\n",
    "\n",
    "maze_3 = '''\n",
    "++++++++++++++++++++++\n",
    "+ O +   ++ ++        +\n",
    "+     +     +++++++ ++\n",
    "+ +        ++++ +++ ++\n",
    "+ +   + +            +\n",
    "+          ++  ++  + +\n",
    "+++++++ +  ++  ++  + +\n",
    "+++++ ++++++ +  ++   +\n",
    "+          + +  + +  +\n",
    "+++++ + X            +\n",
    "++++++++++++++++++++++\n",
    "'''\n",
    "\n",
    "maze_4 = '''\n",
    "++++++++++++++++++++++\n",
    "+ O +   ++ ++        +\n",
    "++    +     +++++++ ++\n",
    "+++    ++    ++ +++ ++\n",
    "+++++++ + ++         +\n",
    "+X         ++  ++  + +\n",
    "+++++ + +      ++  + +\n",
    "+++++ +++  + +  ++   +\n",
    "+          + +  + +  +\n",
    "+++++ +  + + +       +\n",
    "++++++++++++++++++++++\n",
    "'''\n"
   ]
  },
  {
   "cell_type": "code",
   "execution_count": 90,
   "metadata": {},
   "outputs": [],
   "source": [
    "COSTS = {\n",
    "    'up': 1,\n",
    "    'down': 1,\n",
    "    'left': 1,\n",
    "    'right': 1,\n",
    "}"
   ]
  },
  {
   "cell_type": "code",
   "execution_count": 91,
   "metadata": {},
   "outputs": [],
   "source": [
    "class Labyrinth(SearchProblem):\n",
    "    def __init__(self, maze):\n",
    "        \"\"\"Constructor for the labyrinth game.\n",
    "\n",
    "        Args:\n",
    "            - maze (list[list]): Array representation of the labyrinth\n",
    "        \"\"\"        \n",
    "        self.board = maze\n",
    "\n",
    "        for y in range(len(self.board)):\n",
    "            for x in range(len(self.board[y])):\n",
    "                if self.board[y][x].lower() == 'x':\n",
    "                    self.goal = (x, y)\n",
    "                elif self.board[y][x].lower() == 'o':\n",
    "                    self.start = (x, y)\n",
    "        super(Labyrinth, self).__init__(initial_state=self.start)\n",
    "\n",
    "    \n",
    "    def actions(self, state):\n",
    "        \"\"\"Returns a list of all possible actions from the current state.\n",
    "\n",
    "        Args:\n",
    "            - state (tuple(int)): x, y coordinates of the current position\n",
    "\n",
    "        Returns:\n",
    "            - list[str]: list of all possible actions from the current state\n",
    "        \"\"\"        \n",
    "        actions = []\n",
    "\n",
    "        for action in list(COSTS.keys()):\n",
    "            x, y = self.result(state, action)\n",
    "            if self.board[y][x] != '+':\n",
    "                actions.append(action)\n",
    "\n",
    "        return actions\n",
    "\n",
    "    \n",
    "    def result(self, state, action):\n",
    "        \"\"\"Result function for the labyrinth game.\n",
    "\n",
    "        Args:\n",
    "            - state (tuple(int)): x, y coordinates of the current position\n",
    "            - action (str): Movement to be made\n",
    "\n",
    "        Returns:\n",
    "            - tuple(int): New position coordinates\n",
    "        \"\"\"        \n",
    "        x, y = state\n",
    "        if action.count('up'):\n",
    "            y -= 1\n",
    "        if action.count('down'):\n",
    "            y += 1\n",
    "        if action.count('left'):\n",
    "            x -= 1\n",
    "        if action.count('right'):\n",
    "            x += 1\n",
    "\n",
    "        new_state = (x, y)\n",
    "        return new_state\n",
    "\n",
    "\n",
    "    def is_goal(self, state):\n",
    "        \"\"\"Check if the current state is the goal state.\n",
    "\n",
    "        Args:\n",
    "            - state (tuple(int)): x, y coordinates of the current position\n",
    "\n",
    "        Returns:\n",
    "            - bool: whether the current state is the goal state\n",
    "        \"\"\"        \n",
    "        return state == self.goal\n",
    "\n",
    "\n",
    "    def cost(self, state, action, state2):\n",
    "        \"\"\"Returns cost of the movement.\n",
    "\n",
    "        Args:\n",
    "            - state (tuple(int)): x, y coordinates of the current position\n",
    "            - action (str): movement to be made\n",
    "            - state2 (tuple(int)): x, y coordinates of the new position\n",
    "\n",
    "        Returns:\n",
    "            - float: cost of the movement\n",
    "        \"\"\"        \n",
    "        return COSTS[action]\n",
    "\n",
    "\n",
    "    def heuristic(self, state):\n",
    "        \"\"\"Heuristic function for the labyrinth game.\n",
    "\n",
    "        Args:\n",
    "            - state (tuple(int)): x, y coordinates of the current position\n",
    "\n",
    "        Returns:\n",
    "            - float: Euclidean distance to the goal state\n",
    "        \"\"\"        \n",
    "        x, y = state\n",
    "        xg, yg = self.goal\n",
    "        return np.sqrt((x - xg)**2 + (y - yg)**2)\n",
    "    "
   ]
  },
  {
   "cell_type": "code",
   "execution_count": 92,
   "metadata": {},
   "outputs": [],
   "source": [
    "def solver(maze):\n",
    "    \"\"\"Maze solver.\n",
    "\n",
    "    Args:\n",
    "        - maze (list[list]): Array representation of the labyrinth\n",
    "    \"\"\"    \n",
    "    MAZE = [list(x) for x in maze.split('\\n') if x]\n",
    "    problem = Labyrinth(MAZE)\n",
    "    result = astar(problem, graph_search=True)\n",
    "    \n",
    "    path = [x[1] for x in result.path()]\n",
    "\n",
    "    for y in range(len(MAZE)):\n",
    "        for x in range(len(MAZE[y])):\n",
    "            if (x, y) == problem.start:\n",
    "                print(\"o\", end='')\n",
    "            elif (x, y) == problem.goal:\n",
    "                print(\"x\", end='')\n",
    "            elif (x, y) in path:\n",
    "                print(\".\", end='')\n",
    "            else:\n",
    "                print(MAZE[y][x], end='')\n",
    "        print()\n"
   ]
  },
  {
   "cell_type": "code",
   "execution_count": 93,
   "metadata": {},
   "outputs": [
    {
     "name": "stdout",
     "output_type": "stream",
     "text": [
      "Laberinto 1\n",
      "++++++++++++++++++++++\n",
      "+ o.+   ++ ++        +\n",
      "+  ...+     +++++++ ++\n",
      "+ +  . ++  ++++ +++ ++\n",
      "+ +  .+ + ++         +\n",
      "+    ......++  ++  + +\n",
      "+++++ + + .....++  + +\n",
      "+++++ +++  + +..++   +\n",
      "+          + + .+ +  +\n",
      "+++++ +  + + + ....x +\n",
      "++++++++++++++++++++++\n"
     ]
    }
   ],
   "source": [
    "print('Laberinto 1')\n",
    "solver(maze)"
   ]
  },
  {
   "cell_type": "code",
   "execution_count": 94,
   "metadata": {},
   "outputs": [
    {
     "name": "stdout",
     "output_type": "stream",
     "text": [
      "Laberinto 2\n",
      "++++++++++++++++++++++\n",
      "+   +   ++o++        +\n",
      "+     +  .. +++++++ ++\n",
      "+ +    ++. ++++ +++ ++\n",
      "+ +   + +.++         +\n",
      "+    ..... ++  ++  + +\n",
      "+++++.+ +      ++  + +\n",
      "+++++.+++  + +  ++   +\n",
      "+x....     + +  + +  +\n",
      "+++++ +  + + +       +\n",
      "++++++++++++++++++++++\n"
     ]
    }
   ],
   "source": [
    "print('Laberinto 2')\n",
    "solver(maze_2)"
   ]
  },
  {
   "cell_type": "code",
   "execution_count": 95,
   "metadata": {},
   "outputs": [
    {
     "name": "stdout",
     "output_type": "stream",
     "text": [
      "++++++++++++++++++++++\n",
      "+ o +   ++ ++        +\n",
      "+ ..  +     +++++++ ++\n",
      "+ +....... ++++ +++ ++\n",
      "+ +   + +.....       +\n",
      "+          ++. ++  + +\n",
      "+++++++ +  ++..++  + +\n",
      "+++++ ++++++ +. ++   +\n",
      "+          + +. + +  +\n",
      "+++++ + x......      +\n",
      "++++++++++++++++++++++\n"
     ]
    }
   ],
   "source": [
    "solver(maze_3)"
   ]
  },
  {
   "cell_type": "code",
   "execution_count": 96,
   "metadata": {},
   "outputs": [
    {
     "name": "stdout",
     "output_type": "stream",
     "text": [
      "++++++++++++++++++++++\n",
      "+ o +...++ ++        +\n",
      "++....+...  +++++++ ++\n",
      "+++    ++.   ++ +++ ++\n",
      "+++++++ +.++         +\n",
      "+x........ ++  ++  + +\n",
      "+++++ + +      ++  + +\n",
      "+++++ +++  + +  ++   +\n",
      "+          + +  + +  +\n",
      "+++++ +  + + +       +\n",
      "++++++++++++++++++++++\n"
     ]
    }
   ],
   "source": [
    "solver(maze_4)"
   ]
  }
 ],
 "metadata": {
  "interpreter": {
   "hash": "a78c4be66ba3b4a897c6e596b18611fdff70693afae29e50365a94a133cff73c"
  },
  "kernelspec": {
   "display_name": "Python 3.9.7 64-bit",
   "language": "python",
   "name": "python3"
  },
  "language_info": {
   "codemirror_mode": {
    "name": "ipython",
    "version": 3
   },
   "file_extension": ".py",
   "mimetype": "text/x-python",
   "name": "python",
   "nbconvert_exporter": "python",
   "pygments_lexer": "ipython3",
   "version": "3.9.7"
  },
  "orig_nbformat": 4
 },
 "nbformat": 4,
 "nbformat_minor": 2
}
