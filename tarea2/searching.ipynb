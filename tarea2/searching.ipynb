{
 "cells": [
  {
   "cell_type": "markdown",
   "metadata": {},
   "source": [
    "# Actividad: Problemas de búsqueda\n",
    "\n",
    "- Diseño de agentes inteligentes\n",
    "- Profesor: Juan Emmanuel Martínez Ledesma\n",
    "- Equipo:\n",
    "\n",
    "| Nombre | Matrícula |\n",
    "| ----- | ---- |\n",
    "| Juan Pablo Echeagaray González | A0083646 |\n",
    "| Emily Rebeca Méndez Cruz | A00830768 |\n",
    "| Oscar Antonio Banderas Álvarez | A01568492 |\n",
    "| Erika Martínez Meneses | A01028621 |\n",
    "| César Guillermo Vázquez Alvarez | A01197857 |"
   ]
  },
  {
   "cell_type": "code",
   "execution_count": 247,
   "metadata": {},
   "outputs": [],
   "source": [
    "import numpy as np\n",
    "from simpleai.search import SearchProblem\n",
    "from simpleai.search import astar, breadth_first, uniform_cost, depth_first"
   ]
  },
  {
   "cell_type": "markdown",
   "metadata": {},
   "source": [
    "## Problema 1: Misioneros y caníbales\n"
   ]
  },
  {
   "cell_type": "markdown",
   "metadata": {},
   "source": [
    "El problema de los misioneros y los caníbales usualmente se describe de la siguiente manera. Tres misioneros y tres caníbales están en un lado de un río, a través del cual se puede cruzar con un bote que puede llevar a una o dos personas. \n",
    "\n",
    "El problema es encontrar una manera de que crucen las seis personas, de tal forma que en ningún momento el número de caníbales sobrepase el número de misioneros en alguno de los lados del río, si en dicho lado hay misioneros.\n",
    "\n",
    "Formulen el problema de búsqueda, indicando el espacio de estados y los demás elementos de un problema.\n",
    "\n",
    "Resuelvan el problema a mano utilizando búsqueda de anchura.\n",
    "\n",
    "Contesten lo siguiente:\n",
    "- ¿Consideran que es una buena idea verificar estados repetidos para realizar la búsqueda?\n",
    "- ¿Por qué creen que este problema es difícil para la gente, si el espacio de estados es relativamente simple?\n"
   ]
  },
  {
   "cell_type": "markdown",
   "metadata": {},
   "source": [
    "### Formulación del problema"
   ]
  },
  {
   "cell_type": "markdown",
   "metadata": {},
   "source": [
    "En el problema tenemos dos lados, el izquierdo donde se encuentran los tres misioneros y los tres caníbales y al bote al inicio del problema, y el lado derecho donde debemos llevar a los misioneros y caníbales como objetivo final, tomando en cuenta las condiciones del problema.\n",
    "\n",
    "Tenemos que (M,C,B) donde:\n",
    "- M son los misioneros\n",
    "- C son los caníbales\n",
    "- B es el bote\n",
    "\n",
    "por lo que el estado inicial es (3,3,1) del lado izquierdo y queremos llegar a ser (0,0,0).\n",
    "\n",
    "![](img\\Problemas_de_búsqueda.jpg)\n",
    "\n",
    "Tenemos que los cuadros verdes son los estados que se pueden realizar cumpliendo la condición establecida, los rojos son los estados donde los misioneros son comidos y los blancos imposibles, ya que no se puede iniciar sin bote y terminar con el bote del lado izquierdo.\n"
   ]
  },
  {
   "cell_type": "markdown",
   "metadata": {},
   "source": [
    "### Resolución a mano usando BFS"
   ]
  },
  {
   "cell_type": "markdown",
   "metadata": {},
   "source": [
    "De nuestras opciones tenemos que pueden ir en el bote:\n",
    "- Un misionero\n",
    "- Un canibal\n",
    "- Dos misioneros\n",
    "- Dos caníbales\n",
    "- Un misionero y un caníbal\n",
    "\n",
    "Con los estados generados anteriormente haremos un diagrama de árbol revisando que se cumpla la siguiente condición:\n",
    "- Que el número de caníbales no sobrepase el número de misioneros en ningún momento ni en alguno de los lados del río.\n",
    "\n",
    "Gracias al esquema anterior podemos decir que los estados:\n",
    "- 2,3,1\n",
    "- 1,3,0\n",
    "- 2,3,0\n",
    "- 1,3,1\n",
    "- 2,1,1\n",
    "- 2,0,1\n",
    "- 2,1,0\n",
    "- 2,0,0\n",
    "- 1,0,1\n",
    "- 1,0,0\n",
    "- 1,2,1\n",
    "- 1,2,0\n",
    "\n",
    "son los estados en donde los misioneros son comidos, por lo que no los tomaremos en cuenta para llegar a la meta.\n",
    "\n",
    "![](img\\Problemas_de_búsqueda_(1).jpg)\n",
    "\n",
    "Los estados grises son los estados repetidos, no escogeremos estos debido a que si lo hiciéramos esto generaría un ciclo y no llegaríamos al objetivo del problema.\n",
    "\n",
    "Con el Breadth first search (BFS) o búsqueda de anchura buscamos desde la raíz y continuamos con todos los nodos vecinos de este, revisamos que se cumpla la condición dada en cada nodo y que no nos mande a un loop y con esto trazar un camino a la meta establecida o en este caso que todas las personas y el bote queden del lado derecho del río.\n",
    "\n",
    "![](img\\Problemas_de_búsqueda_(3).jpg)\n",
    "\n",
    "En conclusión con el BFS pasaremos 12 estados, incluyendo el estado inicial y final, para completar el problema establecido.\n"
   ]
  },
  {
   "cell_type": "markdown",
   "metadata": {},
   "source": [
    "## Problema 2: Triángulo mágico"
   ]
  },
  {
   "cell_type": "markdown",
   "metadata": {},
   "source": [
    "### Formulación del problema"
   ]
  },
  {
   "cell_type": "markdown",
   "metadata": {},
   "source": [
    "![](img/2022-03-08-00-19-34.png)\n",
    "\n",
    "- Estados del problema de búsqueda\n",
    "  - Hemos pensado que podemos representar el problema en 2 formatos, uno como vector, y otro como matriz, por ejemplo, el triángulo mágico que mostramos se representaría así:\n",
    "  $$T = \\begin{bmatrix}\n",
    "        5 & 3 & 1 & 4 & 2 & 6 \\\\\n",
    "        \\end{bmatrix}\n",
    "  =\\begin{bmatrix}\n",
    "        5 & 1 & 6 \\\\\n",
    "        4 & 2 & 6 \\\\\n",
    "        5 & 3 & 4 \n",
    "    \\end{bmatrix}$$\n",
    "- Estado inicial\n",
    "  - El estado inicial siempre será un triángulo vacío, es decir, un vector nulo, o una matriz de ceros.\n",
    "- Estado objetivo\n",
    "  - El arreglo de números deseados no saberse de antemano, pero el estado objetivo en este caso es que la suma de las filas de la matriz sea igual a 10.\n",
    "- Acciones que se pueden realizar\n",
    "  - Como acciones, podemos introducir un número a una de las posiciones del triángulo, esto siempre y cuando este no esté ya en el arreglo, o que la suma de los elementos de la fila de la matriz de un número diferente de 10.\n",
    "- Modelo de transición\n",
    "  - Cada vez que ejecutamos una acción se obtendrá un diferente triángulo, en nuestro caso, un vector y una matriz nueva."
   ]
  },
  {
   "cell_type": "markdown",
   "metadata": {},
   "source": [
    "### Implementación"
   ]
  },
  {
   "cell_type": "markdown",
   "metadata": {},
   "source": [
    "#### Funciones auxiliares"
   ]
  },
  {
   "cell_type": "code",
   "execution_count": 248,
   "metadata": {},
   "outputs": [],
   "source": [
    "def list_to_matrix(this_list: list) -> list:\n",
    "    if len(this_list) != 6:\n",
    "        raise ValueError(\"List must have 6 elements\")\n",
    "    return np.array([[this_list[0], this_list[2], this_list[5]],\n",
    "                    [this_list[3], this_list[4], this_list[5]],\n",
    "                    [this_list[0], this_list[1], this_list[3]]])\n",
    "\n",
    "\n",
    "def matrix_to_list(matrix: list) -> list:\n",
    "    return [matrix[0][0], matrix[2][1], matrix[0][1], matrix[1][0], matrix[1][1], matrix[0][2]]\n",
    "\n",
    "\n",
    "def list_to_str(this_list):\n",
    "    a = list(map(str, this_list))\n",
    "    res = ''.join(a)\n",
    "    return res\n",
    "\n",
    "\n",
    "def str_to_list(this_str):\n",
    "    return list(map(int, this_str))\n",
    "    "
   ]
  },
  {
   "cell_type": "code",
   "execution_count": 250,
   "metadata": {},
   "outputs": [],
   "source": [
    "class magic_triangle(SearchProblem):\n",
    "    def __init__(self):\n",
    "        self.initial = '000000'\n",
    "\n",
    "        super(magic_triangle, self).__init__(initial_state=self.initial)\n",
    "\n",
    "\n",
    "    def actions(self, state):\n",
    "        state_list = str_to_list(state)\n",
    "        pos_numbers = [i for i in range(1, 7)]\n",
    "        actions = []\n",
    "        # print(state_list)\n",
    "        for number in pos_numbers:\n",
    "            if number not in state_list:\n",
    "                actions.append(number)\n",
    "\n",
    "        return actions\n",
    "\n",
    "\n",
    "    def result(self, state, action):\n",
    "        current_state = str_to_list(state)\n",
    "        index = [i for i, element in enumerate(current_state) if element == 0]\n",
    "        current_state[index[0]] = action\n",
    "\n",
    "        return list_to_str(current_state)\n",
    "\n",
    "\n",
    "    def is_goal(self, state):\n",
    "        state_list = str_to_list(state)\n",
    "        matrix_state = list_to_matrix(state_list)\n",
    "\n",
    "        for row in matrix_state:\n",
    "            if sum(row) != 10:\n",
    "                return False\n",
    "        \n",
    "        return True\n",
    "\n",
    "\n",
    "    def cost(self, state, action, state2):\n",
    "        return 1\n"
   ]
  },
  {
   "cell_type": "code",
   "execution_count": 251,
   "metadata": {},
   "outputs": [],
   "source": [
    "triangle = magic_triangle()\n"
   ]
  },
  {
   "cell_type": "code",
   "execution_count": 256,
   "metadata": {},
   "outputs": [
    {
     "name": "stdout",
     "output_type": "stream",
     "text": [
      "29.1 ms ± 6.32 ms per loop (mean ± std. dev. of 7 runs, 10 loops each)\n"
     ]
    }
   ],
   "source": [
    "%%timeit\n",
    "breadth_res = breadth_first(triangle)\n"
   ]
  },
  {
   "cell_type": "code",
   "execution_count": 257,
   "metadata": {},
   "outputs": [
    {
     "name": "stdout",
     "output_type": "stream",
     "text": [
      "6.16 ms ± 472 µs per loop (mean ± std. dev. of 7 runs, 100 loops each)\n"
     ]
    }
   ],
   "source": [
    "%%timeit\n",
    "depth_res = depth_first(triangle)\n"
   ]
  },
  {
   "cell_type": "code",
   "execution_count": 254,
   "metadata": {},
   "outputs": [
    {
     "data": {
      "text/plain": [
       "[(None, '000000'),\n",
       " (1, '100000'),\n",
       " (4, '140000'),\n",
       " (6, '146000'),\n",
       " (5, '146500'),\n",
       " (2, '146520'),\n",
       " (3, '146523')]"
      ]
     },
     "execution_count": 254,
     "metadata": {},
     "output_type": "execute_result"
    }
   ],
   "source": [
    "breadth_res.path()"
   ]
  },
  {
   "cell_type": "code",
   "execution_count": 255,
   "metadata": {},
   "outputs": [
    {
     "data": {
      "text/plain": [
       "[(None, '000000'),\n",
       " (5, '500000'),\n",
       " (4, '540000'),\n",
       " (2, '542000'),\n",
       " (1, '542100'),\n",
       " (6, '542160'),\n",
       " (3, '542163')]"
      ]
     },
     "execution_count": 255,
     "metadata": {},
     "output_type": "execute_result"
    }
   ],
   "source": [
    "depth_res.path()"
   ]
  },
  {
   "cell_type": "markdown",
   "metadata": {},
   "source": [
    "El algoritmo de búsqueda de profundidad encuentra una solución diferente (pero válida) aproximadamente 5 veces más rápido que el de búsqueda de anchura, esto podría ser porque el algoritmo permanece con un solo nodo y lo explora por completo hasta exhaustar todas las posibilidades, por eso es que encuentra una secuencia válida de forma más eficiente.\n",
    "\n",
    "Variaciones a nuestra implementación deben de ser hechas para que los algoritmos encuentren n posibles soluciones."
   ]
  },
  {
   "cell_type": "markdown",
   "metadata": {},
   "source": [
    "## Problema 3: Jarras"
   ]
  },
  {
   "cell_type": "code",
   "execution_count": null,
   "metadata": {},
   "outputs": [],
   "source": []
  },
  {
   "cell_type": "markdown",
   "metadata": {},
   "source": [
    "## Problema 4: Rompecabezas deslizante"
   ]
  },
  {
   "cell_type": "markdown",
   "metadata": {},
   "source": [
    "1. Utilicen el algoritmo A* para resolver el rompecabezas deslizante de 8 números (3x3). Utilicen como función heurística la suma de las distancias entre la posición de cada número y su correspondiente posición objetivo. Corran su algoritmo con diferentes estados iniciales.\n",
    "2. Cambien la función heurística por la cantidad elementos que están en la posición incorrecta. ¿Cuál función heurística consideran que es la más apropiada?\n",
    "3. Utilicen un algoritmo de búsqueda no informada  para solucionar el rompecabezas de 3x3. ¿El algoritmo fue capaz de resolver el problema en tiempo razonable? ¿Qué algoritmo consideras que es más eficiente, el de búsqueda informada o el de búsqueda no informada?\n",
    "4. Utilicen el algoritmo A* con la función heurística de su preferencia para resolver el rompecabezas deslizante de 15 números (4x4). ¿El algoritmo seleccionado es capaz de encontrar una solución en estos casos?\n"
   ]
  },
  {
   "cell_type": "markdown",
   "metadata": {},
   "source": [
    "Implementación basada fuertemente en [este repositorio](https://github.com/simpleai-team/simpleai/blob/master/samples/search/eight_puzzle.py)"
   ]
  },
  {
   "cell_type": "code",
   "execution_count": 123,
   "metadata": {},
   "outputs": [],
   "source": [
    "GOAL = '''1-2-3\n",
    "4-5-6\n",
    "7-8-E'''\n",
    "\n",
    "INITIAL = '''4-1-2\n",
    "7-E-3\n",
    "8-5-6'''\n",
    "\n",
    "INITIAL_2 = '''2-3-7\n",
    "1-4-6\n",
    "8-5-E'''\n",
    "\n",
    "INITIAL_3 = '''7-E-4\n",
    "1-8-6\n",
    "2-3-5'''\n",
    "\n",
    "INITIAL_4 = '''5-2-8\n",
    "4-6-1\n",
    "3-E-7'''\n",
    "\n",
    "initial_states = [INITIAL, INITIAL_2, INITIAL_3, INITIAL_4]"
   ]
  },
  {
   "cell_type": "markdown",
   "metadata": {},
   "source": [
    "### Funciones auxiliares"
   ]
  },
  {
   "cell_type": "code",
   "execution_count": 124,
   "metadata": {},
   "outputs": [],
   "source": [
    "def list_to_string(list_):\n",
    "    return '\\n'.join(['-'.join(row) for row in list_])\n",
    "\n",
    "\n",
    "def string_to_list(string_):\n",
    "    return [row.split('-') for row in string_.split('\\n')]\n",
    "\n",
    "\n",
    "def piece_finder(rows, element_to_find):\n",
    "    for ir, row in enumerate(rows):\n",
    "        for ic, element in enumerate(row):\n",
    "            if element == element_to_find:\n",
    "                return ir, ic\n"
   ]
  },
  {
   "cell_type": "markdown",
   "metadata": {},
   "source": [
    "### Solución"
   ]
  },
  {
   "cell_type": "code",
   "execution_count": 131,
   "metadata": {},
   "outputs": [],
   "source": [
    "goal_positions = {}\n",
    "rows_goal = string_to_list(GOAL)\n",
    "for number in '12345678E':\n",
    "    goal_positions[number] = piece_finder(rows_goal, number)\n"
   ]
  },
  {
   "cell_type": "code",
   "execution_count": 126,
   "metadata": {},
   "outputs": [],
   "source": [
    "class sliding_puzzle(SearchProblem):\n",
    "\n",
    "    def __init__(self, initial_state: str, goal_state: str):\n",
    "        self.initial = initial_state\n",
    "        self.goal = goal_state\n",
    "\n",
    "        SearchProblem.__init__(self, initial_state)\n",
    "\n",
    "    def actions(self, state):\n",
    "        rows = string_to_list(state)\n",
    "        row_e, col_e = piece_finder(rows, 'E')\n",
    "\n",
    "        actions = []\n",
    "        if row_e > 0:\n",
    "            actions.append(rows[row_e - 1][col_e])\n",
    "        if row_e < 2:\n",
    "            actions.append(rows[row_e + 1][col_e])\n",
    "        if col_e > 0:\n",
    "            actions.append(rows[row_e][col_e - 1])\n",
    "        if col_e < 2:\n",
    "            actions.append(rows[row_e][col_e + 1])\n",
    "\n",
    "        return actions\n",
    "\n",
    "\n",
    "    def result(self, state, action):\n",
    "        rows = string_to_list(state)\n",
    "        row_e, col_e = piece_finder(rows, 'E')\n",
    "        row_n, col_n = piece_finder(rows, action)\n",
    "\n",
    "        rows[row_e][col_e], rows[row_n][col_n] = rows[row_n][col_n], rows[row_e][col_e]\n",
    "\n",
    "        return list_to_string(rows)\n",
    "\n",
    "\n",
    "    def cost(self, state1, action, state2):\n",
    "        return 1\n",
    "\n",
    "\n",
    "    def is_goal(self, state):\n",
    "        return state == self.goal\n",
    "\n",
    "\n",
    "    def heuristic(self, state):\n",
    "        rows = string_to_list(state)\n",
    "\n",
    "        distance = 0\n",
    "\n",
    "        for number in '12345678E':\n",
    "            row_n, col_n = piece_finder(rows, number)\n",
    "            row_n_goal, col_n_goal = goal_positions[number]\n",
    "\n",
    "            distance += abs(row_n - row_n_goal) + abs(col_n - col_n_goal)\n",
    "\n",
    "        return distance\n",
    "        "
   ]
  },
  {
   "cell_type": "markdown",
   "metadata": {},
   "source": [
    "#### Soluciones iniciales"
   ]
  },
  {
   "cell_type": "code",
   "execution_count": 127,
   "metadata": {},
   "outputs": [
    {
     "name": "stdout",
     "output_type": "stream",
     "text": [
      "631 µs ± 61.7 µs per loop (mean ± std. dev. of 7 runs, 1000 loops each)\n"
     ]
    }
   ],
   "source": [
    "%%timeit\n",
    "result = astar(sliding_puzzle(INITIAL, GOAL), graph_search=True)"
   ]
  },
  {
   "cell_type": "code",
   "execution_count": 128,
   "metadata": {},
   "outputs": [
    {
     "name": "stdout",
     "output_type": "stream",
     "text": [
      "Resuelto en 8 movimientos\n",
      "Move number None\n",
      "4-1-2\n",
      "7-E-3\n",
      "8-5-6\n",
      "Move number 5\n",
      "4-1-2\n",
      "7-5-3\n",
      "8-E-6\n",
      "Move number 8\n",
      "4-1-2\n",
      "7-5-3\n",
      "E-8-6\n",
      "Move number 7\n",
      "4-1-2\n",
      "E-5-3\n",
      "7-8-6\n",
      "Move number 4\n",
      "E-1-2\n",
      "4-5-3\n",
      "7-8-6\n",
      "Move number 1\n",
      "1-E-2\n",
      "4-5-3\n",
      "7-8-6\n",
      "Move number 2\n",
      "1-2-E\n",
      "4-5-3\n",
      "7-8-6\n",
      "Move number 3\n",
      "1-2-3\n",
      "4-5-E\n",
      "7-8-6\n",
      "Move number 6\n",
      "1-2-3\n",
      "4-5-6\n",
      "7-8-E\n"
     ]
    }
   ],
   "source": [
    "print(f'Resuelto en {result.cost} movimientos')\n",
    "for action, state in result.path():\n",
    "    print(f'Move number {action}')\n",
    "    print(state)"
   ]
  },
  {
   "cell_type": "code",
   "execution_count": 129,
   "metadata": {},
   "outputs": [],
   "source": [
    "def tester(initial_state, goal_state):\n",
    "    result = astar(sliding_puzzle(initial_state, goal_state), graph_search=True)\n",
    "    print(f'Resuelto en {result.cost} movimientos')\n",
    "    for action, state in result.path():\n",
    "        print(f'Move number {action}')\n",
    "        print(state)"
   ]
  },
  {
   "cell_type": "code",
   "execution_count": 130,
   "metadata": {},
   "outputs": [
    {
     "name": "stdout",
     "output_type": "stream",
     "text": [
      "Resuelto en 8 movimientos\n",
      "Move number None\n",
      "4-1-2\n",
      "7-E-3\n",
      "8-5-6\n",
      "Move number 5\n",
      "4-1-2\n",
      "7-5-3\n",
      "8-E-6\n",
      "Move number 8\n",
      "4-1-2\n",
      "7-5-3\n",
      "E-8-6\n",
      "Move number 7\n",
      "4-1-2\n",
      "E-5-3\n",
      "7-8-6\n",
      "Move number 4\n",
      "E-1-2\n",
      "4-5-3\n",
      "7-8-6\n",
      "Move number 1\n",
      "1-E-2\n",
      "4-5-3\n",
      "7-8-6\n",
      "Move number 2\n",
      "1-2-E\n",
      "4-5-3\n",
      "7-8-6\n",
      "Move number 3\n",
      "1-2-3\n",
      "4-5-E\n",
      "7-8-6\n",
      "Move number 6\n",
      "1-2-3\n",
      "4-5-6\n",
      "7-8-E\n",
      "Resuelto en 18 movimientos\n",
      "Move number None\n",
      "2-3-7\n",
      "1-4-6\n",
      "8-5-E\n",
      "Move number 6\n",
      "2-3-7\n",
      "1-4-E\n",
      "8-5-6\n",
      "Move number 7\n",
      "2-3-E\n",
      "1-4-7\n",
      "8-5-6\n",
      "Move number 3\n",
      "2-E-3\n",
      "1-4-7\n",
      "8-5-6\n",
      "Move number 2\n",
      "E-2-3\n",
      "1-4-7\n",
      "8-5-6\n",
      "Move number 1\n",
      "1-2-3\n",
      "E-4-7\n",
      "8-5-6\n",
      "Move number 4\n",
      "1-2-3\n",
      "4-E-7\n",
      "8-5-6\n",
      "Move number 5\n",
      "1-2-3\n",
      "4-5-7\n",
      "8-E-6\n",
      "Move number 8\n",
      "1-2-3\n",
      "4-5-7\n",
      "E-8-6\n",
      "Move number 4\n",
      "1-2-3\n",
      "E-5-7\n",
      "4-8-6\n",
      "Move number 5\n",
      "1-2-3\n",
      "5-E-7\n",
      "4-8-6\n",
      "Move number 7\n",
      "1-2-3\n",
      "5-7-E\n",
      "4-8-6\n",
      "Move number 6\n",
      "1-2-3\n",
      "5-7-6\n",
      "4-8-E\n",
      "Move number 8\n",
      "1-2-3\n",
      "5-7-6\n",
      "4-E-8\n",
      "Move number 7\n",
      "1-2-3\n",
      "5-E-6\n",
      "4-7-8\n",
      "Move number 5\n",
      "1-2-3\n",
      "E-5-6\n",
      "4-7-8\n",
      "Move number 4\n",
      "1-2-3\n",
      "4-5-6\n",
      "E-7-8\n",
      "Move number 7\n",
      "1-2-3\n",
      "4-5-6\n",
      "7-E-8\n",
      "Move number 8\n",
      "1-2-3\n",
      "4-5-6\n",
      "7-8-E\n",
      "Resuelto en 21 movimientos\n",
      "Move number None\n",
      "7-E-4\n",
      "1-8-6\n",
      "2-3-5\n",
      "Move number 4\n",
      "7-4-E\n",
      "1-8-6\n",
      "2-3-5\n",
      "Move number 6\n",
      "7-4-6\n",
      "1-8-E\n",
      "2-3-5\n",
      "Move number 8\n",
      "7-4-6\n",
      "1-E-8\n",
      "2-3-5\n",
      "Move number 1\n",
      "7-4-6\n",
      "E-1-8\n",
      "2-3-5\n",
      "Move number 7\n",
      "E-4-6\n",
      "7-1-8\n",
      "2-3-5\n",
      "Move number 4\n",
      "4-E-6\n",
      "7-1-8\n",
      "2-3-5\n",
      "Move number 1\n",
      "4-1-6\n",
      "7-E-8\n",
      "2-3-5\n",
      "Move number 3\n",
      "4-1-6\n",
      "7-3-8\n",
      "2-E-5\n",
      "Move number 2\n",
      "4-1-6\n",
      "7-3-8\n",
      "E-2-5\n",
      "Move number 7\n",
      "4-1-6\n",
      "E-3-8\n",
      "7-2-5\n",
      "Move number 4\n",
      "E-1-6\n",
      "4-3-8\n",
      "7-2-5\n",
      "Move number 1\n",
      "1-E-6\n",
      "4-3-8\n",
      "7-2-5\n",
      "Move number 3\n",
      "1-3-6\n",
      "4-E-8\n",
      "7-2-5\n",
      "Move number 2\n",
      "1-3-6\n",
      "4-2-8\n",
      "7-E-5\n",
      "Move number 5\n",
      "1-3-6\n",
      "4-2-8\n",
      "7-5-E\n",
      "Move number 8\n",
      "1-3-6\n",
      "4-2-E\n",
      "7-5-8\n",
      "Move number 6\n",
      "1-3-E\n",
      "4-2-6\n",
      "7-5-8\n",
      "Move number 3\n",
      "1-E-3\n",
      "4-2-6\n",
      "7-5-8\n",
      "Move number 2\n",
      "1-2-3\n",
      "4-E-6\n",
      "7-5-8\n",
      "Move number 5\n",
      "1-2-3\n",
      "4-5-6\n",
      "7-E-8\n",
      "Move number 8\n",
      "1-2-3\n",
      "4-5-6\n",
      "7-8-E\n",
      "Resuelto en 21 movimientos\n",
      "Move number None\n",
      "5-2-8\n",
      "4-6-1\n",
      "3-E-7\n",
      "Move number 3\n",
      "5-2-8\n",
      "4-6-1\n",
      "E-3-7\n",
      "Move number 4\n",
      "5-2-8\n",
      "E-6-1\n",
      "4-3-7\n",
      "Move number 6\n",
      "5-2-8\n",
      "6-E-1\n",
      "4-3-7\n",
      "Move number 1\n",
      "5-2-8\n",
      "6-1-E\n",
      "4-3-7\n",
      "Move number 8\n",
      "5-2-E\n",
      "6-1-8\n",
      "4-3-7\n",
      "Move number 2\n",
      "5-E-2\n",
      "6-1-8\n",
      "4-3-7\n",
      "Move number 1\n",
      "5-1-2\n",
      "6-E-8\n",
      "4-3-7\n",
      "Move number 3\n",
      "5-1-2\n",
      "6-3-8\n",
      "4-E-7\n",
      "Move number 7\n",
      "5-1-2\n",
      "6-3-8\n",
      "4-7-E\n",
      "Move number 8\n",
      "5-1-2\n",
      "6-3-E\n",
      "4-7-8\n",
      "Move number 3\n",
      "5-1-2\n",
      "6-E-3\n",
      "4-7-8\n",
      "Move number 6\n",
      "5-1-2\n",
      "E-6-3\n",
      "4-7-8\n",
      "Move number 5\n",
      "E-1-2\n",
      "5-6-3\n",
      "4-7-8\n",
      "Move number 1\n",
      "1-E-2\n",
      "5-6-3\n",
      "4-7-8\n",
      "Move number 2\n",
      "1-2-E\n",
      "5-6-3\n",
      "4-7-8\n",
      "Move number 3\n",
      "1-2-3\n",
      "5-6-E\n",
      "4-7-8\n",
      "Move number 6\n",
      "1-2-3\n",
      "5-E-6\n",
      "4-7-8\n",
      "Move number 5\n",
      "1-2-3\n",
      "E-5-6\n",
      "4-7-8\n",
      "Move number 4\n",
      "1-2-3\n",
      "4-5-6\n",
      "E-7-8\n",
      "Move number 7\n",
      "1-2-3\n",
      "4-5-6\n",
      "7-E-8\n",
      "Move number 8\n",
      "1-2-3\n",
      "4-5-6\n",
      "7-8-E\n"
     ]
    }
   ],
   "source": [
    "for initial_state in initial_states:\n",
    "    tester(initial_state, GOAL)"
   ]
  },
  {
   "cell_type": "markdown",
   "metadata": {},
   "source": [
    "#### Cambio de heurística"
   ]
  },
  {
   "cell_type": "markdown",
   "metadata": {},
   "source": [
    "Para el caso de nuestra implementación no aplicaría realizar ese cambio de heurística, ya que esa es la que el algoritmo usa desde un comienzo"
   ]
  },
  {
   "cell_type": "markdown",
   "metadata": {},
   "source": [
    "#### Algoritmo de búsqueda no informada"
   ]
  },
  {
   "cell_type": "code",
   "execution_count": 120,
   "metadata": {},
   "outputs": [
    {
     "name": "stdout",
     "output_type": "stream",
     "text": [
      "17.2 ms ± 3.16 ms per loop (mean ± std. dev. of 7 runs, 100 loops each)\n"
     ]
    }
   ],
   "source": [
    "%%timeit\n",
    "result_uninformed = uniform_cost(sliding_puzzle(INITIAL, GOAL), graph_search=True)\n"
   ]
  },
  {
   "cell_type": "code",
   "execution_count": 115,
   "metadata": {},
   "outputs": [
    {
     "name": "stdout",
     "output_type": "stream",
     "text": [
      "Resuelto en 8 movimientos\n",
      "Move number None\n",
      "4-1-2\n",
      "7-E-3\n",
      "8-5-6\n",
      "Move number 5\n",
      "4-1-2\n",
      "7-5-3\n",
      "8-E-6\n",
      "Move number 8\n",
      "4-1-2\n",
      "7-5-3\n",
      "E-8-6\n",
      "Move number 7\n",
      "4-1-2\n",
      "E-5-3\n",
      "7-8-6\n",
      "Move number 4\n",
      "E-1-2\n",
      "4-5-3\n",
      "7-8-6\n",
      "Move number 1\n",
      "1-E-2\n",
      "4-5-3\n",
      "7-8-6\n",
      "Move number 2\n",
      "1-2-E\n",
      "4-5-3\n",
      "7-8-6\n",
      "Move number 3\n",
      "1-2-3\n",
      "4-5-E\n",
      "7-8-6\n",
      "Move number 6\n",
      "1-2-3\n",
      "4-5-6\n",
      "7-8-E\n"
     ]
    }
   ],
   "source": [
    "print(f'Resuelto en {result.cost} movimientos')\n",
    "for action, state in result.path():\n",
    "    print(f'Move number {action}')\n",
    "    print(state)\n",
    "    "
   ]
  },
  {
   "cell_type": "markdown",
   "metadata": {},
   "source": [
    "Al menos el algoritmo de búsqueda uniforme (haciendo uso de una búsqueda de grafos) fue capaz de resolver el problema 3x3 en un tiempo aceptable y con el mismo número de movimientos. Sin embargo, gracias a la función mágica `%%timeit` podemos ver como el algoritmo de búsqueda no informada no representa competencia alguna para `A*`. El tiempo promedio de ejecución de este último es al menos 2 ordenes de magnitud menos que el de búsqueda uniforme. (Al tiempo de creación de este documento, `A*` fue 27 veces más rápido)."
   ]
  },
  {
   "cell_type": "markdown",
   "metadata": {},
   "source": [
    "#### Problema deslizante 4x4"
   ]
  },
  {
   "cell_type": "code",
   "execution_count": 132,
   "metadata": {},
   "outputs": [],
   "source": [
    "GOAL_4BY4 = '''1-2-3-4\n",
    "5-6-7-8\n",
    "9-10-11-12\n",
    "13-14-15-E'''\n",
    "\n",
    "INITIAL_4BY4 = '''13-3-5-9\n",
    "12-4-1-7\n",
    "6-8-2-E\n",
    "15-10-14-11'''"
   ]
  },
  {
   "cell_type": "code",
   "execution_count": 133,
   "metadata": {},
   "outputs": [],
   "source": [
    "sliding_4by4 = sliding_puzzle(INITIAL_4BY4, GOAL_4BY4)"
   ]
  },
  {
   "cell_type": "code",
   "execution_count": 135,
   "metadata": {},
   "outputs": [
    {
     "ename": "KeyboardInterrupt",
     "evalue": "",
     "output_type": "error",
     "traceback": [
      "\u001b[1;31m---------------------------------------------------------------------------\u001b[0m",
      "\u001b[1;31mKeyboardInterrupt\u001b[0m                         Traceback (most recent call last)",
      "\u001b[1;32m~\\AppData\\Local\\Temp/ipykernel_37508/4242258598.py\u001b[0m in \u001b[0;36m<module>\u001b[1;34m\u001b[0m\n\u001b[0;32m      1\u001b[0m \u001b[1;31m# %%timeit\u001b[0m\u001b[1;33m\u001b[0m\u001b[1;33m\u001b[0m\u001b[0m\n\u001b[1;32m----> 2\u001b[1;33m \u001b[0mresult_4by4\u001b[0m \u001b[1;33m=\u001b[0m \u001b[0mastar\u001b[0m\u001b[1;33m(\u001b[0m\u001b[0msliding_4by4\u001b[0m\u001b[1;33m,\u001b[0m \u001b[0mgraph_search\u001b[0m\u001b[1;33m=\u001b[0m\u001b[1;32mTrue\u001b[0m\u001b[1;33m)\u001b[0m\u001b[1;33m\u001b[0m\u001b[1;33m\u001b[0m\u001b[0m\n\u001b[0m",
      "\u001b[1;32m~\\AppData\\Local\\Programs\\Python\\Python39\\lib\\site-packages\\simpleai\\search\\traditional.py\u001b[0m in \u001b[0;36mastar\u001b[1;34m(problem, graph_search, viewer)\u001b[0m\n\u001b[0;32m    114\u001b[0m     \u001b[0mSearchProblem\u001b[0m\u001b[1;33m.\u001b[0m\u001b[0mis_goal\u001b[0m\u001b[1;33m,\u001b[0m \u001b[0mSearchProblem\u001b[0m\u001b[1;33m.\u001b[0m\u001b[0mcost\u001b[0m\u001b[1;33m,\u001b[0m \u001b[1;32mand\u001b[0m \u001b[0mSearchProblem\u001b[0m\u001b[1;33m.\u001b[0m\u001b[0mheuristic\u001b[0m\u001b[1;33m.\u001b[0m\u001b[1;33m\u001b[0m\u001b[1;33m\u001b[0m\u001b[0m\n\u001b[0;32m    115\u001b[0m     '''\n\u001b[1;32m--> 116\u001b[1;33m     return _search(problem,\n\u001b[0m\u001b[0;32m    117\u001b[0m                    \u001b[0mBoundedPriorityQueue\u001b[0m\u001b[1;33m(\u001b[0m\u001b[1;33m)\u001b[0m\u001b[1;33m,\u001b[0m\u001b[1;33m\u001b[0m\u001b[1;33m\u001b[0m\u001b[0m\n\u001b[0;32m    118\u001b[0m                    \u001b[0mgraph_search\u001b[0m\u001b[1;33m=\u001b[0m\u001b[0mgraph_search\u001b[0m\u001b[1;33m,\u001b[0m\u001b[1;33m\u001b[0m\u001b[1;33m\u001b[0m\u001b[0m\n",
      "\u001b[1;32m~\\AppData\\Local\\Programs\\Python\\Python39\\lib\\site-packages\\simpleai\\search\\traditional.py\u001b[0m in \u001b[0;36m_search\u001b[1;34m(problem, fringe, graph_search, depth_limit, node_factory, graph_replace_when_better, viewer)\u001b[0m\n\u001b[0;32m    160\u001b[0m             \u001b[1;32mfor\u001b[0m \u001b[0mn\u001b[0m \u001b[1;32min\u001b[0m \u001b[0mexpanded\u001b[0m\u001b[1;33m:\u001b[0m\u001b[1;33m\u001b[0m\u001b[1;33m\u001b[0m\u001b[0m\n\u001b[0;32m    161\u001b[0m                 \u001b[1;32mif\u001b[0m \u001b[0mgraph_search\u001b[0m\u001b[1;33m:\u001b[0m\u001b[1;33m\u001b[0m\u001b[1;33m\u001b[0m\u001b[0m\n\u001b[1;32m--> 162\u001b[1;33m                     \u001b[0mothers\u001b[0m \u001b[1;33m=\u001b[0m \u001b[1;33m[\u001b[0m\u001b[0mx\u001b[0m \u001b[1;32mfor\u001b[0m \u001b[0mx\u001b[0m \u001b[1;32min\u001b[0m \u001b[0mfringe\u001b[0m \u001b[1;32mif\u001b[0m \u001b[0mx\u001b[0m\u001b[1;33m.\u001b[0m\u001b[0mstate\u001b[0m \u001b[1;33m==\u001b[0m \u001b[0mn\u001b[0m\u001b[1;33m.\u001b[0m\u001b[0mstate\u001b[0m\u001b[1;33m]\u001b[0m\u001b[1;33m\u001b[0m\u001b[1;33m\u001b[0m\u001b[0m\n\u001b[0m\u001b[0;32m    163\u001b[0m                     \u001b[1;32massert\u001b[0m \u001b[0mlen\u001b[0m\u001b[1;33m(\u001b[0m\u001b[0mothers\u001b[0m\u001b[1;33m)\u001b[0m \u001b[1;32min\u001b[0m \u001b[1;33m(\u001b[0m\u001b[1;36m0\u001b[0m\u001b[1;33m,\u001b[0m \u001b[1;36m1\u001b[0m\u001b[1;33m)\u001b[0m\u001b[1;33m\u001b[0m\u001b[1;33m\u001b[0m\u001b[0m\n\u001b[0;32m    164\u001b[0m                     \u001b[1;32mif\u001b[0m \u001b[0mn\u001b[0m\u001b[1;33m.\u001b[0m\u001b[0mstate\u001b[0m \u001b[1;32mnot\u001b[0m \u001b[1;32min\u001b[0m \u001b[0mmemory\u001b[0m \u001b[1;32mand\u001b[0m \u001b[0mlen\u001b[0m\u001b[1;33m(\u001b[0m\u001b[0mothers\u001b[0m\u001b[1;33m)\u001b[0m \u001b[1;33m==\u001b[0m \u001b[1;36m0\u001b[0m\u001b[1;33m:\u001b[0m\u001b[1;33m\u001b[0m\u001b[1;33m\u001b[0m\u001b[0m\n",
      "\u001b[1;32m~\\AppData\\Local\\Programs\\Python\\Python39\\lib\\site-packages\\simpleai\\search\\traditional.py\u001b[0m in \u001b[0;36m<listcomp>\u001b[1;34m(.0)\u001b[0m\n\u001b[0;32m    160\u001b[0m             \u001b[1;32mfor\u001b[0m \u001b[0mn\u001b[0m \u001b[1;32min\u001b[0m \u001b[0mexpanded\u001b[0m\u001b[1;33m:\u001b[0m\u001b[1;33m\u001b[0m\u001b[1;33m\u001b[0m\u001b[0m\n\u001b[0;32m    161\u001b[0m                 \u001b[1;32mif\u001b[0m \u001b[0mgraph_search\u001b[0m\u001b[1;33m:\u001b[0m\u001b[1;33m\u001b[0m\u001b[1;33m\u001b[0m\u001b[0m\n\u001b[1;32m--> 162\u001b[1;33m                     \u001b[0mothers\u001b[0m \u001b[1;33m=\u001b[0m \u001b[1;33m[\u001b[0m\u001b[0mx\u001b[0m \u001b[1;32mfor\u001b[0m \u001b[0mx\u001b[0m \u001b[1;32min\u001b[0m \u001b[0mfringe\u001b[0m \u001b[1;32mif\u001b[0m \u001b[0mx\u001b[0m\u001b[1;33m.\u001b[0m\u001b[0mstate\u001b[0m \u001b[1;33m==\u001b[0m \u001b[0mn\u001b[0m\u001b[1;33m.\u001b[0m\u001b[0mstate\u001b[0m\u001b[1;33m]\u001b[0m\u001b[1;33m\u001b[0m\u001b[1;33m\u001b[0m\u001b[0m\n\u001b[0m\u001b[0;32m    163\u001b[0m                     \u001b[1;32massert\u001b[0m \u001b[0mlen\u001b[0m\u001b[1;33m(\u001b[0m\u001b[0mothers\u001b[0m\u001b[1;33m)\u001b[0m \u001b[1;32min\u001b[0m \u001b[1;33m(\u001b[0m\u001b[1;36m0\u001b[0m\u001b[1;33m,\u001b[0m \u001b[1;36m1\u001b[0m\u001b[1;33m)\u001b[0m\u001b[1;33m\u001b[0m\u001b[1;33m\u001b[0m\u001b[0m\n\u001b[0;32m    164\u001b[0m                     \u001b[1;32mif\u001b[0m \u001b[0mn\u001b[0m\u001b[1;33m.\u001b[0m\u001b[0mstate\u001b[0m \u001b[1;32mnot\u001b[0m \u001b[1;32min\u001b[0m \u001b[0mmemory\u001b[0m \u001b[1;32mand\u001b[0m \u001b[0mlen\u001b[0m\u001b[1;33m(\u001b[0m\u001b[0mothers\u001b[0m\u001b[1;33m)\u001b[0m \u001b[1;33m==\u001b[0m \u001b[1;36m0\u001b[0m\u001b[1;33m:\u001b[0m\u001b[1;33m\u001b[0m\u001b[1;33m\u001b[0m\u001b[0m\n",
      "\u001b[1;32m~\\AppData\\Local\\Programs\\Python\\Python39\\lib\\site-packages\\simpleai\\search\\utils.py\u001b[0m in \u001b[0;36m__getitem__\u001b[1;34m(self, val)\u001b[0m\n\u001b[0;32m     31\u001b[0m \u001b[1;33m\u001b[0m\u001b[0m\n\u001b[0;32m     32\u001b[0m     \u001b[1;32mdef\u001b[0m \u001b[0m__getitem__\u001b[0m\u001b[1;33m(\u001b[0m\u001b[0mself\u001b[0m\u001b[1;33m,\u001b[0m \u001b[0mval\u001b[0m\u001b[1;33m)\u001b[0m\u001b[1;33m:\u001b[0m\u001b[1;33m\u001b[0m\u001b[1;33m\u001b[0m\u001b[0m\n\u001b[1;32m---> 33\u001b[1;33m         \u001b[1;32mreturn\u001b[0m \u001b[0mself\u001b[0m\u001b[1;33m.\u001b[0m\u001b[0mqueue\u001b[0m\u001b[1;33m[\u001b[0m\u001b[0mval\u001b[0m\u001b[1;33m]\u001b[0m\u001b[1;33m\u001b[0m\u001b[1;33m\u001b[0m\u001b[0m\n\u001b[0m\u001b[0;32m     34\u001b[0m \u001b[1;33m\u001b[0m\u001b[0m\n\u001b[0;32m     35\u001b[0m     \u001b[1;32mdef\u001b[0m \u001b[0m__len__\u001b[0m\u001b[1;33m(\u001b[0m\u001b[0mself\u001b[0m\u001b[1;33m)\u001b[0m\u001b[1;33m:\u001b[0m\u001b[1;33m\u001b[0m\u001b[1;33m\u001b[0m\u001b[0m\n",
      "\u001b[1;31mKeyboardInterrupt\u001b[0m: "
     ]
    }
   ],
   "source": [
    "# %%timeit\n",
    "result_4by4 = astar(sliding_4by4, graph_search=True)"
   ]
  },
  {
   "cell_type": "markdown",
   "metadata": {},
   "source": [
    "Todo parece indicar que el algoritmo no es capaz de resolverlo en un tiempo óptimo, dado que `A*` es completo, sabemos que en algún momento encontrará una solución, pero para este caso, le tomará mucho tiempo encontrarla."
   ]
  },
  {
   "cell_type": "markdown",
   "metadata": {},
   "source": [
    "## Problema 5: Laberintos"
   ]
  },
  {
   "cell_type": "markdown",
   "metadata": {},
   "source": [
    "Utilicen el algoritmo A* para encontrar un camino entre los dos puntos indicados en el siguiente laberinto.\n",
    "\n",
    "```txt\n",
    "++++++++++++++++++++++\n",
    "+ O +   ++ ++        +\n",
    "+     +     +++++++ ++\n",
    "+ +    ++  ++++ +++ ++\n",
    "+ +   + + ++         +\n",
    "+          ++  ++  + +\n",
    "+++++ + +      ++  + +\n",
    "+++++ +++  + +  ++   +\n",
    "+          + +  + +  +\n",
    "+++++ +  + + +     X +\n",
    "++++++++++++++++++++++\n",
    "```\n",
    "\n",
    "- El símbolo + indica un obstáculo o pared. El símbolo O representa el punto de inicio, y X indica el objetivo.\n",
    "- Inventen otros tres laberintos, y prueben de nuevo el algoritmo A*.\n",
    "\n",
    "> Nota: Usen como heurística la distancia entre el punto actual y el punto objetivo."
   ]
  },
  {
   "cell_type": "markdown",
   "metadata": {},
   "source": [
    "Las implementaciones para la solución de este problema tomaron una gran inspiración de [este repositorio](https://github.com/simpleai-team/simpleai/blob/master/samples/search/game_walk.py)"
   ]
  },
  {
   "cell_type": "markdown",
   "metadata": {},
   "source": [
    "### Implementación"
   ]
  },
  {
   "cell_type": "code",
   "execution_count": null,
   "metadata": {},
   "outputs": [],
   "source": [
    "maze = '''\n",
    "++++++++++++++++++++++\n",
    "+ O +   ++ ++        +\n",
    "+     +     +++++++ ++\n",
    "+ +    ++  ++++ +++ ++\n",
    "+ +   + + ++         +\n",
    "+          ++  ++  + +\n",
    "+++++ + +      ++  + +\n",
    "+++++ +++  + +  ++   +\n",
    "+          + +  + +  +\n",
    "+++++ +  + + +     X +\n",
    "++++++++++++++++++++++\n",
    "'''\n",
    "\n",
    "maze_2 = '''\n",
    "++++++++++++++++++++++\n",
    "+   +   ++O++        +\n",
    "+     +     +++++++ ++\n",
    "+ +    ++  ++++ +++ ++\n",
    "+ +   + + ++         +\n",
    "+          ++  ++  + +\n",
    "+++++ + +      ++  + +\n",
    "+++++ +++  + +  ++   +\n",
    "+X         + +  + +  +\n",
    "+++++ +  + + +       +\n",
    "++++++++++++++++++++++\n",
    "'''\n",
    "\n",
    "maze_3 = '''\n",
    "++++++++++++++++++++++\n",
    "+ O +   ++ ++        +\n",
    "+     +     +++++++ ++\n",
    "+ +        ++++ +++ ++\n",
    "+ +   + +            +\n",
    "+          ++  ++  + +\n",
    "+++++++ +  ++  ++  + +\n",
    "+++++ ++++++ +  ++   +\n",
    "+          + +  + +  +\n",
    "+++++ + X            +\n",
    "++++++++++++++++++++++\n",
    "'''\n",
    "\n",
    "maze_4 = '''\n",
    "++++++++++++++++++++++\n",
    "+ O +   ++ ++        +\n",
    "++    +     +++++++ ++\n",
    "+++    ++    ++ +++ ++\n",
    "+++++++ + ++         +\n",
    "+X         ++  ++  + +\n",
    "+++++ + +      ++  + +\n",
    "+++++ +++  + +  ++   +\n",
    "+          + +  + +  +\n",
    "+++++ +  + + +       +\n",
    "++++++++++++++++++++++\n",
    "'''\n"
   ]
  },
  {
   "cell_type": "code",
   "execution_count": null,
   "metadata": {},
   "outputs": [],
   "source": [
    "COSTS = {\n",
    "    'up': 1,\n",
    "    'down': 1,\n",
    "    'left': 1,\n",
    "    'right': 1,\n",
    "}"
   ]
  },
  {
   "cell_type": "markdown",
   "metadata": {},
   "source": [
    "### Solución"
   ]
  },
  {
   "cell_type": "code",
   "execution_count": null,
   "metadata": {},
   "outputs": [],
   "source": [
    "class Labyrinth(SearchProblem):\n",
    "    def __init__(self, maze):\n",
    "        \"\"\"Constructor for the labyrinth game.\n",
    "\n",
    "        Args:\n",
    "            - maze (list[list]): Array representation of the labyrinth\n",
    "        \"\"\"        \n",
    "        self.board = maze\n",
    "\n",
    "        for y in range(len(self.board)):\n",
    "            for x in range(len(self.board[y])):\n",
    "                if self.board[y][x].lower() == 'x':\n",
    "                    self.goal = (x, y)\n",
    "                elif self.board[y][x].lower() == 'o':\n",
    "                    self.start = (x, y)\n",
    "        super(Labyrinth, self).__init__(initial_state=self.start)\n",
    "\n",
    "    \n",
    "    def actions(self, state):\n",
    "        \"\"\"Returns a list of all possible actions from the current state.\n",
    "\n",
    "        Args:\n",
    "            - state (tuple(int)): x, y coordinates of the current position\n",
    "\n",
    "        Returns:\n",
    "            - list[str]: list of all possible actions from the current state\n",
    "        \"\"\"        \n",
    "        actions = []\n",
    "\n",
    "        for action in list(COSTS.keys()):\n",
    "            x, y = self.result(state, action)\n",
    "            if self.board[y][x] != '+':\n",
    "                actions.append(action)\n",
    "\n",
    "        return actions\n",
    "\n",
    "    \n",
    "    def result(self, state, action):\n",
    "        \"\"\"Result function for the labyrinth game.\n",
    "\n",
    "        Args:\n",
    "            - state (tuple(int)): x, y coordinates of the current position\n",
    "            - action (str): Movement to be made\n",
    "\n",
    "        Returns:\n",
    "            - tuple(int): New position coordinates\n",
    "        \"\"\"        \n",
    "        x, y = state\n",
    "        if action.count('up'):\n",
    "            y -= 1\n",
    "        if action.count('down'):\n",
    "            y += 1\n",
    "        if action.count('left'):\n",
    "            x -= 1\n",
    "        if action.count('right'):\n",
    "            x += 1\n",
    "\n",
    "        new_state = (x, y)\n",
    "        return new_state\n",
    "\n",
    "\n",
    "    def is_goal(self, state):\n",
    "        \"\"\"Check if the current state is the goal state.\n",
    "\n",
    "        Args:\n",
    "            - state (tuple(int)): x, y coordinates of the current position\n",
    "\n",
    "        Returns:\n",
    "            - bool: whether the current state is the goal state\n",
    "        \"\"\"        \n",
    "        return state == self.goal\n",
    "\n",
    "\n",
    "    def cost(self, state, action, state2):\n",
    "        \"\"\"Returns cost of the movement.\n",
    "\n",
    "        Args:\n",
    "            - state (tuple(int)): x, y coordinates of the current position\n",
    "            - action (str): movement to be made\n",
    "            - state2 (tuple(int)): x, y coordinates of the new position\n",
    "\n",
    "        Returns:\n",
    "            - float: cost of the movement\n",
    "        \"\"\"        \n",
    "        return COSTS[action]\n",
    "\n",
    "\n",
    "    def heuristic(self, state):\n",
    "        \"\"\"Heuristic function for the labyrinth game.\n",
    "\n",
    "        Args:\n",
    "            - state (tuple(int)): x, y coordinates of the current position\n",
    "\n",
    "        Returns:\n",
    "            - float: Euclidean distance to the goal state\n",
    "        \"\"\"        \n",
    "        x, y = state\n",
    "        xg, yg = self.goal\n",
    "        return np.sqrt((x - xg)**2 + (y - yg)**2)\n",
    "    "
   ]
  },
  {
   "cell_type": "code",
   "execution_count": null,
   "metadata": {},
   "outputs": [],
   "source": [
    "def solver(maze):\n",
    "    \"\"\"Maze solver.\n",
    "\n",
    "    Args:\n",
    "        - maze (list[list]): Array representation of the labyrinth\n",
    "    \"\"\"    \n",
    "    MAZE = [list(x) for x in maze.split('\\n') if x]\n",
    "    problem = Labyrinth(MAZE)\n",
    "    result = astar(problem, graph_search=True)\n",
    "    \n",
    "    path = [x[1] for x in result.path()]\n",
    "\n",
    "    for y in range(len(MAZE)):\n",
    "        for x in range(len(MAZE[y])):\n",
    "            if (x, y) == problem.start:\n",
    "                print(\"o\", end='')\n",
    "            elif (x, y) == problem.goal:\n",
    "                print(\"x\", end='')\n",
    "            elif (x, y) in path:\n",
    "                print(\".\", end='')\n",
    "            else:\n",
    "                print(MAZE[y][x], end='')\n",
    "        print()\n"
   ]
  },
  {
   "cell_type": "code",
   "execution_count": null,
   "metadata": {},
   "outputs": [
    {
     "name": "stdout",
     "output_type": "stream",
     "text": [
      "Laberinto 1\n",
      "++++++++++++++++++++++\n",
      "+ o.+   ++ ++        +\n",
      "+  ...+     +++++++ ++\n",
      "+ +  . ++  ++++ +++ ++\n",
      "+ +  .+ + ++         +\n",
      "+    ......++  ++  + +\n",
      "+++++ + + .....++  + +\n",
      "+++++ +++  + +..++   +\n",
      "+          + + .+ +  +\n",
      "+++++ +  + + + ....x +\n",
      "++++++++++++++++++++++\n"
     ]
    }
   ],
   "source": [
    "print('Laberinto 1')\n",
    "solver(maze)"
   ]
  },
  {
   "cell_type": "code",
   "execution_count": null,
   "metadata": {},
   "outputs": [
    {
     "name": "stdout",
     "output_type": "stream",
     "text": [
      "Laberinto 2\n",
      "++++++++++++++++++++++\n",
      "+   +   ++o++        +\n",
      "+     +  .. +++++++ ++\n",
      "+ +    ++. ++++ +++ ++\n",
      "+ +   + +.++         +\n",
      "+    ..... ++  ++  + +\n",
      "+++++.+ +      ++  + +\n",
      "+++++.+++  + +  ++   +\n",
      "+x....     + +  + +  +\n",
      "+++++ +  + + +       +\n",
      "++++++++++++++++++++++\n"
     ]
    }
   ],
   "source": [
    "print('Laberinto 2')\n",
    "solver(maze_2)"
   ]
  },
  {
   "cell_type": "code",
   "execution_count": null,
   "metadata": {},
   "outputs": [
    {
     "name": "stdout",
     "output_type": "stream",
     "text": [
      "++++++++++++++++++++++\n",
      "+ o +   ++ ++        +\n",
      "+ ..  +     +++++++ ++\n",
      "+ +....... ++++ +++ ++\n",
      "+ +   + +.....       +\n",
      "+          ++. ++  + +\n",
      "+++++++ +  ++..++  + +\n",
      "+++++ ++++++ +. ++   +\n",
      "+          + +. + +  +\n",
      "+++++ + x......      +\n",
      "++++++++++++++++++++++\n"
     ]
    }
   ],
   "source": [
    "solver(maze_3)"
   ]
  },
  {
   "cell_type": "code",
   "execution_count": null,
   "metadata": {},
   "outputs": [
    {
     "name": "stdout",
     "output_type": "stream",
     "text": [
      "++++++++++++++++++++++\n",
      "+ o +...++ ++        +\n",
      "++....+...  +++++++ ++\n",
      "+++    ++.   ++ +++ ++\n",
      "+++++++ +.++         +\n",
      "+x........ ++  ++  + +\n",
      "+++++ + +      ++  + +\n",
      "+++++ +++  + +  ++   +\n",
      "+          + +  + +  +\n",
      "+++++ +  + + +       +\n",
      "++++++++++++++++++++++\n"
     ]
    }
   ],
   "source": [
    "solver(maze_4)"
   ]
  }
 ],
 "metadata": {
  "interpreter": {
   "hash": "a78c4be66ba3b4a897c6e596b18611fdff70693afae29e50365a94a133cff73c"
  },
  "kernelspec": {
   "display_name": "Python 3.9.7 64-bit",
   "language": "python",
   "name": "python3"
  },
  "language_info": {
   "codemirror_mode": {
    "name": "ipython",
    "version": 3
   },
   "file_extension": ".py",
   "mimetype": "text/x-python",
   "name": "python",
   "nbconvert_exporter": "python",
   "pygments_lexer": "ipython3",
   "version": "3.9.7"
  },
  "orig_nbformat": 4
 },
 "nbformat": 4,
 "nbformat_minor": 2
}
