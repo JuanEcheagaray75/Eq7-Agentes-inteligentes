{
 "cells": [
  {
   "cell_type": "code",
   "execution_count": 5,
   "id": "cce64bac",
   "metadata": {},
   "outputs": [
    {
     "name": "stdout",
     "output_type": "stream",
     "text": [
      "10.2 ms ± 696 µs per loop (mean ± std. dev. of 7 runs, 100 loops each)\n",
      "(4, 4, 0)\n",
      "[(None, (8, 0, 0)), ((-3, 0, 3), (5, 0, 3)), ((0, 3, -3), (5, 3, 0)), ((-3, 0, 3), (2, 3, 3)), ((2, 0, -2), (4, 3, 1)), ((0, 1, -1), (4, 4, 0))]\n"
     ]
    }
   ],
   "source": [
    "from simpleai.search import SearchProblem\n",
    "from simpleai.search import astar, breadth_first, uniform_cost, depth_first\n",
    "import timeit\n",
    "\n",
    "\n",
    "Litros = (8, 5, 3)\n",
    "\n",
    "\n",
    "class Jarras(SearchProblem):\n",
    "    def actions(self, state):\n",
    "        actions = []\n",
    "        if state[0] > 0:\n",
    "            Agua1 = Litros[1] - state[1]\n",
    "            if Agua1 < state[0] or Agua1 == state[0]:\n",
    "                actions.append((-Agua1, Agua1, 0))\n",
    "            if Agua1 > state[0]:\n",
    "                actions.append((-state[0], state[0], 0))\n",
    "            Agua2 = Litros[2] - state[2]\n",
    "            if Agua2 < state[0] or Agua2 == state[0]:\n",
    "                actions.append((-Agua2, 0, Agua2))\n",
    "            if Agua2 > state[0]:\n",
    "                actions.append((-state[0], 0, state[0]))\n",
    "            \n",
    "            \n",
    "        if state[1] > 0:\n",
    "            Agua1 = Litros[0] - state[0]\n",
    "            if Agua1 < state[1] or Agua1 == state[1]:\n",
    "                actions.append((Agua1, -Agua1, 0))\n",
    "            if Agua1 > state[0]:\n",
    "                actions.append((state[1], -state[1], 0))\n",
    "            Agua2 = Litros[2] - state[2]\n",
    "            if Agua2 < state[1] or Agua2 == state[1]:\n",
    "                actions.append((0, -Agua2, Agua2))\n",
    "            if Agua2 > state[0]:\n",
    "                actions.append((0, -state[1], state[1]))\n",
    "                \n",
    "        if state[2] > 0:\n",
    "            Agua1 = Litros[0] - state[0]\n",
    "            if Agua1 < state[2] or Agua1 == state[2]:\n",
    "                actions.append((Agua1, 0, -Agua1))\n",
    "            if Agua1 > state[2]:\n",
    "                actions.append((state[0], 0, -state[0]))\n",
    "            Agua2 = Litros[1] - state[1]\n",
    "            if Agua2 < state[2] or Agua2 == state[2]:\n",
    "                actions.append((0, Agua2, -Agua2))\n",
    "            if Agua2 > state[2]:\n",
    "                actions.append((0, state[2], -state[2]))\n",
    "            \n",
    "        return actions\n",
    "\n",
    "    def result(self, state, action):\n",
    "        return (state[0] + action[0], state[1] + action[1], state[2] + action[2])\n",
    "\n",
    "    def is_goal(self, state):\n",
    "        if Litros[0] > Litros[2] and Litros[1] > Litros[2]:\n",
    "            return state[0] == state[1]\n",
    "        if Litros[0] > Litros[1] and Litros[2] > Litros[1]:\n",
    "            return state[0] == state[2]\n",
    "        if Litros[1] > Litros[0] and Litros[2] > Litros[0]:\n",
    "            return state[2] == state[1]\n",
    "        \n",
    "\n",
    "\n",
    "problem = Jarras(initial_state=(8,0,0))\n",
    "\n",
    "%timeit result = breadth_first(problem)\n",
    "\n",
    "print(result.state)\n",
    "print(result.path())"
   ]
  }
 ],
 "metadata": {
  "kernelspec": {
   "display_name": "Python 3 (ipykernel)",
   "language": "python",
   "name": "python3"
  },
  "language_info": {
   "codemirror_mode": {
    "name": "ipython",
    "version": 3
   },
   "file_extension": ".py",
   "mimetype": "text/x-python",
   "name": "python",
   "nbconvert_exporter": "python",
   "pygments_lexer": "ipython3",
   "version": "3.9.7"
  }
 },
 "nbformat": 4,
 "nbformat_minor": 5
}
