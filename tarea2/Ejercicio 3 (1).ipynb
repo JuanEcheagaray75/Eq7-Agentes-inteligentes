{
 "cells": [
  {
   "cell_type": "code",
   "execution_count": 22,
   "id": "76678e12",
   "metadata": {},
   "outputs": [
    {
     "name": "stdout",
     "output_type": "stream",
     "text": [
      "605 µs ± 35.3 µs per loop (mean ± std. dev. of 7 runs, 1000 loops each)\n",
      "(4, 4, 0)\n",
      "[(None, (8, 0, 0)), ((-1, 1, 0), (7, 1, 0)), ((-1, 1, 0), (6, 2, 0)), ((-1, 1, 0), (5, 3, 0)), ((-1, 1, 0), (4, 4, 0))]\n"
     ]
    }
   ],
   "source": [
    "from simpleai.search import SearchProblem\n",
    "from simpleai.search import astar, breadth_first, uniform_cost, depth_first\n",
    "import timeit\n",
    "\n",
    "\n",
    "Litros = (8, 5, 3)\n",
    "\n",
    "\n",
    "class Jarras(SearchProblem):\n",
    "    def actions(self, state):\n",
    "        actions = []\n",
    "        if state[0] > 0:\n",
    "            actions.append((-1,1,0))\n",
    "            actions.append((-1,0,1))\n",
    "        if state[1] > 0:\n",
    "            actions.append((1,-1,0))\n",
    "            actions.append((0,-1,1))\n",
    "        if state[2] > 0:\n",
    "            actions.append((1,0,-1))\n",
    "            actions.append((0,1,-1))\n",
    "            \n",
    "        return actions\n",
    "\n",
    "    def result(self, state, action):\n",
    "        return (state[0] + action[0], state[1] + action[1], state[2] + action[2])\n",
    "\n",
    "    def is_goal(self, state):\n",
    "        if Litros[0] > Litros[2] and Litros[1] > Litros[2]:\n",
    "            return state[0] == state[1]\n",
    "        if Litros[0] > Litros[1] and Litros[2] > Litros[1]:\n",
    "            return state[0] == state[2]\n",
    "        if Litros[1] > Litros[0] and Litros[2] > Litros[0]:\n",
    "            return state[2] == state[1]\n",
    "        \n",
    "\n",
    "\n",
    "problem = Jarras(initial_state=(8,0,0))\n",
    "\n",
    "%timeit result = breadth_first(problem)\n",
    "\n",
    "print(result.state)\n",
    "print(result.path())"
   ]
  },
  {
   "cell_type": "code",
   "execution_count": null,
   "id": "9f7f4b5c",
   "metadata": {},
   "outputs": [],
   "source": [
    "from simpleai.search import SearchProblem\n",
    "from simpleai.search import astar, breadth_first, uniform_cost, depth_first\n",
    "\n",
    "Litros = (8, 5, 3)\n",
    "\n",
    "\n",
    "class Jarras(SearchProblem):\n",
    "    def actions(self, state):\n",
    "        actions = []\n",
    "        if state[0] > 0:\n",
    "            actions.append((-1,1,0))\n",
    "            actions.append((-1,0,1))\n",
    "        if state[1] > 0:\n",
    "            actions.append((1,-1,0))\n",
    "            actions.append((0,-1,1))\n",
    "        if state[2] > 0:\n",
    "            actions.append((1,0,-1))\n",
    "            actions.append((0,1,-1))\n",
    "            \n",
    "        return actions\n",
    "\n",
    "    def result(self, state, action):\n",
    "        return (state[0] + action[0], state[1] + action[1], state[2] + action[2])\n",
    "\n",
    "    def is_goal(self, state):\n",
    "        if Litros[0] > Litros[2] and Litros[1] > Litros[2]:\n",
    "            return state[0] == state[1]\n",
    "        if Litros[0] > Litros[1] and Litros[2] > Litros[1]:\n",
    "            return state[0] == state[2]\n",
    "        if Litros[1] > Litros[0] and Litros[2] > Litros[0]:\n",
    "            return state[2] == state[1]\n",
    "        \n",
    "\n",
    "\n",
    "problem = Jarras(initial_state=(8,0,0))\n",
    "%timeit result = depth_first(problem)\n",
    "\n",
    "print(result.state)\n",
    "print(result.path())"
   ]
  },
  {
   "cell_type": "code",
   "execution_count": null,
   "id": "b9975e14",
   "metadata": {},
   "outputs": [],
   "source": []
  }
 ],
 "metadata": {
  "kernelspec": {
   "display_name": "Python 3 (ipykernel)",
   "language": "python",
   "name": "python3"
  },
  "language_info": {
   "codemirror_mode": {
    "name": "ipython",
    "version": 3
   },
   "file_extension": ".py",
   "mimetype": "text/x-python",
   "name": "python",
   "nbconvert_exporter": "python",
   "pygments_lexer": "ipython3",
   "version": "3.9.7"
  }
 },
 "nbformat": 4,
 "nbformat_minor": 5
}
